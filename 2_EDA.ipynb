{
 "cells": [
  {
   "cell_type": "code",
   "execution_count": 1,
   "id": "bb81f5d0-9296-4bed-b85c-ad1ff206dec9",
   "metadata": {},
   "outputs": [],
   "source": [
    "import pandas as pd\n",
    "import numpy as np\n",
    "import seaborn as sns\n",
    "import matplotlib.pyplot as plt\n",
    "import statsmodels.api as sms ## Estadistica\n",
    "from scipy import stats\n",
    "\n",
    "import pingouin as pg\n",
    "\n",
    "from sklearn.feature_selection import SelectKBest, chi2,f_classif,mutual_info_classif\n",
    "from sklearn.preprocessing import StandardScaler\n",
    "\n",
    "import warnings\n",
    "warnings.filterwarnings('ignore')"
   ]
  },
  {
   "cell_type": "code",
   "execution_count": 2,
   "id": "f02837e3-260d-4368-b5d3-c6cbd4f58d74",
   "metadata": {},
   "outputs": [],
   "source": [
    "df=pd.read_csv(\"insumos/base_depurada.csv\")"
   ]
  },
  {
   "cell_type": "code",
   "execution_count": 3,
   "id": "cc0acc42-e5b3-4bdb-bc69-3483a734d3b7",
   "metadata": {},
   "outputs": [
    {
     "data": {
      "text/html": [
       "<div>\n",
       "<style scoped>\n",
       "    .dataframe tbody tr th:only-of-type {\n",
       "        vertical-align: middle;\n",
       "    }\n",
       "\n",
       "    .dataframe tbody tr th {\n",
       "        vertical-align: top;\n",
       "    }\n",
       "\n",
       "    .dataframe thead th {\n",
       "        text-align: right;\n",
       "    }\n",
       "</style>\n",
       "<table border=\"1\" class=\"dataframe\">\n",
       "  <thead>\n",
       "    <tr style=\"text-align: right;\">\n",
       "      <th></th>\n",
       "      <th>ID</th>\n",
       "      <th>ValorCredito</th>\n",
       "      <th>Edad</th>\n",
       "      <th>PAY_0</th>\n",
       "      <th>PAY_2</th>\n",
       "      <th>PAY_3</th>\n",
       "      <th>PAY_4</th>\n",
       "      <th>PAY_5</th>\n",
       "      <th>PAY_6</th>\n",
       "      <th>BILL_AMT1</th>\n",
       "      <th>...</th>\n",
       "      <th>PAY_AMT1</th>\n",
       "      <th>PAY_AMT2</th>\n",
       "      <th>PAY_AMT3</th>\n",
       "      <th>PAY_AMT4</th>\n",
       "      <th>PAY_AMT5</th>\n",
       "      <th>PAY_AMT6</th>\n",
       "      <th>Mora</th>\n",
       "      <th>GeneroHomologado</th>\n",
       "      <th>EducacionHomologada</th>\n",
       "      <th>EstadoCivilHomologado</th>\n",
       "    </tr>\n",
       "  </thead>\n",
       "  <tbody>\n",
       "    <tr>\n",
       "      <th>0</th>\n",
       "      <td>1</td>\n",
       "      <td>20000.0</td>\n",
       "      <td>24</td>\n",
       "      <td>2</td>\n",
       "      <td>2</td>\n",
       "      <td>-1</td>\n",
       "      <td>-1</td>\n",
       "      <td>-2</td>\n",
       "      <td>-2</td>\n",
       "      <td>3913.0</td>\n",
       "      <td>...</td>\n",
       "      <td>0.0</td>\n",
       "      <td>689.0</td>\n",
       "      <td>0.0</td>\n",
       "      <td>0.0</td>\n",
       "      <td>0.0</td>\n",
       "      <td>0.0</td>\n",
       "      <td>1</td>\n",
       "      <td>Mujer</td>\n",
       "      <td>Universidad</td>\n",
       "      <td>casado</td>\n",
       "    </tr>\n",
       "    <tr>\n",
       "      <th>1</th>\n",
       "      <td>2</td>\n",
       "      <td>120000.0</td>\n",
       "      <td>26</td>\n",
       "      <td>-1</td>\n",
       "      <td>2</td>\n",
       "      <td>0</td>\n",
       "      <td>0</td>\n",
       "      <td>0</td>\n",
       "      <td>2</td>\n",
       "      <td>2682.0</td>\n",
       "      <td>...</td>\n",
       "      <td>0.0</td>\n",
       "      <td>1000.0</td>\n",
       "      <td>1000.0</td>\n",
       "      <td>1000.0</td>\n",
       "      <td>0.0</td>\n",
       "      <td>2000.0</td>\n",
       "      <td>1</td>\n",
       "      <td>Mujer</td>\n",
       "      <td>Universidad</td>\n",
       "      <td>soltero</td>\n",
       "    </tr>\n",
       "    <tr>\n",
       "      <th>2</th>\n",
       "      <td>3</td>\n",
       "      <td>90000.0</td>\n",
       "      <td>34</td>\n",
       "      <td>0</td>\n",
       "      <td>0</td>\n",
       "      <td>0</td>\n",
       "      <td>0</td>\n",
       "      <td>0</td>\n",
       "      <td>0</td>\n",
       "      <td>29239.0</td>\n",
       "      <td>...</td>\n",
       "      <td>1518.0</td>\n",
       "      <td>1500.0</td>\n",
       "      <td>1000.0</td>\n",
       "      <td>1000.0</td>\n",
       "      <td>1000.0</td>\n",
       "      <td>5000.0</td>\n",
       "      <td>0</td>\n",
       "      <td>Mujer</td>\n",
       "      <td>Universidad</td>\n",
       "      <td>soltero</td>\n",
       "    </tr>\n",
       "    <tr>\n",
       "      <th>3</th>\n",
       "      <td>4</td>\n",
       "      <td>50000.0</td>\n",
       "      <td>37</td>\n",
       "      <td>0</td>\n",
       "      <td>0</td>\n",
       "      <td>0</td>\n",
       "      <td>0</td>\n",
       "      <td>0</td>\n",
       "      <td>0</td>\n",
       "      <td>46990.0</td>\n",
       "      <td>...</td>\n",
       "      <td>2000.0</td>\n",
       "      <td>2019.0</td>\n",
       "      <td>1200.0</td>\n",
       "      <td>1100.0</td>\n",
       "      <td>1069.0</td>\n",
       "      <td>1000.0</td>\n",
       "      <td>0</td>\n",
       "      <td>Mujer</td>\n",
       "      <td>Universidad</td>\n",
       "      <td>casado</td>\n",
       "    </tr>\n",
       "    <tr>\n",
       "      <th>4</th>\n",
       "      <td>5</td>\n",
       "      <td>50000.0</td>\n",
       "      <td>57</td>\n",
       "      <td>-1</td>\n",
       "      <td>0</td>\n",
       "      <td>-1</td>\n",
       "      <td>0</td>\n",
       "      <td>0</td>\n",
       "      <td>0</td>\n",
       "      <td>8617.0</td>\n",
       "      <td>...</td>\n",
       "      <td>2000.0</td>\n",
       "      <td>36681.0</td>\n",
       "      <td>10000.0</td>\n",
       "      <td>9000.0</td>\n",
       "      <td>689.0</td>\n",
       "      <td>679.0</td>\n",
       "      <td>0</td>\n",
       "      <td>Hombre</td>\n",
       "      <td>Universidad</td>\n",
       "      <td>casado</td>\n",
       "    </tr>\n",
       "  </tbody>\n",
       "</table>\n",
       "<p>5 rows × 25 columns</p>\n",
       "</div>"
      ],
      "text/plain": [
       "   ID  ValorCredito  Edad  PAY_0  PAY_2  PAY_3  PAY_4  PAY_5  PAY_6  \\\n",
       "0   1       20000.0    24      2      2     -1     -1     -2     -2   \n",
       "1   2      120000.0    26     -1      2      0      0      0      2   \n",
       "2   3       90000.0    34      0      0      0      0      0      0   \n",
       "3   4       50000.0    37      0      0      0      0      0      0   \n",
       "4   5       50000.0    57     -1      0     -1      0      0      0   \n",
       "\n",
       "   BILL_AMT1  ...  PAY_AMT1  PAY_AMT2  PAY_AMT3  PAY_AMT4  PAY_AMT5  PAY_AMT6  \\\n",
       "0     3913.0  ...       0.0     689.0       0.0       0.0       0.0       0.0   \n",
       "1     2682.0  ...       0.0    1000.0    1000.0    1000.0       0.0    2000.0   \n",
       "2    29239.0  ...    1518.0    1500.0    1000.0    1000.0    1000.0    5000.0   \n",
       "3    46990.0  ...    2000.0    2019.0    1200.0    1100.0    1069.0    1000.0   \n",
       "4     8617.0  ...    2000.0   36681.0   10000.0    9000.0     689.0     679.0   \n",
       "\n",
       "   Mora  GeneroHomologado  EducacionHomologada  EstadoCivilHomologado  \n",
       "0     1             Mujer          Universidad                 casado  \n",
       "1     1             Mujer          Universidad                soltero  \n",
       "2     0             Mujer          Universidad                soltero  \n",
       "3     0             Mujer          Universidad                 casado  \n",
       "4     0            Hombre          Universidad                 casado  \n",
       "\n",
       "[5 rows x 25 columns]"
      ]
     },
     "execution_count": 3,
     "metadata": {},
     "output_type": "execute_result"
    }
   ],
   "source": [
    "df.head()"
   ]
  },
  {
   "cell_type": "code",
   "execution_count": 4,
   "id": "60dc1808-f681-4c43-9667-0e5738b644d8",
   "metadata": {},
   "outputs": [],
   "source": [
    "col_cat= pd.read_csv(\"insumos/col_categoricas.csv\").variable.tolist()"
   ]
  },
  {
   "cell_type": "code",
   "execution_count": 5,
   "id": "c4ec62fe-e6a3-4fd7-919c-ec3bcff052dc",
   "metadata": {},
   "outputs": [
    {
     "data": {
      "text/plain": [
       "['PAY_0',\n",
       " 'PAY_2',\n",
       " 'PAY_3',\n",
       " 'PAY_4',\n",
       " 'PAY_5',\n",
       " 'PAY_6',\n",
       " 'Mora',\n",
       " 'GeneroHomologado',\n",
       " 'EducacionHomologada',\n",
       " 'EstadoCivilHomologado']"
      ]
     },
     "execution_count": 5,
     "metadata": {},
     "output_type": "execute_result"
    }
   ],
   "source": [
    "col_cat"
   ]
  },
  {
   "cell_type": "code",
   "execution_count": 6,
   "id": "bf97509b-854f-4877-8640-077a3f6fc224",
   "metadata": {},
   "outputs": [],
   "source": [
    "col_numericas= pd.read_csv(\"insumos/col_numericas.csv\").variable.tolist()"
   ]
  },
  {
   "cell_type": "code",
   "execution_count": 7,
   "id": "ef05516f-9cf2-4586-a8e2-3729c0d7c85d",
   "metadata": {},
   "outputs": [
    {
     "data": {
      "text/plain": [
       "['ValorCredito',\n",
       " 'Edad',\n",
       " 'BILL_AMT1',\n",
       " 'BILL_AMT2',\n",
       " 'BILL_AMT3',\n",
       " 'BILL_AMT4',\n",
       " 'BILL_AMT5',\n",
       " 'BILL_AMT6',\n",
       " 'PAY_AMT1',\n",
       " 'PAY_AMT2',\n",
       " 'PAY_AMT3',\n",
       " 'PAY_AMT4',\n",
       " 'PAY_AMT5',\n",
       " 'PAY_AMT6']"
      ]
     },
     "execution_count": 7,
     "metadata": {},
     "output_type": "execute_result"
    }
   ],
   "source": [
    "col_numericas"
   ]
  },
  {
   "cell_type": "markdown",
   "id": "9da03c8c-747a-449c-892a-17c1b134b924",
   "metadata": {},
   "source": [
    "# **1) Análisis Exploratorio y Descriptivo de los Datos**"
   ]
  },
  {
   "cell_type": "markdown",
   "id": "3a670587-c5cf-4985-9531-0569d2c6996e",
   "metadata": {},
   "source": [
    "## **1.1) Análisis Univariado Tipo Numérico**"
   ]
  },
  {
   "cell_type": "markdown",
   "id": "f89a9a63-899e-4e80-a7f3-aac9172d91a6",
   "metadata": {},
   "source": [
    "### **Normalidad**"
   ]
  },
  {
   "cell_type": "code",
   "execution_count": 8,
   "id": "6b2924f4-6df3-4e1b-a6f9-9fd9cc7b6f46",
   "metadata": {},
   "outputs": [],
   "source": [
    "## Histograma\n",
    "ValorCredito=df.ValorCredito"
   ]
  },
  {
   "cell_type": "code",
   "execution_count": 9,
   "id": "6219fced-fad6-436d-ba94-6da27db8f4e2",
   "metadata": {},
   "outputs": [
    {
     "data": {
      "text/plain": [
       "''"
      ]
     },
     "execution_count": 9,
     "metadata": {},
     "output_type": "execute_result"
    },
    {
     "data": {
      "image/png": "[encoded data removed]",
      "text/plain": [
       "<Figure size 720x360 with 1 Axes>"
      ]
     },
     "metadata": {
      "needs_background": "light"
     },
     "output_type": "display_data"
    }
   ],
   "source": [
    "plt.figure(figsize=(10,5))\n",
    "plt.hist(ValorCredito,bins=30,color=\"gray\")\n",
    "mediana = np.median(ValorCredito)\n",
    "promedio = np.mean(ValorCredito)\n",
    "plt.plot(mediana, 0, 'ro', label='Mediana')\n",
    "plt.plot(promedio, 0, 'bo', label='Promedio')\n",
    "plt.legend()  # Mostrar la leyenda\n",
    ";"
   ]
  },
  {
   "cell_type": "code",
   "execution_count": 10,
   "id": "065b6b43-e10e-4218-bf8b-41044b92fae5",
   "metadata": {},
   "outputs": [
    {
     "data": {
      "text/plain": [
       "''"
      ]
     },
     "execution_count": 10,
     "metadata": {},
     "output_type": "execute_result"
    },
    {
     "data": {
      "image/png": "[encoded data removed]",
      "text/plain": [
       "<Figure size 720x360 with 1 Axes>"
      ]
     },
     "metadata": {
      "needs_background": "light"
     },
     "output_type": "display_data"
    }
   ],
   "source": [
    "plt.figure(figsize=(10,5))\n",
    "plt.hist(ValorCredito,bins=30,color=\"gray\")\n",
    "mediana = np.median(ValorCredito)\n",
    "promedio = np.mean(ValorCredito)\n",
    "plt.axvline(mediana, color='red', linestyle='--', label='Mediana')\n",
    "plt.axvline(promedio, color='blue', linestyle='--', label='Promedio')\n",
    "plt.legend()  # Mostrar la leyenda\n",
    ";"
   ]
  },
  {
   "cell_type": "code",
   "execution_count": 11,
   "id": "afcacef6-dfc9-4244-a12e-b9a11cf14cd5",
   "metadata": {},
   "outputs": [
    {
     "data": {
      "text/plain": [
       "count      29163.000000\n",
       "mean      168093.943696\n",
       "std       130079.785428\n",
       "min        10000.000000\n",
       "25%        50000.000000\n",
       "50%       140000.000000\n",
       "75%       240000.000000\n",
       "max      1000000.000000\n",
       "Name: ValorCredito, dtype: float64"
      ]
     },
     "execution_count": 11,
     "metadata": {},
     "output_type": "execute_result"
    }
   ],
   "source": [
    "ValorCredito.describe()"
   ]
  },
  {
   "cell_type": "markdown",
   "id": "aae5da4b-a675-4057-a6cf-0628171fcb48",
   "metadata": {},
   "source": [
    "**Verificamos Normalidad**"
   ]
  },
  {
   "cell_type": "markdown",
   "id": "cdf9b9b0-f5aa-4992-9678-ebb02385d502",
   "metadata": {},
   "source": [
    "## **Verificar Normalidad**"
   ]
  },
  {
   "cell_type": "markdown",
   "id": "9d794abc-a408-4a08-9c73-74c30baae0fb",
   "metadata": {},
   "source": [
    "**Gráfica Q-Q plot**\n",
    "\n",
    "Gráfico Q-Q Los gráficos de cuantiles teóricos (Gráficos Q-Q). Estos gráficos comparan los cuantiles de la distribución observada con los cuantiles teóricos de una distribución normal con la misma media y desviación estándar que los datos. Cuanto más se aproximen los datos a una normal, más alineados están los puntos entorno a la recta."
   ]
  },
  {
   "cell_type": "code",
   "execution_count": 12,
   "id": "669328b1-f6df-44fb-8568-1e5702cb75b2",
   "metadata": {},
   "outputs": [
    {
     "data": {
      "image/png": "[encoded data removed]",
      "text/plain": [
       "<Figure size 432x288 with 1 Axes>"
      ]
     },
     "metadata": {
      "needs_background": "light"
     },
     "output_type": "display_data"
    }
   ],
   "source": [
    "sms.qqplot(ValorCredito,fit=True, line=\"q\");"
   ]
  },
  {
   "cell_type": "markdown",
   "id": "b261922c-0782-4d87-beb7-3801137c9c33",
   "metadata": {},
   "source": [
    "**Pruba de Normalidad**\n",
    "\n",
    "Una prueba de hipótesis es una regla que especifica si se puede aceptar o rechazar una afirmación acerca de una población dependiendo de la evidencia proporcionada por una muestra de datos.\n",
    "\n",
    "Un punto de decisión importante al trabajar con una muestra de datos es si utilizar métodos estadísticos paramétricos o no paramétricos. Los métodos estadísticos paramétricos asumen que los datos tienen una distribución conocida y específica, a menudo una distribución gaussiana. Si una muestra de datos no es gaussiana, entonces se violan los supuestos de las pruebas estadísticas paramétricas y deben usarse métodos estadísticos no paramétricos.\n",
    "\n",
    "**Interpretación de una prueba**\n",
    "* H0: El monto del credito proviene de una distribucción Normal\n",
    "* Ha:El monto del credito No proviene de una distribucción Normal\n",
    "\n",
    "p valor;\n",
    "\n",
    "* p <= alfa : rechazar H0, no es normal.\n",
    "* p> alpha : No rechazar H0, No significa que sea cierta normalidad, Significa que es muy probable que sea Normal"
   ]
  },
  {
   "cell_type": "markdown",
   "id": "d347158e-4cec-48c4-9005-da2956413f62",
   "metadata": {},
   "source": [
    "Prueba de Shapiro-Wilk Shapiro-Wilk evalúa una muestra de datos y cuantifica la probabilidad de que los datos se extraigan de una distribución gaussiana, llamada así por Samuel Shapiro y Martin Wilk.\n",
    "\n",
    "En la práctica, se cree que la prueba de Shapiro-Wilk es una prueba confiable de normalidad, aunque se sugiere que la prueba puede ser adecuada para muestras de datos más pequeñas, por ejemplo, miles de observaciones o menos"
   ]
  },
  {
   "cell_type": "markdown",
   "id": "a40b3b34-d0e5-4861-b02f-a37e7aecc43a",
   "metadata": {},
   "source": [
    "D'Agostino's K-squared test La prueba de D'Agostino-Pearson verifica si la forma de la distribución es similar a la forma de la distribución normal. Esta es una combinación de la prueba de asimetría y la prueba de curtosis"
   ]
  },
  {
   "cell_type": "code",
   "execution_count": 13,
   "id": "79c9fa07-3058-4557-8316-b3232589b2e6",
   "metadata": {},
   "outputs": [
    {
     "name": "stdout",
     "output_type": "stream",
     "text": [
      "0.0\n",
      "Rechazo Normalidad\n"
     ]
    }
   ],
   "source": [
    "stat, p_value=stats.shapiro(ValorCredito)\n",
    "print(p_value)\n",
    "\n",
    "if (p_value < 0.05):\n",
    "    print(\"Rechazo Normalidad\")\n",
    "else:\n",
    "    print(\"La variable proviene de una distribucción normal\")"
   ]
  },
  {
   "cell_type": "code",
   "execution_count": null,
   "id": "1e10f7c2-1868-4ba0-a074-f951beb80c36",
   "metadata": {},
   "outputs": [],
   "source": []
  },
  {
   "cell_type": "code",
   "execution_count": null,
   "id": "8d009b9f-881d-47a1-899a-2cde2cbb67e2",
   "metadata": {},
   "outputs": [],
   "source": []
  },
  {
   "cell_type": "markdown",
   "id": "4f9d26a1-00ab-49c4-b79d-0e09575ebf66",
   "metadata": {},
   "source": [
    "**Consecuencias de la falta de normalidad**\n",
    "\n",
    "El hecho de no poder asumir la normalidad influye principalmente en los test de hipótesis paramétricos (t-test, anova,…) y en los modelos de regresión. Las principales consecuencias de la falta de normalidad son:\n",
    "\n",
    "* Los estimadores mínimo-cuadráticos no son eficientes (de mínima varianza).\n",
    "\n",
    "* Los intervalos de confianza de los parámetros del modelo y los contrastes de significancia son solamente aproximados y no exactos.\n",
    "\n",
    "* Los test estadísticos expuestos requieren que la población de la que procede la muestra tenga una distribución normal, no la muestra en sí. Si la muestra se distribuye de forma normal, se puede aceptar que así lo hace la población de origen. En el caso de que la muestra no se distribuya de forma normal pero se tenga certeza de que la población de origen sí lo hace, entonces, puede estar justificado aceptar los resultados obtenidos por los contrastes paramétricos como válidos."
   ]
  },
  {
   "cell_type": "markdown",
   "id": "44b3c14a-1ae3-4130-aaae-f6b45acd1f51",
   "metadata": {},
   "source": [
    " **Normalidad puede estar afectada por Datos Atipicos**\n",
    "\n",
    "* Detectar Datos Atípicos Univariado "
   ]
  },
  {
   "cell_type": "markdown",
   "id": "cbc61691-1831-4721-bf80-811a7dae55be",
   "metadata": {},
   "source": [
    "**Análisis Gráfico Univariado**"
   ]
  },
  {
   "cell_type": "code",
   "execution_count": 14,
   "id": "a9008076-2b1c-4bf1-8b63-77c9372cb717",
   "metadata": {},
   "outputs": [
    {
     "data": {
      "image/png": "[encoded data removed]",
      "text/plain": [
       "<Figure size 432x288 with 1 Axes>"
      ]
     },
     "metadata": {
      "needs_background": "light"
     },
     "output_type": "display_data"
    }
   ],
   "source": [
    "plt.plot(ValorCredito,\".\",color=\"darkgreen\");"
   ]
  },
  {
   "cell_type": "markdown",
   "id": "1bc38de1-2691-4fa7-8213-1786cdec65cc",
   "metadata": {},
   "source": [
    "**Rango Intercuantil**"
   ]
  },
  {
   "cell_type": "code",
   "execution_count": 15,
   "id": "276f2980-3595-49cd-89aa-10c3923a1204",
   "metadata": {},
   "outputs": [
    {
     "data": {
      "image/png": "[encoded data removed]",
      "text/plain": [
       "<Figure size 432x288 with 1 Axes>"
      ]
     },
     "metadata": {
      "needs_background": "light"
     },
     "output_type": "display_data"
    }
   ],
   "source": [
    "sns.boxplot(x=ValorCredito,color=\"blue\");"
   ]
  },
  {
   "cell_type": "code",
   "execution_count": 16,
   "id": "395064d7-0a7d-4466-a401-699e3f5908ac",
   "metadata": {},
   "outputs": [],
   "source": [
    "q1,q3=np.percentile(ValorCredito,[25,75])"
   ]
  },
  {
   "cell_type": "code",
   "execution_count": 17,
   "id": "c3d36a56-2e5d-4d73-9e4d-b83db2e1a9a9",
   "metadata": {},
   "outputs": [
    {
     "name": "stdout",
     "output_type": "stream",
     "text": [
      "50000.0 240000.0\n"
     ]
    }
   ],
   "source": [
    "print(q1,q3)"
   ]
  },
  {
   "cell_type": "code",
   "execution_count": 18,
   "id": "f7764ad3-cc2b-454a-a55c-b19d586a10da",
   "metadata": {},
   "outputs": [],
   "source": [
    "RangoIntercuantil=q3-q1"
   ]
  },
  {
   "cell_type": "code",
   "execution_count": 19,
   "id": "868b5756-095b-48fc-a841-d2ead8ecc616",
   "metadata": {},
   "outputs": [
    {
     "name": "stdout",
     "output_type": "stream",
     "text": [
      "190000.0\n"
     ]
    }
   ],
   "source": [
    "print(RangoIntercuantil)"
   ]
  },
  {
   "cell_type": "code",
   "execution_count": 20,
   "id": "ed164af2-a082-46ab-9274-0fe3b0a7a7e5",
   "metadata": {},
   "outputs": [],
   "source": [
    "## Limite Superior\n",
    "Limite_Superior=q3+1.5*RangoIntercuantil"
   ]
  },
  {
   "cell_type": "code",
   "execution_count": 21,
   "id": "7e1dda04-1c90-4d1d-aca7-4442f01f73ff",
   "metadata": {},
   "outputs": [
    {
     "name": "stdout",
     "output_type": "stream",
     "text": [
      "525000.0\n"
     ]
    }
   ],
   "source": [
    "print(Limite_Superior)"
   ]
  },
  {
   "cell_type": "code",
   "execution_count": 22,
   "id": "e1875a34-c51c-4c38-85e0-8a92bfe73e1e",
   "metadata": {},
   "outputs": [],
   "source": [
    "## Limite Superior\n",
    "Limite_Inferior=q1-1.5*RangoIntercuantil"
   ]
  },
  {
   "cell_type": "code",
   "execution_count": 23,
   "id": "ddada76d-307b-4a1b-8780-f3d5a3483107",
   "metadata": {},
   "outputs": [
    {
     "name": "stdout",
     "output_type": "stream",
     "text": [
      "-235000.0\n"
     ]
    }
   ],
   "source": [
    "print(Limite_Inferior)"
   ]
  },
  {
   "cell_type": "code",
   "execution_count": 24,
   "id": "bcd285ea-6823-42c4-81d2-83d86f41df72",
   "metadata": {},
   "outputs": [
    {
     "data": {
      "text/plain": [
       "''"
      ]
     },
     "execution_count": 24,
     "metadata": {},
     "output_type": "execute_result"
    },
    {
     "data": {
      "image/png": "[encoded data removed]",
      "text/plain": [
       "<Figure size 432x288 with 1 Axes>"
      ]
     },
     "metadata": {
      "needs_background": "light"
     },
     "output_type": "display_data"
    }
   ],
   "source": [
    "plt.plot(ValorCredito,\".\",color=\"darkgreen\")\n",
    "plt.axhline(y=Limite_Inferior,color=\"red\")\n",
    "plt.axhline(y=Limite_Superior,color=\"red\")\n",
    ";"
   ]
  },
  {
   "cell_type": "code",
   "execution_count": 25,
   "id": "44d94661-4924-4559-b146-3ebe02b2152a",
   "metadata": {},
   "outputs": [],
   "source": [
    "df_Valor_Credito_Atipicos=df[(df.ValorCredito > Limite_Superior) | (df.ValorCredito < Limite_Inferior)].reset_index(drop=True)"
   ]
  },
  {
   "cell_type": "code",
   "execution_count": 26,
   "id": "0567e0f2-deb4-4c3e-b1dc-995f31f0b4c2",
   "metadata": {},
   "outputs": [
    {
     "data": {
      "text/plain": [
       "0.5589274080170079"
      ]
     },
     "execution_count": 26,
     "metadata": {},
     "output_type": "execute_result"
    }
   ],
   "source": [
    "(len(df_Valor_Credito_Atipicos)/len(df))*100"
   ]
  },
  {
   "cell_type": "code",
   "execution_count": 27,
   "id": "02a22ae7-6410-4175-85f5-28829c81de85",
   "metadata": {},
   "outputs": [],
   "source": [
    "df_Valor_Credito_Sin_Atipicos=df[(df.ValorCredito <= Limite_Superior) & (df.ValorCredito >= Limite_Inferior)].reset_index(drop=True)"
   ]
  },
  {
   "cell_type": "code",
   "execution_count": 28,
   "id": "13432da6-f7cc-4c28-bed5-132b5d9b6ce1",
   "metadata": {},
   "outputs": [
    {
     "data": {
      "text/plain": [
       "99.44107259198299"
      ]
     },
     "execution_count": 28,
     "metadata": {},
     "output_type": "execute_result"
    }
   ],
   "source": [
    "(len(df_Valor_Credito_Sin_Atipicos)/len(df))*100"
   ]
  },
  {
   "cell_type": "code",
   "execution_count": 29,
   "id": "d92f758a-9b17-4a36-9212-1f6f8e604255",
   "metadata": {},
   "outputs": [
    {
     "data": {
      "text/plain": [
       "29163"
      ]
     },
     "execution_count": 29,
     "metadata": {},
     "output_type": "execute_result"
    }
   ],
   "source": [
    "len(df_Valor_Credito_Atipicos)+len(df_Valor_Credito_Sin_Atipicos)"
   ]
  },
  {
   "cell_type": "code",
   "execution_count": 30,
   "id": "f8c2abfe-2dee-4d3b-89bc-a1787884c5c2",
   "metadata": {},
   "outputs": [
    {
     "data": {
      "text/plain": [
       "29163"
      ]
     },
     "execution_count": 30,
     "metadata": {},
     "output_type": "execute_result"
    }
   ],
   "source": [
    "len(df)"
   ]
  },
  {
   "cell_type": "code",
   "execution_count": 31,
   "id": "35a2b948-7892-41df-83a1-bfeb866ad922",
   "metadata": {},
   "outputs": [
    {
     "data": {
      "text/plain": [
       "''"
      ]
     },
     "execution_count": 31,
     "metadata": {},
     "output_type": "execute_result"
    },
    {
     "data": {
      "image/png": "[encoded data removed]",
      "text/plain": [
       "<Figure size 432x288 with 1 Axes>"
      ]
     },
     "metadata": {
      "needs_background": "light"
     },
     "output_type": "display_data"
    }
   ],
   "source": [
    "plt.plot(df_Valor_Credito_Sin_Atipicos.ValorCredito,\".\",color=\"darkgreen\")\n",
    "plt.axhline(y=Limite_Inferior,color=\"red\")\n",
    "plt.axhline(y=Limite_Superior,color=\"red\")\n",
    ";"
   ]
  },
  {
   "cell_type": "code",
   "execution_count": 32,
   "id": "7166a06c-82b5-4397-b633-702f47634e7c",
   "metadata": {},
   "outputs": [
    {
     "data": {
      "text/plain": [
       "''"
      ]
     },
     "execution_count": 32,
     "metadata": {},
     "output_type": "execute_result"
    },
    {
     "data": {
      "image/png": "[encoded data removed]",
      "text/plain": [
       "<Figure size 720x360 with 1 Axes>"
      ]
     },
     "metadata": {
      "needs_background": "light"
     },
     "output_type": "display_data"
    }
   ],
   "source": [
    "plt.figure(figsize=(10,5))\n",
    "plt.hist(df_Valor_Credito_Sin_Atipicos.ValorCredito,bins=30,color=\"gray\")\n",
    "mediana = np.median(df_Valor_Credito_Sin_Atipicos.ValorCredito)\n",
    "promedio = np.mean(df_Valor_Credito_Sin_Atipicos.ValorCredito)\n",
    "plt.axvline(mediana, color='red', linestyle='--', label='Mediana')\n",
    "plt.axvline(promedio, color='blue', linestyle='--', label='Promedio')\n",
    "plt.legend()  # Mostrar la leyenda\n",
    ";"
   ]
  },
  {
   "cell_type": "code",
   "execution_count": 33,
   "id": "5f00c567-eacf-4938-b8f4-0daf33dfb253",
   "metadata": {},
   "outputs": [
    {
     "data": {
      "image/png": "[encoded data removed]",
      "text/plain": [
       "<Figure size 432x288 with 1 Axes>"
      ]
     },
     "metadata": {
      "needs_background": "light"
     },
     "output_type": "display_data"
    }
   ],
   "source": [
    "sns.boxplot(x=df_Valor_Credito_Sin_Atipicos.ValorCredito,color=\"blue\");"
   ]
  },
  {
   "cell_type": "code",
   "execution_count": 34,
   "id": "e10091f5-697c-4b28-8b86-aade8931330f",
   "metadata": {},
   "outputs": [
    {
     "data": {
      "text/html": [
       "<div>\n",
       "<style scoped>\n",
       "    .dataframe tbody tr th:only-of-type {\n",
       "        vertical-align: middle;\n",
       "    }\n",
       "\n",
       "    .dataframe tbody tr th {\n",
       "        vertical-align: top;\n",
       "    }\n",
       "\n",
       "    .dataframe thead th {\n",
       "        text-align: right;\n",
       "    }\n",
       "</style>\n",
       "<table border=\"1\" class=\"dataframe\">\n",
       "  <thead>\n",
       "    <tr style=\"text-align: right;\">\n",
       "      <th></th>\n",
       "      <th>ID</th>\n",
       "      <th>ValorCredito</th>\n",
       "      <th>Edad</th>\n",
       "      <th>PAY_0</th>\n",
       "      <th>PAY_2</th>\n",
       "      <th>PAY_3</th>\n",
       "      <th>PAY_4</th>\n",
       "      <th>PAY_5</th>\n",
       "      <th>PAY_6</th>\n",
       "      <th>BILL_AMT1</th>\n",
       "      <th>...</th>\n",
       "      <th>PAY_AMT1</th>\n",
       "      <th>PAY_AMT2</th>\n",
       "      <th>PAY_AMT3</th>\n",
       "      <th>PAY_AMT4</th>\n",
       "      <th>PAY_AMT5</th>\n",
       "      <th>PAY_AMT6</th>\n",
       "      <th>Mora</th>\n",
       "      <th>GeneroHomologado</th>\n",
       "      <th>EducacionHomologada</th>\n",
       "      <th>EstadoCivilHomologado</th>\n",
       "    </tr>\n",
       "  </thead>\n",
       "  <tbody>\n",
       "    <tr>\n",
       "      <th>0</th>\n",
       "      <td>13</td>\n",
       "      <td>630000.0</td>\n",
       "      <td>41</td>\n",
       "      <td>-1</td>\n",
       "      <td>0</td>\n",
       "      <td>-1</td>\n",
       "      <td>-1</td>\n",
       "      <td>-1</td>\n",
       "      <td>-1</td>\n",
       "      <td>12137.0</td>\n",
       "      <td>...</td>\n",
       "      <td>1000.0</td>\n",
       "      <td>6500.0</td>\n",
       "      <td>6500.0</td>\n",
       "      <td>6500.0</td>\n",
       "      <td>2870.0</td>\n",
       "      <td>0.0</td>\n",
       "      <td>0</td>\n",
       "      <td>Mujer</td>\n",
       "      <td>Universidad</td>\n",
       "      <td>soltero</td>\n",
       "    </tr>\n",
       "    <tr>\n",
       "      <th>1</th>\n",
       "      <td>434</td>\n",
       "      <td>580000.0</td>\n",
       "      <td>36</td>\n",
       "      <td>0</td>\n",
       "      <td>0</td>\n",
       "      <td>0</td>\n",
       "      <td>0</td>\n",
       "      <td>0</td>\n",
       "      <td>0</td>\n",
       "      <td>159760.0</td>\n",
       "      <td>...</td>\n",
       "      <td>6422.0</td>\n",
       "      <td>6565.0</td>\n",
       "      <td>5951.0</td>\n",
       "      <td>6006.0</td>\n",
       "      <td>5894.0</td>\n",
       "      <td>5946.0</td>\n",
       "      <td>0</td>\n",
       "      <td>Mujer</td>\n",
       "      <td>Posgrado</td>\n",
       "      <td>casado</td>\n",
       "    </tr>\n",
       "    <tr>\n",
       "      <th>2</th>\n",
       "      <td>452</td>\n",
       "      <td>600000.0</td>\n",
       "      <td>53</td>\n",
       "      <td>2</td>\n",
       "      <td>2</td>\n",
       "      <td>0</td>\n",
       "      <td>0</td>\n",
       "      <td>0</td>\n",
       "      <td>0</td>\n",
       "      <td>467150.0</td>\n",
       "      <td>...</td>\n",
       "      <td>0.0</td>\n",
       "      <td>18000.0</td>\n",
       "      <td>16000.0</td>\n",
       "      <td>16000.0</td>\n",
       "      <td>21000.0</td>\n",
       "      <td>20000.0</td>\n",
       "      <td>1</td>\n",
       "      <td>Hombre</td>\n",
       "      <td>Posgrado</td>\n",
       "      <td>casado</td>\n",
       "    </tr>\n",
       "    <tr>\n",
       "      <th>3</th>\n",
       "      <td>528</td>\n",
       "      <td>620000.0</td>\n",
       "      <td>45</td>\n",
       "      <td>2</td>\n",
       "      <td>2</td>\n",
       "      <td>0</td>\n",
       "      <td>0</td>\n",
       "      <td>0</td>\n",
       "      <td>0</td>\n",
       "      <td>160837.0</td>\n",
       "      <td>...</td>\n",
       "      <td>0.0</td>\n",
       "      <td>6200.0</td>\n",
       "      <td>6000.0</td>\n",
       "      <td>6000.0</td>\n",
       "      <td>6500.0</td>\n",
       "      <td>6000.0</td>\n",
       "      <td>1</td>\n",
       "      <td>Mujer</td>\n",
       "      <td>Universidad</td>\n",
       "      <td>casado</td>\n",
       "    </tr>\n",
       "    <tr>\n",
       "      <th>4</th>\n",
       "      <td>556</td>\n",
       "      <td>630000.0</td>\n",
       "      <td>47</td>\n",
       "      <td>0</td>\n",
       "      <td>0</td>\n",
       "      <td>0</td>\n",
       "      <td>-1</td>\n",
       "      <td>-1</td>\n",
       "      <td>-2</td>\n",
       "      <td>37850.0</td>\n",
       "      <td>...</td>\n",
       "      <td>38187.0</td>\n",
       "      <td>1207.0</td>\n",
       "      <td>2632.0</td>\n",
       "      <td>8654.0</td>\n",
       "      <td>0.0</td>\n",
       "      <td>4981.0</td>\n",
       "      <td>0</td>\n",
       "      <td>Mujer</td>\n",
       "      <td>Universidad</td>\n",
       "      <td>casado</td>\n",
       "    </tr>\n",
       "  </tbody>\n",
       "</table>\n",
       "<p>5 rows × 25 columns</p>\n",
       "</div>"
      ],
      "text/plain": [
       "    ID  ValorCredito  Edad  PAY_0  PAY_2  PAY_3  PAY_4  PAY_5  PAY_6  \\\n",
       "0   13      630000.0    41     -1      0     -1     -1     -1     -1   \n",
       "1  434      580000.0    36      0      0      0      0      0      0   \n",
       "2  452      600000.0    53      2      2      0      0      0      0   \n",
       "3  528      620000.0    45      2      2      0      0      0      0   \n",
       "4  556      630000.0    47      0      0      0     -1     -1     -2   \n",
       "\n",
       "   BILL_AMT1  ...  PAY_AMT1  PAY_AMT2  PAY_AMT3  PAY_AMT4  PAY_AMT5  PAY_AMT6  \\\n",
       "0    12137.0  ...    1000.0    6500.0    6500.0    6500.0    2870.0       0.0   \n",
       "1   159760.0  ...    6422.0    6565.0    5951.0    6006.0    5894.0    5946.0   \n",
       "2   467150.0  ...       0.0   18000.0   16000.0   16000.0   21000.0   20000.0   \n",
       "3   160837.0  ...       0.0    6200.0    6000.0    6000.0    6500.0    6000.0   \n",
       "4    37850.0  ...   38187.0    1207.0    2632.0    8654.0       0.0    4981.0   \n",
       "\n",
       "   Mora  GeneroHomologado  EducacionHomologada  EstadoCivilHomologado  \n",
       "0     0             Mujer          Universidad                soltero  \n",
       "1     0             Mujer             Posgrado                 casado  \n",
       "2     1            Hombre             Posgrado                 casado  \n",
       "3     1             Mujer          Universidad                 casado  \n",
       "4     0             Mujer          Universidad                 casado  \n",
       "\n",
       "[5 rows x 25 columns]"
      ]
     },
     "execution_count": 34,
     "metadata": {},
     "output_type": "execute_result"
    }
   ],
   "source": [
    "df_Valor_Credito_Atipicos.head()"
   ]
  },
  {
   "cell_type": "code",
   "execution_count": 35,
   "id": "0afc6a89-9092-4054-acba-2df7cd201f30",
   "metadata": {},
   "outputs": [
    {
     "name": "stdout",
     "output_type": "stream",
     "text": [
      "0.0\n",
      "Rechazo Normalidad\n"
     ]
    }
   ],
   "source": [
    "stat, p_value=stats.shapiro(df_Valor_Credito_Sin_Atipicos.ValorCredito)\n",
    "print(p_value)\n",
    "\n",
    "if (p_value < 0.05):\n",
    "    print(\"Rechazo Normalidad\")\n",
    "else:\n",
    "    print(\"La variable proviene de una distribucción normal\")"
   ]
  },
  {
   "cell_type": "code",
   "execution_count": 36,
   "id": "823c6845-dfe9-487b-8f65-ae74b558a353",
   "metadata": {},
   "outputs": [
    {
     "data": {
      "text/plain": [
       "count     29000.000000\n",
       "mean     165561.851034\n",
       "std      125854.363080\n",
       "min       10000.000000\n",
       "25%       50000.000000\n",
       "50%      140000.000000\n",
       "75%      240000.000000\n",
       "max      520000.000000\n",
       "Name: ValorCredito, dtype: float64"
      ]
     },
     "execution_count": 36,
     "metadata": {},
     "output_type": "execute_result"
    }
   ],
   "source": [
    "df_Valor_Credito_Sin_Atipicos.ValorCredito.describe()"
   ]
  },
  {
   "cell_type": "markdown",
   "id": "122779a0-b0e8-47f8-8605-432831933a8f",
   "metadata": {},
   "source": [
    "# **Selección de Variables**"
   ]
  },
  {
   "cell_type": "code",
   "execution_count": 37,
   "id": "79e3f80a-0c45-4c5d-a55a-db27168ba7b8",
   "metadata": {},
   "outputs": [
    {
     "data": {
      "text/html": [
       "<div>\n",
       "<style scoped>\n",
       "    .dataframe tbody tr th:only-of-type {\n",
       "        vertical-align: middle;\n",
       "    }\n",
       "\n",
       "    .dataframe tbody tr th {\n",
       "        vertical-align: top;\n",
       "    }\n",
       "\n",
       "    .dataframe thead th {\n",
       "        text-align: right;\n",
       "    }\n",
       "</style>\n",
       "<table border=\"1\" class=\"dataframe\">\n",
       "  <thead>\n",
       "    <tr style=\"text-align: right;\">\n",
       "      <th></th>\n",
       "      <th>ID</th>\n",
       "      <th>ValorCredito</th>\n",
       "      <th>Edad</th>\n",
       "      <th>PAY_0</th>\n",
       "      <th>PAY_2</th>\n",
       "      <th>PAY_3</th>\n",
       "      <th>PAY_4</th>\n",
       "      <th>PAY_5</th>\n",
       "      <th>PAY_6</th>\n",
       "      <th>BILL_AMT1</th>\n",
       "      <th>...</th>\n",
       "      <th>PAY_AMT1</th>\n",
       "      <th>PAY_AMT2</th>\n",
       "      <th>PAY_AMT3</th>\n",
       "      <th>PAY_AMT4</th>\n",
       "      <th>PAY_AMT5</th>\n",
       "      <th>PAY_AMT6</th>\n",
       "      <th>Mora</th>\n",
       "      <th>GeneroHomologado</th>\n",
       "      <th>EducacionHomologada</th>\n",
       "      <th>EstadoCivilHomologado</th>\n",
       "    </tr>\n",
       "  </thead>\n",
       "  <tbody>\n",
       "    <tr>\n",
       "      <th>0</th>\n",
       "      <td>1</td>\n",
       "      <td>20000.0</td>\n",
       "      <td>24</td>\n",
       "      <td>2</td>\n",
       "      <td>2</td>\n",
       "      <td>-1</td>\n",
       "      <td>-1</td>\n",
       "      <td>-2</td>\n",
       "      <td>-2</td>\n",
       "      <td>3913.0</td>\n",
       "      <td>...</td>\n",
       "      <td>0.0</td>\n",
       "      <td>689.0</td>\n",
       "      <td>0.0</td>\n",
       "      <td>0.0</td>\n",
       "      <td>0.0</td>\n",
       "      <td>0.0</td>\n",
       "      <td>1</td>\n",
       "      <td>Mujer</td>\n",
       "      <td>Universidad</td>\n",
       "      <td>casado</td>\n",
       "    </tr>\n",
       "    <tr>\n",
       "      <th>1</th>\n",
       "      <td>2</td>\n",
       "      <td>120000.0</td>\n",
       "      <td>26</td>\n",
       "      <td>-1</td>\n",
       "      <td>2</td>\n",
       "      <td>0</td>\n",
       "      <td>0</td>\n",
       "      <td>0</td>\n",
       "      <td>2</td>\n",
       "      <td>2682.0</td>\n",
       "      <td>...</td>\n",
       "      <td>0.0</td>\n",
       "      <td>1000.0</td>\n",
       "      <td>1000.0</td>\n",
       "      <td>1000.0</td>\n",
       "      <td>0.0</td>\n",
       "      <td>2000.0</td>\n",
       "      <td>1</td>\n",
       "      <td>Mujer</td>\n",
       "      <td>Universidad</td>\n",
       "      <td>soltero</td>\n",
       "    </tr>\n",
       "  </tbody>\n",
       "</table>\n",
       "<p>2 rows × 25 columns</p>\n",
       "</div>"
      ],
      "text/plain": [
       "   ID  ValorCredito  Edad  PAY_0  PAY_2  PAY_3  PAY_4  PAY_5  PAY_6  \\\n",
       "0   1       20000.0    24      2      2     -1     -1     -2     -2   \n",
       "1   2      120000.0    26     -1      2      0      0      0      2   \n",
       "\n",
       "   BILL_AMT1  ...  PAY_AMT1  PAY_AMT2  PAY_AMT3  PAY_AMT4  PAY_AMT5  PAY_AMT6  \\\n",
       "0     3913.0  ...       0.0     689.0       0.0       0.0       0.0       0.0   \n",
       "1     2682.0  ...       0.0    1000.0    1000.0    1000.0       0.0    2000.0   \n",
       "\n",
       "   Mora  GeneroHomologado  EducacionHomologada  EstadoCivilHomologado  \n",
       "0     1             Mujer          Universidad                 casado  \n",
       "1     1             Mujer          Universidad                soltero  \n",
       "\n",
       "[2 rows x 25 columns]"
      ]
     },
     "execution_count": 37,
     "metadata": {},
     "output_type": "execute_result"
    }
   ],
   "source": [
    "df.head(2)"
   ]
  },
  {
   "cell_type": "code",
   "execution_count": 38,
   "id": "3b864f9d-0731-4e57-83c0-ec56f365abf2",
   "metadata": {},
   "outputs": [
    {
     "data": {
      "text/plain": [
       "0    22649\n",
       "1     6514\n",
       "Name: Mora, dtype: int64"
      ]
     },
     "execution_count": 38,
     "metadata": {},
     "output_type": "execute_result"
    }
   ],
   "source": [
    "df.Mora.value_counts()"
   ]
  },
  {
   "cell_type": "code",
   "execution_count": 39,
   "id": "1f70c127-725f-4e49-80c9-0792dda6f5af",
   "metadata": {},
   "outputs": [
    {
     "data": {
      "text/plain": [
       "0    0.776635\n",
       "1    0.223365\n",
       "Name: Mora, dtype: float64"
      ]
     },
     "execution_count": 39,
     "metadata": {},
     "output_type": "execute_result"
    }
   ],
   "source": [
    "df.Mora.value_counts(normalize=True) ## Categorico, dos clases (1: Morosos, 0: No Mora)"
   ]
  },
  {
   "cell_type": "markdown",
   "id": "fb082196-f3d0-4db1-9d2a-6ca6c1aebf0e",
   "metadata": {},
   "source": [
    "## **Numéricas vs Target(Mora (Categorica))**"
   ]
  },
  {
   "cell_type": "code",
   "execution_count": 40,
   "id": "e078199a-e78d-4dad-878d-c2f0e8b282bd",
   "metadata": {},
   "outputs": [
    {
     "data": {
      "text/plain": [
       "['ValorCredito',\n",
       " 'Edad',\n",
       " 'BILL_AMT1',\n",
       " 'BILL_AMT2',\n",
       " 'BILL_AMT3',\n",
       " 'BILL_AMT4',\n",
       " 'BILL_AMT5',\n",
       " 'BILL_AMT6',\n",
       " 'PAY_AMT1',\n",
       " 'PAY_AMT2',\n",
       " 'PAY_AMT3',\n",
       " 'PAY_AMT4',\n",
       " 'PAY_AMT5',\n",
       " 'PAY_AMT6']"
      ]
     },
     "execution_count": 40,
     "metadata": {},
     "output_type": "execute_result"
    }
   ],
   "source": [
    "col_numericas"
   ]
  },
  {
   "cell_type": "code",
   "execution_count": 41,
   "id": "27b74e21-ba2d-41c5-a26c-df65c9aabb88",
   "metadata": {},
   "outputs": [],
   "source": [
    "datos=df[[\"Mora\",\"ValorCredito\"]]"
   ]
  },
  {
   "cell_type": "code",
   "execution_count": 42,
   "id": "7943fc19-9f60-47c6-9833-de2edcd40c23",
   "metadata": {},
   "outputs": [
    {
     "data": {
      "text/html": [
       "<div>\n",
       "<style scoped>\n",
       "    .dataframe tbody tr th:only-of-type {\n",
       "        vertical-align: middle;\n",
       "    }\n",
       "\n",
       "    .dataframe tbody tr th {\n",
       "        vertical-align: top;\n",
       "    }\n",
       "\n",
       "    .dataframe thead tr th {\n",
       "        text-align: left;\n",
       "    }\n",
       "\n",
       "    .dataframe thead tr:last-of-type th {\n",
       "        text-align: right;\n",
       "    }\n",
       "</style>\n",
       "<table border=\"1\" class=\"dataframe\">\n",
       "  <thead>\n",
       "    <tr>\n",
       "      <th></th>\n",
       "      <th colspan=\"3\" halign=\"left\">ValorCredito</th>\n",
       "    </tr>\n",
       "    <tr>\n",
       "      <th></th>\n",
       "      <th>mean</th>\n",
       "      <th>median</th>\n",
       "      <th>std</th>\n",
       "    </tr>\n",
       "    <tr>\n",
       "      <th>Mora</th>\n",
       "      <th></th>\n",
       "      <th></th>\n",
       "      <th></th>\n",
       "    </tr>\n",
       "  </thead>\n",
       "  <tbody>\n",
       "    <tr>\n",
       "      <th>0</th>\n",
       "      <td>178807.276259</td>\n",
       "      <td>150000.0</td>\n",
       "      <td>132006.593461</td>\n",
       "    </tr>\n",
       "    <tr>\n",
       "      <th>1</th>\n",
       "      <td>130843.979122</td>\n",
       "      <td>90000.0</td>\n",
       "      <td>115673.740169</td>\n",
       "    </tr>\n",
       "  </tbody>\n",
       "</table>\n",
       "</div>"
      ],
      "text/plain": [
       "       ValorCredito                         \n",
       "               mean    median            std\n",
       "Mora                                        \n",
       "0     178807.276259  150000.0  132006.593461\n",
       "1     130843.979122   90000.0  115673.740169"
      ]
     },
     "execution_count": 42,
     "metadata": {},
     "output_type": "execute_result"
    }
   ],
   "source": [
    "datos.groupby(\"Mora\").agg([\"mean\",\"median\",\"std\"])"
   ]
  },
  {
   "cell_type": "code",
   "execution_count": 43,
   "id": "63820cc9-d4d1-4854-aa3b-46d304a573cb",
   "metadata": {},
   "outputs": [
    {
     "data": {
      "image/png": "[encoded data removed]",
      "text/plain": [
       "<Figure size 432x288 with 1 Axes>"
      ]
     },
     "metadata": {
      "needs_background": "light"
     },
     "output_type": "display_data"
    }
   ],
   "source": [
    "sns.boxplot(data=datos,x=\"Mora\",y=\"ValorCredito\");"
   ]
  },
  {
   "cell_type": "code",
   "execution_count": 44,
   "id": "8e6f8f41-c33e-4dc1-8b23-dbf46963351d",
   "metadata": {},
   "outputs": [
    {
     "data": {
      "image/png": "[encoded data removed]",
      "text/plain": [
       "<Figure size 432x288 with 1 Axes>"
      ]
     },
     "metadata": {
      "needs_background": "light"
     },
     "output_type": "display_data"
    }
   ],
   "source": [
    "sns.histplot(data=datos,hue=\"Mora\",x=\"ValorCredito\");"
   ]
  },
  {
   "cell_type": "markdown",
   "id": "f579f8b0-80bc-4356-8636-7b803cc2163a",
   "metadata": {},
   "source": [
    "**Probar Hipótesis**\n",
    "* H0: No hay diferencias de Promedios de Valor del prestamo entre los Morosos y No Morosos\n",
    "* Ha: Si hay diferencias de Promedios de Valor del prestamo entre los Morosos y No Morosos"
   ]
  },
  {
   "cell_type": "markdown",
   "id": "fb4a7278-bf0e-418d-86d6-c60a2c086cba",
   "metadata": {},
   "source": [
    "**Validar Normalidad**"
   ]
  },
  {
   "cell_type": "code",
   "execution_count": 45,
   "id": "582edd6b-6d1c-4de6-a267-c78af3bd9ee6",
   "metadata": {},
   "outputs": [
    {
     "data": {
      "text/html": [
       "<div>\n",
       "<style scoped>\n",
       "    .dataframe tbody tr th:only-of-type {\n",
       "        vertical-align: middle;\n",
       "    }\n",
       "\n",
       "    .dataframe tbody tr th {\n",
       "        vertical-align: top;\n",
       "    }\n",
       "\n",
       "    .dataframe thead th {\n",
       "        text-align: right;\n",
       "    }\n",
       "</style>\n",
       "<table border=\"1\" class=\"dataframe\">\n",
       "  <thead>\n",
       "    <tr style=\"text-align: right;\">\n",
       "      <th></th>\n",
       "      <th>W</th>\n",
       "      <th>pval</th>\n",
       "      <th>normal</th>\n",
       "    </tr>\n",
       "    <tr>\n",
       "      <th>Mora</th>\n",
       "      <th></th>\n",
       "      <th></th>\n",
       "      <th></th>\n",
       "    </tr>\n",
       "  </thead>\n",
       "  <tbody>\n",
       "    <tr>\n",
       "      <th>1</th>\n",
       "      <td>0.856354</td>\n",
       "      <td>0.0</td>\n",
       "      <td>False</td>\n",
       "    </tr>\n",
       "    <tr>\n",
       "      <th>0</th>\n",
       "      <td>0.920077</td>\n",
       "      <td>0.0</td>\n",
       "      <td>False</td>\n",
       "    </tr>\n",
       "  </tbody>\n",
       "</table>\n",
       "</div>"
      ],
      "text/plain": [
       "             W  pval  normal\n",
       "Mora                        \n",
       "1     0.856354   0.0   False\n",
       "0     0.920077   0.0   False"
      ]
     },
     "execution_count": 45,
     "metadata": {},
     "output_type": "execute_result"
    }
   ],
   "source": [
    "pg.normality(data=datos, dv=\"ValorCredito\",group=\"Mora\")"
   ]
  },
  {
   "cell_type": "markdown",
   "id": "72486c04-b664-47c7-812e-7a1fb0ff0693",
   "metadata": {},
   "source": [
    "* Si no cumple normalidad, por teorema del limite central podemos asumir normalidad en convergencia al infinito, podemos aplicar aplicar la prueba"
   ]
  },
  {
   "cell_type": "markdown",
   "id": "bc20c8e6-34a5-435b-8e61-8195e4f784c4",
   "metadata": {},
   "source": [
    "* Supuesto de Homocedasticidad: Igualdad de Varianza "
   ]
  },
  {
   "cell_type": "code",
   "execution_count": 46,
   "id": "22dad328-467f-48f2-8a3c-28e2c41858ae",
   "metadata": {},
   "outputs": [
    {
     "data": {
      "text/html": [
       "<div>\n",
       "<style scoped>\n",
       "    .dataframe tbody tr th:only-of-type {\n",
       "        vertical-align: middle;\n",
       "    }\n",
       "\n",
       "    .dataframe tbody tr th {\n",
       "        vertical-align: top;\n",
       "    }\n",
       "\n",
       "    .dataframe thead th {\n",
       "        text-align: right;\n",
       "    }\n",
       "</style>\n",
       "<table border=\"1\" class=\"dataframe\">\n",
       "  <thead>\n",
       "    <tr style=\"text-align: right;\">\n",
       "      <th></th>\n",
       "      <th>W</th>\n",
       "      <th>pval</th>\n",
       "      <th>equal_var</th>\n",
       "    </tr>\n",
       "  </thead>\n",
       "  <tbody>\n",
       "    <tr>\n",
       "      <th>levene</th>\n",
       "      <td>233.682911</td>\n",
       "      <td>1.500224e-52</td>\n",
       "      <td>False</td>\n",
       "    </tr>\n",
       "  </tbody>\n",
       "</table>\n",
       "</div>"
      ],
      "text/plain": [
       "                 W          pval  equal_var\n",
       "levene  233.682911  1.500224e-52      False"
      ]
     },
     "execution_count": 46,
     "metadata": {},
     "output_type": "execute_result"
    }
   ],
   "source": [
    "pg.homoscedasticity(data=datos, dv=\"ValorCredito\",group=\"Mora\")"
   ]
  },
  {
   "cell_type": "markdown",
   "id": "aab7cfce-1af0-4e56-8ccf-9b12ee3c9012",
   "metadata": {},
   "source": [
    "* No hay homocedasticidad, se tendría que realizar el t-test con la corrección de Welch. porque no hay homocedasticidad"
   ]
  },
  {
   "cell_type": "code",
   "execution_count": 47,
   "id": "0568c92a-49a9-4071-816a-4ce27d26d2bf",
   "metadata": {},
   "outputs": [],
   "source": [
    "ValorCreditoMorosos=datos[\"ValorCredito\"][datos[\"Mora\"]==1]\n",
    "ValorCreditoNoMorosos=datos[\"ValorCredito\"][datos[\"Mora\"]==0]"
   ]
  },
  {
   "cell_type": "code",
   "execution_count": 48,
   "id": "f912d6dd-1ee7-4f79-afa3-61607c653b3d",
   "metadata": {},
   "outputs": [
    {
     "data": {
      "text/html": [
       "<div>\n",
       "<style scoped>\n",
       "    .dataframe tbody tr th:only-of-type {\n",
       "        vertical-align: middle;\n",
       "    }\n",
       "\n",
       "    .dataframe tbody tr th {\n",
       "        vertical-align: top;\n",
       "    }\n",
       "\n",
       "    .dataframe thead th {\n",
       "        text-align: right;\n",
       "    }\n",
       "</style>\n",
       "<table border=\"1\" class=\"dataframe\">\n",
       "  <thead>\n",
       "    <tr style=\"text-align: right;\">\n",
       "      <th></th>\n",
       "      <th>T</th>\n",
       "      <th>dof</th>\n",
       "      <th>alternative</th>\n",
       "      <th>p-val</th>\n",
       "      <th>CI95%</th>\n",
       "      <th>cohen-d</th>\n",
       "      <th>BF10</th>\n",
       "      <th>power</th>\n",
       "    </tr>\n",
       "  </thead>\n",
       "  <tbody>\n",
       "    <tr>\n",
       "      <th>T-test</th>\n",
       "      <td>-28.544104</td>\n",
       "      <td>11828.521715</td>\n",
       "      <td>two-sided</td>\n",
       "      <td>2.309265e-173</td>\n",
       "      <td>[-51257.01, -44669.59]</td>\n",
       "      <td>0.373142</td>\n",
       "      <td>3.826e+172</td>\n",
       "      <td>1.0</td>\n",
       "    </tr>\n",
       "  </tbody>\n",
       "</table>\n",
       "</div>"
      ],
      "text/plain": [
       "                T           dof alternative          p-val  \\\n",
       "T-test -28.544104  11828.521715   two-sided  2.309265e-173   \n",
       "\n",
       "                         CI95%   cohen-d        BF10  power  \n",
       "T-test  [-51257.01, -44669.59]  0.373142  3.826e+172    1.0  "
      ]
     },
     "execution_count": 48,
     "metadata": {},
     "output_type": "execute_result"
    }
   ],
   "source": [
    "pg.ttest(x=ValorCreditoMorosos,y=ValorCreditoNoMorosos)"
   ]
  },
  {
   "cell_type": "markdown",
   "id": "2d0f511e-46d0-48f0-abc4-561c460b71fd",
   "metadata": {},
   "source": [
    "* Pavlor mayor a 0.05; No se Puede Rechazar H0\n",
    "* Pvalr Menor a 0.05; Se rechaza Ho, si acepta ha"
   ]
  },
  {
   "cell_type": "markdown",
   "id": "4bd182de-a5da-4bd2-aba2-db324ba888b4",
   "metadata": {},
   "source": [
    "* Si hay diferencias de Promedios de Valor del prestamo entre los Morosos y No Morosos"
   ]
  },
  {
   "cell_type": "markdown",
   "id": "f3430636-53a2-45be-af34-5cd070071e11",
   "metadata": {},
   "source": [
    "## **Automatizamos la Prueba para Todas las Variables**"
   ]
  },
  {
   "cell_type": "code",
   "execution_count": 49,
   "id": "1fce7761-6445-4527-b2be-69adf21a81b9",
   "metadata": {},
   "outputs": [],
   "source": [
    "def ImportanciaVariablesSeleccion(x_select,y,funcion,metodo):\n",
    "    NumeroVariables=x_select.shape[1] # DImension datos\n",
    "    MejoresPredictores=SelectKBest(score_func=funcion,k=NumeroVariables) # Aplico test medias para todos\n",
    "    ajuste=MejoresPredictores.fit(x_select,y) # Ajuste\n",
    "    Puntajes=pd.DataFrame(ajuste.scores_) # Resultados del Putaje\n",
    "    Variables=pd.DataFrame(x_select.columns) # Nombre de las variables\n",
    "    if (metodo==\"parametrico\"):\n",
    "        Pvalor=pd.DataFrame(ajuste.pvalues_) # P valor\n",
    "        df_variables= pd.concat([Variables,Puntajes,Pvalor],axis=1) # Unimos los resultados en tabla\n",
    "        df_variables.columns=[\"Variables\",\"Puntaje\",\"Pvalor\"] # Renombrar Variables\n",
    "        df_variables=df_variables.sort_values(\"Puntaje\",ascending=False) # Ordeno la tabla de Mayor a menos\n",
    "    else:\n",
    "        df_variables= pd.concat([Variables,Puntajes],axis=1) # Unimos los resultados en tabla\n",
    "        df_variables.columns=[\"Variables\",\"Puntaje\"] # Renombrar Variables\n",
    "        df_variables=df_variables.sort_values(\"Puntaje\",ascending=False) # Ordeno la tabla de Mayor a menos\n",
    "    return df_variables"
   ]
  },
  {
   "cell_type": "code",
   "execution_count": 50,
   "id": "55f365b8-d4f4-4567-806a-a6bfb31177df",
   "metadata": {},
   "outputs": [],
   "source": [
    "df_numericas=df[col_numericas]"
   ]
  },
  {
   "cell_type": "code",
   "execution_count": 51,
   "id": "562fde8b-6e30-4bee-b637-f9f0f9ac8eef",
   "metadata": {},
   "outputs": [],
   "source": [
    "df_variables=ImportanciaVariablesSeleccion(x_select=df_numericas,y=df.Mora,funcion=f_classif,metodo=\"parametrico\")"
   ]
  },
  {
   "cell_type": "code",
   "execution_count": 52,
   "id": "bc230d54-91a0-4de9-a994-68a969f74e0d",
   "metadata": {},
   "outputs": [
    {
     "data": {
      "text/html": [
       "<div>\n",
       "<style scoped>\n",
       "    .dataframe tbody tr th:only-of-type {\n",
       "        vertical-align: middle;\n",
       "    }\n",
       "\n",
       "    .dataframe tbody tr th {\n",
       "        vertical-align: top;\n",
       "    }\n",
       "\n",
       "    .dataframe thead th {\n",
       "        text-align: right;\n",
       "    }\n",
       "</style>\n",
       "<table border=\"1\" class=\"dataframe\">\n",
       "  <thead>\n",
       "    <tr style=\"text-align: right;\">\n",
       "      <th></th>\n",
       "      <th>Variables</th>\n",
       "      <th>Puntaje</th>\n",
       "      <th>Pvalor</th>\n",
       "    </tr>\n",
       "  </thead>\n",
       "  <tbody>\n",
       "    <tr>\n",
       "      <th>0</th>\n",
       "      <td>ValorCredito</td>\n",
       "      <td>704.391209</td>\n",
       "      <td>2.208629e-153</td>\n",
       "    </tr>\n",
       "    <tr>\n",
       "      <th>8</th>\n",
       "      <td>PAY_AMT1</td>\n",
       "      <td>173.358866</td>\n",
       "      <td>1.771477e-39</td>\n",
       "    </tr>\n",
       "    <tr>\n",
       "      <th>9</th>\n",
       "      <td>PAY_AMT2</td>\n",
       "      <td>107.122395</td>\n",
       "      <td>4.625058e-25</td>\n",
       "    </tr>\n",
       "    <tr>\n",
       "      <th>11</th>\n",
       "      <td>PAY_AMT4</td>\n",
       "      <td>96.968478</td>\n",
       "      <td>7.646590e-23</td>\n",
       "    </tr>\n",
       "    <tr>\n",
       "      <th>10</th>\n",
       "      <td>PAY_AMT3</td>\n",
       "      <td>96.147118</td>\n",
       "      <td>1.156218e-22</td>\n",
       "    </tr>\n",
       "    <tr>\n",
       "      <th>12</th>\n",
       "      <td>PAY_AMT5</td>\n",
       "      <td>91.043753</td>\n",
       "      <td>1.510917e-21</td>\n",
       "    </tr>\n",
       "    <tr>\n",
       "      <th>13</th>\n",
       "      <td>PAY_AMT6</td>\n",
       "      <td>86.464346</td>\n",
       "      <td>1.519015e-20</td>\n",
       "    </tr>\n",
       "    <tr>\n",
       "      <th>2</th>\n",
       "      <td>BILL_AMT1</td>\n",
       "      <td>10.610573</td>\n",
       "      <td>1.125713e-03</td>\n",
       "    </tr>\n",
       "    <tr>\n",
       "      <th>3</th>\n",
       "      <td>BILL_AMT2</td>\n",
       "      <td>5.432610</td>\n",
       "      <td>1.977091e-02</td>\n",
       "    </tr>\n",
       "    <tr>\n",
       "      <th>4</th>\n",
       "      <td>BILL_AMT3</td>\n",
       "      <td>5.385685</td>\n",
       "      <td>2.030948e-02</td>\n",
       "    </tr>\n",
       "    <tr>\n",
       "      <th>1</th>\n",
       "      <td>Edad</td>\n",
       "      <td>4.916335</td>\n",
       "      <td>2.661158e-02</td>\n",
       "    </tr>\n",
       "    <tr>\n",
       "      <th>5</th>\n",
       "      <td>BILL_AMT4</td>\n",
       "      <td>2.655508</td>\n",
       "      <td>1.032026e-01</td>\n",
       "    </tr>\n",
       "    <tr>\n",
       "      <th>6</th>\n",
       "      <td>BILL_AMT5</td>\n",
       "      <td>1.102882</td>\n",
       "      <td>2.936431e-01</td>\n",
       "    </tr>\n",
       "    <tr>\n",
       "      <th>7</th>\n",
       "      <td>BILL_AMT6</td>\n",
       "      <td>0.689315</td>\n",
       "      <td>4.064043e-01</td>\n",
       "    </tr>\n",
       "  </tbody>\n",
       "</table>\n",
       "</div>"
      ],
      "text/plain": [
       "       Variables     Puntaje         Pvalor\n",
       "0   ValorCredito  704.391209  2.208629e-153\n",
       "8       PAY_AMT1  173.358866   1.771477e-39\n",
       "9       PAY_AMT2  107.122395   4.625058e-25\n",
       "11      PAY_AMT4   96.968478   7.646590e-23\n",
       "10      PAY_AMT3   96.147118   1.156218e-22\n",
       "12      PAY_AMT5   91.043753   1.510917e-21\n",
       "13      PAY_AMT6   86.464346   1.519015e-20\n",
       "2      BILL_AMT1   10.610573   1.125713e-03\n",
       "3      BILL_AMT2    5.432610   1.977091e-02\n",
       "4      BILL_AMT3    5.385685   2.030948e-02\n",
       "1           Edad    4.916335   2.661158e-02\n",
       "5      BILL_AMT4    2.655508   1.032026e-01\n",
       "6      BILL_AMT5    1.102882   2.936431e-01\n",
       "7      BILL_AMT6    0.689315   4.064043e-01"
      ]
     },
     "execution_count": 52,
     "metadata": {},
     "output_type": "execute_result"
    }
   ],
   "source": [
    "df_variables"
   ]
  },
  {
   "cell_type": "code",
   "execution_count": 53,
   "id": "48964241-1d2b-4e26-a482-18f2cbf2aebb",
   "metadata": {},
   "outputs": [
    {
     "data": {
      "text/html": [
       "<div>\n",
       "<style scoped>\n",
       "    .dataframe tbody tr th:only-of-type {\n",
       "        vertical-align: middle;\n",
       "    }\n",
       "\n",
       "    .dataframe tbody tr th {\n",
       "        vertical-align: top;\n",
       "    }\n",
       "\n",
       "    .dataframe thead th {\n",
       "        text-align: right;\n",
       "    }\n",
       "</style>\n",
       "<table border=\"1\" class=\"dataframe\">\n",
       "  <thead>\n",
       "    <tr style=\"text-align: right;\">\n",
       "      <th></th>\n",
       "      <th>Variables</th>\n",
       "      <th>Puntaje</th>\n",
       "      <th>Pvalor</th>\n",
       "    </tr>\n",
       "  </thead>\n",
       "  <tbody>\n",
       "    <tr>\n",
       "      <th>5</th>\n",
       "      <td>BILL_AMT4</td>\n",
       "      <td>2.655508</td>\n",
       "      <td>0.103203</td>\n",
       "    </tr>\n",
       "    <tr>\n",
       "      <th>6</th>\n",
       "      <td>BILL_AMT5</td>\n",
       "      <td>1.102882</td>\n",
       "      <td>0.293643</td>\n",
       "    </tr>\n",
       "    <tr>\n",
       "      <th>7</th>\n",
       "      <td>BILL_AMT6</td>\n",
       "      <td>0.689315</td>\n",
       "      <td>0.406404</td>\n",
       "    </tr>\n",
       "  </tbody>\n",
       "</table>\n",
       "</div>"
      ],
      "text/plain": [
       "   Variables   Puntaje    Pvalor\n",
       "5  BILL_AMT4  2.655508  0.103203\n",
       "6  BILL_AMT5  1.102882  0.293643\n",
       "7  BILL_AMT6  0.689315  0.406404"
      ]
     },
     "execution_count": 53,
     "metadata": {},
     "output_type": "execute_result"
    }
   ],
   "source": [
    "df_variables[df_variables[\"Pvalor\"]>0.05]"
   ]
  },
  {
   "cell_type": "code",
   "execution_count": 54,
   "id": "22faa9a7-3390-4e72-be3b-090c4ca03aff",
   "metadata": {},
   "outputs": [
    {
     "data": {
      "text/plain": [
       "['ValorCredito',\n",
       " 'PAY_AMT1',\n",
       " 'PAY_AMT2',\n",
       " 'PAY_AMT4',\n",
       " 'PAY_AMT3',\n",
       " 'PAY_AMT5',\n",
       " 'PAY_AMT6',\n",
       " 'BILL_AMT1',\n",
       " 'BILL_AMT2',\n",
       " 'BILL_AMT3',\n",
       " 'Edad']"
      ]
     },
     "execution_count": 54,
     "metadata": {},
     "output_type": "execute_result"
    }
   ],
   "source": [
    "SignificativasNumericasEstadistico=df_variables.Variables[df_variables[\"Pvalor\"]<=0.05].tolist()\n",
    "SignificativasNumericasEstadistico"
   ]
  },
  {
   "cell_type": "code",
   "execution_count": 55,
   "id": "7571c417-6b45-47ee-a354-c80bc5eff825",
   "metadata": {},
   "outputs": [
    {
     "data": {
      "image/png": "[encoded data removed]",
      "text/plain": [
       "<Figure size 720x576 with 1 Axes>"
      ]
     },
     "metadata": {
      "needs_background": "light"
     },
     "output_type": "display_data"
    }
   ],
   "source": [
    "Significativas=df_variables[df_variables[\"Pvalor\"]<=0.05]\n",
    "Significativas=Significativas.sort_values(\"Puntaje\",ascending=True)\n",
    "fig, ax = plt.subplots(figsize =(10, 8))\n",
    "name=Significativas.Variables\n",
    "importancia=Significativas.Puntaje\n",
    "ax.barh(name,importancia,color=\"green\");"
   ]
  },
  {
   "cell_type": "code",
   "execution_count": 56,
   "id": "c2b6d692-cf70-4d4f-9833-30d18e1f9c3e",
   "metadata": {},
   "outputs": [],
   "source": [
    "pd.DataFrame({\"Variable\": SignificativasNumericasEstadistico}).to_excel(\"NumericasParametricas.xlsx\")"
   ]
  },
  {
   "cell_type": "markdown",
   "id": "6eead89f-6494-4863-93b2-9e29b17154b3",
   "metadata": {},
   "source": [
    "## Selección No Parametrica\n",
    "\n",
    "* Se recomienda Estandarizar las Variables\n",
    "StandardScaler es una técnica de preprocesamiento comúnmente utilizada en aprendizaje automático (machine learning) para estandarizar características o variables numéricas. Su objetivo es transformar los datos de manera que tengan una media igual a cero y una desviación estándar igual a uno.\n",
    "\n",
    "z= (x-media)/std"
   ]
  },
  {
   "cell_type": "code",
   "execution_count": 57,
   "id": "b8d8efae-f96d-4317-a6ad-f2373a597df0",
   "metadata": {},
   "outputs": [],
   "source": [
    "scaler_standar=StandardScaler()"
   ]
  },
  {
   "cell_type": "code",
   "execution_count": 58,
   "id": "8e5acf7c-e792-47a6-8ec6-ab6c0f0f82ef",
   "metadata": {},
   "outputs": [],
   "source": [
    "df_numericas_estandarizadas=pd.DataFrame(scaler_standar.fit_transform(df_numericas), columns=df_numericas.columns)"
   ]
  },
  {
   "cell_type": "code",
   "execution_count": 59,
   "id": "06bd6020-8112-4528-b2ea-52a494a74140",
   "metadata": {},
   "outputs": [
    {
     "data": {
      "text/html": [
       "<div>\n",
       "<style scoped>\n",
       "    .dataframe tbody tr th:only-of-type {\n",
       "        vertical-align: middle;\n",
       "    }\n",
       "\n",
       "    .dataframe tbody tr th {\n",
       "        vertical-align: top;\n",
       "    }\n",
       "\n",
       "    .dataframe thead th {\n",
       "        text-align: right;\n",
       "    }\n",
       "</style>\n",
       "<table border=\"1\" class=\"dataframe\">\n",
       "  <thead>\n",
       "    <tr style=\"text-align: right;\">\n",
       "      <th></th>\n",
       "      <th>ValorCredito</th>\n",
       "      <th>Edad</th>\n",
       "      <th>BILL_AMT1</th>\n",
       "      <th>BILL_AMT2</th>\n",
       "      <th>BILL_AMT3</th>\n",
       "      <th>BILL_AMT4</th>\n",
       "      <th>BILL_AMT5</th>\n",
       "      <th>BILL_AMT6</th>\n",
       "      <th>PAY_AMT1</th>\n",
       "      <th>PAY_AMT2</th>\n",
       "      <th>PAY_AMT3</th>\n",
       "      <th>PAY_AMT4</th>\n",
       "      <th>PAY_AMT5</th>\n",
       "      <th>PAY_AMT6</th>\n",
       "    </tr>\n",
       "  </thead>\n",
       "  <tbody>\n",
       "    <tr>\n",
       "      <th>0</th>\n",
       "      <td>-1.138505</td>\n",
       "      <td>-1.240643</td>\n",
       "      <td>-0.641227</td>\n",
       "      <td>-0.646464</td>\n",
       "      <td>-0.667310</td>\n",
       "      <td>-0.671952</td>\n",
       "      <td>-0.663420</td>\n",
       "      <td>-0.653537</td>\n",
       "      <td>-0.355537</td>\n",
       "      <td>-0.234479</td>\n",
       "      <td>-0.307629</td>\n",
       "      <td>-0.313593</td>\n",
       "      <td>-0.316060</td>\n",
       "      <td>-0.293887</td>\n",
       "    </tr>\n",
       "    <tr>\n",
       "      <th>1</th>\n",
       "      <td>-0.369733</td>\n",
       "      <td>-1.022806</td>\n",
       "      <td>-0.657978</td>\n",
       "      <td>-0.665835</td>\n",
       "      <td>-0.638545</td>\n",
       "      <td>-0.621138</td>\n",
       "      <td>-0.606671</td>\n",
       "      <td>-0.598889</td>\n",
       "      <td>-0.355537</td>\n",
       "      <td>-0.220403</td>\n",
       "      <td>-0.248100</td>\n",
       "      <td>-0.248590</td>\n",
       "      <td>-0.316060</td>\n",
       "      <td>-0.180938</td>\n",
       "    </tr>\n",
       "    <tr>\n",
       "      <th>2</th>\n",
       "      <td>-0.600364</td>\n",
       "      <td>-0.151458</td>\n",
       "      <td>-0.296607</td>\n",
       "      <td>-0.492770</td>\n",
       "      <td>-0.481558</td>\n",
       "      <td>-0.449390</td>\n",
       "      <td>-0.417895</td>\n",
       "      <td>-0.392964</td>\n",
       "      <td>-0.259775</td>\n",
       "      <td>-0.197774</td>\n",
       "      <td>-0.248100</td>\n",
       "      <td>-0.248590</td>\n",
       "      <td>-0.250175</td>\n",
       "      <td>-0.011514</td>\n",
       "    </tr>\n",
       "    <tr>\n",
       "      <th>3</th>\n",
       "      <td>-0.907873</td>\n",
       "      <td>0.175297</td>\n",
       "      <td>-0.055062</td>\n",
       "      <td>-0.011556</td>\n",
       "      <td>0.034160</td>\n",
       "      <td>-0.232233</td>\n",
       "      <td>-0.187761</td>\n",
       "      <td>-0.158382</td>\n",
       "      <td>-0.229369</td>\n",
       "      <td>-0.174285</td>\n",
       "      <td>-0.236195</td>\n",
       "      <td>-0.242089</td>\n",
       "      <td>-0.245629</td>\n",
       "      <td>-0.237412</td>\n",
       "    </tr>\n",
       "    <tr>\n",
       "      <th>4</th>\n",
       "      <td>-0.907873</td>\n",
       "      <td>2.353668</td>\n",
       "      <td>-0.577218</td>\n",
       "      <td>-0.610337</td>\n",
       "      <td>-0.160050</td>\n",
       "      <td>-0.346752</td>\n",
       "      <td>-0.348942</td>\n",
       "      <td>-0.332936</td>\n",
       "      <td>-0.229369</td>\n",
       "      <td>1.394468</td>\n",
       "      <td>0.287654</td>\n",
       "      <td>0.271442</td>\n",
       "      <td>-0.270665</td>\n",
       "      <td>-0.255541</td>\n",
       "    </tr>\n",
       "    <tr>\n",
       "      <th>...</th>\n",
       "      <td>...</td>\n",
       "      <td>...</td>\n",
       "      <td>...</td>\n",
       "      <td>...</td>\n",
       "      <td>...</td>\n",
       "      <td>...</td>\n",
       "      <td>...</td>\n",
       "      <td>...</td>\n",
       "      <td>...</td>\n",
       "      <td>...</td>\n",
       "      <td>...</td>\n",
       "      <td>...</td>\n",
       "      <td>...</td>\n",
       "      <td>...</td>\n",
       "    </tr>\n",
       "    <tr>\n",
       "      <th>29158</th>\n",
       "      <td>0.399039</td>\n",
       "      <td>0.393134</td>\n",
       "      <td>1.876613</td>\n",
       "      <td>2.022438</td>\n",
       "      <td>2.330063</td>\n",
       "      <td>0.694758</td>\n",
       "      <td>-0.150344</td>\n",
       "      <td>-0.385741</td>\n",
       "      <td>0.180678</td>\n",
       "      <td>0.639510</td>\n",
       "      <td>-0.009809</td>\n",
       "      <td>-0.115527</td>\n",
       "      <td>0.013367</td>\n",
       "      <td>-0.237412</td>\n",
       "    </tr>\n",
       "    <tr>\n",
       "      <th>29159</th>\n",
       "      <td>-0.139101</td>\n",
       "      <td>0.828809</td>\n",
       "      <td>-0.671571</td>\n",
       "      <td>-0.664386</td>\n",
       "      <td>-0.626710</td>\n",
       "      <td>-0.532507</td>\n",
       "      <td>-0.578173</td>\n",
       "      <td>-0.653537</td>\n",
       "      <td>-0.239651</td>\n",
       "      <td>-0.106080</td>\n",
       "      <td>0.228007</td>\n",
       "      <td>-0.305208</td>\n",
       "      <td>-0.316060</td>\n",
       "      <td>-0.293887</td>\n",
       "    </tr>\n",
       "    <tr>\n",
       "      <th>29160</th>\n",
       "      <td>-1.061628</td>\n",
       "      <td>0.175297</td>\n",
       "      <td>-0.645962</td>\n",
       "      <td>-0.642890</td>\n",
       "      <td>-0.637448</td>\n",
       "      <td>-0.347715</td>\n",
       "      <td>-0.325355</td>\n",
       "      <td>-0.329148</td>\n",
       "      <td>-0.355537</td>\n",
       "      <td>-0.265662</td>\n",
       "      <td>1.001993</td>\n",
       "      <td>-0.040577</td>\n",
       "      <td>-0.184290</td>\n",
       "      <td>-0.118815</td>\n",
       "    </tr>\n",
       "    <tr>\n",
       "      <th>29161</th>\n",
       "      <td>-0.677242</td>\n",
       "      <td>0.610972</td>\n",
       "      <td>-0.716857</td>\n",
       "      <td>0.412541</td>\n",
       "      <td>0.424036</td>\n",
       "      <td>0.147633</td>\n",
       "      <td>-0.468699</td>\n",
       "      <td>0.166677</td>\n",
       "      <td>5.063380</td>\n",
       "      <td>-0.111375</td>\n",
       "      <td>-0.237504</td>\n",
       "      <td>-0.188396</td>\n",
       "      <td>3.173496</td>\n",
       "      <td>-0.192007</td>\n",
       "    </tr>\n",
       "    <tr>\n",
       "      <th>29162</th>\n",
       "      <td>-0.907873</td>\n",
       "      <td>1.155564</td>\n",
       "      <td>-0.042285</td>\n",
       "      <td>-0.002102</td>\n",
       "      <td>0.040986</td>\n",
       "      <td>-0.104560</td>\n",
       "      <td>-0.130782</td>\n",
       "      <td>-0.396919</td>\n",
       "      <td>-0.224448</td>\n",
       "      <td>-0.184196</td>\n",
       "      <td>-0.222503</td>\n",
       "      <td>-0.248590</td>\n",
       "      <td>-0.250175</td>\n",
       "      <td>-0.237412</td>\n",
       "    </tr>\n",
       "  </tbody>\n",
       "</table>\n",
       "<p>29163 rows × 14 columns</p>\n",
       "</div>"
      ],
      "text/plain": [
       "       ValorCredito      Edad  BILL_AMT1  BILL_AMT2  BILL_AMT3  BILL_AMT4  \\\n",
       "0         -1.138505 -1.240643  -0.641227  -0.646464  -0.667310  -0.671952   \n",
       "1         -0.369733 -1.022806  -0.657978  -0.665835  -0.638545  -0.621138   \n",
       "2         -0.600364 -0.151458  -0.296607  -0.492770  -0.481558  -0.449390   \n",
       "3         -0.907873  0.175297  -0.055062  -0.011556   0.034160  -0.232233   \n",
       "4         -0.907873  2.353668  -0.577218  -0.610337  -0.160050  -0.346752   \n",
       "...             ...       ...        ...        ...        ...        ...   \n",
       "29158      0.399039  0.393134   1.876613   2.022438   2.330063   0.694758   \n",
       "29159     -0.139101  0.828809  -0.671571  -0.664386  -0.626710  -0.532507   \n",
       "29160     -1.061628  0.175297  -0.645962  -0.642890  -0.637448  -0.347715   \n",
       "29161     -0.677242  0.610972  -0.716857   0.412541   0.424036   0.147633   \n",
       "29162     -0.907873  1.155564  -0.042285  -0.002102   0.040986  -0.104560   \n",
       "\n",
       "       BILL_AMT5  BILL_AMT6  PAY_AMT1  PAY_AMT2  PAY_AMT3  PAY_AMT4  PAY_AMT5  \\\n",
       "0      -0.663420  -0.653537 -0.355537 -0.234479 -0.307629 -0.313593 -0.316060   \n",
       "1      -0.606671  -0.598889 -0.355537 -0.220403 -0.248100 -0.248590 -0.316060   \n",
       "2      -0.417895  -0.392964 -0.259775 -0.197774 -0.248100 -0.248590 -0.250175   \n",
       "3      -0.187761  -0.158382 -0.229369 -0.174285 -0.236195 -0.242089 -0.245629   \n",
       "4      -0.348942  -0.332936 -0.229369  1.394468  0.287654  0.271442 -0.270665   \n",
       "...          ...        ...       ...       ...       ...       ...       ...   \n",
       "29158  -0.150344  -0.385741  0.180678  0.639510 -0.009809 -0.115527  0.013367   \n",
       "29159  -0.578173  -0.653537 -0.239651 -0.106080  0.228007 -0.305208 -0.316060   \n",
       "29160  -0.325355  -0.329148 -0.355537 -0.265662  1.001993 -0.040577 -0.184290   \n",
       "29161  -0.468699   0.166677  5.063380 -0.111375 -0.237504 -0.188396  3.173496   \n",
       "29162  -0.130782  -0.396919 -0.224448 -0.184196 -0.222503 -0.248590 -0.250175   \n",
       "\n",
       "       PAY_AMT6  \n",
       "0     -0.293887  \n",
       "1     -0.180938  \n",
       "2     -0.011514  \n",
       "3     -0.237412  \n",
       "4     -0.255541  \n",
       "...         ...  \n",
       "29158 -0.237412  \n",
       "29159 -0.293887  \n",
       "29160 -0.118815  \n",
       "29161 -0.192007  \n",
       "29162 -0.237412  \n",
       "\n",
       "[29163 rows x 14 columns]"
      ]
     },
     "execution_count": 59,
     "metadata": {},
     "output_type": "execute_result"
    }
   ],
   "source": [
    "df_numericas_estandarizadas"
   ]
  },
  {
   "cell_type": "code",
   "execution_count": 60,
   "id": "0cd31e7e-d034-46c9-8567-ee5cb1c9fc78",
   "metadata": {},
   "outputs": [],
   "source": [
    "df_variables1=ImportanciaVariablesSeleccion(x_select=df_numericas_estandarizadas,y=df.Mora,funcion=mutual_info_classif,metodo=\"NoParametrico\")"
   ]
  },
  {
   "cell_type": "code",
   "execution_count": 61,
   "id": "517718f9-48ac-44ad-8636-c099a9e17650",
   "metadata": {},
   "outputs": [],
   "source": [
    "df_variables1=df_variables1.sort_values(\"Puntaje\",ascending=True)"
   ]
  },
  {
   "cell_type": "code",
   "execution_count": 62,
   "id": "28623b6f-a9ef-4afc-b805-71678eca3779",
   "metadata": {},
   "outputs": [
    {
     "data": {
      "image/png": "[encoded data removed]",
      "text/plain": [
       "<Figure size 720x576 with 1 Axes>"
      ]
     },
     "metadata": {
      "needs_background": "light"
     },
     "output_type": "display_data"
    }
   ],
   "source": [
    "name=df_variables1.Variables\n",
    "importancia=df_variables1.Puntaje\n",
    "\n",
    "fig, ax = plt.subplots(figsize =(10, 8))\n",
    "\n",
    "ax.barh(name,importancia,color=\"green\");"
   ]
  },
  {
   "cell_type": "code",
   "execution_count": 63,
   "id": "c77f698d-4203-4f1e-b94d-1ee7ff8fad5f",
   "metadata": {},
   "outputs": [],
   "source": [
    "df_variables1=df_variables1.sort_values(\"Puntaje\",ascending=False)\n",
    "df_variables1.head(11)[[\"Variables\"]].to_excel(\"NumericasNoParametricas.xlsx\")"
   ]
  },
  {
   "cell_type": "markdown",
   "id": "0b8bf60c-06c2-472b-83b1-44d18bbdfe95",
   "metadata": {},
   "source": [
    "# **Selección de Categorica vs Target (categorica)**"
   ]
  },
  {
   "cell_type": "code",
   "execution_count": 64,
   "id": "fa4630af-4134-43d0-bc4f-253466bf45ab",
   "metadata": {},
   "outputs": [],
   "source": [
    "df_categoricas=df[col_cat].drop(columns=\"Mora\")"
   ]
  },
  {
   "cell_type": "code",
   "execution_count": 65,
   "id": "088a6223-a4af-4fe7-88c6-bc5fd35d1bbc",
   "metadata": {},
   "outputs": [],
   "source": [
    "df_categoricas=df_categoricas.astype(\"category\")"
   ]
  },
  {
   "cell_type": "code",
   "execution_count": 66,
   "id": "fc04c5bf-5400-4b1b-9a65-e55232029391",
   "metadata": {},
   "outputs": [],
   "source": [
    "Tabla_Contingencia= pd.crosstab(df_categoricas[\"GeneroHomologado\"],df.Mora)"
   ]
  },
  {
   "cell_type": "code",
   "execution_count": 67,
   "id": "b48e59b5-7fa0-4a52-a1f5-769c9745daac",
   "metadata": {},
   "outputs": [
    {
     "data": {
      "text/html": [
       "<div>\n",
       "<style scoped>\n",
       "    .dataframe tbody tr th:only-of-type {\n",
       "        vertical-align: middle;\n",
       "    }\n",
       "\n",
       "    .dataframe tbody tr th {\n",
       "        vertical-align: top;\n",
       "    }\n",
       "\n",
       "    .dataframe thead th {\n",
       "        text-align: right;\n",
       "    }\n",
       "</style>\n",
       "<table border=\"1\" class=\"dataframe\">\n",
       "  <thead>\n",
       "    <tr style=\"text-align: right;\">\n",
       "      <th>Mora</th>\n",
       "      <th>0</th>\n",
       "      <th>1</th>\n",
       "    </tr>\n",
       "    <tr>\n",
       "      <th>GeneroHomologado</th>\n",
       "      <th></th>\n",
       "      <th></th>\n",
       "    </tr>\n",
       "  </thead>\n",
       "  <tbody>\n",
       "    <tr>\n",
       "      <th>Hombre</th>\n",
       "      <td>8758</td>\n",
       "      <td>2817</td>\n",
       "    </tr>\n",
       "    <tr>\n",
       "      <th>Mujer</th>\n",
       "      <td>13891</td>\n",
       "      <td>3697</td>\n",
       "    </tr>\n",
       "  </tbody>\n",
       "</table>\n",
       "</div>"
      ],
      "text/plain": [
       "Mora                  0     1\n",
       "GeneroHomologado             \n",
       "Hombre             8758  2817\n",
       "Mujer             13891  3697"
      ]
     },
     "execution_count": 67,
     "metadata": {},
     "output_type": "execute_result"
    }
   ],
   "source": [
    "Tabla_Contingencia"
   ]
  },
  {
   "cell_type": "markdown",
   "id": "22497cbd-42a8-44ef-9b42-8efc039fe215",
   "metadata": {},
   "source": [
    "### Prueba de Hipotesis Chi2 de indepencia\n",
    "* H0: Las variables Son independientes\n",
    "* ha: Las variables son dependientes"
   ]
  },
  {
   "cell_type": "code",
   "execution_count": 68,
   "id": "ba9c6b6c-3e14-4907-b1d2-939ea33ba28b",
   "metadata": {},
   "outputs": [],
   "source": [
    "Stad,pvalor=stats.chi2_contingency(Tabla_Contingencia)[:2]"
   ]
  },
  {
   "cell_type": "code",
   "execution_count": 69,
   "id": "fa97a148-fdc6-48df-91ea-ab15f525b5aa",
   "metadata": {},
   "outputs": [
    {
     "data": {
      "text/plain": [
       "3.148418883358306e-11"
      ]
     },
     "execution_count": 69,
     "metadata": {},
     "output_type": "execute_result"
    }
   ],
   "source": [
    "pvalor"
   ]
  },
  {
   "cell_type": "markdown",
   "id": "8beb22ee-1ff8-48cb-9a02-759a22f013e5",
   "metadata": {},
   "source": [
    "* como p valor es menor a 0.05, se rechaza h0, podemos decirs que existe dependendia entre las variables"
   ]
  },
  {
   "cell_type": "code",
   "execution_count": 70,
   "id": "821b4582-686c-4853-87e6-9a4c511034e7",
   "metadata": {},
   "outputs": [],
   "source": [
    "datos_dummies=pd.get_dummies(df_categoricas,drop_first=True)"
   ]
  },
  {
   "cell_type": "code",
   "execution_count": 71,
   "id": "64f22502-0b72-4172-b296-fa4414d7a10f",
   "metadata": {},
   "outputs": [
    {
     "data": {
      "text/html": [
       "<div>\n",
       "<style scoped>\n",
       "    .dataframe tbody tr th:only-of-type {\n",
       "        vertical-align: middle;\n",
       "    }\n",
       "\n",
       "    .dataframe tbody tr th {\n",
       "        vertical-align: top;\n",
       "    }\n",
       "\n",
       "    .dataframe thead th {\n",
       "        text-align: right;\n",
       "    }\n",
       "</style>\n",
       "<table border=\"1\" class=\"dataframe\">\n",
       "  <thead>\n",
       "    <tr style=\"text-align: right;\">\n",
       "      <th></th>\n",
       "      <th>PAY_0_-1</th>\n",
       "      <th>PAY_0_0</th>\n",
       "      <th>PAY_0_1</th>\n",
       "      <th>PAY_0_2</th>\n",
       "      <th>PAY_0_3</th>\n",
       "      <th>PAY_0_4</th>\n",
       "      <th>PAY_0_5</th>\n",
       "      <th>PAY_0_6</th>\n",
       "      <th>PAY_0_7</th>\n",
       "      <th>PAY_0_8</th>\n",
       "      <th>...</th>\n",
       "      <th>PAY_6_3</th>\n",
       "      <th>PAY_6_4</th>\n",
       "      <th>PAY_6_5</th>\n",
       "      <th>PAY_6_6</th>\n",
       "      <th>PAY_6_7</th>\n",
       "      <th>PAY_6_8</th>\n",
       "      <th>GeneroHomologado_Mujer</th>\n",
       "      <th>EducacionHomologada_Posgrado</th>\n",
       "      <th>EducacionHomologada_Universidad</th>\n",
       "      <th>EstadoCivilHomologado_soltero</th>\n",
       "    </tr>\n",
       "  </thead>\n",
       "  <tbody>\n",
       "    <tr>\n",
       "      <th>0</th>\n",
       "      <td>0</td>\n",
       "      <td>0</td>\n",
       "      <td>0</td>\n",
       "      <td>1</td>\n",
       "      <td>0</td>\n",
       "      <td>0</td>\n",
       "      <td>0</td>\n",
       "      <td>0</td>\n",
       "      <td>0</td>\n",
       "      <td>0</td>\n",
       "      <td>...</td>\n",
       "      <td>0</td>\n",
       "      <td>0</td>\n",
       "      <td>0</td>\n",
       "      <td>0</td>\n",
       "      <td>0</td>\n",
       "      <td>0</td>\n",
       "      <td>1</td>\n",
       "      <td>0</td>\n",
       "      <td>1</td>\n",
       "      <td>0</td>\n",
       "    </tr>\n",
       "    <tr>\n",
       "      <th>1</th>\n",
       "      <td>1</td>\n",
       "      <td>0</td>\n",
       "      <td>0</td>\n",
       "      <td>0</td>\n",
       "      <td>0</td>\n",
       "      <td>0</td>\n",
       "      <td>0</td>\n",
       "      <td>0</td>\n",
       "      <td>0</td>\n",
       "      <td>0</td>\n",
       "      <td>...</td>\n",
       "      <td>0</td>\n",
       "      <td>0</td>\n",
       "      <td>0</td>\n",
       "      <td>0</td>\n",
       "      <td>0</td>\n",
       "      <td>0</td>\n",
       "      <td>1</td>\n",
       "      <td>0</td>\n",
       "      <td>1</td>\n",
       "      <td>1</td>\n",
       "    </tr>\n",
       "    <tr>\n",
       "      <th>2</th>\n",
       "      <td>0</td>\n",
       "      <td>1</td>\n",
       "      <td>0</td>\n",
       "      <td>0</td>\n",
       "      <td>0</td>\n",
       "      <td>0</td>\n",
       "      <td>0</td>\n",
       "      <td>0</td>\n",
       "      <td>0</td>\n",
       "      <td>0</td>\n",
       "      <td>...</td>\n",
       "      <td>0</td>\n",
       "      <td>0</td>\n",
       "      <td>0</td>\n",
       "      <td>0</td>\n",
       "      <td>0</td>\n",
       "      <td>0</td>\n",
       "      <td>1</td>\n",
       "      <td>0</td>\n",
       "      <td>1</td>\n",
       "      <td>1</td>\n",
       "    </tr>\n",
       "    <tr>\n",
       "      <th>3</th>\n",
       "      <td>0</td>\n",
       "      <td>1</td>\n",
       "      <td>0</td>\n",
       "      <td>0</td>\n",
       "      <td>0</td>\n",
       "      <td>0</td>\n",
       "      <td>0</td>\n",
       "      <td>0</td>\n",
       "      <td>0</td>\n",
       "      <td>0</td>\n",
       "      <td>...</td>\n",
       "      <td>0</td>\n",
       "      <td>0</td>\n",
       "      <td>0</td>\n",
       "      <td>0</td>\n",
       "      <td>0</td>\n",
       "      <td>0</td>\n",
       "      <td>1</td>\n",
       "      <td>0</td>\n",
       "      <td>1</td>\n",
       "      <td>0</td>\n",
       "    </tr>\n",
       "    <tr>\n",
       "      <th>4</th>\n",
       "      <td>1</td>\n",
       "      <td>0</td>\n",
       "      <td>0</td>\n",
       "      <td>0</td>\n",
       "      <td>0</td>\n",
       "      <td>0</td>\n",
       "      <td>0</td>\n",
       "      <td>0</td>\n",
       "      <td>0</td>\n",
       "      <td>0</td>\n",
       "      <td>...</td>\n",
       "      <td>0</td>\n",
       "      <td>0</td>\n",
       "      <td>0</td>\n",
       "      <td>0</td>\n",
       "      <td>0</td>\n",
       "      <td>0</td>\n",
       "      <td>0</td>\n",
       "      <td>0</td>\n",
       "      <td>1</td>\n",
       "      <td>0</td>\n",
       "    </tr>\n",
       "    <tr>\n",
       "      <th>...</th>\n",
       "      <td>...</td>\n",
       "      <td>...</td>\n",
       "      <td>...</td>\n",
       "      <td>...</td>\n",
       "      <td>...</td>\n",
       "      <td>...</td>\n",
       "      <td>...</td>\n",
       "      <td>...</td>\n",
       "      <td>...</td>\n",
       "      <td>...</td>\n",
       "      <td>...</td>\n",
       "      <td>...</td>\n",
       "      <td>...</td>\n",
       "      <td>...</td>\n",
       "      <td>...</td>\n",
       "      <td>...</td>\n",
       "      <td>...</td>\n",
       "      <td>...</td>\n",
       "      <td>...</td>\n",
       "      <td>...</td>\n",
       "      <td>...</td>\n",
       "    </tr>\n",
       "    <tr>\n",
       "      <th>29158</th>\n",
       "      <td>0</td>\n",
       "      <td>1</td>\n",
       "      <td>0</td>\n",
       "      <td>0</td>\n",
       "      <td>0</td>\n",
       "      <td>0</td>\n",
       "      <td>0</td>\n",
       "      <td>0</td>\n",
       "      <td>0</td>\n",
       "      <td>0</td>\n",
       "      <td>...</td>\n",
       "      <td>0</td>\n",
       "      <td>0</td>\n",
       "      <td>0</td>\n",
       "      <td>0</td>\n",
       "      <td>0</td>\n",
       "      <td>0</td>\n",
       "      <td>0</td>\n",
       "      <td>0</td>\n",
       "      <td>0</td>\n",
       "      <td>0</td>\n",
       "    </tr>\n",
       "    <tr>\n",
       "      <th>29159</th>\n",
       "      <td>1</td>\n",
       "      <td>0</td>\n",
       "      <td>0</td>\n",
       "      <td>0</td>\n",
       "      <td>0</td>\n",
       "      <td>0</td>\n",
       "      <td>0</td>\n",
       "      <td>0</td>\n",
       "      <td>0</td>\n",
       "      <td>0</td>\n",
       "      <td>...</td>\n",
       "      <td>0</td>\n",
       "      <td>0</td>\n",
       "      <td>0</td>\n",
       "      <td>0</td>\n",
       "      <td>0</td>\n",
       "      <td>0</td>\n",
       "      <td>0</td>\n",
       "      <td>0</td>\n",
       "      <td>0</td>\n",
       "      <td>1</td>\n",
       "    </tr>\n",
       "    <tr>\n",
       "      <th>29160</th>\n",
       "      <td>0</td>\n",
       "      <td>0</td>\n",
       "      <td>0</td>\n",
       "      <td>0</td>\n",
       "      <td>0</td>\n",
       "      <td>1</td>\n",
       "      <td>0</td>\n",
       "      <td>0</td>\n",
       "      <td>0</td>\n",
       "      <td>0</td>\n",
       "      <td>...</td>\n",
       "      <td>0</td>\n",
       "      <td>0</td>\n",
       "      <td>0</td>\n",
       "      <td>0</td>\n",
       "      <td>0</td>\n",
       "      <td>0</td>\n",
       "      <td>0</td>\n",
       "      <td>0</td>\n",
       "      <td>1</td>\n",
       "      <td>1</td>\n",
       "    </tr>\n",
       "    <tr>\n",
       "      <th>29161</th>\n",
       "      <td>0</td>\n",
       "      <td>0</td>\n",
       "      <td>1</td>\n",
       "      <td>0</td>\n",
       "      <td>0</td>\n",
       "      <td>0</td>\n",
       "      <td>0</td>\n",
       "      <td>0</td>\n",
       "      <td>0</td>\n",
       "      <td>0</td>\n",
       "      <td>...</td>\n",
       "      <td>0</td>\n",
       "      <td>0</td>\n",
       "      <td>0</td>\n",
       "      <td>0</td>\n",
       "      <td>0</td>\n",
       "      <td>0</td>\n",
       "      <td>0</td>\n",
       "      <td>0</td>\n",
       "      <td>0</td>\n",
       "      <td>0</td>\n",
       "    </tr>\n",
       "    <tr>\n",
       "      <th>29162</th>\n",
       "      <td>0</td>\n",
       "      <td>1</td>\n",
       "      <td>0</td>\n",
       "      <td>0</td>\n",
       "      <td>0</td>\n",
       "      <td>0</td>\n",
       "      <td>0</td>\n",
       "      <td>0</td>\n",
       "      <td>0</td>\n",
       "      <td>0</td>\n",
       "      <td>...</td>\n",
       "      <td>0</td>\n",
       "      <td>0</td>\n",
       "      <td>0</td>\n",
       "      <td>0</td>\n",
       "      <td>0</td>\n",
       "      <td>0</td>\n",
       "      <td>0</td>\n",
       "      <td>0</td>\n",
       "      <td>1</td>\n",
       "      <td>0</td>\n",
       "    </tr>\n",
       "  </tbody>\n",
       "</table>\n",
       "<p>29163 rows × 62 columns</p>\n",
       "</div>"
      ],
      "text/plain": [
       "       PAY_0_-1  PAY_0_0  PAY_0_1  PAY_0_2  PAY_0_3  PAY_0_4  PAY_0_5  \\\n",
       "0             0        0        0        1        0        0        0   \n",
       "1             1        0        0        0        0        0        0   \n",
       "2             0        1        0        0        0        0        0   \n",
       "3             0        1        0        0        0        0        0   \n",
       "4             1        0        0        0        0        0        0   \n",
       "...         ...      ...      ...      ...      ...      ...      ...   \n",
       "29158         0        1        0        0        0        0        0   \n",
       "29159         1        0        0        0        0        0        0   \n",
       "29160         0        0        0        0        0        1        0   \n",
       "29161         0        0        1        0        0        0        0   \n",
       "29162         0        1        0        0        0        0        0   \n",
       "\n",
       "       PAY_0_6  PAY_0_7  PAY_0_8  ...  PAY_6_3  PAY_6_4  PAY_6_5  PAY_6_6  \\\n",
       "0            0        0        0  ...        0        0        0        0   \n",
       "1            0        0        0  ...        0        0        0        0   \n",
       "2            0        0        0  ...        0        0        0        0   \n",
       "3            0        0        0  ...        0        0        0        0   \n",
       "4            0        0        0  ...        0        0        0        0   \n",
       "...        ...      ...      ...  ...      ...      ...      ...      ...   \n",
       "29158        0        0        0  ...        0        0        0        0   \n",
       "29159        0        0        0  ...        0        0        0        0   \n",
       "29160        0        0        0  ...        0        0        0        0   \n",
       "29161        0        0        0  ...        0        0        0        0   \n",
       "29162        0        0        0  ...        0        0        0        0   \n",
       "\n",
       "       PAY_6_7  PAY_6_8  GeneroHomologado_Mujer  EducacionHomologada_Posgrado  \\\n",
       "0            0        0                       1                             0   \n",
       "1            0        0                       1                             0   \n",
       "2            0        0                       1                             0   \n",
       "3            0        0                       1                             0   \n",
       "4            0        0                       0                             0   \n",
       "...        ...      ...                     ...                           ...   \n",
       "29158        0        0                       0                             0   \n",
       "29159        0        0                       0                             0   \n",
       "29160        0        0                       0                             0   \n",
       "29161        0        0                       0                             0   \n",
       "29162        0        0                       0                             0   \n",
       "\n",
       "       EducacionHomologada_Universidad  EstadoCivilHomologado_soltero  \n",
       "0                                    1                              0  \n",
       "1                                    1                              1  \n",
       "2                                    1                              1  \n",
       "3                                    1                              0  \n",
       "4                                    1                              0  \n",
       "...                                ...                            ...  \n",
       "29158                                0                              0  \n",
       "29159                                0                              1  \n",
       "29160                                1                              1  \n",
       "29161                                0                              0  \n",
       "29162                                1                              0  \n",
       "\n",
       "[29163 rows x 62 columns]"
      ]
     },
     "execution_count": 71,
     "metadata": {},
     "output_type": "execute_result"
    }
   ],
   "source": [
    "datos_dummies"
   ]
  },
  {
   "cell_type": "code",
   "execution_count": 72,
   "id": "c5dfd56e-b318-49e6-8920-72959aeab52f",
   "metadata": {},
   "outputs": [],
   "source": [
    "df_variables2=ImportanciaVariablesSeleccion(x_select=datos_dummies,y=df.Mora,funcion=chi2,metodo=\"parametrico\") "
   ]
  },
  {
   "cell_type": "code",
   "execution_count": 73,
   "id": "b20d70db-5bff-4b23-8ac6-6804ef6e5318",
   "metadata": {},
   "outputs": [
    {
     "data": {
      "text/html": [
       "<div>\n",
       "<style scoped>\n",
       "    .dataframe tbody tr th:only-of-type {\n",
       "        vertical-align: middle;\n",
       "    }\n",
       "\n",
       "    .dataframe tbody tr th {\n",
       "        vertical-align: top;\n",
       "    }\n",
       "\n",
       "    .dataframe thead th {\n",
       "        text-align: right;\n",
       "    }\n",
       "</style>\n",
       "<table border=\"1\" class=\"dataframe\">\n",
       "  <thead>\n",
       "    <tr style=\"text-align: right;\">\n",
       "      <th></th>\n",
       "      <th>Variables</th>\n",
       "      <th>Puntaje</th>\n",
       "      <th>Pvalor</th>\n",
       "    </tr>\n",
       "  </thead>\n",
       "  <tbody>\n",
       "    <tr>\n",
       "      <th>3</th>\n",
       "      <td>PAY_0_2</td>\n",
       "      <td>3371.291593</td>\n",
       "      <td>0.000000</td>\n",
       "    </tr>\n",
       "    <tr>\n",
       "      <th>13</th>\n",
       "      <td>PAY_2_2</td>\n",
       "      <td>2499.893300</td>\n",
       "      <td>0.000000</td>\n",
       "    </tr>\n",
       "    <tr>\n",
       "      <th>23</th>\n",
       "      <td>PAY_3_2</td>\n",
       "      <td>1854.706335</td>\n",
       "      <td>0.000000</td>\n",
       "    </tr>\n",
       "    <tr>\n",
       "      <th>33</th>\n",
       "      <td>PAY_4_2</td>\n",
       "      <td>1597.814245</td>\n",
       "      <td>0.000000</td>\n",
       "    </tr>\n",
       "    <tr>\n",
       "      <th>42</th>\n",
       "      <td>PAY_5_2</td>\n",
       "      <td>1525.729889</td>\n",
       "      <td>0.000000</td>\n",
       "    </tr>\n",
       "    <tr>\n",
       "      <th>...</th>\n",
       "      <td>...</td>\n",
       "      <td>...</td>\n",
       "      <td>...</td>\n",
       "    </tr>\n",
       "    <tr>\n",
       "      <th>39</th>\n",
       "      <td>PAY_4_8</td>\n",
       "      <td>0.882290</td>\n",
       "      <td>0.347575</td>\n",
       "    </tr>\n",
       "    <tr>\n",
       "      <th>32</th>\n",
       "      <td>PAY_4_1</td>\n",
       "      <td>0.882290</td>\n",
       "      <td>0.347575</td>\n",
       "    </tr>\n",
       "    <tr>\n",
       "      <th>12</th>\n",
       "      <td>PAY_2_1</td>\n",
       "      <td>0.880571</td>\n",
       "      <td>0.348045</td>\n",
       "    </tr>\n",
       "    <tr>\n",
       "      <th>19</th>\n",
       "      <td>PAY_2_8</td>\n",
       "      <td>0.287607</td>\n",
       "      <td>0.591758</td>\n",
       "    </tr>\n",
       "    <tr>\n",
       "      <th>22</th>\n",
       "      <td>PAY_3_1</td>\n",
       "      <td>0.016358</td>\n",
       "      <td>0.898230</td>\n",
       "    </tr>\n",
       "  </tbody>\n",
       "</table>\n",
       "<p>62 rows × 3 columns</p>\n",
       "</div>"
      ],
      "text/plain": [
       "   Variables      Puntaje    Pvalor\n",
       "3    PAY_0_2  3371.291593  0.000000\n",
       "13   PAY_2_2  2499.893300  0.000000\n",
       "23   PAY_3_2  1854.706335  0.000000\n",
       "33   PAY_4_2  1597.814245  0.000000\n",
       "42   PAY_5_2  1525.729889  0.000000\n",
       "..       ...          ...       ...\n",
       "39   PAY_4_8     0.882290  0.347575\n",
       "32   PAY_4_1     0.882290  0.347575\n",
       "12   PAY_2_1     0.880571  0.348045\n",
       "19   PAY_2_8     0.287607  0.591758\n",
       "22   PAY_3_1     0.016358  0.898230\n",
       "\n",
       "[62 rows x 3 columns]"
      ]
     },
     "execution_count": 73,
     "metadata": {},
     "output_type": "execute_result"
    }
   ],
   "source": [
    "df_variables2"
   ]
  },
  {
   "cell_type": "code",
   "execution_count": 74,
   "id": "9523c31d-97a0-45a2-b641-3d46194e6417",
   "metadata": {},
   "outputs": [
    {
     "data": {
      "text/html": [
       "<div>\n",
       "<style scoped>\n",
       "    .dataframe tbody tr th:only-of-type {\n",
       "        vertical-align: middle;\n",
       "    }\n",
       "\n",
       "    .dataframe tbody tr th {\n",
       "        vertical-align: top;\n",
       "    }\n",
       "\n",
       "    .dataframe thead th {\n",
       "        text-align: right;\n",
       "    }\n",
       "</style>\n",
       "<table border=\"1\" class=\"dataframe\">\n",
       "  <thead>\n",
       "    <tr style=\"text-align: right;\">\n",
       "      <th></th>\n",
       "      <th>Variables</th>\n",
       "      <th>Puntaje</th>\n",
       "      <th>Pvalor</th>\n",
       "    </tr>\n",
       "  </thead>\n",
       "  <tbody>\n",
       "    <tr>\n",
       "      <th>48</th>\n",
       "      <td>PAY_5_8</td>\n",
       "      <td>3.476973</td>\n",
       "      <td>0.062228</td>\n",
       "    </tr>\n",
       "    <tr>\n",
       "      <th>29</th>\n",
       "      <td>PAY_3_8</td>\n",
       "      <td>3.398499</td>\n",
       "      <td>0.065256</td>\n",
       "    </tr>\n",
       "    <tr>\n",
       "      <th>37</th>\n",
       "      <td>PAY_4_6</td>\n",
       "      <td>0.899270</td>\n",
       "      <td>0.342978</td>\n",
       "    </tr>\n",
       "    <tr>\n",
       "      <th>39</th>\n",
       "      <td>PAY_4_8</td>\n",
       "      <td>0.882290</td>\n",
       "      <td>0.347575</td>\n",
       "    </tr>\n",
       "    <tr>\n",
       "      <th>32</th>\n",
       "      <td>PAY_4_1</td>\n",
       "      <td>0.882290</td>\n",
       "      <td>0.347575</td>\n",
       "    </tr>\n",
       "    <tr>\n",
       "      <th>12</th>\n",
       "      <td>PAY_2_1</td>\n",
       "      <td>0.880571</td>\n",
       "      <td>0.348045</td>\n",
       "    </tr>\n",
       "    <tr>\n",
       "      <th>19</th>\n",
       "      <td>PAY_2_8</td>\n",
       "      <td>0.287607</td>\n",
       "      <td>0.591758</td>\n",
       "    </tr>\n",
       "    <tr>\n",
       "      <th>22</th>\n",
       "      <td>PAY_3_1</td>\n",
       "      <td>0.016358</td>\n",
       "      <td>0.898230</td>\n",
       "    </tr>\n",
       "  </tbody>\n",
       "</table>\n",
       "</div>"
      ],
      "text/plain": [
       "   Variables   Puntaje    Pvalor\n",
       "48   PAY_5_8  3.476973  0.062228\n",
       "29   PAY_3_8  3.398499  0.065256\n",
       "37   PAY_4_6  0.899270  0.342978\n",
       "39   PAY_4_8  0.882290  0.347575\n",
       "32   PAY_4_1  0.882290  0.347575\n",
       "12   PAY_2_1  0.880571  0.348045\n",
       "19   PAY_2_8  0.287607  0.591758\n",
       "22   PAY_3_1  0.016358  0.898230"
      ]
     },
     "execution_count": 74,
     "metadata": {},
     "output_type": "execute_result"
    }
   ],
   "source": [
    "df_variables2[df_variables2[\"Pvalor\"]>0.05] ## No aportan"
   ]
  },
  {
   "cell_type": "code",
   "execution_count": 75,
   "id": "ceef758c-a00e-4b82-8fc4-f800c1fa9e6e",
   "metadata": {},
   "outputs": [
    {
     "data": {
      "text/plain": [
       "['PAY_0_2',\n",
       " 'PAY_2_2',\n",
       " 'PAY_3_2',\n",
       " 'PAY_4_2',\n",
       " 'PAY_5_2',\n",
       " 'PAY_6_2',\n",
       " 'PAY_0_0',\n",
       " 'PAY_0_3',\n",
       " 'PAY_2_0',\n",
       " 'PAY_0_1',\n",
       " 'PAY_2_3',\n",
       " 'PAY_3_0',\n",
       " 'PAY_6_3',\n",
       " 'PAY_5_3',\n",
       " 'PAY_3_3',\n",
       " 'PAY_4_3',\n",
       " 'PAY_3_-1',\n",
       " 'PAY_4_0',\n",
       " 'PAY_2_-1',\n",
       " 'PAY_4_-1',\n",
       " 'PAY_4_7',\n",
       " 'PAY_5_7',\n",
       " 'PAY_5_0',\n",
       " 'PAY_5_-1',\n",
       " 'PAY_6_0',\n",
       " 'PAY_0_-1',\n",
       " 'PAY_0_4',\n",
       " 'PAY_6_7',\n",
       " 'PAY_6_-1',\n",
       " 'PAY_4_4',\n",
       " 'PAY_5_4',\n",
       " 'EducacionHomologada_Posgrado',\n",
       " 'PAY_3_4',\n",
       " 'PAY_3_7',\n",
       " 'PAY_6_4',\n",
       " 'PAY_2_4',\n",
       " 'PAY_6_6',\n",
       " 'PAY_2_5',\n",
       " 'PAY_3_6',\n",
       " 'PAY_2_6',\n",
       " 'GeneroHomologado_Mujer',\n",
       " 'PAY_4_5',\n",
       " 'PAY_2_7',\n",
       " 'PAY_0_7',\n",
       " 'EducacionHomologada_Universidad',\n",
       " 'PAY_3_5',\n",
       " 'PAY_0_5',\n",
       " 'PAY_0_8',\n",
       " 'EstadoCivilHomologado_soltero',\n",
       " 'PAY_5_5',\n",
       " 'PAY_6_5',\n",
       " 'PAY_6_8',\n",
       " 'PAY_0_6',\n",
       " 'PAY_5_6']"
      ]
     },
     "execution_count": 75,
     "metadata": {},
     "output_type": "execute_result"
    }
   ],
   "source": [
    "SignificativasCatEstadistico=df_variables2.Variables[df_variables2[\"Pvalor\"]<=0.05].tolist()\n",
    "SignificativasCatEstadistico"
   ]
  },
  {
   "cell_type": "code",
   "execution_count": 76,
   "id": "03f3b071-9d73-4b52-b6cb-fdd2cd986a05",
   "metadata": {},
   "outputs": [
    {
     "data": {
      "image/png": "[encoded data removed]",
      "text/plain": [
       "<Figure size 720x576 with 1 Axes>"
      ]
     },
     "metadata": {
      "needs_background": "light"
     },
     "output_type": "display_data"
    }
   ],
   "source": [
    "Significativas=df_variables2[df_variables2[\"Pvalor\"]<=0.05]\n",
    "Significativas=Significativas.sort_values(\"Puntaje\",ascending=True)\n",
    "fig, ax = plt.subplots(figsize =(10, 8))\n",
    "name=Significativas.Variables\n",
    "importancia=Significativas.Puntaje\n",
    "ax.barh(name,importancia,color=\"green\");"
   ]
  },
  {
   "cell_type": "code",
   "execution_count": null,
   "id": "84ab76f1-c828-4572-81e7-6bfe3be6d062",
   "metadata": {},
   "outputs": [],
   "source": []
  }
 ],
 "metadata": {
  "kernelspec": {
   "display_name": "Python 3 (ipykernel)",
   "language": "python",
   "name": "python3"
  },
  "language_info": {
   "codemirror_mode": {
    "name": "ipython",
    "version": 3
   },
   "file_extension": ".py",
   "mimetype": "text/x-python",
   "name": "python",
   "nbconvert_exporter": "python",
   "pygments_lexer": "ipython3",
   "version": "3.10.13"
  }
 },
 "nbformat": 4,
 "nbformat_minor": 5
}
