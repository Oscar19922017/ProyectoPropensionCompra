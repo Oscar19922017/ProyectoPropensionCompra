{
 "cells": [
  {
   "cell_type": "markdown",
   "id": "2b693fd5-6adc-44c2-be0d-3a26d4a4dbb1",
   "metadata": {},
   "source": [
    "# **1)Modelaciòn: Clasificaciòn**\n",
    "\n",
    "# **Modelación**\n",
    "\n",
    "Los términos inferencia y predicción describen tareas en las que aprendemos de los datos de manera supervisada para encontrar un modelo que describa la relación entre las variables independientes y el resultado. Sin embargo, la inferencia y la predicción divergen cuando se trata del uso del modelo resultante:\n",
    "\n",
    "*  Inferencia: use el modelo para aprender sobre el proceso de generación de datos.\n",
    "* Predicción: utilice el modelo para predecir los resultados de nuevos puntos de datos\n",
    "\n",
    "<img src=\"https://d33wubrfki0l68.cloudfront.net/478f2689f1b9903ce2feed61a1f5e9c9deb2bcc9/55b03/post/commentary/inference-vs-prediction_files/figure-html/unnamed-chunk-1-1.png\" width=500>\n",
    "\n",
    "**Flujos de trabajo para inferencia y predicción**\n",
    "\n",
    "Los flujos de trabajo básicos para la inferencia y la predicción se describen en las siguientes secciones.\n",
    "\n",
    "**Inferencia**\n",
    "* Modelado: Razonar sobre el proceso de generación de datos y elegir el modelo estocástico que mejor se aproxime al proceso de generación de datos.\n",
    "* Validación del modelo: evalúe la validez del modelo estocástico mediante análisis de residuos o pruebas de bondad de ajuste.\n",
    "* Inferencia: utilice el modelo estocástico para comprender el proceso de generación de datos.\n",
    "\n",
    "**Predicción**\n",
    "\n",
    "* Modelado: considere varios modelos diferentes y diferentes configuraciones de parámetros.\n",
    "* Selección de modelo: identifique el modelo con el mayor rendimiento predictivo utilizando conjuntos de validación / prueba; seleccione el modelo con el rendimiento más alto en el equipo de prueba.\n",
    "* Predicción: aplique el modelo seleccionado en datos nuevos con la expectativa de que el modelo seleccionado también se generalice a los datos no vistos."
   ]
  },
  {
   "cell_type": "markdown",
   "id": "8b08e302-cc49-40fa-b6c9-ea088b8db98d",
   "metadata": {},
   "source": [
    "## **Librerias**"
   ]
  },
  {
   "cell_type": "code",
   "execution_count": 75,
   "id": "dc11b495-2e00-400b-b125-31eb29396b58",
   "metadata": {},
   "outputs": [],
   "source": [
    "import pandas as pd\n",
    "import numpy as np\n",
    "import matplotlib.pyplot as plt\n",
    "import seaborn as sns\n",
    "import statsmodels.api as sms\n",
    "from sklearn.linear_model import LogisticRegression\n",
    "from sklearn.model_selection import train_test_split\n",
    "from sklearn.model_selection import  train_test_split\n",
    "from sklearn.metrics import confusion_matrix\n",
    "from sklearn import metrics\n"
   ]
  },
  {
   "cell_type": "markdown",
   "id": "639ea658-8f95-4cc6-a7fd-5a5a95aeadfd",
   "metadata": {},
   "source": [
    "## **Importar Datos**"
   ]
  },
  {
   "cell_type": "code",
   "execution_count": 3,
   "id": "2dde7dfa-6dda-4135-b329-031843b0010f",
   "metadata": {},
   "outputs": [],
   "source": [
    "df=pd.read_csv(\"BaseModelos.csv\",index_col=False)"
   ]
  },
  {
   "cell_type": "code",
   "execution_count": 4,
   "id": "41a72a48-86eb-4c91-9dd0-2c9befb81006",
   "metadata": {},
   "outputs": [
    {
     "data": {
      "text/html": [
       "<div>\n",
       "<style scoped>\n",
       "    .dataframe tbody tr th:only-of-type {\n",
       "        vertical-align: middle;\n",
       "    }\n",
       "\n",
       "    .dataframe tbody tr th {\n",
       "        vertical-align: top;\n",
       "    }\n",
       "\n",
       "    .dataframe thead th {\n",
       "        text-align: right;\n",
       "    }\n",
       "</style>\n",
       "<table border=\"1\" class=\"dataframe\">\n",
       "  <thead>\n",
       "    <tr style=\"text-align: right;\">\n",
       "      <th></th>\n",
       "      <th>Gasto_Vida</th>\n",
       "      <th>Gasto_Vehiculos</th>\n",
       "      <th>Gasto_Otros</th>\n",
       "      <th>Tipo_Familia</th>\n",
       "      <th>Tipo_Pareja</th>\n",
       "      <th>Tipo_Soltero</th>\n",
       "      <th>Educacion_Superior</th>\n",
       "      <th>Educacion_Media</th>\n",
       "      <th>Educacion_Baja</th>\n",
       "      <th>Poblacion_Empresario</th>\n",
       "      <th>...</th>\n",
       "      <th>Mes Alta_Octubre</th>\n",
       "      <th>Mes Alta_Septiembre</th>\n",
       "      <th>Dia Semana_Jueves</th>\n",
       "      <th>Dia Semana_Lunes</th>\n",
       "      <th>Dia Semana_Martes</th>\n",
       "      <th>Dia Semana_Miércoles</th>\n",
       "      <th>Dia Semana_Sábado</th>\n",
       "      <th>Dia Semana_Viernes</th>\n",
       "      <th>CompraSeguro</th>\n",
       "      <th>Tipo Archivo</th>\n",
       "    </tr>\n",
       "  </thead>\n",
       "  <tbody>\n",
       "    <tr>\n",
       "      <th>0</th>\n",
       "      <td>0.00</td>\n",
       "      <td>617.55</td>\n",
       "      <td>0.00</td>\n",
       "      <td>75.10</td>\n",
       "      <td>18.27</td>\n",
       "      <td>6.63</td>\n",
       "      <td>2.75</td>\n",
       "      <td>39.20</td>\n",
       "      <td>58.05</td>\n",
       "      <td>23.70</td>\n",
       "      <td>...</td>\n",
       "      <td>0</td>\n",
       "      <td>0</td>\n",
       "      <td>0</td>\n",
       "      <td>1</td>\n",
       "      <td>0</td>\n",
       "      <td>0</td>\n",
       "      <td>0</td>\n",
       "      <td>0</td>\n",
       "      <td>0.0</td>\n",
       "      <td>Entrenamiento</td>\n",
       "    </tr>\n",
       "    <tr>\n",
       "      <th>1</th>\n",
       "      <td>973.61</td>\n",
       "      <td>0.00</td>\n",
       "      <td>386.87</td>\n",
       "      <td>62.29</td>\n",
       "      <td>32.55</td>\n",
       "      <td>5.17</td>\n",
       "      <td>40.84</td>\n",
       "      <td>41.12</td>\n",
       "      <td>18.04</td>\n",
       "      <td>37.53</td>\n",
       "      <td>...</td>\n",
       "      <td>0</td>\n",
       "      <td>0</td>\n",
       "      <td>0</td>\n",
       "      <td>0</td>\n",
       "      <td>0</td>\n",
       "      <td>0</td>\n",
       "      <td>1</td>\n",
       "      <td>0</td>\n",
       "      <td>0.0</td>\n",
       "      <td>Entrenamiento</td>\n",
       "    </tr>\n",
       "    <tr>\n",
       "      <th>2</th>\n",
       "      <td>0.00</td>\n",
       "      <td>3572.01</td>\n",
       "      <td>273.15</td>\n",
       "      <td>46.41</td>\n",
       "      <td>30.94</td>\n",
       "      <td>22.65</td>\n",
       "      <td>7.63</td>\n",
       "      <td>28.36</td>\n",
       "      <td>64.01</td>\n",
       "      <td>5.50</td>\n",
       "      <td>...</td>\n",
       "      <td>0</td>\n",
       "      <td>0</td>\n",
       "      <td>0</td>\n",
       "      <td>0</td>\n",
       "      <td>0</td>\n",
       "      <td>1</td>\n",
       "      <td>0</td>\n",
       "      <td>0</td>\n",
       "      <td>0.0</td>\n",
       "      <td>Entrenamiento</td>\n",
       "    </tr>\n",
       "    <tr>\n",
       "      <th>3</th>\n",
       "      <td>87.91</td>\n",
       "      <td>4558.71</td>\n",
       "      <td>521.66</td>\n",
       "      <td>87.86</td>\n",
       "      <td>12.14</td>\n",
       "      <td>0.00</td>\n",
       "      <td>21.17</td>\n",
       "      <td>56.95</td>\n",
       "      <td>21.87</td>\n",
       "      <td>19.05</td>\n",
       "      <td>...</td>\n",
       "      <td>0</td>\n",
       "      <td>0</td>\n",
       "      <td>0</td>\n",
       "      <td>0</td>\n",
       "      <td>0</td>\n",
       "      <td>0</td>\n",
       "      <td>0</td>\n",
       "      <td>1</td>\n",
       "      <td>0.0</td>\n",
       "      <td>Entrenamiento</td>\n",
       "    </tr>\n",
       "    <tr>\n",
       "      <th>4</th>\n",
       "      <td>0.00</td>\n",
       "      <td>4289.61</td>\n",
       "      <td>0.00</td>\n",
       "      <td>37.63</td>\n",
       "      <td>29.59</td>\n",
       "      <td>32.77</td>\n",
       "      <td>26.98</td>\n",
       "      <td>52.61</td>\n",
       "      <td>20.40</td>\n",
       "      <td>32.17</td>\n",
       "      <td>...</td>\n",
       "      <td>0</td>\n",
       "      <td>0</td>\n",
       "      <td>0</td>\n",
       "      <td>0</td>\n",
       "      <td>0</td>\n",
       "      <td>0</td>\n",
       "      <td>0</td>\n",
       "      <td>0</td>\n",
       "      <td>0.0</td>\n",
       "      <td>Entrenamiento</td>\n",
       "    </tr>\n",
       "  </tbody>\n",
       "</table>\n",
       "<p>5 rows × 64 columns</p>\n",
       "</div>"
      ],
      "text/plain": [
       "   Gasto_Vida  Gasto_Vehiculos  Gasto_Otros  Tipo_Familia  Tipo_Pareja  \\\n",
       "0        0.00           617.55         0.00         75.10        18.27   \n",
       "1      973.61             0.00       386.87         62.29        32.55   \n",
       "2        0.00          3572.01       273.15         46.41        30.94   \n",
       "3       87.91          4558.71       521.66         87.86        12.14   \n",
       "4        0.00          4289.61         0.00         37.63        29.59   \n",
       "\n",
       "   Tipo_Soltero  Educacion_Superior  Educacion_Media  Educacion_Baja  \\\n",
       "0          6.63                2.75            39.20           58.05   \n",
       "1          5.17               40.84            41.12           18.04   \n",
       "2         22.65                7.63            28.36           64.01   \n",
       "3          0.00               21.17            56.95           21.87   \n",
       "4         32.77               26.98            52.61           20.40   \n",
       "\n",
       "   Poblacion_Empresario  ...  Mes Alta_Octubre  Mes Alta_Septiembre  \\\n",
       "0                 23.70  ...                 0                    0   \n",
       "1                 37.53  ...                 0                    0   \n",
       "2                  5.50  ...                 0                    0   \n",
       "3                 19.05  ...                 0                    0   \n",
       "4                 32.17  ...                 0                    0   \n",
       "\n",
       "   Dia Semana_Jueves  Dia Semana_Lunes  Dia Semana_Martes  \\\n",
       "0                  0                 1                  0   \n",
       "1                  0                 0                  0   \n",
       "2                  0                 0                  0   \n",
       "3                  0                 0                  0   \n",
       "4                  0                 0                  0   \n",
       "\n",
       "   Dia Semana_Miércoles  Dia Semana_Sábado  Dia Semana_Viernes  CompraSeguro  \\\n",
       "0                     0                  0                   0           0.0   \n",
       "1                     0                  1                   0           0.0   \n",
       "2                     1                  0                   0           0.0   \n",
       "3                     0                  0                   1           0.0   \n",
       "4                     0                  0                   0           0.0   \n",
       "\n",
       "    Tipo Archivo  \n",
       "0  Entrenamiento  \n",
       "1  Entrenamiento  \n",
       "2  Entrenamiento  \n",
       "3  Entrenamiento  \n",
       "4  Entrenamiento  \n",
       "\n",
       "[5 rows x 64 columns]"
      ]
     },
     "execution_count": 4,
     "metadata": {},
     "output_type": "execute_result"
    }
   ],
   "source": [
    "df.head()"
   ]
  },
  {
   "cell_type": "code",
   "execution_count": 5,
   "id": "e0f6c289-b6fc-4725-8dee-d4decd1c5344",
   "metadata": {},
   "outputs": [
    {
     "data": {
      "text/plain": [
       "(3892, 64)"
      ]
     },
     "execution_count": 5,
     "metadata": {},
     "output_type": "execute_result"
    }
   ],
   "source": [
    "df.shape"
   ]
  },
  {
   "cell_type": "markdown",
   "id": "4412fe21-f0b0-4f0f-8f02-063588fe4447",
   "metadata": {},
   "source": [
    "**Importamos Variables**"
   ]
  },
  {
   "cell_type": "code",
   "execution_count": 6,
   "id": "89acb950-655d-4086-8ba6-75a1979995ee",
   "metadata": {},
   "outputs": [
    {
     "data": {
      "text/plain": [
       "(6, 1)"
      ]
     },
     "execution_count": 6,
     "metadata": {},
     "output_type": "execute_result"
    }
   ],
   "source": [
    "Cat_chi2=pd.read_csv(\"CategoricasChi2.csv\")\n",
    "Cat_chi2.shape"
   ]
  },
  {
   "cell_type": "code",
   "execution_count": 7,
   "id": "9a637227-9f3f-4efd-82fc-81cdc12eb891",
   "metadata": {},
   "outputs": [
    {
     "data": {
      "text/plain": [
       "(17, 1)"
      ]
     },
     "execution_count": 7,
     "metadata": {},
     "output_type": "execute_result"
    }
   ],
   "source": [
    "Cat_Mutual=pd.read_csv(\"CategoricasMutualInfo.csv\")\n",
    "Cat_Mutual.shape"
   ]
  },
  {
   "cell_type": "code",
   "execution_count": 8,
   "id": "1b41e519-9200-43b7-b6aa-f2609fc70fbb",
   "metadata": {},
   "outputs": [
    {
     "data": {
      "text/plain": [
       "(10, 1)"
      ]
     },
     "execution_count": 8,
     "metadata": {},
     "output_type": "execute_result"
    }
   ],
   "source": [
    "Num_corr=pd.read_csv(\"Num_Sig_Correlacion_Parametrica.csv\")\n",
    "Num_corr.shape"
   ]
  },
  {
   "cell_type": "code",
   "execution_count": 9,
   "id": "8003c2df-24c9-44a5-a563-32a8355c8887",
   "metadata": {},
   "outputs": [
    {
     "data": {
      "text/plain": [
       "(10, 2)"
      ]
     },
     "execution_count": 9,
     "metadata": {},
     "output_type": "execute_result"
    }
   ],
   "source": [
    "Num_Mutual=pd.read_csv(\"Num_MutualInfo.csv\")\n",
    "Num_Mutual.shape"
   ]
  },
  {
   "cell_type": "markdown",
   "id": "fbbffe21-73f7-48df-a6f3-f098b265da8c",
   "metadata": {},
   "source": [
    "## **Escenario con Mutual**"
   ]
  },
  {
   "cell_type": "code",
   "execution_count": 10,
   "id": "bc2ff96e-0660-4183-ac76-799b77bb4fa0",
   "metadata": {},
   "outputs": [
    {
     "data": {
      "text/plain": [
       "Entrenamiento    2999\n",
       "Prueba            893\n",
       "Name: Tipo Archivo, dtype: int64"
      ]
     },
     "execution_count": 10,
     "metadata": {},
     "output_type": "execute_result"
    }
   ],
   "source": [
    "df[\"Tipo Archivo\"].value_counts()"
   ]
  },
  {
   "cell_type": "code",
   "execution_count": 11,
   "id": "377e5d55-7a7e-4a1d-8ddd-20dc12be9610",
   "metadata": {},
   "outputs": [],
   "source": [
    "Historia=df[df[\"Tipo Archivo\"]==\"Entrenamiento\"].reset_index(drop=True)"
   ]
  },
  {
   "cell_type": "code",
   "execution_count": 12,
   "id": "9d03dfbc-a480-4473-aa79-921be2a99fbb",
   "metadata": {},
   "outputs": [
    {
     "data": {
      "text/plain": [
       "(2999, 64)"
      ]
     },
     "execution_count": 12,
     "metadata": {},
     "output_type": "execute_result"
    }
   ],
   "source": [
    "Historia.shape"
   ]
  },
  {
   "cell_type": "code",
   "execution_count": 13,
   "id": "57ab2166-18fc-4f58-a3ce-4258de382c60",
   "metadata": {},
   "outputs": [],
   "source": [
    "Variables=Cat_Mutual.Variables.tolist()+Num_Mutual.Variables.tolist()"
   ]
  },
  {
   "cell_type": "code",
   "execution_count": 14,
   "id": "1aa551cb-ab6d-4ca0-a21c-1dc685b41126",
   "metadata": {},
   "outputs": [],
   "source": [
    "X= Historia[Variables]"
   ]
  },
  {
   "cell_type": "code",
   "execution_count": 15,
   "id": "5ae76f06-bf00-4274-9574-b8a142853561",
   "metadata": {},
   "outputs": [
    {
     "data": {
      "text/html": [
       "<div>\n",
       "<style scoped>\n",
       "    .dataframe tbody tr th:only-of-type {\n",
       "        vertical-align: middle;\n",
       "    }\n",
       "\n",
       "    .dataframe tbody tr th {\n",
       "        vertical-align: top;\n",
       "    }\n",
       "\n",
       "    .dataframe thead th {\n",
       "        text-align: right;\n",
       "    }\n",
       "</style>\n",
       "<table border=\"1\" class=\"dataframe\">\n",
       "  <thead>\n",
       "    <tr style=\"text-align: right;\">\n",
       "      <th></th>\n",
       "      <th>Productos_Vehiculos_4</th>\n",
       "      <th>Productos_Otros_2</th>\n",
       "      <th>Mes Alta_Mayo</th>\n",
       "      <th>Productos_Vida_3</th>\n",
       "      <th>Mes Alta_Febrero</th>\n",
       "      <th>Mes Alta_Agosto</th>\n",
       "      <th>Productos_Otros_3</th>\n",
       "      <th>Mes Alta_Julio</th>\n",
       "      <th>Productos_Otros_5</th>\n",
       "      <th>Mes Alta_Septiembre</th>\n",
       "      <th>...</th>\n",
       "      <th>Gasto_Vehiculos</th>\n",
       "      <th>Vivienda_Propiedad</th>\n",
       "      <th>Gasto_Otros</th>\n",
       "      <th>Educacion_Media</th>\n",
       "      <th>Poblacion_Trabajador_Cualificado</th>\n",
       "      <th>Medico_Seguro_Privado</th>\n",
       "      <th>Educacion_Superior</th>\n",
       "      <th>Tipo_Soltero</th>\n",
       "      <th>Poblacion_Empresario</th>\n",
       "      <th>Ingresos_De_20000_Hasta_40000</th>\n",
       "    </tr>\n",
       "  </thead>\n",
       "  <tbody>\n",
       "    <tr>\n",
       "      <th>0</th>\n",
       "      <td>0</td>\n",
       "      <td>0</td>\n",
       "      <td>0</td>\n",
       "      <td>0</td>\n",
       "      <td>0</td>\n",
       "      <td>0</td>\n",
       "      <td>0</td>\n",
       "      <td>0</td>\n",
       "      <td>0</td>\n",
       "      <td>0</td>\n",
       "      <td>...</td>\n",
       "      <td>617.55</td>\n",
       "      <td>71.34</td>\n",
       "      <td>0.00</td>\n",
       "      <td>39.20</td>\n",
       "      <td>21.01</td>\n",
       "      <td>32.77</td>\n",
       "      <td>2.75</td>\n",
       "      <td>6.63</td>\n",
       "      <td>23.70</td>\n",
       "      <td>1.47</td>\n",
       "    </tr>\n",
       "    <tr>\n",
       "      <th>1</th>\n",
       "      <td>0</td>\n",
       "      <td>0</td>\n",
       "      <td>0</td>\n",
       "      <td>0</td>\n",
       "      <td>0</td>\n",
       "      <td>0</td>\n",
       "      <td>0</td>\n",
       "      <td>0</td>\n",
       "      <td>0</td>\n",
       "      <td>0</td>\n",
       "      <td>...</td>\n",
       "      <td>0.00</td>\n",
       "      <td>92.04</td>\n",
       "      <td>386.87</td>\n",
       "      <td>41.12</td>\n",
       "      <td>11.54</td>\n",
       "      <td>43.84</td>\n",
       "      <td>40.84</td>\n",
       "      <td>5.17</td>\n",
       "      <td>37.53</td>\n",
       "      <td>3.38</td>\n",
       "    </tr>\n",
       "    <tr>\n",
       "      <th>2</th>\n",
       "      <td>0</td>\n",
       "      <td>1</td>\n",
       "      <td>0</td>\n",
       "      <td>0</td>\n",
       "      <td>0</td>\n",
       "      <td>0</td>\n",
       "      <td>0</td>\n",
       "      <td>0</td>\n",
       "      <td>0</td>\n",
       "      <td>0</td>\n",
       "      <td>...</td>\n",
       "      <td>3572.01</td>\n",
       "      <td>56.37</td>\n",
       "      <td>273.15</td>\n",
       "      <td>28.36</td>\n",
       "      <td>34.78</td>\n",
       "      <td>17.48</td>\n",
       "      <td>7.63</td>\n",
       "      <td>22.65</td>\n",
       "      <td>5.50</td>\n",
       "      <td>1.72</td>\n",
       "    </tr>\n",
       "    <tr>\n",
       "      <th>3</th>\n",
       "      <td>0</td>\n",
       "      <td>1</td>\n",
       "      <td>0</td>\n",
       "      <td>0</td>\n",
       "      <td>0</td>\n",
       "      <td>0</td>\n",
       "      <td>0</td>\n",
       "      <td>1</td>\n",
       "      <td>0</td>\n",
       "      <td>0</td>\n",
       "      <td>...</td>\n",
       "      <td>4558.71</td>\n",
       "      <td>93.38</td>\n",
       "      <td>521.66</td>\n",
       "      <td>56.95</td>\n",
       "      <td>22.28</td>\n",
       "      <td>44.57</td>\n",
       "      <td>21.17</td>\n",
       "      <td>0.00</td>\n",
       "      <td>19.05</td>\n",
       "      <td>6.39</td>\n",
       "    </tr>\n",
       "    <tr>\n",
       "      <th>4</th>\n",
       "      <td>0</td>\n",
       "      <td>0</td>\n",
       "      <td>0</td>\n",
       "      <td>0</td>\n",
       "      <td>1</td>\n",
       "      <td>0</td>\n",
       "      <td>0</td>\n",
       "      <td>0</td>\n",
       "      <td>0</td>\n",
       "      <td>0</td>\n",
       "      <td>...</td>\n",
       "      <td>4289.61</td>\n",
       "      <td>12.63</td>\n",
       "      <td>0.00</td>\n",
       "      <td>52.61</td>\n",
       "      <td>1.92</td>\n",
       "      <td>45.32</td>\n",
       "      <td>26.98</td>\n",
       "      <td>32.77</td>\n",
       "      <td>32.17</td>\n",
       "      <td>27.01</td>\n",
       "    </tr>\n",
       "    <tr>\n",
       "      <th>...</th>\n",
       "      <td>...</td>\n",
       "      <td>...</td>\n",
       "      <td>...</td>\n",
       "      <td>...</td>\n",
       "      <td>...</td>\n",
       "      <td>...</td>\n",
       "      <td>...</td>\n",
       "      <td>...</td>\n",
       "      <td>...</td>\n",
       "      <td>...</td>\n",
       "      <td>...</td>\n",
       "      <td>...</td>\n",
       "      <td>...</td>\n",
       "      <td>...</td>\n",
       "      <td>...</td>\n",
       "      <td>...</td>\n",
       "      <td>...</td>\n",
       "      <td>...</td>\n",
       "      <td>...</td>\n",
       "      <td>...</td>\n",
       "      <td>...</td>\n",
       "    </tr>\n",
       "    <tr>\n",
       "      <th>2994</th>\n",
       "      <td>0</td>\n",
       "      <td>1</td>\n",
       "      <td>0</td>\n",
       "      <td>0</td>\n",
       "      <td>0</td>\n",
       "      <td>1</td>\n",
       "      <td>0</td>\n",
       "      <td>0</td>\n",
       "      <td>0</td>\n",
       "      <td>0</td>\n",
       "      <td>...</td>\n",
       "      <td>6712.11</td>\n",
       "      <td>100.00</td>\n",
       "      <td>82.93</td>\n",
       "      <td>29.06</td>\n",
       "      <td>0.00</td>\n",
       "      <td>82.97</td>\n",
       "      <td>50.95</td>\n",
       "      <td>0.00</td>\n",
       "      <td>46.69</td>\n",
       "      <td>41.62</td>\n",
       "    </tr>\n",
       "    <tr>\n",
       "      <th>2995</th>\n",
       "      <td>0</td>\n",
       "      <td>0</td>\n",
       "      <td>0</td>\n",
       "      <td>0</td>\n",
       "      <td>0</td>\n",
       "      <td>0</td>\n",
       "      <td>0</td>\n",
       "      <td>0</td>\n",
       "      <td>0</td>\n",
       "      <td>0</td>\n",
       "      <td>...</td>\n",
       "      <td>1653.89</td>\n",
       "      <td>17.29</td>\n",
       "      <td>36.73</td>\n",
       "      <td>46.03</td>\n",
       "      <td>19.46</td>\n",
       "      <td>17.86</td>\n",
       "      <td>3.21</td>\n",
       "      <td>63.35</td>\n",
       "      <td>17.76</td>\n",
       "      <td>8.90</td>\n",
       "    </tr>\n",
       "    <tr>\n",
       "      <th>2996</th>\n",
       "      <td>0</td>\n",
       "      <td>0</td>\n",
       "      <td>0</td>\n",
       "      <td>0</td>\n",
       "      <td>0</td>\n",
       "      <td>0</td>\n",
       "      <td>0</td>\n",
       "      <td>0</td>\n",
       "      <td>0</td>\n",
       "      <td>0</td>\n",
       "      <td>...</td>\n",
       "      <td>3704.71</td>\n",
       "      <td>15.04</td>\n",
       "      <td>89.90</td>\n",
       "      <td>48.54</td>\n",
       "      <td>79.77</td>\n",
       "      <td>19.68</td>\n",
       "      <td>0.00</td>\n",
       "      <td>0.00</td>\n",
       "      <td>20.23</td>\n",
       "      <td>15.09</td>\n",
       "    </tr>\n",
       "    <tr>\n",
       "      <th>2997</th>\n",
       "      <td>0</td>\n",
       "      <td>1</td>\n",
       "      <td>0</td>\n",
       "      <td>0</td>\n",
       "      <td>0</td>\n",
       "      <td>0</td>\n",
       "      <td>0</td>\n",
       "      <td>0</td>\n",
       "      <td>0</td>\n",
       "      <td>0</td>\n",
       "      <td>...</td>\n",
       "      <td>0.00</td>\n",
       "      <td>0.00</td>\n",
       "      <td>242.76</td>\n",
       "      <td>0.00</td>\n",
       "      <td>0.00</td>\n",
       "      <td>45.57</td>\n",
       "      <td>0.00</td>\n",
       "      <td>100.00</td>\n",
       "      <td>0.00</td>\n",
       "      <td>0.00</td>\n",
       "    </tr>\n",
       "    <tr>\n",
       "      <th>2998</th>\n",
       "      <td>0</td>\n",
       "      <td>1</td>\n",
       "      <td>0</td>\n",
       "      <td>0</td>\n",
       "      <td>0</td>\n",
       "      <td>0</td>\n",
       "      <td>0</td>\n",
       "      <td>0</td>\n",
       "      <td>0</td>\n",
       "      <td>0</td>\n",
       "      <td>...</td>\n",
       "      <td>630.98</td>\n",
       "      <td>92.91</td>\n",
       "      <td>134.85</td>\n",
       "      <td>29.08</td>\n",
       "      <td>19.25</td>\n",
       "      <td>58.08</td>\n",
       "      <td>0.00</td>\n",
       "      <td>22.45</td>\n",
       "      <td>32.54</td>\n",
       "      <td>0.00</td>\n",
       "    </tr>\n",
       "  </tbody>\n",
       "</table>\n",
       "<p>2999 rows × 27 columns</p>\n",
       "</div>"
      ],
      "text/plain": [
       "      Productos_Vehiculos_4  Productos_Otros_2  Mes Alta_Mayo  \\\n",
       "0                         0                  0              0   \n",
       "1                         0                  0              0   \n",
       "2                         0                  1              0   \n",
       "3                         0                  1              0   \n",
       "4                         0                  0              0   \n",
       "...                     ...                ...            ...   \n",
       "2994                      0                  1              0   \n",
       "2995                      0                  0              0   \n",
       "2996                      0                  0              0   \n",
       "2997                      0                  1              0   \n",
       "2998                      0                  1              0   \n",
       "\n",
       "      Productos_Vida_3  Mes Alta_Febrero  Mes Alta_Agosto  Productos_Otros_3  \\\n",
       "0                    0                 0                0                  0   \n",
       "1                    0                 0                0                  0   \n",
       "2                    0                 0                0                  0   \n",
       "3                    0                 0                0                  0   \n",
       "4                    0                 1                0                  0   \n",
       "...                ...               ...              ...                ...   \n",
       "2994                 0                 0                1                  0   \n",
       "2995                 0                 0                0                  0   \n",
       "2996                 0                 0                0                  0   \n",
       "2997                 0                 0                0                  0   \n",
       "2998                 0                 0                0                  0   \n",
       "\n",
       "      Mes Alta_Julio  Productos_Otros_5  Mes Alta_Septiembre  ...  \\\n",
       "0                  0                  0                    0  ...   \n",
       "1                  0                  0                    0  ...   \n",
       "2                  0                  0                    0  ...   \n",
       "3                  1                  0                    0  ...   \n",
       "4                  0                  0                    0  ...   \n",
       "...              ...                ...                  ...  ...   \n",
       "2994               0                  0                    0  ...   \n",
       "2995               0                  0                    0  ...   \n",
       "2996               0                  0                    0  ...   \n",
       "2997               0                  0                    0  ...   \n",
       "2998               0                  0                    0  ...   \n",
       "\n",
       "      Gasto_Vehiculos  Vivienda_Propiedad  Gasto_Otros  Educacion_Media  \\\n",
       "0              617.55               71.34         0.00            39.20   \n",
       "1                0.00               92.04       386.87            41.12   \n",
       "2             3572.01               56.37       273.15            28.36   \n",
       "3             4558.71               93.38       521.66            56.95   \n",
       "4             4289.61               12.63         0.00            52.61   \n",
       "...               ...                 ...          ...              ...   \n",
       "2994          6712.11              100.00        82.93            29.06   \n",
       "2995          1653.89               17.29        36.73            46.03   \n",
       "2996          3704.71               15.04        89.90            48.54   \n",
       "2997             0.00                0.00       242.76             0.00   \n",
       "2998           630.98               92.91       134.85            29.08   \n",
       "\n",
       "      Poblacion_Trabajador_Cualificado  Medico_Seguro_Privado  \\\n",
       "0                                21.01                  32.77   \n",
       "1                                11.54                  43.84   \n",
       "2                                34.78                  17.48   \n",
       "3                                22.28                  44.57   \n",
       "4                                 1.92                  45.32   \n",
       "...                                ...                    ...   \n",
       "2994                              0.00                  82.97   \n",
       "2995                             19.46                  17.86   \n",
       "2996                             79.77                  19.68   \n",
       "2997                              0.00                  45.57   \n",
       "2998                             19.25                  58.08   \n",
       "\n",
       "      Educacion_Superior  Tipo_Soltero  Poblacion_Empresario  \\\n",
       "0                   2.75          6.63                 23.70   \n",
       "1                  40.84          5.17                 37.53   \n",
       "2                   7.63         22.65                  5.50   \n",
       "3                  21.17          0.00                 19.05   \n",
       "4                  26.98         32.77                 32.17   \n",
       "...                  ...           ...                   ...   \n",
       "2994               50.95          0.00                 46.69   \n",
       "2995                3.21         63.35                 17.76   \n",
       "2996                0.00          0.00                 20.23   \n",
       "2997                0.00        100.00                  0.00   \n",
       "2998                0.00         22.45                 32.54   \n",
       "\n",
       "      Ingresos_De_20000_Hasta_40000  \n",
       "0                              1.47  \n",
       "1                              3.38  \n",
       "2                              1.72  \n",
       "3                              6.39  \n",
       "4                             27.01  \n",
       "...                             ...  \n",
       "2994                          41.62  \n",
       "2995                           8.90  \n",
       "2996                          15.09  \n",
       "2997                           0.00  \n",
       "2998                           0.00  \n",
       "\n",
       "[2999 rows x 27 columns]"
      ]
     },
     "execution_count": 15,
     "metadata": {},
     "output_type": "execute_result"
    }
   ],
   "source": [
    "X"
   ]
  },
  {
   "cell_type": "code",
   "execution_count": 16,
   "id": "30813f56-6d42-4750-9fcf-78fd440eab13",
   "metadata": {},
   "outputs": [],
   "source": [
    "y=Historia[\"CompraSeguro\"]"
   ]
  },
  {
   "cell_type": "code",
   "execution_count": 17,
   "id": "d5b1f589-6dbd-4d71-af76-0c3a75510931",
   "metadata": {},
   "outputs": [
    {
     "data": {
      "text/plain": [
       "0.0    2830\n",
       "1.0     169\n",
       "Name: CompraSeguro, dtype: int64"
      ]
     },
     "execution_count": 17,
     "metadata": {},
     "output_type": "execute_result"
    }
   ],
   "source": [
    "y.value_counts()"
   ]
  },
  {
   "cell_type": "code",
   "execution_count": 18,
   "id": "02079999-bee7-45c2-b4c8-7130af80b76d",
   "metadata": {},
   "outputs": [
    {
     "data": {
      "text/plain": [
       "0.0    0.943648\n",
       "1.0    0.056352\n",
       "Name: CompraSeguro, dtype: float64"
      ]
     },
     "execution_count": 18,
     "metadata": {},
     "output_type": "execute_result"
    }
   ],
   "source": [
    "y.value_counts(normalize=True)"
   ]
  },
  {
   "cell_type": "code",
   "execution_count": 19,
   "id": "c0630b89-cde5-4806-b349-879462b3bcab",
   "metadata": {},
   "outputs": [
    {
     "data": {
      "image/png": "[encoded data removed]",
      "text/plain": [
       "<Figure size 432x288 with 1 Axes>"
      ]
     },
     "metadata": {},
     "output_type": "display_data"
    }
   ],
   "source": [
    "y.value_counts().plot(kind=\"pie\", autopct=\"%.2f\");"
   ]
  },
  {
   "cell_type": "code",
   "execution_count": 20,
   "id": "f87ae09d-1d16-4611-86e2-a51a90a95b78",
   "metadata": {},
   "outputs": [
    {
     "data": {
      "image/png": "[encoded data removed]",
      "text/plain": [
       "<Figure size 432x288 with 1 Axes>"
      ]
     },
     "metadata": {
      "needs_background": "light"
     },
     "output_type": "display_data"
    }
   ],
   "source": [
    "counts = y.value_counts()\n",
    "x = counts.index\n",
    "y_values = counts.values\n",
    "\n",
    "# Crear el gráfico de barras\n",
    "plt.bar(x, y_values)\n",
    "\n",
    "# Personalizar el gráfico\n",
    "plt.xlabel('Categorías')\n",
    "plt.ylabel('Frecuencia')\n",
    "plt.title('Gráfico de barras')\n",
    "\n",
    "# Mostrar el gráfico\n",
    "plt.show()"
   ]
  },
  {
   "cell_type": "markdown",
   "id": "e7dc117e-c1d3-48a2-b6ae-dbe64584a271",
   "metadata": {},
   "source": [
    "## **Divisiòn Train y Test**\n",
    "Evaluar la capacidad predictiva de un modelo consiste en comprobar aproxima sus predicciones a los verdaderos valores de la variable respuesta. Para poder cuantificarlo de forma correcta, se necesita disponer de un conjunto de observaciones, de las que se conozca la variable respuesta, pero que el modelo no haya \"visto\", es decir, que no hayan participado en su ajuste. Con esta finalidad, se dividen los datos disponibles en un conjunto de entrenamiento y un conjunto de test."
   ]
  },
  {
   "cell_type": "code",
   "execution_count": 21,
   "id": "b98b3dc8-60fe-432d-974d-d10d1863c4f3",
   "metadata": {},
   "outputs": [],
   "source": [
    "x_train, x_test, y_train, y_test = train_test_split(X, y, test_size=0.3, random_state=123,stratify=y)"
   ]
  },
  {
   "cell_type": "code",
   "execution_count": 22,
   "id": "f3379c49-0631-452a-a4d5-f3a4c25c2d54",
   "metadata": {},
   "outputs": [
    {
     "data": {
      "text/plain": [
       "0.0    0.943783\n",
       "1.0    0.056217\n",
       "Name: CompraSeguro, dtype: float64"
      ]
     },
     "execution_count": 22,
     "metadata": {},
     "output_type": "execute_result"
    }
   ],
   "source": [
    "y_train.value_counts(normalize=True)"
   ]
  },
  {
   "cell_type": "code",
   "execution_count": 23,
   "id": "8ad37c8a-196e-4ebd-b9b3-703472343499",
   "metadata": {},
   "outputs": [
    {
     "data": {
      "text/plain": [
       "0.0    0.943333\n",
       "1.0    0.056667\n",
       "Name: CompraSeguro, dtype: float64"
      ]
     },
     "execution_count": 23,
     "metadata": {},
     "output_type": "execute_result"
    }
   ],
   "source": [
    "y_test.value_counts(normalize=True)"
   ]
  },
  {
   "cell_type": "markdown",
   "id": "5c65820c-7313-4608-898c-d045429cfe7f",
   "metadata": {},
   "source": [
    "## **Modelo1**\n",
    "\n",
    "La regresión logística es un método estadístico que trata de modelar la probabilidad de una variable cualitativa binaria (dos posibles valores) en función de una o más variables independientes. La principal aplicación de la regresión logística es la creación de modelos de clasificación binaria.\n",
    "\n",
    "Se llama regresión logística simple cuando solo hay una variable independiente y regresión logística múltiple cuando hay más de una. Dependiendo del contexto, a la variable modelada se le conoce como variable dependiente o variable respuesta, y a las variables independientes como regresores, predictores o features."
   ]
  },
  {
   "cell_type": "markdown",
   "id": "43203b27-412b-4114-aebb-44e25d91d34c",
   "metadata": {},
   "source": [
    "**Enfoque Machine Learning**"
   ]
  },
  {
   "cell_type": "code",
   "execution_count": 24,
   "id": "f7833c41-51bf-4862-9ac1-753a39acea57",
   "metadata": {},
   "outputs": [
    {
     "name": "stderr",
     "output_type": "stream",
     "text": [
      "/Users/osgaspar/opt/anaconda3/envs/Personal/lib/python3.9/site-packages/sklearn/linear_model/_logistic.py:444: ConvergenceWarning: lbfgs failed to converge (status=1):\n",
      "STOP: TOTAL NO. of ITERATIONS REACHED LIMIT.\n",
      "\n",
      "Increase the number of iterations (max_iter) or scale the data as shown in:\n",
      "    https://scikit-learn.org/stable/modules/preprocessing.html\n",
      "Please also refer to the documentation for alternative solver options:\n",
      "    https://scikit-learn.org/stable/modules/linear_model.html#logistic-regression\n",
      "  n_iter_i = _check_optimize_result(\n"
     ]
    },
    {
     "data": {
      "text/html": [
       "<style>#sk-container-id-1 {color: black;background-color: white;}#sk-container-id-1 pre{padding: 0;}#sk-container-id-1 div.sk-toggleable {background-color: white;}#sk-container-id-1 label.sk-toggleable__label {cursor: pointer;display: block;width: 100%;margin-bottom: 0;padding: 0.3em;box-sizing: border-box;text-align: center;}#sk-container-id-1 label.sk-toggleable__label-arrow:before {content: \"▸\";float: left;margin-right: 0.25em;color: #696969;}#sk-container-id-1 label.sk-toggleable__label-arrow:hover:before {color: black;}#sk-container-id-1 div.sk-estimator:hover label.sk-toggleable__label-arrow:before {color: black;}#sk-container-id-1 div.sk-toggleable__content {max-height: 0;max-width: 0;overflow: hidden;text-align: left;background-color: #f0f8ff;}#sk-container-id-1 div.sk-toggleable__content pre {margin: 0.2em;color: black;border-radius: 0.25em;background-color: #f0f8ff;}#sk-container-id-1 input.sk-toggleable__control:checked~div.sk-toggleable__content {max-height: 200px;max-width: 100%;overflow: auto;}#sk-container-id-1 input.sk-toggleable__control:checked~label.sk-toggleable__label-arrow:before {content: \"▾\";}#sk-container-id-1 div.sk-estimator input.sk-toggleable__control:checked~label.sk-toggleable__label {background-color: #d4ebff;}#sk-container-id-1 div.sk-label input.sk-toggleable__control:checked~label.sk-toggleable__label {background-color: #d4ebff;}#sk-container-id-1 input.sk-hidden--visually {border: 0;clip: rect(1px 1px 1px 1px);clip: rect(1px, 1px, 1px, 1px);height: 1px;margin: -1px;overflow: hidden;padding: 0;position: absolute;width: 1px;}#sk-container-id-1 div.sk-estimator {font-family: monospace;background-color: #f0f8ff;border: 1px dotted black;border-radius: 0.25em;box-sizing: border-box;margin-bottom: 0.5em;}#sk-container-id-1 div.sk-estimator:hover {background-color: #d4ebff;}#sk-container-id-1 div.sk-parallel-item::after {content: \"\";width: 100%;border-bottom: 1px solid gray;flex-grow: 1;}#sk-container-id-1 div.sk-label:hover label.sk-toggleable__label {background-color: #d4ebff;}#sk-container-id-1 div.sk-serial::before {content: \"\";position: absolute;border-left: 1px solid gray;box-sizing: border-box;top: 0;bottom: 0;left: 50%;z-index: 0;}#sk-container-id-1 div.sk-serial {display: flex;flex-direction: column;align-items: center;background-color: white;padding-right: 0.2em;padding-left: 0.2em;position: relative;}#sk-container-id-1 div.sk-item {position: relative;z-index: 1;}#sk-container-id-1 div.sk-parallel {display: flex;align-items: stretch;justify-content: center;background-color: white;position: relative;}#sk-container-id-1 div.sk-item::before, #sk-container-id-1 div.sk-parallel-item::before {content: \"\";position: absolute;border-left: 1px solid gray;box-sizing: border-box;top: 0;bottom: 0;left: 50%;z-index: -1;}#sk-container-id-1 div.sk-parallel-item {display: flex;flex-direction: column;z-index: 1;position: relative;background-color: white;}#sk-container-id-1 div.sk-parallel-item:first-child::after {align-self: flex-end;width: 50%;}#sk-container-id-1 div.sk-parallel-item:last-child::after {align-self: flex-start;width: 50%;}#sk-container-id-1 div.sk-parallel-item:only-child::after {width: 0;}#sk-container-id-1 div.sk-dashed-wrapped {border: 1px dashed gray;margin: 0 0.4em 0.5em 0.4em;box-sizing: border-box;padding-bottom: 0.4em;background-color: white;}#sk-container-id-1 div.sk-label label {font-family: monospace;font-weight: bold;display: inline-block;line-height: 1.2em;}#sk-container-id-1 div.sk-label-container {text-align: center;}#sk-container-id-1 div.sk-container {/* jupyter's `normalize.less` sets `[hidden] { display: none; }` but bootstrap.min.css set `[hidden] { display: none !important; }` so we also need the `!important` here to be able to override the default hidden behavior on the sphinx rendered scikit-learn.org. See: https://github.com/scikit-learn/scikit-learn/issues/21755 */display: inline-block !important;position: relative;}#sk-container-id-1 div.sk-text-repr-fallback {display: none;}</style><div id=\"sk-container-id-1\" class=\"sk-top-container\"><div class=\"sk-text-repr-fallback\"><pre>LogisticRegression()</pre><b>In a Jupyter environment, please rerun this cell to show the HTML representation or trust the notebook. <br />On GitHub, the HTML representation is unable to render, please try loading this page with nbviewer.org.</b></div><div class=\"sk-container\" hidden><div class=\"sk-item\"><div class=\"sk-estimator sk-toggleable\"><input class=\"sk-toggleable__control sk-hidden--visually\" id=\"sk-estimator-id-1\" type=\"checkbox\" checked><label for=\"sk-estimator-id-1\" class=\"sk-toggleable__label sk-toggleable__label-arrow\">LogisticRegression</label><div class=\"sk-toggleable__content\"><pre>LogisticRegression()</pre></div></div></div></div></div>"
      ],
      "text/plain": [
       "LogisticRegression()"
      ]
     },
     "execution_count": 24,
     "metadata": {},
     "output_type": "execute_result"
    }
   ],
   "source": [
    "# Crear una instancia del modelo de regresión logística\n",
    "RegresionLogit_sklearn= LogisticRegression()\n",
    "# Entrenar el modelo utilizando los datos de entrenamiento\n",
    "RegresionLogit_sklearn.fit(x_train, y_train) # Entrando"
   ]
  },
  {
   "cell_type": "markdown",
   "id": "45dca503-aa89-4d37-979f-87d95d88ee79",
   "metadata": {},
   "source": [
    "## **Error de Train**"
   ]
  },
  {
   "cell_type": "code",
   "execution_count": 25,
   "id": "2da6496d-1575-44bd-9bc6-71772aacc591",
   "metadata": {},
   "outputs": [
    {
     "data": {
      "text/plain": [
       "0.0    1981\n",
       "1.0     118\n",
       "Name: CompraSeguro, dtype: int64"
      ]
     },
     "execution_count": 25,
     "metadata": {},
     "output_type": "execute_result"
    }
   ],
   "source": [
    "y_train.value_counts()"
   ]
  },
  {
   "cell_type": "code",
   "execution_count": 26,
   "id": "8a2d94fa-bd24-4d47-8a0d-8d5c946c78d7",
   "metadata": {},
   "outputs": [],
   "source": [
    "# Predicciones del Modelo en la base de Train\n",
    "Prediccion_Train=RegresionLogit_sklearn.predict(x_train)"
   ]
  },
  {
   "cell_type": "code",
   "execution_count": 30,
   "id": "e35e84fe-c2ec-4e68-8d6c-b11a6ccf18ed",
   "metadata": {},
   "outputs": [
    {
     "data": {
      "text/plain": [
       "array([0., 0., 0., ..., 0., 0., 0.])"
      ]
     },
     "execution_count": 30,
     "metadata": {},
     "output_type": "execute_result"
    }
   ],
   "source": [
    "Prediccion_Train"
   ]
  },
  {
   "cell_type": "code",
   "execution_count": 29,
   "id": "a298e6c9-5b34-49a8-9194-114c0c8212b3",
   "metadata": {},
   "outputs": [
    {
     "data": {
      "text/plain": [
       "0.0    1981\n",
       "1.0     118\n",
       "Name: CompraSeguro, dtype: int64"
      ]
     },
     "execution_count": 29,
     "metadata": {},
     "output_type": "execute_result"
    }
   ],
   "source": [
    "y_train.value_counts()"
   ]
  },
  {
   "cell_type": "code",
   "execution_count": 32,
   "id": "9ac071ff-e45c-4b27-b509-a94472e3c0d7",
   "metadata": {},
   "outputs": [],
   "source": [
    "matriz= confusion_matrix(y_train,Prediccion_Train)"
   ]
  },
  {
   "cell_type": "code",
   "execution_count": 33,
   "id": "02899735-1873-4939-b94f-6f4dab2d9378",
   "metadata": {},
   "outputs": [
    {
     "data": {
      "text/plain": [
       "array([[1941,   40],\n",
       "       [  94,   24]])"
      ]
     },
     "execution_count": 33,
     "metadata": {},
     "output_type": "execute_result"
    }
   ],
   "source": [
    "matriz"
   ]
  },
  {
   "cell_type": "code",
   "execution_count": 44,
   "id": "2379c698-bf63-4d8f-8a10-40f4c50f924c",
   "metadata": {},
   "outputs": [],
   "source": [
    "td1=pd.DataFrame(Prediccion_Train,columns=[\"Predicciones\"])\n",
    "td2=pd.concat([y_train.reset_index(drop=True),td1],axis=1)"
   ]
  },
  {
   "cell_type": "code",
   "execution_count": 46,
   "id": "26b86239-d192-47ed-b9de-211878aa2cfa",
   "metadata": {},
   "outputs": [],
   "source": [
    "td2.columns=[\"Realidad\",\"Predicion\"]"
   ]
  },
  {
   "cell_type": "code",
   "execution_count": 69,
   "id": "56148339-c39c-4dc8-a5be-0228cdcb8bfb",
   "metadata": {},
   "outputs": [
    {
     "data": {
      "text/html": [
       "<div>\n",
       "<style scoped>\n",
       "    .dataframe tbody tr th:only-of-type {\n",
       "        vertical-align: middle;\n",
       "    }\n",
       "\n",
       "    .dataframe tbody tr th {\n",
       "        vertical-align: top;\n",
       "    }\n",
       "\n",
       "    .dataframe thead th {\n",
       "        text-align: right;\n",
       "    }\n",
       "</style>\n",
       "<table border=\"1\" class=\"dataframe\">\n",
       "  <thead>\n",
       "    <tr style=\"text-align: right;\">\n",
       "      <th>Predicion</th>\n",
       "      <th>0.0</th>\n",
       "      <th>1.0</th>\n",
       "      <th>All</th>\n",
       "    </tr>\n",
       "    <tr>\n",
       "      <th>Realidad</th>\n",
       "      <th></th>\n",
       "      <th></th>\n",
       "      <th></th>\n",
       "    </tr>\n",
       "  </thead>\n",
       "  <tbody>\n",
       "    <tr>\n",
       "      <th>0.0</th>\n",
       "      <td>1941</td>\n",
       "      <td>40</td>\n",
       "      <td>1981</td>\n",
       "    </tr>\n",
       "    <tr>\n",
       "      <th>1.0</th>\n",
       "      <td>94</td>\n",
       "      <td>24</td>\n",
       "      <td>118</td>\n",
       "    </tr>\n",
       "    <tr>\n",
       "      <th>All</th>\n",
       "      <td>2035</td>\n",
       "      <td>64</td>\n",
       "      <td>2099</td>\n",
       "    </tr>\n",
       "  </tbody>\n",
       "</table>\n",
       "</div>"
      ],
      "text/plain": [
       "Predicion   0.0  1.0   All\n",
       "Realidad                  \n",
       "0.0        1941   40  1981\n",
       "1.0          94   24   118\n",
       "All        2035   64  2099"
      ]
     },
     "execution_count": 69,
     "metadata": {},
     "output_type": "execute_result"
    }
   ],
   "source": [
    "Matrix=pd.crosstab(td2[\"Realidad\"],td2[\"Predicion\"],margins=True)\n",
    "Matrix"
   ]
  },
  {
   "cell_type": "code",
   "execution_count": 70,
   "id": "81f88b85-783f-47b2-88f3-3c7127909d12",
   "metadata": {},
   "outputs": [
    {
     "data": {
      "text/html": [
       "<div>\n",
       "<style scoped>\n",
       "    .dataframe tbody tr th:only-of-type {\n",
       "        vertical-align: middle;\n",
       "    }\n",
       "\n",
       "    .dataframe tbody tr th {\n",
       "        vertical-align: top;\n",
       "    }\n",
       "\n",
       "    .dataframe thead th {\n",
       "        text-align: right;\n",
       "    }\n",
       "</style>\n",
       "<table border=\"1\" class=\"dataframe\">\n",
       "  <thead>\n",
       "    <tr style=\"text-align: right;\">\n",
       "      <th>Predicion</th>\n",
       "      <th>0.0</th>\n",
       "      <th>1.0</th>\n",
       "    </tr>\n",
       "    <tr>\n",
       "      <th>Realidad</th>\n",
       "      <th></th>\n",
       "      <th></th>\n",
       "    </tr>\n",
       "  </thead>\n",
       "  <tbody>\n",
       "    <tr>\n",
       "      <th>0.0</th>\n",
       "      <td>0.979808</td>\n",
       "      <td>0.020192</td>\n",
       "    </tr>\n",
       "    <tr>\n",
       "      <th>1.0</th>\n",
       "      <td>0.796610</td>\n",
       "      <td>0.203390</td>\n",
       "    </tr>\n",
       "  </tbody>\n",
       "</table>\n",
       "</div>"
      ],
      "text/plain": [
       "Predicion       0.0       1.0\n",
       "Realidad                     \n",
       "0.0        0.979808  0.020192\n",
       "1.0        0.796610  0.203390"
      ]
     },
     "execution_count": 70,
     "metadata": {},
     "output_type": "execute_result"
    }
   ],
   "source": [
    "Matrix_Normalizada=pd.crosstab(td2[\"Realidad\"],td2[\"Predicion\"],normalize=0)\n",
    "Matrix_Normalizada"
   ]
  },
  {
   "cell_type": "markdown",
   "id": "9832e64b-256e-4923-9ca0-00ee73e98def",
   "metadata": {},
   "source": [
    "**Metricas de Error**\n",
    "\n",
    "La precisión (accuracy en inglés) es una métrica comúnmente utilizada para evaluar la calidad de un modelo de aprendizaje automático o clasificación. En términos simples, el accuracy mide la proporción de predicciones correctas que realiza un modelo en relación con el total de predicciones realizadas.\n",
    "\n",
    "El accuracy se calcula dividiendo el número de predicciones correctas por el número total de predicciones. Matemáticamente, se puede expresar de la siguiente manera:\n",
    "\n",
    "Accuracy = (Número de predicciones correctas) / (Número total de predicciones)"
   ]
  },
  {
   "cell_type": "code",
   "execution_count": 73,
   "id": "b4d0aec6-0201-4ef1-8e95-a2c01ebb906a",
   "metadata": {},
   "outputs": [],
   "source": [
    "Accuracy= (1941+24)/2099"
   ]
  },
  {
   "cell_type": "code",
   "execution_count": 74,
   "id": "16c908fe-03ab-4d67-a4ec-2bb051bd8d79",
   "metadata": {},
   "outputs": [
    {
     "data": {
      "text/plain": [
       "0.9361600762267747"
      ]
     },
     "execution_count": 74,
     "metadata": {},
     "output_type": "execute_result"
    }
   ],
   "source": [
    "Accuracy"
   ]
  },
  {
   "cell_type": "code",
   "execution_count": 76,
   "id": "5784c60f-5915-4235-9410-c46ba1aaff2d",
   "metadata": {},
   "outputs": [],
   "source": [
    "Accuracy_Train_RL=metrics.accuracy_score(y_train,Prediccion_Train)"
   ]
  },
  {
   "cell_type": "code",
   "execution_count": 77,
   "id": "4245a02d-49f1-4c2c-8c93-7fadb2e5b89f",
   "metadata": {},
   "outputs": [
    {
     "data": {
      "text/plain": [
       "0.9361600762267747"
      ]
     },
     "execution_count": 77,
     "metadata": {},
     "output_type": "execute_result"
    }
   ],
   "source": [
    "Accuracy_Train_RL"
   ]
  },
  {
   "cell_type": "markdown",
   "id": "59f421fc-c9b7-44f2-98d8-cfe41ae0ab3f",
   "metadata": {},
   "source": [
    "**Nota**\n",
    "\n",
    "Esta métrica es especialmente útil cuando las clases están balanceadas, es decir, cuando el número de muestras en cada clase es similar. Sin embargo, puede ser engañosa en casos de desequilibrio de clases, donde una clase tiene muchas más muestras que otra. En estos casos, un modelo que simplemente prediga siempre la clase mayoritaria puede obtener un alto accuracy, pero puede ser ineficaz en la detección de la clase minoritaria.\n"
   ]
  },
  {
   "cell_type": "code",
   "execution_count": 78,
   "id": "fdef4cad-ff83-42fe-ae58-cc14f49a2db4",
   "metadata": {},
   "outputs": [],
   "source": [
    "Reporte_Train_RL=metrics.classification_report(y_train,Prediccion_Train)"
   ]
  },
  {
   "cell_type": "code",
   "execution_count": 80,
   "id": "8fba5c50-1a80-4aa1-8f17-9f8133a2979a",
   "metadata": {},
   "outputs": [
    {
     "name": "stdout",
     "output_type": "stream",
     "text": [
      "              precision    recall  f1-score   support\n",
      "\n",
      "         0.0       0.95      0.98      0.97      1981\n",
      "         1.0       0.38      0.20      0.26       118\n",
      "\n",
      "    accuracy                           0.94      2099\n",
      "   macro avg       0.66      0.59      0.62      2099\n",
      "weighted avg       0.92      0.94      0.93      2099\n",
      "\n"
     ]
    }
   ],
   "source": [
    "print(Reporte_Train_RL)"
   ]
  },
  {
   "cell_type": "markdown",
   "id": "092874e8-3c23-415f-a142-3240b5382968",
   "metadata": {},
   "source": [
    "Precision (Precisión): La precisión se refiere a la proporción de predicciones positivas correctas sobre el total de predicciones positivas realizadas por el modelo. Es una medida de cuán precisas son las predicciones positivas. Se calcula de la siguiente manera:\n",
    "\n",
    "* Precision = Verdaderos positivos / (Verdaderos positivos + Falsos positivos)"
   ]
  },
  {
   "cell_type": "code",
   "execution_count": 81,
   "id": "1b5de9b6-2369-49b8-9d7f-b7c5c81c5954",
   "metadata": {},
   "outputs": [
    {
     "data": {
      "text/html": [
       "<div>\n",
       "<style scoped>\n",
       "    .dataframe tbody tr th:only-of-type {\n",
       "        vertical-align: middle;\n",
       "    }\n",
       "\n",
       "    .dataframe tbody tr th {\n",
       "        vertical-align: top;\n",
       "    }\n",
       "\n",
       "    .dataframe thead th {\n",
       "        text-align: right;\n",
       "    }\n",
       "</style>\n",
       "<table border=\"1\" class=\"dataframe\">\n",
       "  <thead>\n",
       "    <tr style=\"text-align: right;\">\n",
       "      <th>Predicion</th>\n",
       "      <th>0.0</th>\n",
       "      <th>1.0</th>\n",
       "      <th>All</th>\n",
       "    </tr>\n",
       "    <tr>\n",
       "      <th>Realidad</th>\n",
       "      <th></th>\n",
       "      <th></th>\n",
       "      <th></th>\n",
       "    </tr>\n",
       "  </thead>\n",
       "  <tbody>\n",
       "    <tr>\n",
       "      <th>0.0</th>\n",
       "      <td>1941</td>\n",
       "      <td>40</td>\n",
       "      <td>1981</td>\n",
       "    </tr>\n",
       "    <tr>\n",
       "      <th>1.0</th>\n",
       "      <td>94</td>\n",
       "      <td>24</td>\n",
       "      <td>118</td>\n",
       "    </tr>\n",
       "    <tr>\n",
       "      <th>All</th>\n",
       "      <td>2035</td>\n",
       "      <td>64</td>\n",
       "      <td>2099</td>\n",
       "    </tr>\n",
       "  </tbody>\n",
       "</table>\n",
       "</div>"
      ],
      "text/plain": [
       "Predicion   0.0  1.0   All\n",
       "Realidad                  \n",
       "0.0        1941   40  1981\n",
       "1.0          94   24   118\n",
       "All        2035   64  2099"
      ]
     },
     "execution_count": 81,
     "metadata": {},
     "output_type": "execute_result"
    }
   ],
   "source": [
    "Matrix"
   ]
  },
  {
   "cell_type": "markdown",
   "id": "f29da726-6386-4fa3-a218-4f8c1b53acbc",
   "metadata": {},
   "source": [
    "Recall (Recuperación o Sensibilidad): El recall se refiere a la proporción de instancias positivas que el modelo predijo correctamente sobre el total de instancias positivas en los datos reales. Es una medida de la capacidad del modelo para identificar correctamente las instancias positivas. Se calcula de la siguiente manera:\n",
    "\n",
    "Recall = Verdaderos positivos / (Verdaderos positivos + Falsos negativos)"
   ]
  },
  {
   "cell_type": "markdown",
   "id": "e3f5277d-f3ae-490c-bbd8-b832281562ad",
   "metadata": {},
   "source": [
    "**Alta precisión y alto recall**\n",
    "\n",
    "Imaginemos que estás desarrollando un modelo de detección de spam para un cliente que administra un servicio de correo electrónico. La clase positiva representa los correos electrónicos legítimos (no spam). En este caso, un modelo con alta precisión y alto recall significa que el modelo es capaz de identificar correctamente la mayoría de los correos electrónicos legítimos y minimiza los falsos positivos, lo que garantiza que los correos electrónicos clasificados como legítimos sean altamente confiables y minimiza la posibilidad de que se clasifiquen como spam."
   ]
  },
  {
   "cell_type": "markdown",
   "id": "9adfb8b6-3f83-4e0a-a43a-9e642d6bbffe",
   "metadata": {},
   "source": [
    "**Alta precisión y bajo recall**\n",
    "\n",
    "Supongamos que estás construyendo un modelo de diagnóstico médico para detectar una enfermedad rara. La clase positiva representa los casos reales de la enfermedad. En este caso, un modelo con alta precisión y bajo recall implica que el modelo  logra detectar casi todos los casos positivos de la enfermedad, pero cuando hace una predicción positiva, No es confiable."
   ]
  },
  {
   "cell_type": "markdown",
   "id": "56f6c87f-b37d-4360-817c-e6adb2755774",
   "metadata": {},
   "source": [
    "**Baja precisión y bajo recall**\n",
    "\n",
    "Supongamos que estás desarrollando un modelo para identificar perros en imágenes. La clase positiva representa las imágenes de perros. En este caso, un modelo con baja precisión y bajo recall indica que el modelo no logra clasificar correctamente la mayoría de las imágenes de perros. Es posible que el modelo no esté capturando los patrones relevantes para distinguir los perros de otras clases y, por lo tanto, su rendimiento general es deficiente, con una alta tasa de falsos negativos (imágenes de perros clasificadas incorrectamente como no perros) y falsos positivos (imágenes no perro clasificadas incorrectamente como perros).\n",
    "\n",
    "**Baja Precisión y Alto Recall**\n",
    "Supongamos que estás construyendo un modelo de diagnóstico médico para detectar una enfermedad rara. La clase positiva representa los casos reales de la enfermedad. En este caso, un modelo con alta precisión y bajo recall implica que el modelo no logra detectar todos los casos positivos de la enfermedad, pero cuando hace una predicción positiva, es altamente confiable. Por lo tanto, aunque el modelo pueda perder algunos casos positivos, las predicciones positivas que realiza se pueden considerar bastante precisas y dignas de confianza."
   ]
  },
  {
   "cell_type": "markdown",
   "id": "65e804cf-6292-46d3-b67e-3de4fbcef89e",
   "metadata": {},
   "source": []
  }
 ],
 "metadata": {
  "kernelspec": {
   "display_name": "Python 3 (ipykernel)",
   "language": "python",
   "name": "python3"
  },
  "language_info": {
   "codemirror_mode": {
    "name": "ipython",
    "version": 3
   },
   "file_extension": ".py",
   "mimetype": "text/x-python",
   "name": "python",
   "nbconvert_exporter": "python",
   "pygments_lexer": "ipython3",
   "version": "3.9.16"
  }
 },
 "nbformat": 4,
 "nbformat_minor": 5
}
