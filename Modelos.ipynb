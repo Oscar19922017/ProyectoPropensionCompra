{
 "cells": [
  {
   "cell_type": "markdown",
   "id": "2b693fd5-6adc-44c2-be0d-3a26d4a4dbb1",
   "metadata": {},
   "source": [
    "# **1)Modelaciòn: Clasificaciòn**\n",
    "\n",
    "# **Modelación**\n",
    "\n",
    "Los términos inferencia y predicción describen tareas en las que aprendemos de los datos de manera supervisada para encontrar un modelo que describa la relación entre las variables independientes y el resultado. Sin embargo, la inferencia y la predicción divergen cuando se trata del uso del modelo resultante:\n",
    "\n",
    "*  Inferencia: use el modelo para aprender sobre el proceso de generación de datos.\n",
    "* Predicción: utilice el modelo para predecir los resultados de nuevos puntos de datos\n",
    "\n",
    "<img src=\"https://d33wubrfki0l68.cloudfront.net/478f2689f1b9903ce2feed61a1f5e9c9deb2bcc9/55b03/post/commentary/inference-vs-prediction_files/figure-html/unnamed-chunk-1-1.png\" width=500>\n",
    "\n",
    "**Flujos de trabajo para inferencia y predicción**\n",
    "\n",
    "Los flujos de trabajo básicos para la inferencia y la predicción se describen en las siguientes secciones.\n",
    "\n",
    "**Inferencia**\n",
    "* Modelado: Razonar sobre el proceso de generación de datos y elegir el modelo estocástico que mejor se aproxime al proceso de generación de datos.\n",
    "* Validación del modelo: evalúe la validez del modelo estocástico mediante análisis de residuos o pruebas de bondad de ajuste.\n",
    "* Inferencia: utilice el modelo estocástico para comprender el proceso de generación de datos.\n",
    "\n",
    "**Predicción**\n",
    "\n",
    "* Modelado: considere varios modelos diferentes y diferentes configuraciones de parámetros.\n",
    "* Selección de modelo: identifique el modelo con el mayor rendimiento predictivo utilizando conjuntos de validación / prueba; seleccione el modelo con el rendimiento más alto en el equipo de prueba.\n",
    "* Predicción: aplique el modelo seleccionado en datos nuevos con la expectativa de que el modelo seleccionado también se generalice a los datos no vistos."
   ]
  },
  {
   "cell_type": "markdown",
   "id": "8b08e302-cc49-40fa-b6c9-ea088b8db98d",
   "metadata": {},
   "source": [
    "## **Librerias**"
   ]
  },
  {
   "cell_type": "code",
   "execution_count": 1,
   "id": "dc11b495-2e00-400b-b125-31eb29396b58",
   "metadata": {},
   "outputs": [],
   "source": [
    "import pandas as pd\n",
    "import numpy as np\n",
    "import matplotlib.pyplot as plt\n",
    "import seaborn as sns\n",
    "import statsmodels.api as sms\n",
    "from sklearn.linear_model import LogisticRegression\n",
    "from sklearn.model_selection import train_test_split\n",
    "from sklearn.model_selection import  train_test_split\n",
    "from sklearn.metrics import confusion_matrix\n",
    "from sklearn.metrics import precision_score,recall_score,f1_score,accuracy_score\n",
    "from sklearn import metrics\n",
    "\n",
    "from sklearn.metrics import roc_curve\n",
    "from sklearn.metrics import roc_auc_score\n",
    "import statsmodels.api as sms\n",
    "from statsmodels.stats.outliers_influence import variance_inflation_factor\n",
    "from sklearn.feature_selection import SelectFromModel\n",
    "from sklearn.feature_selection import SequentialFeatureSelector\n",
    "\n",
    "import warnings\n",
    "\n",
    "warnings.filterwarnings(\"ignore\")\n",
    "\n",
    "def MetricasMatrixConfusion(y,modelo,X,tipo=\"ml\"):\n",
    "    \n",
    "    if (tipo==\"ml\"):\n",
    "        Predicciones=modelo.predict(X=X)\n",
    "    else:\n",
    "        Probabilidad=modelo.predict(exog=X)\n",
    "        Predicciones=np.where(Probabilidad <0.5,0,1)\n",
    "    \n",
    "    Accuracy_RF_test=metrics.accuracy_score(y,Predicciones)\n",
    "    print(f'Accuracy: {Accuracy_RF_test}')\n",
    "    Reporte_RF_test=metrics.classification_report(y,Predicciones)\n",
    "    print(Reporte_RF_test)\n",
    "\n",
    "    td1=pd.DataFrame(Predicciones,columns=[\"Predicciones\"])\n",
    "    td2=pd.concat([y.reset_index(drop=True),td1],axis=1)\n",
    "    td2.columns=[\"Realidad\",\"Predicion\"]\n",
    "    Matrix=pd.crosstab(td2[\"Realidad\"],td2[\"Predicion\"],margins=True)\n",
    "    Matrix_Normalizada=pd.crosstab(td2[\"Realidad\"],td2[\"Predicion\"],normalize=0)\n",
    "    \n",
    "    sns.heatmap(Matrix_Normalizada, annot=True,linewidths = 0.01, cmap = \"Blues\")\n",
    "    \n",
    "    plt.show()\n",
    "    print(Matrix)\n",
    "    \n",
    "def curva_roc(y,modelo,X,tipo=\"ml\"):\n",
    "    if (tipo==\"ml\"):\n",
    "        y_pprob = modelo.predict_proba(X)[::,1] ## Sklearn\n",
    "        Probabilidad=modelo.predict_proba(X=X)[:,1]\n",
    "    else:\n",
    "        y_pprob=modelo.predict(exog=X)\n",
    "        Probabilidad=modelo.predict(exog=X)\n",
    "    \n",
    "    false_positive, true_positive, _ = roc_curve(y,  y_pprob)\n",
    "    print('Modelo AUC:',roc_auc_score(y,  y_pprob))\n",
    "    \n",
    "    fpr, tpr, thresholds = roc_curve(y, Probabilidad )\n",
    "    AUC_AD=round(roc_auc_score(y, Probabilidad),4)\n",
    "   \n",
    "    random_probs = [0 for i in range(len(y))]\n",
    "    p_fpr, p_tpr, _ = roc_curve(y, random_probs, pos_label=1)\n",
    "    plt.plot(fpr,tpr,linestyle=\"--\",color=\"green\",label=\"Decision Tree, AUC=\"+str(AUC_AD))\n",
    "    plt.plot(p_fpr, p_tpr, linestyle='--', color='blue')\n",
    "    plt.title(\"CURVA ROC\")\n",
    "    plt.xlabel(\"Tasa Falsos Positivos\")\n",
    "    plt.ylabel(\"Tasa Verdaderos Positivos\")\n",
    "    plt.legend()\n",
    "    plt.show()\n"
   ]
  },
  {
   "cell_type": "markdown",
   "id": "639ea658-8f95-4cc6-a7fd-5a5a95aeadfd",
   "metadata": {},
   "source": [
    "## **Importar Datos**"
   ]
  },
  {
   "cell_type": "code",
   "execution_count": 2,
   "id": "2dde7dfa-6dda-4135-b329-031843b0010f",
   "metadata": {},
   "outputs": [],
   "source": [
    "df=pd.read_csv(\"BaseModelos.csv\",index_col=False)"
   ]
  },
  {
   "cell_type": "code",
   "execution_count": 3,
   "id": "ae960852-2a1e-4375-b3e7-2c01c8c1aa8f",
   "metadata": {},
   "outputs": [],
   "source": [
    "df.rename(columns={\"CompraSeguro\":\"target\"},inplace=True)"
   ]
  },
  {
   "cell_type": "code",
   "execution_count": 4,
   "id": "41a72a48-86eb-4c91-9dd0-2c9befb81006",
   "metadata": {},
   "outputs": [
    {
     "data": {
      "text/html": [
       "<div>\n",
       "<style scoped>\n",
       "    .dataframe tbody tr th:only-of-type {\n",
       "        vertical-align: middle;\n",
       "    }\n",
       "\n",
       "    .dataframe tbody tr th {\n",
       "        vertical-align: top;\n",
       "    }\n",
       "\n",
       "    .dataframe thead th {\n",
       "        text-align: right;\n",
       "    }\n",
       "</style>\n",
       "<table border=\"1\" class=\"dataframe\">\n",
       "  <thead>\n",
       "    <tr style=\"text-align: right;\">\n",
       "      <th></th>\n",
       "      <th>Gasto_Vida</th>\n",
       "      <th>Gasto_Vehiculos</th>\n",
       "      <th>Gasto_Otros</th>\n",
       "      <th>Tipo_Familia</th>\n",
       "      <th>Tipo_Pareja</th>\n",
       "      <th>Tipo_Soltero</th>\n",
       "      <th>Educacion_Superior</th>\n",
       "      <th>Educacion_Media</th>\n",
       "      <th>Educacion_Baja</th>\n",
       "      <th>Poblacion_Empresario</th>\n",
       "      <th>...</th>\n",
       "      <th>Mes Alta_Octubre</th>\n",
       "      <th>Mes Alta_Septiembre</th>\n",
       "      <th>Dia Semana_Jueves</th>\n",
       "      <th>Dia Semana_Lunes</th>\n",
       "      <th>Dia Semana_Martes</th>\n",
       "      <th>Dia Semana_Miércoles</th>\n",
       "      <th>Dia Semana_Sábado</th>\n",
       "      <th>Dia Semana_Viernes</th>\n",
       "      <th>target</th>\n",
       "      <th>Tipo Archivo</th>\n",
       "    </tr>\n",
       "  </thead>\n",
       "  <tbody>\n",
       "    <tr>\n",
       "      <th>0</th>\n",
       "      <td>0.00</td>\n",
       "      <td>617.55</td>\n",
       "      <td>0.00</td>\n",
       "      <td>75.10</td>\n",
       "      <td>18.27</td>\n",
       "      <td>6.63</td>\n",
       "      <td>2.75</td>\n",
       "      <td>39.20</td>\n",
       "      <td>58.05</td>\n",
       "      <td>23.70</td>\n",
       "      <td>...</td>\n",
       "      <td>0</td>\n",
       "      <td>0</td>\n",
       "      <td>0</td>\n",
       "      <td>1</td>\n",
       "      <td>0</td>\n",
       "      <td>0</td>\n",
       "      <td>0</td>\n",
       "      <td>0</td>\n",
       "      <td>0.0</td>\n",
       "      <td>Entrenamiento</td>\n",
       "    </tr>\n",
       "    <tr>\n",
       "      <th>1</th>\n",
       "      <td>973.61</td>\n",
       "      <td>0.00</td>\n",
       "      <td>386.87</td>\n",
       "      <td>62.29</td>\n",
       "      <td>32.55</td>\n",
       "      <td>5.17</td>\n",
       "      <td>40.84</td>\n",
       "      <td>41.12</td>\n",
       "      <td>18.04</td>\n",
       "      <td>37.53</td>\n",
       "      <td>...</td>\n",
       "      <td>0</td>\n",
       "      <td>0</td>\n",
       "      <td>0</td>\n",
       "      <td>0</td>\n",
       "      <td>0</td>\n",
       "      <td>0</td>\n",
       "      <td>1</td>\n",
       "      <td>0</td>\n",
       "      <td>0.0</td>\n",
       "      <td>Entrenamiento</td>\n",
       "    </tr>\n",
       "    <tr>\n",
       "      <th>2</th>\n",
       "      <td>0.00</td>\n",
       "      <td>3572.01</td>\n",
       "      <td>273.15</td>\n",
       "      <td>46.41</td>\n",
       "      <td>30.94</td>\n",
       "      <td>22.65</td>\n",
       "      <td>7.63</td>\n",
       "      <td>28.36</td>\n",
       "      <td>64.01</td>\n",
       "      <td>5.50</td>\n",
       "      <td>...</td>\n",
       "      <td>0</td>\n",
       "      <td>0</td>\n",
       "      <td>0</td>\n",
       "      <td>0</td>\n",
       "      <td>0</td>\n",
       "      <td>1</td>\n",
       "      <td>0</td>\n",
       "      <td>0</td>\n",
       "      <td>0.0</td>\n",
       "      <td>Entrenamiento</td>\n",
       "    </tr>\n",
       "    <tr>\n",
       "      <th>3</th>\n",
       "      <td>87.91</td>\n",
       "      <td>4558.71</td>\n",
       "      <td>521.66</td>\n",
       "      <td>87.86</td>\n",
       "      <td>12.14</td>\n",
       "      <td>0.00</td>\n",
       "      <td>21.17</td>\n",
       "      <td>56.95</td>\n",
       "      <td>21.87</td>\n",
       "      <td>19.05</td>\n",
       "      <td>...</td>\n",
       "      <td>0</td>\n",
       "      <td>0</td>\n",
       "      <td>0</td>\n",
       "      <td>0</td>\n",
       "      <td>0</td>\n",
       "      <td>0</td>\n",
       "      <td>0</td>\n",
       "      <td>1</td>\n",
       "      <td>0.0</td>\n",
       "      <td>Entrenamiento</td>\n",
       "    </tr>\n",
       "    <tr>\n",
       "      <th>4</th>\n",
       "      <td>0.00</td>\n",
       "      <td>4289.61</td>\n",
       "      <td>0.00</td>\n",
       "      <td>37.63</td>\n",
       "      <td>29.59</td>\n",
       "      <td>32.77</td>\n",
       "      <td>26.98</td>\n",
       "      <td>52.61</td>\n",
       "      <td>20.40</td>\n",
       "      <td>32.17</td>\n",
       "      <td>...</td>\n",
       "      <td>0</td>\n",
       "      <td>0</td>\n",
       "      <td>0</td>\n",
       "      <td>0</td>\n",
       "      <td>0</td>\n",
       "      <td>0</td>\n",
       "      <td>0</td>\n",
       "      <td>0</td>\n",
       "      <td>0.0</td>\n",
       "      <td>Entrenamiento</td>\n",
       "    </tr>\n",
       "  </tbody>\n",
       "</table>\n",
       "<p>5 rows × 64 columns</p>\n",
       "</div>"
      ],
      "text/plain": [
       "   Gasto_Vida  Gasto_Vehiculos  Gasto_Otros  Tipo_Familia  Tipo_Pareja  \\\n",
       "0        0.00           617.55         0.00         75.10        18.27   \n",
       "1      973.61             0.00       386.87         62.29        32.55   \n",
       "2        0.00          3572.01       273.15         46.41        30.94   \n",
       "3       87.91          4558.71       521.66         87.86        12.14   \n",
       "4        0.00          4289.61         0.00         37.63        29.59   \n",
       "\n",
       "   Tipo_Soltero  Educacion_Superior  Educacion_Media  Educacion_Baja  \\\n",
       "0          6.63                2.75            39.20           58.05   \n",
       "1          5.17               40.84            41.12           18.04   \n",
       "2         22.65                7.63            28.36           64.01   \n",
       "3          0.00               21.17            56.95           21.87   \n",
       "4         32.77               26.98            52.61           20.40   \n",
       "\n",
       "   Poblacion_Empresario  ...  Mes Alta_Octubre  Mes Alta_Septiembre  \\\n",
       "0                 23.70  ...                 0                    0   \n",
       "1                 37.53  ...                 0                    0   \n",
       "2                  5.50  ...                 0                    0   \n",
       "3                 19.05  ...                 0                    0   \n",
       "4                 32.17  ...                 0                    0   \n",
       "\n",
       "   Dia Semana_Jueves  Dia Semana_Lunes  Dia Semana_Martes  \\\n",
       "0                  0                 1                  0   \n",
       "1                  0                 0                  0   \n",
       "2                  0                 0                  0   \n",
       "3                  0                 0                  0   \n",
       "4                  0                 0                  0   \n",
       "\n",
       "   Dia Semana_Miércoles  Dia Semana_Sábado  Dia Semana_Viernes  target  \\\n",
       "0                     0                  0                   0     0.0   \n",
       "1                     0                  1                   0     0.0   \n",
       "2                     1                  0                   0     0.0   \n",
       "3                     0                  0                   1     0.0   \n",
       "4                     0                  0                   0     0.0   \n",
       "\n",
       "    Tipo Archivo  \n",
       "0  Entrenamiento  \n",
       "1  Entrenamiento  \n",
       "2  Entrenamiento  \n",
       "3  Entrenamiento  \n",
       "4  Entrenamiento  \n",
       "\n",
       "[5 rows x 64 columns]"
      ]
     },
     "execution_count": 4,
     "metadata": {},
     "output_type": "execute_result"
    }
   ],
   "source": [
    "df.head()"
   ]
  },
  {
   "cell_type": "code",
   "execution_count": 5,
   "id": "e0f6c289-b6fc-4725-8dee-d4decd1c5344",
   "metadata": {},
   "outputs": [
    {
     "data": {
      "text/plain": [
       "(3892, 64)"
      ]
     },
     "execution_count": 5,
     "metadata": {},
     "output_type": "execute_result"
    }
   ],
   "source": [
    "df.shape"
   ]
  },
  {
   "cell_type": "markdown",
   "id": "4412fe21-f0b0-4f0f-8f02-063588fe4447",
   "metadata": {},
   "source": [
    "**Importamos Variables**"
   ]
  },
  {
   "cell_type": "code",
   "execution_count": 6,
   "id": "89acb950-655d-4086-8ba6-75a1979995ee",
   "metadata": {},
   "outputs": [
    {
     "data": {
      "text/plain": [
       "(6, 1)"
      ]
     },
     "execution_count": 6,
     "metadata": {},
     "output_type": "execute_result"
    }
   ],
   "source": [
    "Cat_chi2=pd.read_csv(\"CategoricasChi2.csv\")\n",
    "Cat_chi2.shape"
   ]
  },
  {
   "cell_type": "code",
   "execution_count": 7,
   "id": "9a637227-9f3f-4efd-82fc-81cdc12eb891",
   "metadata": {},
   "outputs": [
    {
     "data": {
      "text/plain": [
       "(17, 1)"
      ]
     },
     "execution_count": 7,
     "metadata": {},
     "output_type": "execute_result"
    }
   ],
   "source": [
    "Cat_Mutual=pd.read_csv(\"CategoricasMutualInfo.csv\")\n",
    "Cat_Mutual.shape"
   ]
  },
  {
   "cell_type": "code",
   "execution_count": 8,
   "id": "1b41e519-9200-43b7-b6aa-f2609fc70fbb",
   "metadata": {},
   "outputs": [
    {
     "data": {
      "text/plain": [
       "(10, 1)"
      ]
     },
     "execution_count": 8,
     "metadata": {},
     "output_type": "execute_result"
    }
   ],
   "source": [
    "Num_corr=pd.read_csv(\"Num_Sig_Correlacion_Parametrica.csv\")\n",
    "Num_corr.shape"
   ]
  },
  {
   "cell_type": "code",
   "execution_count": 9,
   "id": "8003c2df-24c9-44a5-a563-32a8355c8887",
   "metadata": {},
   "outputs": [
    {
     "data": {
      "text/plain": [
       "(10, 2)"
      ]
     },
     "execution_count": 9,
     "metadata": {},
     "output_type": "execute_result"
    }
   ],
   "source": [
    "Num_Mutual=pd.read_csv(\"Num_MutualInfo.csv\")\n",
    "Num_Mutual.shape"
   ]
  },
  {
   "cell_type": "markdown",
   "id": "fbbffe21-73f7-48df-a6f3-f098b265da8c",
   "metadata": {},
   "source": [
    "## **Escenario con Mutual**"
   ]
  },
  {
   "cell_type": "code",
   "execution_count": 10,
   "id": "bc2ff96e-0660-4183-ac76-799b77bb4fa0",
   "metadata": {},
   "outputs": [
    {
     "data": {
      "text/plain": [
       "Entrenamiento    2999\n",
       "Prueba            893\n",
       "Name: Tipo Archivo, dtype: int64"
      ]
     },
     "execution_count": 10,
     "metadata": {},
     "output_type": "execute_result"
    }
   ],
   "source": [
    "df[\"Tipo Archivo\"].value_counts()"
   ]
  },
  {
   "cell_type": "code",
   "execution_count": 11,
   "id": "377e5d55-7a7e-4a1d-8ddd-20dc12be9610",
   "metadata": {},
   "outputs": [],
   "source": [
    "Historia=df[df[\"Tipo Archivo\"]==\"Entrenamiento\"].reset_index(drop=True)"
   ]
  },
  {
   "cell_type": "code",
   "execution_count": 12,
   "id": "9d03dfbc-a480-4473-aa79-921be2a99fbb",
   "metadata": {},
   "outputs": [
    {
     "data": {
      "text/plain": [
       "(2999, 64)"
      ]
     },
     "execution_count": 12,
     "metadata": {},
     "output_type": "execute_result"
    }
   ],
   "source": [
    "Historia.shape"
   ]
  },
  {
   "cell_type": "code",
   "execution_count": 13,
   "id": "57ab2166-18fc-4f58-a3ce-4258de382c60",
   "metadata": {},
   "outputs": [],
   "source": [
    "Variables=Cat_Mutual.Variables.tolist()+Num_Mutual.Variables.tolist()"
   ]
  },
  {
   "cell_type": "code",
   "execution_count": 14,
   "id": "1aa551cb-ab6d-4ca0-a21c-1dc685b41126",
   "metadata": {},
   "outputs": [],
   "source": [
    "X= Historia[Variables]"
   ]
  },
  {
   "cell_type": "code",
   "execution_count": 15,
   "id": "5ae76f06-bf00-4274-9574-b8a142853561",
   "metadata": {},
   "outputs": [
    {
     "data": {
      "text/html": [
       "<div>\n",
       "<style scoped>\n",
       "    .dataframe tbody tr th:only-of-type {\n",
       "        vertical-align: middle;\n",
       "    }\n",
       "\n",
       "    .dataframe tbody tr th {\n",
       "        vertical-align: top;\n",
       "    }\n",
       "\n",
       "    .dataframe thead th {\n",
       "        text-align: right;\n",
       "    }\n",
       "</style>\n",
       "<table border=\"1\" class=\"dataframe\">\n",
       "  <thead>\n",
       "    <tr style=\"text-align: right;\">\n",
       "      <th></th>\n",
       "      <th>Productos_Vehiculos_4</th>\n",
       "      <th>Productos_Otros_2</th>\n",
       "      <th>Mes Alta_Mayo</th>\n",
       "      <th>Productos_Vida_3</th>\n",
       "      <th>Mes Alta_Febrero</th>\n",
       "      <th>Mes Alta_Agosto</th>\n",
       "      <th>Productos_Otros_3</th>\n",
       "      <th>Mes Alta_Julio</th>\n",
       "      <th>Productos_Otros_5</th>\n",
       "      <th>Mes Alta_Septiembre</th>\n",
       "      <th>...</th>\n",
       "      <th>Gasto_Vehiculos</th>\n",
       "      <th>Vivienda_Propiedad</th>\n",
       "      <th>Gasto_Otros</th>\n",
       "      <th>Educacion_Media</th>\n",
       "      <th>Poblacion_Trabajador_Cualificado</th>\n",
       "      <th>Medico_Seguro_Privado</th>\n",
       "      <th>Educacion_Superior</th>\n",
       "      <th>Tipo_Soltero</th>\n",
       "      <th>Poblacion_Empresario</th>\n",
       "      <th>Ingresos_De_20000_Hasta_40000</th>\n",
       "    </tr>\n",
       "  </thead>\n",
       "  <tbody>\n",
       "    <tr>\n",
       "      <th>0</th>\n",
       "      <td>0</td>\n",
       "      <td>0</td>\n",
       "      <td>0</td>\n",
       "      <td>0</td>\n",
       "      <td>0</td>\n",
       "      <td>0</td>\n",
       "      <td>0</td>\n",
       "      <td>0</td>\n",
       "      <td>0</td>\n",
       "      <td>0</td>\n",
       "      <td>...</td>\n",
       "      <td>617.55</td>\n",
       "      <td>71.34</td>\n",
       "      <td>0.00</td>\n",
       "      <td>39.20</td>\n",
       "      <td>21.01</td>\n",
       "      <td>32.77</td>\n",
       "      <td>2.75</td>\n",
       "      <td>6.63</td>\n",
       "      <td>23.70</td>\n",
       "      <td>1.47</td>\n",
       "    </tr>\n",
       "    <tr>\n",
       "      <th>1</th>\n",
       "      <td>0</td>\n",
       "      <td>0</td>\n",
       "      <td>0</td>\n",
       "      <td>0</td>\n",
       "      <td>0</td>\n",
       "      <td>0</td>\n",
       "      <td>0</td>\n",
       "      <td>0</td>\n",
       "      <td>0</td>\n",
       "      <td>0</td>\n",
       "      <td>...</td>\n",
       "      <td>0.00</td>\n",
       "      <td>92.04</td>\n",
       "      <td>386.87</td>\n",
       "      <td>41.12</td>\n",
       "      <td>11.54</td>\n",
       "      <td>43.84</td>\n",
       "      <td>40.84</td>\n",
       "      <td>5.17</td>\n",
       "      <td>37.53</td>\n",
       "      <td>3.38</td>\n",
       "    </tr>\n",
       "    <tr>\n",
       "      <th>2</th>\n",
       "      <td>0</td>\n",
       "      <td>1</td>\n",
       "      <td>0</td>\n",
       "      <td>0</td>\n",
       "      <td>0</td>\n",
       "      <td>0</td>\n",
       "      <td>0</td>\n",
       "      <td>0</td>\n",
       "      <td>0</td>\n",
       "      <td>0</td>\n",
       "      <td>...</td>\n",
       "      <td>3572.01</td>\n",
       "      <td>56.37</td>\n",
       "      <td>273.15</td>\n",
       "      <td>28.36</td>\n",
       "      <td>34.78</td>\n",
       "      <td>17.48</td>\n",
       "      <td>7.63</td>\n",
       "      <td>22.65</td>\n",
       "      <td>5.50</td>\n",
       "      <td>1.72</td>\n",
       "    </tr>\n",
       "    <tr>\n",
       "      <th>3</th>\n",
       "      <td>0</td>\n",
       "      <td>1</td>\n",
       "      <td>0</td>\n",
       "      <td>0</td>\n",
       "      <td>0</td>\n",
       "      <td>0</td>\n",
       "      <td>0</td>\n",
       "      <td>1</td>\n",
       "      <td>0</td>\n",
       "      <td>0</td>\n",
       "      <td>...</td>\n",
       "      <td>4558.71</td>\n",
       "      <td>93.38</td>\n",
       "      <td>521.66</td>\n",
       "      <td>56.95</td>\n",
       "      <td>22.28</td>\n",
       "      <td>44.57</td>\n",
       "      <td>21.17</td>\n",
       "      <td>0.00</td>\n",
       "      <td>19.05</td>\n",
       "      <td>6.39</td>\n",
       "    </tr>\n",
       "    <tr>\n",
       "      <th>4</th>\n",
       "      <td>0</td>\n",
       "      <td>0</td>\n",
       "      <td>0</td>\n",
       "      <td>0</td>\n",
       "      <td>1</td>\n",
       "      <td>0</td>\n",
       "      <td>0</td>\n",
       "      <td>0</td>\n",
       "      <td>0</td>\n",
       "      <td>0</td>\n",
       "      <td>...</td>\n",
       "      <td>4289.61</td>\n",
       "      <td>12.63</td>\n",
       "      <td>0.00</td>\n",
       "      <td>52.61</td>\n",
       "      <td>1.92</td>\n",
       "      <td>45.32</td>\n",
       "      <td>26.98</td>\n",
       "      <td>32.77</td>\n",
       "      <td>32.17</td>\n",
       "      <td>27.01</td>\n",
       "    </tr>\n",
       "    <tr>\n",
       "      <th>...</th>\n",
       "      <td>...</td>\n",
       "      <td>...</td>\n",
       "      <td>...</td>\n",
       "      <td>...</td>\n",
       "      <td>...</td>\n",
       "      <td>...</td>\n",
       "      <td>...</td>\n",
       "      <td>...</td>\n",
       "      <td>...</td>\n",
       "      <td>...</td>\n",
       "      <td>...</td>\n",
       "      <td>...</td>\n",
       "      <td>...</td>\n",
       "      <td>...</td>\n",
       "      <td>...</td>\n",
       "      <td>...</td>\n",
       "      <td>...</td>\n",
       "      <td>...</td>\n",
       "      <td>...</td>\n",
       "      <td>...</td>\n",
       "      <td>...</td>\n",
       "    </tr>\n",
       "    <tr>\n",
       "      <th>2994</th>\n",
       "      <td>0</td>\n",
       "      <td>1</td>\n",
       "      <td>0</td>\n",
       "      <td>0</td>\n",
       "      <td>0</td>\n",
       "      <td>1</td>\n",
       "      <td>0</td>\n",
       "      <td>0</td>\n",
       "      <td>0</td>\n",
       "      <td>0</td>\n",
       "      <td>...</td>\n",
       "      <td>6712.11</td>\n",
       "      <td>100.00</td>\n",
       "      <td>82.93</td>\n",
       "      <td>29.06</td>\n",
       "      <td>0.00</td>\n",
       "      <td>82.97</td>\n",
       "      <td>50.95</td>\n",
       "      <td>0.00</td>\n",
       "      <td>46.69</td>\n",
       "      <td>41.62</td>\n",
       "    </tr>\n",
       "    <tr>\n",
       "      <th>2995</th>\n",
       "      <td>0</td>\n",
       "      <td>0</td>\n",
       "      <td>0</td>\n",
       "      <td>0</td>\n",
       "      <td>0</td>\n",
       "      <td>0</td>\n",
       "      <td>0</td>\n",
       "      <td>0</td>\n",
       "      <td>0</td>\n",
       "      <td>0</td>\n",
       "      <td>...</td>\n",
       "      <td>1653.89</td>\n",
       "      <td>17.29</td>\n",
       "      <td>36.73</td>\n",
       "      <td>46.03</td>\n",
       "      <td>19.46</td>\n",
       "      <td>17.86</td>\n",
       "      <td>3.21</td>\n",
       "      <td>63.35</td>\n",
       "      <td>17.76</td>\n",
       "      <td>8.90</td>\n",
       "    </tr>\n",
       "    <tr>\n",
       "      <th>2996</th>\n",
       "      <td>0</td>\n",
       "      <td>0</td>\n",
       "      <td>0</td>\n",
       "      <td>0</td>\n",
       "      <td>0</td>\n",
       "      <td>0</td>\n",
       "      <td>0</td>\n",
       "      <td>0</td>\n",
       "      <td>0</td>\n",
       "      <td>0</td>\n",
       "      <td>...</td>\n",
       "      <td>3704.71</td>\n",
       "      <td>15.04</td>\n",
       "      <td>89.90</td>\n",
       "      <td>48.54</td>\n",
       "      <td>79.77</td>\n",
       "      <td>19.68</td>\n",
       "      <td>0.00</td>\n",
       "      <td>0.00</td>\n",
       "      <td>20.23</td>\n",
       "      <td>15.09</td>\n",
       "    </tr>\n",
       "    <tr>\n",
       "      <th>2997</th>\n",
       "      <td>0</td>\n",
       "      <td>1</td>\n",
       "      <td>0</td>\n",
       "      <td>0</td>\n",
       "      <td>0</td>\n",
       "      <td>0</td>\n",
       "      <td>0</td>\n",
       "      <td>0</td>\n",
       "      <td>0</td>\n",
       "      <td>0</td>\n",
       "      <td>...</td>\n",
       "      <td>0.00</td>\n",
       "      <td>0.00</td>\n",
       "      <td>242.76</td>\n",
       "      <td>0.00</td>\n",
       "      <td>0.00</td>\n",
       "      <td>45.57</td>\n",
       "      <td>0.00</td>\n",
       "      <td>100.00</td>\n",
       "      <td>0.00</td>\n",
       "      <td>0.00</td>\n",
       "    </tr>\n",
       "    <tr>\n",
       "      <th>2998</th>\n",
       "      <td>0</td>\n",
       "      <td>1</td>\n",
       "      <td>0</td>\n",
       "      <td>0</td>\n",
       "      <td>0</td>\n",
       "      <td>0</td>\n",
       "      <td>0</td>\n",
       "      <td>0</td>\n",
       "      <td>0</td>\n",
       "      <td>0</td>\n",
       "      <td>...</td>\n",
       "      <td>630.98</td>\n",
       "      <td>92.91</td>\n",
       "      <td>134.85</td>\n",
       "      <td>29.08</td>\n",
       "      <td>19.25</td>\n",
       "      <td>58.08</td>\n",
       "      <td>0.00</td>\n",
       "      <td>22.45</td>\n",
       "      <td>32.54</td>\n",
       "      <td>0.00</td>\n",
       "    </tr>\n",
       "  </tbody>\n",
       "</table>\n",
       "<p>2999 rows × 27 columns</p>\n",
       "</div>"
      ],
      "text/plain": [
       "      Productos_Vehiculos_4  Productos_Otros_2  Mes Alta_Mayo  \\\n",
       "0                         0                  0              0   \n",
       "1                         0                  0              0   \n",
       "2                         0                  1              0   \n",
       "3                         0                  1              0   \n",
       "4                         0                  0              0   \n",
       "...                     ...                ...            ...   \n",
       "2994                      0                  1              0   \n",
       "2995                      0                  0              0   \n",
       "2996                      0                  0              0   \n",
       "2997                      0                  1              0   \n",
       "2998                      0                  1              0   \n",
       "\n",
       "      Productos_Vida_3  Mes Alta_Febrero  Mes Alta_Agosto  Productos_Otros_3  \\\n",
       "0                    0                 0                0                  0   \n",
       "1                    0                 0                0                  0   \n",
       "2                    0                 0                0                  0   \n",
       "3                    0                 0                0                  0   \n",
       "4                    0                 1                0                  0   \n",
       "...                ...               ...              ...                ...   \n",
       "2994                 0                 0                1                  0   \n",
       "2995                 0                 0                0                  0   \n",
       "2996                 0                 0                0                  0   \n",
       "2997                 0                 0                0                  0   \n",
       "2998                 0                 0                0                  0   \n",
       "\n",
       "      Mes Alta_Julio  Productos_Otros_5  Mes Alta_Septiembre  ...  \\\n",
       "0                  0                  0                    0  ...   \n",
       "1                  0                  0                    0  ...   \n",
       "2                  0                  0                    0  ...   \n",
       "3                  1                  0                    0  ...   \n",
       "4                  0                  0                    0  ...   \n",
       "...              ...                ...                  ...  ...   \n",
       "2994               0                  0                    0  ...   \n",
       "2995               0                  0                    0  ...   \n",
       "2996               0                  0                    0  ...   \n",
       "2997               0                  0                    0  ...   \n",
       "2998               0                  0                    0  ...   \n",
       "\n",
       "      Gasto_Vehiculos  Vivienda_Propiedad  Gasto_Otros  Educacion_Media  \\\n",
       "0              617.55               71.34         0.00            39.20   \n",
       "1                0.00               92.04       386.87            41.12   \n",
       "2             3572.01               56.37       273.15            28.36   \n",
       "3             4558.71               93.38       521.66            56.95   \n",
       "4             4289.61               12.63         0.00            52.61   \n",
       "...               ...                 ...          ...              ...   \n",
       "2994          6712.11              100.00        82.93            29.06   \n",
       "2995          1653.89               17.29        36.73            46.03   \n",
       "2996          3704.71               15.04        89.90            48.54   \n",
       "2997             0.00                0.00       242.76             0.00   \n",
       "2998           630.98               92.91       134.85            29.08   \n",
       "\n",
       "      Poblacion_Trabajador_Cualificado  Medico_Seguro_Privado  \\\n",
       "0                                21.01                  32.77   \n",
       "1                                11.54                  43.84   \n",
       "2                                34.78                  17.48   \n",
       "3                                22.28                  44.57   \n",
       "4                                 1.92                  45.32   \n",
       "...                                ...                    ...   \n",
       "2994                              0.00                  82.97   \n",
       "2995                             19.46                  17.86   \n",
       "2996                             79.77                  19.68   \n",
       "2997                              0.00                  45.57   \n",
       "2998                             19.25                  58.08   \n",
       "\n",
       "      Educacion_Superior  Tipo_Soltero  Poblacion_Empresario  \\\n",
       "0                   2.75          6.63                 23.70   \n",
       "1                  40.84          5.17                 37.53   \n",
       "2                   7.63         22.65                  5.50   \n",
       "3                  21.17          0.00                 19.05   \n",
       "4                  26.98         32.77                 32.17   \n",
       "...                  ...           ...                   ...   \n",
       "2994               50.95          0.00                 46.69   \n",
       "2995                3.21         63.35                 17.76   \n",
       "2996                0.00          0.00                 20.23   \n",
       "2997                0.00        100.00                  0.00   \n",
       "2998                0.00         22.45                 32.54   \n",
       "\n",
       "      Ingresos_De_20000_Hasta_40000  \n",
       "0                              1.47  \n",
       "1                              3.38  \n",
       "2                              1.72  \n",
       "3                              6.39  \n",
       "4                             27.01  \n",
       "...                             ...  \n",
       "2994                          41.62  \n",
       "2995                           8.90  \n",
       "2996                          15.09  \n",
       "2997                           0.00  \n",
       "2998                           0.00  \n",
       "\n",
       "[2999 rows x 27 columns]"
      ]
     },
     "execution_count": 15,
     "metadata": {},
     "output_type": "execute_result"
    }
   ],
   "source": [
    "X"
   ]
  },
  {
   "cell_type": "code",
   "execution_count": 16,
   "id": "30813f56-6d42-4750-9fcf-78fd440eab13",
   "metadata": {},
   "outputs": [],
   "source": [
    "y=Historia[[\"target\"]].astype(int).astype(\"category\")"
   ]
  },
  {
   "cell_type": "code",
   "execution_count": 17,
   "id": "d5b1f589-6dbd-4d71-af76-0c3a75510931",
   "metadata": {},
   "outputs": [
    {
     "data": {
      "text/plain": [
       "target\n",
       "0         2830\n",
       "1          169\n",
       "dtype: int64"
      ]
     },
     "execution_count": 17,
     "metadata": {},
     "output_type": "execute_result"
    }
   ],
   "source": [
    "y.value_counts()"
   ]
  },
  {
   "cell_type": "code",
   "execution_count": 18,
   "id": "02079999-bee7-45c2-b4c8-7130af80b76d",
   "metadata": {},
   "outputs": [
    {
     "data": {
      "text/plain": [
       "target\n",
       "0         0.943648\n",
       "1         0.056352\n",
       "dtype: float64"
      ]
     },
     "execution_count": 18,
     "metadata": {},
     "output_type": "execute_result"
    }
   ],
   "source": [
    "y.value_counts(normalize=True)"
   ]
  },
  {
   "cell_type": "code",
   "execution_count": 19,
   "id": "c0630b89-cde5-4806-b349-879462b3bcab",
   "metadata": {},
   "outputs": [
    {
     "data": {
      "image/png": "[encoded data removed]",
      "text/plain": [
       "<Figure size 432x288 with 1 Axes>"
      ]
     },
     "metadata": {},
     "output_type": "display_data"
    }
   ],
   "source": [
    "y.value_counts().plot(kind=\"pie\", autopct=\"%.2f\");"
   ]
  },
  {
   "cell_type": "markdown",
   "id": "e7dc117e-c1d3-48a2-b6ae-dbe64584a271",
   "metadata": {},
   "source": [
    "## **Divisiòn Train y Test**\n",
    "Evaluar la capacidad predictiva de un modelo consiste en comprobar aproxima sus predicciones a los verdaderos valores de la variable respuesta. Para poder cuantificarlo de forma correcta, se necesita disponer de un conjunto de observaciones, de las que se conozca la variable respuesta, pero que el modelo no haya \"visto\", es decir, que no hayan participado en su ajuste. Con esta finalidad, se dividen los datos disponibles en un conjunto de entrenamiento y un conjunto de test."
   ]
  },
  {
   "cell_type": "code",
   "execution_count": 20,
   "id": "b98b3dc8-60fe-432d-974d-d10d1863c4f3",
   "metadata": {},
   "outputs": [],
   "source": [
    "x_train, x_test, y_train, y_test = train_test_split(X, y, test_size=0.3, random_state=123,stratify=y)"
   ]
  },
  {
   "cell_type": "code",
   "execution_count": 21,
   "id": "f3379c49-0631-452a-a4d5-f3a4c25c2d54",
   "metadata": {},
   "outputs": [
    {
     "data": {
      "text/plain": [
       "target\n",
       "0         0.943783\n",
       "1         0.056217\n",
       "dtype: float64"
      ]
     },
     "execution_count": 21,
     "metadata": {},
     "output_type": "execute_result"
    }
   ],
   "source": [
    "y_train.value_counts(normalize=True)"
   ]
  },
  {
   "cell_type": "code",
   "execution_count": 22,
   "id": "8ad37c8a-196e-4ebd-b9b3-703472343499",
   "metadata": {},
   "outputs": [
    {
     "data": {
      "text/plain": [
       "target\n",
       "0         0.943333\n",
       "1         0.056667\n",
       "dtype: float64"
      ]
     },
     "execution_count": 22,
     "metadata": {},
     "output_type": "execute_result"
    }
   ],
   "source": [
    "y_test.value_counts(normalize=True)"
   ]
  },
  {
   "cell_type": "markdown",
   "id": "5c65820c-7313-4608-898c-d045429cfe7f",
   "metadata": {},
   "source": [
    "# **Modelo1: regresión logística**\n",
    "\n",
    "La regresión logística es un método estadístico que trata de modelar la probabilidad de una variable cualitativa binaria (dos posibles valores) en función de una o más variables independientes. La principal aplicación de la regresión logística es la creación de modelos de clasificación binaria.\n",
    "\n",
    "Se llama regresión logística simple cuando solo hay una variable independiente y regresión logística múltiple cuando hay más de una. Dependiendo del contexto, a la variable modelada se le conoce como variable dependiente o variable respuesta, y a las variables independientes como regresores, predictores o features."
   ]
  },
  {
   "cell_type": "markdown",
   "id": "43203b27-412b-4114-aebb-44e25d91d34c",
   "metadata": {},
   "source": [
    "**Enfoque Machine Learning**"
   ]
  },
  {
   "cell_type": "code",
   "execution_count": 23,
   "id": "f7833c41-51bf-4862-9ac1-753a39acea57",
   "metadata": {},
   "outputs": [
    {
     "data": {
      "text/html": [
       "<style>#sk-container-id-1 {color: black;background-color: white;}#sk-container-id-1 pre{padding: 0;}#sk-container-id-1 div.sk-toggleable {background-color: white;}#sk-container-id-1 label.sk-toggleable__label {cursor: pointer;display: block;width: 100%;margin-bottom: 0;padding: 0.3em;box-sizing: border-box;text-align: center;}#sk-container-id-1 label.sk-toggleable__label-arrow:before {content: \"▸\";float: left;margin-right: 0.25em;color: #696969;}#sk-container-id-1 label.sk-toggleable__label-arrow:hover:before {color: black;}#sk-container-id-1 div.sk-estimator:hover label.sk-toggleable__label-arrow:before {color: black;}#sk-container-id-1 div.sk-toggleable__content {max-height: 0;max-width: 0;overflow: hidden;text-align: left;background-color: #f0f8ff;}#sk-container-id-1 div.sk-toggleable__content pre {margin: 0.2em;color: black;border-radius: 0.25em;background-color: #f0f8ff;}#sk-container-id-1 input.sk-toggleable__control:checked~div.sk-toggleable__content {max-height: 200px;max-width: 100%;overflow: auto;}#sk-container-id-1 input.sk-toggleable__control:checked~label.sk-toggleable__label-arrow:before {content: \"▾\";}#sk-container-id-1 div.sk-estimator input.sk-toggleable__control:checked~label.sk-toggleable__label {background-color: #d4ebff;}#sk-container-id-1 div.sk-label input.sk-toggleable__control:checked~label.sk-toggleable__label {background-color: #d4ebff;}#sk-container-id-1 input.sk-hidden--visually {border: 0;clip: rect(1px 1px 1px 1px);clip: rect(1px, 1px, 1px, 1px);height: 1px;margin: -1px;overflow: hidden;padding: 0;position: absolute;width: 1px;}#sk-container-id-1 div.sk-estimator {font-family: monospace;background-color: #f0f8ff;border: 1px dotted black;border-radius: 0.25em;box-sizing: border-box;margin-bottom: 0.5em;}#sk-container-id-1 div.sk-estimator:hover {background-color: #d4ebff;}#sk-container-id-1 div.sk-parallel-item::after {content: \"\";width: 100%;border-bottom: 1px solid gray;flex-grow: 1;}#sk-container-id-1 div.sk-label:hover label.sk-toggleable__label {background-color: #d4ebff;}#sk-container-id-1 div.sk-serial::before {content: \"\";position: absolute;border-left: 1px solid gray;box-sizing: border-box;top: 0;bottom: 0;left: 50%;z-index: 0;}#sk-container-id-1 div.sk-serial {display: flex;flex-direction: column;align-items: center;background-color: white;padding-right: 0.2em;padding-left: 0.2em;position: relative;}#sk-container-id-1 div.sk-item {position: relative;z-index: 1;}#sk-container-id-1 div.sk-parallel {display: flex;align-items: stretch;justify-content: center;background-color: white;position: relative;}#sk-container-id-1 div.sk-item::before, #sk-container-id-1 div.sk-parallel-item::before {content: \"\";position: absolute;border-left: 1px solid gray;box-sizing: border-box;top: 0;bottom: 0;left: 50%;z-index: -1;}#sk-container-id-1 div.sk-parallel-item {display: flex;flex-direction: column;z-index: 1;position: relative;background-color: white;}#sk-container-id-1 div.sk-parallel-item:first-child::after {align-self: flex-end;width: 50%;}#sk-container-id-1 div.sk-parallel-item:last-child::after {align-self: flex-start;width: 50%;}#sk-container-id-1 div.sk-parallel-item:only-child::after {width: 0;}#sk-container-id-1 div.sk-dashed-wrapped {border: 1px dashed gray;margin: 0 0.4em 0.5em 0.4em;box-sizing: border-box;padding-bottom: 0.4em;background-color: white;}#sk-container-id-1 div.sk-label label {font-family: monospace;font-weight: bold;display: inline-block;line-height: 1.2em;}#sk-container-id-1 div.sk-label-container {text-align: center;}#sk-container-id-1 div.sk-container {/* jupyter's `normalize.less` sets `[hidden] { display: none; }` but bootstrap.min.css set `[hidden] { display: none !important; }` so we also need the `!important` here to be able to override the default hidden behavior on the sphinx rendered scikit-learn.org. See: https://github.com/scikit-learn/scikit-learn/issues/21755 */display: inline-block !important;position: relative;}#sk-container-id-1 div.sk-text-repr-fallback {display: none;}</style><div id=\"sk-container-id-1\" class=\"sk-top-container\"><div class=\"sk-text-repr-fallback\"><pre>LogisticRegression()</pre><b>In a Jupyter environment, please rerun this cell to show the HTML representation or trust the notebook. <br />On GitHub, the HTML representation is unable to render, please try loading this page with nbviewer.org.</b></div><div class=\"sk-container\" hidden><div class=\"sk-item\"><div class=\"sk-estimator sk-toggleable\"><input class=\"sk-toggleable__control sk-hidden--visually\" id=\"sk-estimator-id-1\" type=\"checkbox\" checked><label for=\"sk-estimator-id-1\" class=\"sk-toggleable__label sk-toggleable__label-arrow\">LogisticRegression</label><div class=\"sk-toggleable__content\"><pre>LogisticRegression()</pre></div></div></div></div></div>"
      ],
      "text/plain": [
       "LogisticRegression()"
      ]
     },
     "execution_count": 23,
     "metadata": {},
     "output_type": "execute_result"
    }
   ],
   "source": [
    "# Crear una instancia del modelo de regresión logística\n",
    "RegresionLogit_sklearn= LogisticRegression()\n",
    "# Entrenar el modelo utilizando los datos de entrenamiento\n",
    "RegresionLogit_sklearn.fit(x_train, y_train) # Entrando"
   ]
  },
  {
   "cell_type": "code",
   "execution_count": 24,
   "id": "f04be9c9-6a08-4260-9364-0e306d934ce4",
   "metadata": {},
   "outputs": [
    {
     "data": {
      "text/plain": [
       "array([-0.01430382])"
      ]
     },
     "execution_count": 24,
     "metadata": {},
     "output_type": "execute_result"
    }
   ],
   "source": [
    "RegresionLogit_sklearn.intercept_"
   ]
  },
  {
   "cell_type": "code",
   "execution_count": 25,
   "id": "3b28d41c-278f-48d7-8393-0c275658e4bb",
   "metadata": {},
   "outputs": [
    {
     "data": {
      "text/plain": [
       "array([[-5.86165002e-04, -1.08488041e-03, -3.10616628e-04,\n",
       "        -1.74981661e-05, -1.19760909e-03, -1.38063893e-03,\n",
       "        -9.35923947e-04, -2.38432389e-03, -9.75501199e-06,\n",
       "        -1.68071890e-03, -2.63904985e-05,  3.99812798e-04,\n",
       "        -4.00456661e-06,  0.00000000e+00, -1.57076372e-03,\n",
       "        -3.08405953e-03, -3.16736386e-03,  5.91510270e-04,\n",
       "        -1.26940553e-02, -4.37299877e-04, -3.29846881e-02,\n",
       "        -5.86754781e-02, -3.68635459e-03,  1.32492509e-02,\n",
       "        -4.67293888e-02, -1.99442984e-02, -2.12551701e-02]])"
      ]
     },
     "execution_count": 25,
     "metadata": {},
     "output_type": "execute_result"
    }
   ],
   "source": [
    "RegresionLogit_sklearn.coef_"
   ]
  },
  {
   "attachments": {
    "a4836950-1300-4a27-8499-3eb2fc0f8dab.png": {
     "image/png": "[encoded data removed]"
    }
   },
   "cell_type": "markdown",
   "id": "6f57e65d-d979-4300-8ae7-49e033263edd",
   "metadata": {},
   "source": [
    "![image.png](attachment:a4836950-1300-4a27-8499-3eb2fc0f8dab.png)"
   ]
  },
  {
   "cell_type": "markdown",
   "id": "45dca503-aa89-4d37-979f-87d95d88ee79",
   "metadata": {},
   "source": [
    "## **Error de Train**"
   ]
  },
  {
   "cell_type": "code",
   "execution_count": 26,
   "id": "2da6496d-1575-44bd-9bc6-71772aacc591",
   "metadata": {},
   "outputs": [
    {
     "data": {
      "text/plain": [
       "target\n",
       "0         1981\n",
       "1          118\n",
       "dtype: int64"
      ]
     },
     "execution_count": 26,
     "metadata": {},
     "output_type": "execute_result"
    }
   ],
   "source": [
    "y_train.value_counts()"
   ]
  },
  {
   "cell_type": "code",
   "execution_count": 27,
   "id": "8a2d94fa-bd24-4d47-8a0d-8d5c946c78d7",
   "metadata": {},
   "outputs": [],
   "source": [
    "# Predicciones del Modelo en la base de Train\n",
    "Prediccion_Train=RegresionLogit_sklearn.predict(x_train)"
   ]
  },
  {
   "cell_type": "code",
   "execution_count": 28,
   "id": "e35e84fe-c2ec-4e68-8d6c-b11a6ccf18ed",
   "metadata": {},
   "outputs": [
    {
     "data": {
      "text/plain": [
       "array([0, 0, 0, ..., 0, 0, 0])"
      ]
     },
     "execution_count": 28,
     "metadata": {},
     "output_type": "execute_result"
    }
   ],
   "source": [
    "Prediccion_Train"
   ]
  },
  {
   "cell_type": "code",
   "execution_count": 29,
   "id": "a298e6c9-5b34-49a8-9194-114c0c8212b3",
   "metadata": {},
   "outputs": [
    {
     "data": {
      "text/plain": [
       "target\n",
       "0         1981\n",
       "1          118\n",
       "dtype: int64"
      ]
     },
     "execution_count": 29,
     "metadata": {},
     "output_type": "execute_result"
    }
   ],
   "source": [
    "y_train.value_counts()"
   ]
  },
  {
   "cell_type": "code",
   "execution_count": 30,
   "id": "337f85aa-5df4-41b4-8749-68a375cfe02f",
   "metadata": {},
   "outputs": [
    {
     "name": "stdout",
     "output_type": "stream",
     "text": [
      "Accuracy: 0.9361600762267747\n",
      "              precision    recall  f1-score   support\n",
      "\n",
      "           0       0.95      0.98      0.97      1981\n",
      "           1       0.38      0.20      0.26       118\n",
      "\n",
      "    accuracy                           0.94      2099\n",
      "   macro avg       0.66      0.59      0.62      2099\n",
      "weighted avg       0.92      0.94      0.93      2099\n",
      "\n"
     ]
    },
    {
     "data": {
      "image/png": "[encoded data removed]",
      "text/plain": [
       "<Figure size 432x288 with 2 Axes>"
      ]
     },
     "metadata": {
      "needs_background": "light"
     },
     "output_type": "display_data"
    },
    {
     "name": "stdout",
     "output_type": "stream",
     "text": [
      "Predicion     0   1   All\n",
      "Realidad                 \n",
      "0          1941  40  1981\n",
      "1            94  24   118\n",
      "All        2035  64  2099\n"
     ]
    }
   ],
   "source": [
    "MetricasMatrixConfusion(y_train,RegresionLogit_sklearn,x_train)"
   ]
  },
  {
   "cell_type": "markdown",
   "id": "d7364fa9-27e2-424d-9c41-94feb5d2ea90",
   "metadata": {},
   "source": [
    "* 1941 dejar de gestionar, costo\n",
    "* Ganancia por Vender: 94 cleintes, No vendistes\n",
    "* 64 Gestionar, 24 Getsionaste compraron, 40 Gestionastes y no compraron"
   ]
  },
  {
   "cell_type": "markdown",
   "id": "9832e64b-256e-4923-9ca0-00ee73e98def",
   "metadata": {},
   "source": [
    "## **Metricas de Error Train**\n",
    "\n",
    "La precisión (accuracy en inglés) es una métrica comúnmente utilizada para evaluar la calidad de un modelo de aprendizaje automático o clasificación. En términos simples, el accuracy mide la proporción de predicciones correctas que realiza un modelo en relación con el total de predicciones realizadas.\n",
    "\n",
    "El accuracy se calcula dividiendo el número de predicciones correctas por el número total de predicciones. Matemáticamente, se puede expresar de la siguiente manera:\n",
    "\n",
    "Accuracy = (Número de predicciones correctas) / (Número total de predicciones)"
   ]
  },
  {
   "cell_type": "code",
   "execution_count": 31,
   "id": "b4d0aec6-0201-4ef1-8e95-a2c01ebb906a",
   "metadata": {},
   "outputs": [],
   "source": [
    "Accuracy= (1941+24)/2099"
   ]
  },
  {
   "cell_type": "code",
   "execution_count": 32,
   "id": "16c908fe-03ab-4d67-a4ec-2bb051bd8d79",
   "metadata": {},
   "outputs": [
    {
     "data": {
      "text/plain": [
       "0.9361600762267747"
      ]
     },
     "execution_count": 32,
     "metadata": {},
     "output_type": "execute_result"
    }
   ],
   "source": [
    "Accuracy"
   ]
  },
  {
   "cell_type": "code",
   "execution_count": 33,
   "id": "5784c60f-5915-4235-9410-c46ba1aaff2d",
   "metadata": {},
   "outputs": [],
   "source": [
    "Accuracy_Train_RL=metrics.accuracy_score(y_train,Prediccion_Train)"
   ]
  },
  {
   "cell_type": "code",
   "execution_count": 34,
   "id": "4245a02d-49f1-4c2c-8c93-7fadb2e5b89f",
   "metadata": {},
   "outputs": [
    {
     "data": {
      "text/plain": [
       "0.9361600762267747"
      ]
     },
     "execution_count": 34,
     "metadata": {},
     "output_type": "execute_result"
    }
   ],
   "source": [
    "Accuracy_Train_RL"
   ]
  },
  {
   "cell_type": "markdown",
   "id": "59f421fc-c9b7-44f2-98d8-cfe41ae0ab3f",
   "metadata": {},
   "source": [
    "**Nota**\n",
    "\n",
    "Esta métrica es especialmente útil cuando las clases están balanceadas, es decir, cuando el número de muestras en cada clase es similar. Sin embargo, puede ser engañosa en casos de desequilibrio de clases, donde una clase tiene muchas más muestras que otra. En estos casos, un modelo que simplemente prediga siempre la clase mayoritaria puede obtener un alto accuracy, pero puede ser ineficaz en la detección de la clase minoritaria.\n"
   ]
  },
  {
   "cell_type": "code",
   "execution_count": 35,
   "id": "dbe02987-95e7-4a86-9367-2807bd3ab6e7",
   "metadata": {},
   "outputs": [],
   "source": [
    "fscore_0_train_lg1= f1_score(y_train,Prediccion_Train,pos_label=0)\n",
    "fscore_1_train_lg1=f1_score(y_train,Prediccion_Train,pos_label=1)"
   ]
  },
  {
   "cell_type": "markdown",
   "id": "092874e8-3c23-415f-a142-3240b5382968",
   "metadata": {},
   "source": [
    "Precision (Precisión): La precisión se refiere a la proporción de predicciones positivas correctas sobre el total de predicciones positivas realizadas por el modelo. Es una medida de cuán precisas son las predicciones positivas. Se calcula de la siguiente manera:\n",
    "\n",
    "* Precision = Verdaderos positivos / (Verdaderos positivos + Falsos positivos)"
   ]
  },
  {
   "cell_type": "markdown",
   "id": "f29da726-6386-4fa3-a218-4f8c1b53acbc",
   "metadata": {},
   "source": [
    "Recall (Recuperación o Sensibilidad): El recall se refiere a la proporción de instancias positivas que el modelo predijo correctamente sobre el total de instancias positivas en los datos reales. Es una medida de la capacidad del modelo para identificar correctamente las instancias positivas. Se calcula de la siguiente manera:\n",
    "\n",
    "Recall = Verdaderos positivos / (Verdaderos positivos + Falsos negativos)"
   ]
  },
  {
   "cell_type": "markdown",
   "id": "e3f5277d-f3ae-490c-bbd8-b832281562ad",
   "metadata": {},
   "source": [
    "**Alta precisión y alto recall**\n",
    "\n",
    "Imaginemos que estás desarrollando un modelo de detección de spam para un cliente que administra un servicio de correo electrónico. La clase positiva representa los correos electrónicos legítimos (no spam). En este caso, un modelo con alta precisión y alto recall significa que el modelo es capaz de identificar correctamente la mayoría de los correos electrónicos legítimos y minimiza los falsos positivos, lo que garantiza que los correos electrónicos clasificados como legítimos sean altamente confiables y minimiza la posibilidad de que se clasifiquen como spam."
   ]
  },
  {
   "cell_type": "markdown",
   "id": "9adfb8b6-3f83-4e0a-a43a-9e642d6bbffe",
   "metadata": {},
   "source": [
    "**Alta precisión y bajo recall**\n",
    "\n",
    "Supongamos que estás construyendo un modelo de diagnóstico médico para detectar una enfermedad rara. La clase positiva representa los casos reales de la enfermedad. En este caso, un modelo con alta precisión y bajo recall implica que el modelo  logra detectar casi todos los casos positivos de la enfermedad, pero cuando hace una predicción positiva, No es confiable."
   ]
  },
  {
   "cell_type": "markdown",
   "id": "56f6c87f-b37d-4360-817c-e6adb2755774",
   "metadata": {},
   "source": [
    "**Baja precisión y bajo recall**\n",
    "\n",
    "Supongamos que estás desarrollando un modelo para identificar perros en imágenes. La clase positiva representa las imágenes de perros. En este caso, un modelo con baja precisión y bajo recall indica que el modelo no logra clasificar correctamente la mayoría de las imágenes de perros. Es posible que el modelo no esté capturando los patrones relevantes para distinguir los perros de otras clases y, por lo tanto, su rendimiento general es deficiente, con una alta tasa de falsos negativos (imágenes de perros clasificadas incorrectamente como no perros) y falsos positivos (imágenes no perro clasificadas incorrectamente como perros).\n",
    "\n",
    "**Baja Precisión y Alto Recall**\n",
    "Supongamos que estás construyendo un modelo de diagnóstico médico para detectar una enfermedad rara. La clase positiva representa los casos reales de la enfermedad. En este caso, un modelo con alta precisión y bajo recall implica que el modelo no logra detectar todos los casos positivos de la enfermedad, pero cuando hace una predicción positiva, es altamente confiable. Por lo tanto, aunque el modelo pueda perder algunos casos positivos, las predicciones positivas que realiza se pueden considerar bastante precisas y dignas de confianza."
   ]
  },
  {
   "cell_type": "markdown",
   "id": "7c5192be-8f56-4e39-a403-0e3abd4cf233",
   "metadata": {},
   "source": [
    " **CURVA ROC**\n",
    "\n",
    "AUC (Área bajo la curva) es una métrica comúnmente utilizada para evaluar el rendimiento de un modelo de clasificación binaria en problemas de aprendizaje automático. AUC representa el área bajo la curva ROC (Receiver Operating Characteristic) y se utiliza para medir la capacidad de discriminación del modelo, es decir, cuán bien es capaz de distinguir entre las clases positiva y negativa.\n",
    "\n",
    "La curva ROC es una representación gráfica que muestra la relación entre la tasa de verdaderos positivos (Sensibilidad) y la tasa de falsos positivos (1 - Especificidad) para diferentes umbrales de clasificación. Cada punto en la curva ROC representa un umbral de clasificación diferente, y el AUC se calcula como el área bajo esta curva.\n",
    "\n",
    "El valor de AUC oscila entre 0 y 1, donde un valor de 1 indica un modelo perfecto que es capaz de clasificar perfectamente todas las muestras positivas y negativas. Un valor de 0.5 indica un rendimiento aleatorio, mientras que un valor inferior a 0.5 indica que el modelo tiene un rendimiento peor que el azar."
   ]
  },
  {
   "cell_type": "markdown",
   "id": "393c5392-17f3-4527-8b74-8dbc1df031b1",
   "metadata": {
    "tags": []
   },
   "source": [
    "**AUC Train**"
   ]
  },
  {
   "cell_type": "code",
   "execution_count": 36,
   "id": "46bbbd69-2b25-4c04-aae3-784eb5ca8323",
   "metadata": {},
   "outputs": [
    {
     "name": "stdout",
     "output_type": "stream",
     "text": [
      "Modelo AUC: 0.8351414710940375\n"
     ]
    },
    {
     "data": {
      "image/png": "[encoded data removed]",
      "text/plain": [
       "<Figure size 432x288 with 1 Axes>"
      ]
     },
     "metadata": {
      "needs_background": "light"
     },
     "output_type": "display_data"
    }
   ],
   "source": [
    "curva_roc(y_train,RegresionLogit_sklearn,x_train)"
   ]
  },
  {
   "cell_type": "code",
   "execution_count": 37,
   "id": "bb6c1582-c520-4f42-bd1e-e072abb5ed53",
   "metadata": {},
   "outputs": [
    {
     "data": {
      "text/plain": [
       "array([[9.87428763e-01, 1.25712372e-02],\n",
       "       [9.31130095e-01, 6.88699055e-02],\n",
       "       [9.82734984e-01, 1.72650163e-02],\n",
       "       ...,\n",
       "       [9.58769152e-01, 4.12308476e-02],\n",
       "       [9.79999870e-01, 2.00001297e-02],\n",
       "       [9.99877691e-01, 1.22309177e-04]])"
      ]
     },
     "execution_count": 37,
     "metadata": {},
     "output_type": "execute_result"
    }
   ],
   "source": [
    "Probalidad_Train_RL_Sklean=RegresionLogit_sklearn.predict_proba(x_train)\n",
    "Probalidad_Train_RL_Sklean"
   ]
  },
  {
   "cell_type": "code",
   "execution_count": 38,
   "id": "335e728b-ea3b-43ee-9f10-c4c7ce97588a",
   "metadata": {},
   "outputs": [
    {
     "data": {
      "text/plain": [
       "0.8351"
      ]
     },
     "execution_count": 38,
     "metadata": {},
     "output_type": "execute_result"
    }
   ],
   "source": [
    "AUC_Train_RL_Sklearn=round(roc_auc_score(y_train, Probalidad_Train_RL_Sklean[:,1]),4)\n",
    "AUC_Train_RL_Sklearn"
   ]
  },
  {
   "cell_type": "markdown",
   "id": "ece49c65-ad97-4192-b893-2c1ab1452128",
   "metadata": {},
   "source": [
    "## **Metricas de Test**"
   ]
  },
  {
   "cell_type": "code",
   "execution_count": 39,
   "id": "fb3e08b0-d17a-4c09-b982-38d210b1a5f0",
   "metadata": {},
   "outputs": [],
   "source": [
    "Prediccion_Test=RegresionLogit_sklearn.predict(x_test)"
   ]
  },
  {
   "cell_type": "code",
   "execution_count": 40,
   "id": "cef4e4b7-03ef-4a2c-b94d-a60c4628a994",
   "metadata": {},
   "outputs": [
    {
     "data": {
      "text/plain": [
       "(900, 1)"
      ]
     },
     "execution_count": 40,
     "metadata": {},
     "output_type": "execute_result"
    }
   ],
   "source": [
    "y_test.shape"
   ]
  },
  {
   "cell_type": "code",
   "execution_count": 41,
   "id": "01445b18-f652-4ee9-8909-8086a25a7426",
   "metadata": {},
   "outputs": [
    {
     "name": "stdout",
     "output_type": "stream",
     "text": [
      "Accuracy: 0.9366666666666666\n",
      "              precision    recall  f1-score   support\n",
      "\n",
      "           0       0.95      0.98      0.97       849\n",
      "           1       0.39      0.22      0.28        51\n",
      "\n",
      "    accuracy                           0.94       900\n",
      "   macro avg       0.67      0.60      0.62       900\n",
      "weighted avg       0.92      0.94      0.93       900\n",
      "\n"
     ]
    },
    {
     "data": {
      "image/png": "[encoded data removed]",
      "text/plain": [
       "<Figure size 432x288 with 2 Axes>"
      ]
     },
     "metadata": {
      "needs_background": "light"
     },
     "output_type": "display_data"
    },
    {
     "name": "stdout",
     "output_type": "stream",
     "text": [
      "Predicion    0   1  All\n",
      "Realidad               \n",
      "0          832  17  849\n",
      "1           40  11   51\n",
      "All        872  28  900\n"
     ]
    }
   ],
   "source": [
    "MetricasMatrixConfusion(y_test,RegresionLogit_sklearn,x_test)"
   ]
  },
  {
   "cell_type": "code",
   "execution_count": 42,
   "id": "72f092da-34f1-408a-994b-d6ff212900e2",
   "metadata": {},
   "outputs": [],
   "source": [
    "Accuracy_TestRL=metrics.accuracy_score(y_test,Prediccion_Test)\n",
    "fscore_0_test_lg1= f1_score(y_test,Prediccion_Test,pos_label=0)\n",
    "fscore_1_test_lg1=f1_score(y_test,Prediccion_Test,pos_label=1)"
   ]
  },
  {
   "cell_type": "code",
   "execution_count": 43,
   "id": "31b569dd-1edb-49e5-a37a-a34702c82cdd",
   "metadata": {},
   "outputs": [
    {
     "name": "stdout",
     "output_type": "stream",
     "text": [
      "Modelo AUC: 0.8003187140580614\n"
     ]
    },
    {
     "data": {
      "image/png": "[encoded data removed]",
      "text/plain": [
       "<Figure size 432x288 with 1 Axes>"
      ]
     },
     "metadata": {
      "needs_background": "light"
     },
     "output_type": "display_data"
    }
   ],
   "source": [
    "curva_roc(y_test,RegresionLogit_sklearn,x_test)"
   ]
  },
  {
   "cell_type": "code",
   "execution_count": 44,
   "id": "747b79af-5af9-4661-a990-b8f693e989a1",
   "metadata": {},
   "outputs": [
    {
     "data": {
      "text/plain": [
       "0.8003"
      ]
     },
     "execution_count": 44,
     "metadata": {},
     "output_type": "execute_result"
    }
   ],
   "source": [
    "Probalidad_Test_RL_Sklean=RegresionLogit_sklearn.predict_proba(x_test)\n",
    "AUC_Test_RL_Sklearn=round(roc_auc_score(y_test, Probalidad_Test_RL_Sklean[:,1]),4)\n",
    "AUC_Test_RL_Sklearn"
   ]
  },
  {
   "cell_type": "code",
   "execution_count": null,
   "id": "46985425-2257-41a6-8df9-2296abbd6792",
   "metadata": {},
   "outputs": [],
   "source": []
  },
  {
   "cell_type": "markdown",
   "id": "10a93121-fb16-4664-bb70-5843de08ed62",
   "metadata": {},
   "source": [
    "## **Enfoque Inferencial**"
   ]
  },
  {
   "cell_type": "code",
   "execution_count": 45,
   "id": "0d79116f-3cad-405e-bd37-92dcfbb02156",
   "metadata": {},
   "outputs": [],
   "source": [
    "variables_eliminar=[\"Productos_Vida_8\"]"
   ]
  },
  {
   "cell_type": "code",
   "execution_count": 46,
   "id": "fdddf4e2-0d0a-46fa-ad39-edf9302db486",
   "metadata": {},
   "outputs": [],
   "source": [
    "x_train_1=sms.add_constant(x_train.drop(columns=variables_eliminar),prepend=True)\n",
    "x_test_1=sms.add_constant(x_test.drop(columns=variables_eliminar),prepend=True)"
   ]
  },
  {
   "cell_type": "code",
   "execution_count": 47,
   "id": "c65be6d0-4669-438d-8d55-d61e14027d00",
   "metadata": {},
   "outputs": [
    {
     "name": "stdout",
     "output_type": "stream",
     "text": [
      "Warning: Maximum number of iterations has been exceeded.\n",
      "         Current function value: 0.130099\n",
      "         Iterations: 35\n",
      "         Function evaluations: 48\n",
      "         Gradient evaluations: 40\n"
     ]
    }
   ],
   "source": [
    "Modelo_Logit=sms.Logit(endog=y_train,exog=x_train_1).fit(method=\"bfgs\")"
   ]
  },
  {
   "cell_type": "code",
   "execution_count": 48,
   "id": "939e9c05-5f6f-4470-8ec8-b12c0114a457",
   "metadata": {},
   "outputs": [
    {
     "data": {
      "text/html": [
       "<table class=\"simpletable\">\n",
       "<tr>\n",
       "        <td>Model:</td>              <td>Logit</td>      <td>Pseudo R-squared:</td>    <td>0.399</td>  \n",
       "</tr>\n",
       "<tr>\n",
       "  <td>Dependent Variable:</td>      <td>target</td>            <td>AIC:</td>         <td>600.1556</td> \n",
       "</tr>\n",
       "<tr>\n",
       "         <td>Date:</td>        <td>2023-07-05 19:51</td>       <td>BIC:</td>         <td>752.6844</td> \n",
       "</tr>\n",
       "<tr>\n",
       "   <td>No. Observations:</td>        <td>2099</td>        <td>Log-Likelihood:</td>    <td>-273.08</td> \n",
       "</tr>\n",
       "<tr>\n",
       "       <td>Df Model:</td>             <td>26</td>            <td>LL-Null:</td>        <td>-454.29</td> \n",
       "</tr>\n",
       "<tr>\n",
       "     <td>Df Residuals:</td>          <td>2072</td>         <td>LLR p-value:</td>    <td>5.6191e-61</td>\n",
       "</tr>\n",
       "<tr>\n",
       "      <td>Converged:</td>           <td>0.0000</td>           <td>Scale:</td>         <td>1.0000</td>  \n",
       "</tr>\n",
       "</table>\n",
       "<table class=\"simpletable\">\n",
       "<tr>\n",
       "                  <td></td>                  <th>Coef.</th>  <th>Std.Err.</th>     <th>z</th>     <th>P>|z|</th>  <th>[0.025</th>  <th>0.975]</th> \n",
       "</tr>\n",
       "<tr>\n",
       "  <th>const</th>                            <td>-5.9226</td>  <td>0.5719</td>  <td>-10.3564</td> <td>0.0000</td>  <td>-7.0435</td> <td>-4.8018</td>\n",
       "</tr>\n",
       "<tr>\n",
       "  <th>Productos_Vehiculos_4</th>            <td>-0.4683</td>  <td>1.0721</td>   <td>-0.4368</td> <td>0.6622</td>  <td>-2.5696</td> <td>1.6329</td> \n",
       "</tr>\n",
       "<tr>\n",
       "  <th>Productos_Otros_2</th>                <td>0.4754</td>   <td>0.2574</td>   <td>1.8468</td>  <td>0.0648</td>  <td>-0.0291</td> <td>0.9799</td> \n",
       "</tr>\n",
       "<tr>\n",
       "  <th>Mes Alta_Mayo</th>                    <td>0.1268</td>   <td>0.4788</td>   <td>0.2649</td>  <td>0.7911</td>  <td>-0.8116</td> <td>1.0653</td> \n",
       "</tr>\n",
       "<tr>\n",
       "  <th>Productos_Vida_3</th>                 <td>-0.0127</td>  <td>3.7386</td>   <td>-0.0034</td> <td>0.9973</td>  <td>-7.3403</td> <td>7.3149</td> \n",
       "</tr>\n",
       "<tr>\n",
       "  <th>Mes Alta_Febrero</th>                 <td>-0.4113</td>  <td>0.4797</td>   <td>-0.8575</td> <td>0.3912</td>  <td>-1.3516</td> <td>0.5289</td> \n",
       "</tr>\n",
       "<tr>\n",
       "  <th>Mes Alta_Agosto</th>                  <td>-0.2551</td>  <td>0.3504</td>   <td>-0.7282</td> <td>0.4665</td>  <td>-0.9418</td> <td>0.4316</td> \n",
       "</tr>\n",
       "<tr>\n",
       "  <th>Productos_Otros_3</th>                <td>-0.7477</td>  <td>0.6127</td>   <td>-1.2202</td> <td>0.2224</td>  <td>-1.9486</td> <td>0.4533</td> \n",
       "</tr>\n",
       "<tr>\n",
       "  <th>Mes Alta_Julio</th>                   <td>-0.9260</td>  <td>0.6055</td>   <td>-1.5293</td> <td>0.1262</td>  <td>-2.1127</td> <td>0.2607</td> \n",
       "</tr>\n",
       "<tr>\n",
       "  <th>Productos_Otros_5</th>                <td>-0.0078</td>  <td>6.9603</td>   <td>-0.0011</td> <td>0.9991</td> <td>-13.6498</td> <td>13.6342</td>\n",
       "</tr>\n",
       "<tr>\n",
       "  <th>Mes Alta_Septiembre</th>              <td>-0.6576</td>  <td>0.5542</td>   <td>-1.1866</td> <td>0.2354</td>  <td>-1.7437</td> <td>0.4286</td> \n",
       "</tr>\n",
       "<tr>\n",
       "  <th>Productos_Vehiculos_6</th>            <td>-0.0216</td>  <td>4.5550</td>   <td>-0.0048</td> <td>0.9962</td>  <td>-8.9494</td> <td>8.9061</td> \n",
       "</tr>\n",
       "<tr>\n",
       "  <th>Mes Alta_Octubre</th>                 <td>0.3983</td>   <td>0.3845</td>   <td>1.0359</td>  <td>0.3003</td>  <td>-0.3553</td> <td>1.1518</td> \n",
       "</tr>\n",
       "<tr>\n",
       "  <th>Productos_Otros_6</th>                <td>-0.0030</td>  <td>18.9054</td>  <td>-0.0002</td> <td>0.9999</td> <td>-37.0569</td> <td>37.0508</td>\n",
       "</tr>\n",
       "<tr>\n",
       "  <th>Productos_Vehiculos_3</th>            <td>-0.9555</td>  <td>0.7163</td>   <td>-1.3340</td> <td>0.1822</td>  <td>-2.3593</td> <td>0.4484</td> \n",
       "</tr>\n",
       "<tr>\n",
       "  <th>Dia Semana_Martes</th>                <td>-0.7671</td>  <td>0.4072</td>   <td>-1.8836</td> <td>0.0596</td>  <td>-1.5653</td> <td>0.0311</td> \n",
       "</tr>\n",
       "<tr>\n",
       "  <th>Dia Semana_Jueves</th>                <td>-1.1191</td>  <td>0.4458</td>   <td>-2.5104</td> <td>0.0121</td>  <td>-1.9929</td> <td>-0.2454</td>\n",
       "</tr>\n",
       "<tr>\n",
       "  <th>Gasto_Vehiculos</th>                  <td>0.0008</td>   <td>0.0001</td>   <td>13.2541</td> <td>0.0000</td>  <td>0.0007</td>  <td>0.0010</td> \n",
       "</tr>\n",
       "<tr>\n",
       "  <th>Vivienda_Propiedad</th>               <td>0.0018</td>   <td>0.0038</td>   <td>0.4655</td>  <td>0.6416</td>  <td>-0.0057</td> <td>0.0093</td> \n",
       "</tr>\n",
       "<tr>\n",
       "  <th>Gasto_Otros</th>                      <td>-0.0003</td>  <td>0.0003</td>   <td>-0.9896</td> <td>0.3224</td>  <td>-0.0008</td> <td>0.0002</td> \n",
       "</tr>\n",
       "<tr>\n",
       "  <th>Educacion_Media</th>                  <td>0.0051</td>   <td>0.0060</td>   <td>0.8402</td>  <td>0.4008</td>  <td>-0.0068</td> <td>0.0169</td> \n",
       "</tr>\n",
       "<tr>\n",
       "  <th>Poblacion_Trabajador_Cualificado</th> <td>0.0035</td>   <td>0.0073</td>   <td>0.4887</td>  <td>0.6251</td>  <td>-0.0107</td> <td>0.0178</td> \n",
       "</tr>\n",
       "<tr>\n",
       "  <th>Medico_Seguro_Privado</th>            <td>0.0084</td>   <td>0.0068</td>   <td>1.2372</td>  <td>0.2160</td>  <td>-0.0049</td> <td>0.0217</td> \n",
       "</tr>\n",
       "<tr>\n",
       "  <th>Educacion_Superior</th>               <td>0.0330</td>   <td>0.0078</td>   <td>4.2379</td>  <td>0.0000</td>  <td>0.0178</td>  <td>0.0483</td> \n",
       "</tr>\n",
       "<tr>\n",
       "  <th>Tipo_Soltero</th>                     <td>-0.0049</td>  <td>0.0071</td>   <td>-0.6937</td> <td>0.4879</td>  <td>-0.0189</td> <td>0.0090</td> \n",
       "</tr>\n",
       "<tr>\n",
       "  <th>Poblacion_Empresario</th>             <td>-0.0155</td>  <td>0.0073</td>   <td>-2.1214</td> <td>0.0339</td>  <td>-0.0298</td> <td>-0.0012</td>\n",
       "</tr>\n",
       "<tr>\n",
       "  <th>Ingresos_De_20000_Hasta_40000</th>    <td>-0.0102</td>  <td>0.0109</td>   <td>-0.9412</td> <td>0.3466</td>  <td>-0.0315</td> <td>0.0111</td> \n",
       "</tr>\n",
       "</table>"
      ],
      "text/plain": [
       "<class 'statsmodels.iolib.summary2.Summary'>\n",
       "\"\"\"\n",
       "                                  Results: Logit\n",
       "==================================================================================\n",
       "Model:                     Logit                 Pseudo R-squared:      0.399     \n",
       "Dependent Variable:        target                AIC:                   600.1556  \n",
       "Date:                      2023-07-05 19:51      BIC:                   752.6844  \n",
       "No. Observations:          2099                  Log-Likelihood:        -273.08   \n",
       "Df Model:                  26                    LL-Null:               -454.29   \n",
       "Df Residuals:              2072                  LLR p-value:           5.6191e-61\n",
       "Converged:                 0.0000                Scale:                 1.0000    \n",
       "----------------------------------------------------------------------------------\n",
       "                                  Coef.  Std.Err.    z     P>|z|   [0.025   0.975]\n",
       "----------------------------------------------------------------------------------\n",
       "const                            -5.9226   0.5719 -10.3564 0.0000  -7.0435 -4.8018\n",
       "Productos_Vehiculos_4            -0.4683   1.0721  -0.4368 0.6622  -2.5696  1.6329\n",
       "Productos_Otros_2                 0.4754   0.2574   1.8468 0.0648  -0.0291  0.9799\n",
       "Mes Alta_Mayo                     0.1268   0.4788   0.2649 0.7911  -0.8116  1.0653\n",
       "Productos_Vida_3                 -0.0127   3.7386  -0.0034 0.9973  -7.3403  7.3149\n",
       "Mes Alta_Febrero                 -0.4113   0.4797  -0.8575 0.3912  -1.3516  0.5289\n",
       "Mes Alta_Agosto                  -0.2551   0.3504  -0.7282 0.4665  -0.9418  0.4316\n",
       "Productos_Otros_3                -0.7477   0.6127  -1.2202 0.2224  -1.9486  0.4533\n",
       "Mes Alta_Julio                   -0.9260   0.6055  -1.5293 0.1262  -2.1127  0.2607\n",
       "Productos_Otros_5                -0.0078   6.9603  -0.0011 0.9991 -13.6498 13.6342\n",
       "Mes Alta_Septiembre              -0.6576   0.5542  -1.1866 0.2354  -1.7437  0.4286\n",
       "Productos_Vehiculos_6            -0.0216   4.5550  -0.0048 0.9962  -8.9494  8.9061\n",
       "Mes Alta_Octubre                  0.3983   0.3845   1.0359 0.3003  -0.3553  1.1518\n",
       "Productos_Otros_6                -0.0030  18.9054  -0.0002 0.9999 -37.0569 37.0508\n",
       "Productos_Vehiculos_3            -0.9555   0.7163  -1.3340 0.1822  -2.3593  0.4484\n",
       "Dia Semana_Martes                -0.7671   0.4072  -1.8836 0.0596  -1.5653  0.0311\n",
       "Dia Semana_Jueves                -1.1191   0.4458  -2.5104 0.0121  -1.9929 -0.2454\n",
       "Gasto_Vehiculos                   0.0008   0.0001  13.2541 0.0000   0.0007  0.0010\n",
       "Vivienda_Propiedad                0.0018   0.0038   0.4655 0.6416  -0.0057  0.0093\n",
       "Gasto_Otros                      -0.0003   0.0003  -0.9896 0.3224  -0.0008  0.0002\n",
       "Educacion_Media                   0.0051   0.0060   0.8402 0.4008  -0.0068  0.0169\n",
       "Poblacion_Trabajador_Cualificado  0.0035   0.0073   0.4887 0.6251  -0.0107  0.0178\n",
       "Medico_Seguro_Privado             0.0084   0.0068   1.2372 0.2160  -0.0049  0.0217\n",
       "Educacion_Superior                0.0330   0.0078   4.2379 0.0000   0.0178  0.0483\n",
       "Tipo_Soltero                     -0.0049   0.0071  -0.6937 0.4879  -0.0189  0.0090\n",
       "Poblacion_Empresario             -0.0155   0.0073  -2.1214 0.0339  -0.0298 -0.0012\n",
       "Ingresos_De_20000_Hasta_40000    -0.0102   0.0109  -0.9412 0.3466  -0.0315  0.0111\n",
       "==================================================================================\n",
       "\n",
       "\"\"\""
      ]
     },
     "execution_count": 48,
     "metadata": {},
     "output_type": "execute_result"
    }
   ],
   "source": [
    "Modelo_Logit.summary2()"
   ]
  },
  {
   "cell_type": "code",
   "execution_count": 49,
   "id": "344e9649-0acf-41de-8cd9-e73f1c27413e",
   "metadata": {},
   "outputs": [
    {
     "data": {
      "text/plain": [
       "5"
      ]
     },
     "execution_count": 49,
     "metadata": {},
     "output_type": "execute_result"
    }
   ],
   "source": [
    "p_values=Modelo_Logit.pvalues\n",
    "var_significativa=p_values[p_values<0.05].index\n",
    "len(var_significativa)"
   ]
  },
  {
   "cell_type": "code",
   "execution_count": 50,
   "id": "6ba17620-7706-47d8-81b1-eadc59678de7",
   "metadata": {},
   "outputs": [
    {
     "data": {
      "text/plain": [
       "22"
      ]
     },
     "execution_count": 50,
     "metadata": {},
     "output_type": "execute_result"
    }
   ],
   "source": [
    "var_no_significativa=p_values[p_values>0.05].index\n",
    "len(var_no_significativa)"
   ]
  },
  {
   "cell_type": "markdown",
   "id": "4432bd9e-7bc2-498e-90cc-bf99f5c7afe3",
   "metadata": {},
   "source": [
    "* Modelo no converge"
   ]
  },
  {
   "cell_type": "markdown",
   "id": "239200e1-ba8b-41e9-852c-3887612fef4c",
   "metadata": {},
   "source": [
    "### Identifcar multicolinealidad"
   ]
  },
  {
   "cell_type": "markdown",
   "id": "69bb5a69-b770-4daf-8ecd-1aa10c3bc571",
   "metadata": {},
   "source": [
    "**El VIF**\n",
    "es una medida utilizada para detectar multicolinealidad en un modelo de regresión. Indica la inflación de la varianza de los coeficientes debido a la multicolinealidad. Un VIF alto para una variable predictor indica una alta correlación con otras variables predictoras en el modelo"
   ]
  },
  {
   "cell_type": "code",
   "execution_count": 51,
   "id": "00dd9005-03ef-4a1e-a15f-6ca08c90e673",
   "metadata": {},
   "outputs": [],
   "source": [
    "x=x_train_1.drop([\"const\"],axis=1)\n",
    "tabla_vif=pd.DataFrame()\n",
    "tabla_vif[\"variables\"]=x.columns\n",
    "tabla_vif[\"VIF\"]=[variance_inflation_factor(x.values,i) for i in range(len(x.columns))]"
   ]
  },
  {
   "cell_type": "code",
   "execution_count": 52,
   "id": "c319663a-6ca4-4dc6-896c-c2dd9a735ea5",
   "metadata": {},
   "outputs": [
    {
     "data": {
      "text/html": [
       "<div>\n",
       "<style scoped>\n",
       "    .dataframe tbody tr th:only-of-type {\n",
       "        vertical-align: middle;\n",
       "    }\n",
       "\n",
       "    .dataframe tbody tr th {\n",
       "        vertical-align: top;\n",
       "    }\n",
       "\n",
       "    .dataframe thead th {\n",
       "        text-align: right;\n",
       "    }\n",
       "</style>\n",
       "<table border=\"1\" class=\"dataframe\">\n",
       "  <thead>\n",
       "    <tr style=\"text-align: right;\">\n",
       "      <th></th>\n",
       "      <th>variables</th>\n",
       "      <th>VIF</th>\n",
       "    </tr>\n",
       "  </thead>\n",
       "  <tbody>\n",
       "    <tr>\n",
       "      <th>3</th>\n",
       "      <td>Productos_Vida_3</td>\n",
       "      <td>1.010740</td>\n",
       "    </tr>\n",
       "    <tr>\n",
       "      <th>10</th>\n",
       "      <td>Productos_Vehiculos_6</td>\n",
       "      <td>1.020503</td>\n",
       "    </tr>\n",
       "    <tr>\n",
       "      <th>0</th>\n",
       "      <td>Productos_Vehiculos_4</td>\n",
       "      <td>1.028523</td>\n",
       "    </tr>\n",
       "    <tr>\n",
       "      <th>12</th>\n",
       "      <td>Productos_Otros_6</td>\n",
       "      <td>1.036331</td>\n",
       "    </tr>\n",
       "    <tr>\n",
       "      <th>8</th>\n",
       "      <td>Productos_Otros_5</td>\n",
       "      <td>1.047990</td>\n",
       "    </tr>\n",
       "    <tr>\n",
       "      <th>13</th>\n",
       "      <td>Productos_Vehiculos_3</td>\n",
       "      <td>1.124385</td>\n",
       "    </tr>\n",
       "    <tr>\n",
       "      <th>2</th>\n",
       "      <td>Mes Alta_Mayo</td>\n",
       "      <td>1.132095</td>\n",
       "    </tr>\n",
       "    <tr>\n",
       "      <th>4</th>\n",
       "      <td>Mes Alta_Febrero</td>\n",
       "      <td>1.138472</td>\n",
       "    </tr>\n",
       "    <tr>\n",
       "      <th>7</th>\n",
       "      <td>Mes Alta_Julio</td>\n",
       "      <td>1.159837</td>\n",
       "    </tr>\n",
       "    <tr>\n",
       "      <th>9</th>\n",
       "      <td>Mes Alta_Septiembre</td>\n",
       "      <td>1.160084</td>\n",
       "    </tr>\n",
       "    <tr>\n",
       "      <th>15</th>\n",
       "      <td>Dia Semana_Jueves</td>\n",
       "      <td>1.166416</td>\n",
       "    </tr>\n",
       "    <tr>\n",
       "      <th>11</th>\n",
       "      <td>Mes Alta_Octubre</td>\n",
       "      <td>1.170136</td>\n",
       "    </tr>\n",
       "    <tr>\n",
       "      <th>14</th>\n",
       "      <td>Dia Semana_Martes</td>\n",
       "      <td>1.183199</td>\n",
       "    </tr>\n",
       "    <tr>\n",
       "      <th>6</th>\n",
       "      <td>Productos_Otros_3</td>\n",
       "      <td>1.198497</td>\n",
       "    </tr>\n",
       "    <tr>\n",
       "      <th>5</th>\n",
       "      <td>Mes Alta_Agosto</td>\n",
       "      <td>1.255750</td>\n",
       "    </tr>\n",
       "    <tr>\n",
       "      <th>18</th>\n",
       "      <td>Gasto_Otros</td>\n",
       "      <td>1.360367</td>\n",
       "    </tr>\n",
       "    <tr>\n",
       "      <th>25</th>\n",
       "      <td>Ingresos_De_20000_Hasta_40000</td>\n",
       "      <td>1.566202</td>\n",
       "    </tr>\n",
       "    <tr>\n",
       "      <th>1</th>\n",
       "      <td>Productos_Otros_2</td>\n",
       "      <td>1.685071</td>\n",
       "    </tr>\n",
       "    <tr>\n",
       "      <th>16</th>\n",
       "      <td>Gasto_Vehiculos</td>\n",
       "      <td>1.760093</td>\n",
       "    </tr>\n",
       "    <tr>\n",
       "      <th>23</th>\n",
       "      <td>Tipo_Soltero</td>\n",
       "      <td>1.761916</td>\n",
       "    </tr>\n",
       "    <tr>\n",
       "      <th>20</th>\n",
       "      <td>Poblacion_Trabajador_Cualificado</td>\n",
       "      <td>1.919029</td>\n",
       "    </tr>\n",
       "    <tr>\n",
       "      <th>22</th>\n",
       "      <td>Educacion_Superior</td>\n",
       "      <td>2.831252</td>\n",
       "    </tr>\n",
       "    <tr>\n",
       "      <th>19</th>\n",
       "      <td>Educacion_Media</td>\n",
       "      <td>3.279827</td>\n",
       "    </tr>\n",
       "    <tr>\n",
       "      <th>17</th>\n",
       "      <td>Vivienda_Propiedad</td>\n",
       "      <td>3.893263</td>\n",
       "    </tr>\n",
       "    <tr>\n",
       "      <th>24</th>\n",
       "      <td>Poblacion_Empresario</td>\n",
       "      <td>4.073241</td>\n",
       "    </tr>\n",
       "    <tr>\n",
       "      <th>21</th>\n",
       "      <td>Medico_Seguro_Privado</td>\n",
       "      <td>4.367683</td>\n",
       "    </tr>\n",
       "  </tbody>\n",
       "</table>\n",
       "</div>"
      ],
      "text/plain": [
       "                           variables       VIF\n",
       "3                   Productos_Vida_3  1.010740\n",
       "10             Productos_Vehiculos_6  1.020503\n",
       "0              Productos_Vehiculos_4  1.028523\n",
       "12                 Productos_Otros_6  1.036331\n",
       "8                  Productos_Otros_5  1.047990\n",
       "13             Productos_Vehiculos_3  1.124385\n",
       "2                      Mes Alta_Mayo  1.132095\n",
       "4                   Mes Alta_Febrero  1.138472\n",
       "7                     Mes Alta_Julio  1.159837\n",
       "9                Mes Alta_Septiembre  1.160084\n",
       "15                 Dia Semana_Jueves  1.166416\n",
       "11                  Mes Alta_Octubre  1.170136\n",
       "14                 Dia Semana_Martes  1.183199\n",
       "6                  Productos_Otros_3  1.198497\n",
       "5                    Mes Alta_Agosto  1.255750\n",
       "18                       Gasto_Otros  1.360367\n",
       "25     Ingresos_De_20000_Hasta_40000  1.566202\n",
       "1                  Productos_Otros_2  1.685071\n",
       "16                   Gasto_Vehiculos  1.760093\n",
       "23                      Tipo_Soltero  1.761916\n",
       "20  Poblacion_Trabajador_Cualificado  1.919029\n",
       "22                Educacion_Superior  2.831252\n",
       "19                   Educacion_Media  3.279827\n",
       "17                Vivienda_Propiedad  3.893263\n",
       "24              Poblacion_Empresario  4.073241\n",
       "21             Medico_Seguro_Privado  4.367683"
      ]
     },
     "execution_count": 52,
     "metadata": {},
     "output_type": "execute_result"
    }
   ],
   "source": [
    "tabla_vif.sort_values(\"VIF\")"
   ]
  },
  {
   "cell_type": "markdown",
   "id": "c1b37d0e-4ed7-438c-b1f3-89fef9687b06",
   "metadata": {},
   "source": [
    "**Eliminación Variables**\n",
    "\n",
    "La función SelectFromModel de sklearn.feature_selection es una herramienta de selección de características que se puede utilizar para eliminar automáticamente variables en un modelo de regresión logística basado en la importancia de las características."
   ]
  },
  {
   "cell_type": "code",
   "execution_count": 53,
   "id": "73f0e31b-0054-4472-a797-83488801cd7a",
   "metadata": {},
   "outputs": [
    {
     "data": {
      "text/html": [
       "<style>#sk-container-id-2 {color: black;background-color: white;}#sk-container-id-2 pre{padding: 0;}#sk-container-id-2 div.sk-toggleable {background-color: white;}#sk-container-id-2 label.sk-toggleable__label {cursor: pointer;display: block;width: 100%;margin-bottom: 0;padding: 0.3em;box-sizing: border-box;text-align: center;}#sk-container-id-2 label.sk-toggleable__label-arrow:before {content: \"▸\";float: left;margin-right: 0.25em;color: #696969;}#sk-container-id-2 label.sk-toggleable__label-arrow:hover:before {color: black;}#sk-container-id-2 div.sk-estimator:hover label.sk-toggleable__label-arrow:before {color: black;}#sk-container-id-2 div.sk-toggleable__content {max-height: 0;max-width: 0;overflow: hidden;text-align: left;background-color: #f0f8ff;}#sk-container-id-2 div.sk-toggleable__content pre {margin: 0.2em;color: black;border-radius: 0.25em;background-color: #f0f8ff;}#sk-container-id-2 input.sk-toggleable__control:checked~div.sk-toggleable__content {max-height: 200px;max-width: 100%;overflow: auto;}#sk-container-id-2 input.sk-toggleable__control:checked~label.sk-toggleable__label-arrow:before {content: \"▾\";}#sk-container-id-2 div.sk-estimator input.sk-toggleable__control:checked~label.sk-toggleable__label {background-color: #d4ebff;}#sk-container-id-2 div.sk-label input.sk-toggleable__control:checked~label.sk-toggleable__label {background-color: #d4ebff;}#sk-container-id-2 input.sk-hidden--visually {border: 0;clip: rect(1px 1px 1px 1px);clip: rect(1px, 1px, 1px, 1px);height: 1px;margin: -1px;overflow: hidden;padding: 0;position: absolute;width: 1px;}#sk-container-id-2 div.sk-estimator {font-family: monospace;background-color: #f0f8ff;border: 1px dotted black;border-radius: 0.25em;box-sizing: border-box;margin-bottom: 0.5em;}#sk-container-id-2 div.sk-estimator:hover {background-color: #d4ebff;}#sk-container-id-2 div.sk-parallel-item::after {content: \"\";width: 100%;border-bottom: 1px solid gray;flex-grow: 1;}#sk-container-id-2 div.sk-label:hover label.sk-toggleable__label {background-color: #d4ebff;}#sk-container-id-2 div.sk-serial::before {content: \"\";position: absolute;border-left: 1px solid gray;box-sizing: border-box;top: 0;bottom: 0;left: 50%;z-index: 0;}#sk-container-id-2 div.sk-serial {display: flex;flex-direction: column;align-items: center;background-color: white;padding-right: 0.2em;padding-left: 0.2em;position: relative;}#sk-container-id-2 div.sk-item {position: relative;z-index: 1;}#sk-container-id-2 div.sk-parallel {display: flex;align-items: stretch;justify-content: center;background-color: white;position: relative;}#sk-container-id-2 div.sk-item::before, #sk-container-id-2 div.sk-parallel-item::before {content: \"\";position: absolute;border-left: 1px solid gray;box-sizing: border-box;top: 0;bottom: 0;left: 50%;z-index: -1;}#sk-container-id-2 div.sk-parallel-item {display: flex;flex-direction: column;z-index: 1;position: relative;background-color: white;}#sk-container-id-2 div.sk-parallel-item:first-child::after {align-self: flex-end;width: 50%;}#sk-container-id-2 div.sk-parallel-item:last-child::after {align-self: flex-start;width: 50%;}#sk-container-id-2 div.sk-parallel-item:only-child::after {width: 0;}#sk-container-id-2 div.sk-dashed-wrapped {border: 1px dashed gray;margin: 0 0.4em 0.5em 0.4em;box-sizing: border-box;padding-bottom: 0.4em;background-color: white;}#sk-container-id-2 div.sk-label label {font-family: monospace;font-weight: bold;display: inline-block;line-height: 1.2em;}#sk-container-id-2 div.sk-label-container {text-align: center;}#sk-container-id-2 div.sk-container {/* jupyter's `normalize.less` sets `[hidden] { display: none; }` but bootstrap.min.css set `[hidden] { display: none !important; }` so we also need the `!important` here to be able to override the default hidden behavior on the sphinx rendered scikit-learn.org. See: https://github.com/scikit-learn/scikit-learn/issues/21755 */display: inline-block !important;position: relative;}#sk-container-id-2 div.sk-text-repr-fallback {display: none;}</style><div id=\"sk-container-id-2\" class=\"sk-top-container\"><div class=\"sk-text-repr-fallback\"><pre>SequentialFeatureSelector(estimator=LogisticRegression())</pre><b>In a Jupyter environment, please rerun this cell to show the HTML representation or trust the notebook. <br />On GitHub, the HTML representation is unable to render, please try loading this page with nbviewer.org.</b></div><div class=\"sk-container\" hidden><div class=\"sk-item sk-dashed-wrapped\"><div class=\"sk-label-container\"><div class=\"sk-label sk-toggleable\"><input class=\"sk-toggleable__control sk-hidden--visually\" id=\"sk-estimator-id-2\" type=\"checkbox\" ><label for=\"sk-estimator-id-2\" class=\"sk-toggleable__label sk-toggleable__label-arrow\">SequentialFeatureSelector</label><div class=\"sk-toggleable__content\"><pre>SequentialFeatureSelector(estimator=LogisticRegression())</pre></div></div></div><div class=\"sk-parallel\"><div class=\"sk-parallel-item\"><div class=\"sk-item\"><div class=\"sk-label-container\"><div class=\"sk-label sk-toggleable\"><input class=\"sk-toggleable__control sk-hidden--visually\" id=\"sk-estimator-id-3\" type=\"checkbox\" ><label for=\"sk-estimator-id-3\" class=\"sk-toggleable__label sk-toggleable__label-arrow\">estimator: LogisticRegression</label><div class=\"sk-toggleable__content\"><pre>LogisticRegression()</pre></div></div></div><div class=\"sk-serial\"><div class=\"sk-item\"><div class=\"sk-estimator sk-toggleable\"><input class=\"sk-toggleable__control sk-hidden--visually\" id=\"sk-estimator-id-4\" type=\"checkbox\" ><label for=\"sk-estimator-id-4\" class=\"sk-toggleable__label sk-toggleable__label-arrow\">LogisticRegression</label><div class=\"sk-toggleable__content\"><pre>LogisticRegression()</pre></div></div></div></div></div></div></div></div></div></div>"
      ],
      "text/plain": [
       "SequentialFeatureSelector(estimator=LogisticRegression())"
      ]
     },
     "execution_count": 53,
     "metadata": {},
     "output_type": "execute_result"
    }
   ],
   "source": [
    "logit=LogisticRegression()\n",
    "Selector=SequentialFeatureSelector(logit,direction=\"forward\")\n",
    "Selector.fit(x_train_1,y_train)"
   ]
  },
  {
   "cell_type": "code",
   "execution_count": 54,
   "id": "43279275-c109-4e82-b94e-50d7edafeb45",
   "metadata": {},
   "outputs": [],
   "source": [
    "seleccion_variables=x_train.columns[Selector.get_support()]"
   ]
  },
  {
   "cell_type": "code",
   "execution_count": 55,
   "id": "cafe9ac9-419a-4f5b-9392-a1a422b87af7",
   "metadata": {},
   "outputs": [
    {
     "data": {
      "text/plain": [
       "Index(['Productos_Vehiculos_4', 'Productos_Otros_2', 'Mes Alta_Mayo',\n",
       "       'Productos_Vida_3', 'Mes Alta_Febrero', 'Mes Alta_Agosto',\n",
       "       'Productos_Otros_5', 'Mes Alta_Octubre', 'Gasto_Vehiculos',\n",
       "       'Gasto_Otros', 'Educacion_Superior', 'Poblacion_Empresario',\n",
       "       'Ingresos_De_20000_Hasta_40000'],\n",
       "      dtype='object')"
      ]
     },
     "execution_count": 55,
     "metadata": {},
     "output_type": "execute_result"
    }
   ],
   "source": [
    "seleccion_variables"
   ]
  },
  {
   "cell_type": "code",
   "execution_count": 56,
   "id": "d4de2708-ef19-449d-8cd0-180e8fca3e87",
   "metadata": {},
   "outputs": [
    {
     "name": "stdout",
     "output_type": "stream",
     "text": [
      "Warning: Maximum number of iterations has been exceeded.\n",
      "         Current function value: 0.350748\n",
      "         Iterations: 35\n",
      "         Function evaluations: 47\n",
      "         Gradient evaluations: 39\n"
     ]
    }
   ],
   "source": [
    "x_train_2=x_train[seleccion_variables]\n",
    "Modelo_Logit_Final=sms.Logit(endog=y_train,exog=x_train_2).fit(method=\"bfgs\")"
   ]
  },
  {
   "cell_type": "code",
   "execution_count": 57,
   "id": "2dd6e0ec-8399-455a-b675-eec48eb67d03",
   "metadata": {},
   "outputs": [
    {
     "data": {
      "text/html": [
       "<table class=\"simpletable\">\n",
       "<tr>\n",
       "        <td>Model:</td>              <td>Logit</td>      <td>Pseudo R-squared:</td>  <td>-0.621</td>  \n",
       "</tr>\n",
       "<tr>\n",
       "  <td>Dependent Variable:</td>      <td>target</td>            <td>AIC:</td>        <td>1498.4415</td>\n",
       "</tr>\n",
       "<tr>\n",
       "         <td>Date:</td>        <td>2023-07-05 19:51</td>       <td>BIC:</td>        <td>1571.8814</td>\n",
       "</tr>\n",
       "<tr>\n",
       "   <td>No. Observations:</td>        <td>2099</td>        <td>Log-Likelihood:</td>   <td>-736.22</td> \n",
       "</tr>\n",
       "<tr>\n",
       "       <td>Df Model:</td>             <td>12</td>            <td>LL-Null:</td>       <td>-454.29</td> \n",
       "</tr>\n",
       "<tr>\n",
       "     <td>Df Residuals:</td>          <td>2086</td>         <td>LLR p-value:</td>     <td>1.0000</td>  \n",
       "</tr>\n",
       "<tr>\n",
       "      <td>Converged:</td>           <td>0.0000</td>           <td>Scale:</td>        <td>1.0000</td>  \n",
       "</tr>\n",
       "</table>\n",
       "<table class=\"simpletable\">\n",
       "<tr>\n",
       "                <td></td>                 <th>Coef.</th>  <th>Std.Err.</th>    <th>z</th>     <th>P>|z|</th>  <th>[0.025</th>  <th>0.975]</th> \n",
       "</tr>\n",
       "<tr>\n",
       "  <th>Productos_Vehiculos_4</th>         <td>-0.1969</td>  <td>1.2641</td>  <td>-0.1558</td> <td>0.8762</td>  <td>-2.6745</td> <td>2.2806</td> \n",
       "</tr>\n",
       "<tr>\n",
       "  <th>Productos_Otros_2</th>             <td>-1.1828</td>  <td>0.1720</td>  <td>-6.8787</td> <td>0.0000</td>  <td>-1.5198</td> <td>-0.8458</td>\n",
       "</tr>\n",
       "<tr>\n",
       "  <th>Mes Alta_Mayo</th>                 <td>-1.6967</td>  <td>0.3617</td>  <td>-4.6910</td> <td>0.0000</td>  <td>-2.4056</td> <td>-0.9878</td>\n",
       "</tr>\n",
       "<tr>\n",
       "  <th>Productos_Vida_3</th>              <td>-0.0011</td>  <td>12.8834</td> <td>-0.0001</td> <td>0.9999</td> <td>-25.2521</td> <td>25.2500</td>\n",
       "</tr>\n",
       "<tr>\n",
       "  <th>Mes Alta_Febrero</th>              <td>-1.7768</td>  <td>0.3764</td>  <td>-4.7204</td> <td>0.0000</td>  <td>-2.5145</td> <td>-1.0390</td>\n",
       "</tr>\n",
       "<tr>\n",
       "  <th>Mes Alta_Agosto</th>               <td>-1.6492</td>  <td>0.2532</td>  <td>-6.5138</td> <td>0.0000</td>  <td>-2.1455</td> <td>-1.1530</td>\n",
       "</tr>\n",
       "<tr>\n",
       "  <th>Productos_Otros_5</th>             <td>-0.0162</td>  <td>3.4676</td>  <td>-0.0047</td> <td>0.9963</td>  <td>-6.8127</td> <td>6.7802</td> \n",
       "</tr>\n",
       "<tr>\n",
       "  <th>Mes Alta_Octubre</th>              <td>-1.5974</td>  <td>0.3116</td>  <td>-5.1263</td> <td>0.0000</td>  <td>-2.2082</td> <td>-0.9867</td>\n",
       "</tr>\n",
       "<tr>\n",
       "  <th>Gasto_Vehiculos</th>               <td>0.0001</td>   <td>0.0000</td>  <td>4.3410</td>  <td>0.0000</td>  <td>0.0001</td>  <td>0.0002</td> \n",
       "</tr>\n",
       "<tr>\n",
       "  <th>Gasto_Otros</th>                   <td>-0.0010</td>  <td>0.0003</td>  <td>-3.2572</td> <td>0.0011</td>  <td>-0.0016</td> <td>-0.0004</td>\n",
       "</tr>\n",
       "<tr>\n",
       "  <th>Educacion_Superior</th>            <td>0.0038</td>   <td>0.0053</td>  <td>0.7188</td>  <td>0.4723</td>  <td>-0.0066</td> <td>0.0143</td> \n",
       "</tr>\n",
       "<tr>\n",
       "  <th>Poblacion_Empresario</th>          <td>-0.0510</td>  <td>0.0053</td>  <td>-9.6687</td> <td>0.0000</td>  <td>-0.0613</td> <td>-0.0407</td>\n",
       "</tr>\n",
       "<tr>\n",
       "  <th>Ingresos_De_20000_Hasta_40000</th> <td>-0.0415</td>  <td>0.0091</td>  <td>-4.5451</td> <td>0.0000</td>  <td>-0.0594</td> <td>-0.0236</td>\n",
       "</tr>\n",
       "</table>"
      ],
      "text/plain": [
       "<class 'statsmodels.iolib.summary2.Summary'>\n",
       "\"\"\"\n",
       "                                Results: Logit\n",
       "==============================================================================\n",
       "Model:                    Logit                Pseudo R-squared:     -0.621   \n",
       "Dependent Variable:       target               AIC:                  1498.4415\n",
       "Date:                     2023-07-05 19:51     BIC:                  1571.8814\n",
       "No. Observations:         2099                 Log-Likelihood:       -736.22  \n",
       "Df Model:                 12                   LL-Null:              -454.29  \n",
       "Df Residuals:             2086                 LLR p-value:          1.0000   \n",
       "Converged:                0.0000               Scale:                1.0000   \n",
       "------------------------------------------------------------------------------\n",
       "                               Coef.  Std.Err.    z    P>|z|   [0.025   0.975]\n",
       "------------------------------------------------------------------------------\n",
       "Productos_Vehiculos_4         -0.1969   1.2641 -0.1558 0.8762  -2.6745  2.2806\n",
       "Productos_Otros_2             -1.1828   0.1720 -6.8787 0.0000  -1.5198 -0.8458\n",
       "Mes Alta_Mayo                 -1.6967   0.3617 -4.6910 0.0000  -2.4056 -0.9878\n",
       "Productos_Vida_3              -0.0011  12.8834 -0.0001 0.9999 -25.2521 25.2500\n",
       "Mes Alta_Febrero              -1.7768   0.3764 -4.7204 0.0000  -2.5145 -1.0390\n",
       "Mes Alta_Agosto               -1.6492   0.2532 -6.5138 0.0000  -2.1455 -1.1530\n",
       "Productos_Otros_5             -0.0162   3.4676 -0.0047 0.9963  -6.8127  6.7802\n",
       "Mes Alta_Octubre              -1.5974   0.3116 -5.1263 0.0000  -2.2082 -0.9867\n",
       "Gasto_Vehiculos                0.0001   0.0000  4.3410 0.0000   0.0001  0.0002\n",
       "Gasto_Otros                   -0.0010   0.0003 -3.2572 0.0011  -0.0016 -0.0004\n",
       "Educacion_Superior             0.0038   0.0053  0.7188 0.4723  -0.0066  0.0143\n",
       "Poblacion_Empresario          -0.0510   0.0053 -9.6687 0.0000  -0.0613 -0.0407\n",
       "Ingresos_De_20000_Hasta_40000 -0.0415   0.0091 -4.5451 0.0000  -0.0594 -0.0236\n",
       "==============================================================================\n",
       "\n",
       "\"\"\""
      ]
     },
     "execution_count": 57,
     "metadata": {},
     "output_type": "execute_result"
    }
   ],
   "source": [
    "Modelo_Logit_Final.summary2()"
   ]
  },
  {
   "cell_type": "markdown",
   "id": "49107a2e-bab6-497b-b540-2497a8df2f4f",
   "metadata": {},
   "source": [
    "Variable Independiente Continua:\n",
    "\n",
    "Para una variable independiente continua, el coeficiente representa el cambio esperado en el logaritmo de la odds para un incremento unitario en la variable, manteniendo constantes todas las demás variables. Si el coeficiente es positivo, implica que un aumento en el valor de la variable independiente está asociado con un aumento en la probabilidad de que el evento ocurra. Si el coeficiente es negativo, implica que un aumento en el valor de la variable independiente está asociado con una disminución en la probabilidad del evento."
   ]
  },
  {
   "cell_type": "markdown",
   "id": "6771977d-8455-4676-a155-d1da846ac8a9",
   "metadata": {},
   "source": [
    "**Interpretación**"
   ]
  },
  {
   "cell_type": "markdown",
   "id": "4533128b-3c4c-4f2b-ae6f-8a692be64725",
   "metadata": {},
   "source": [
    "* Poblacion_Empresario: -0.0510; el p valor es 0.0000, menor a 0.05, por lo tanto la variable es significativa\n",
    "* -0.05; el logaritmo (P comprar Seguro / P no compra del seguro) disminuye en 0.05 unidades cuando la poblacion de empresarios aumenta 1 porcentual "
   ]
  },
  {
   "cell_type": "code",
   "execution_count": 58,
   "id": "a74dc340-ea3a-43a5-b3ed-3e2749f64d6d",
   "metadata": {},
   "outputs": [],
   "source": [
    "from math import e"
   ]
  },
  {
   "cell_type": "code",
   "execution_count": 59,
   "id": "f517aa0b-2d0f-4ddf-91d6-61546efa9006",
   "metadata": {},
   "outputs": [
    {
     "data": {
      "text/plain": [
       "0.8167126245110166"
      ]
     },
     "execution_count": 59,
     "metadata": {},
     "output_type": "execute_result"
    }
   ],
   "source": [
    "(1-e**(-1.6967))"
   ]
  },
  {
   "cell_type": "code",
   "execution_count": 60,
   "id": "8bb1c8e8-2bf4-4ce7-8274-9da4c7774352",
   "metadata": {},
   "outputs": [
    {
     "name": "stdout",
     "output_type": "stream",
     "text": [
      "0.951229424500714\n"
     ]
    }
   ],
   "source": [
    "print(e**(-0.05))"
   ]
  },
  {
   "cell_type": "code",
   "execution_count": 61,
   "id": "7212776e-e1d2-4aa7-937b-105e2668c202",
   "metadata": {},
   "outputs": [
    {
     "data": {
      "text/plain": [
       "1.003807229154028"
      ]
     },
     "execution_count": 61,
     "metadata": {},
     "output_type": "execute_result"
    }
   ],
   "source": [
    "e**(0.0038)"
   ]
  },
  {
   "cell_type": "markdown",
   "id": "ec1776d3-2c9b-4a4d-acc5-7385f9764f47",
   "metadata": {},
   "source": [
    "Es común utilizar la función exponencial (exp) del coeficiente para obtener la razón de probabilidades (odds ratio), que proporciona una interpretación más directa de la relación entre la variable independiente y el resultado. Un odds ratio mayor a 1 indica un aumento en la probabilidad del evento, mientras que un odds ratio menor a 1 indica una disminución en la probabilidad."
   ]
  },
  {
   "cell_type": "markdown",
   "id": "6cbf64de-c44e-4536-8583-ea83c8b5333c",
   "metadata": {},
   "source": [
    "**Variable Independiente Categórica:**\n",
    "\n",
    "Para una variable independiente categórica, el coeficiente representa el cambio en el logaritmo de la odds en comparación con la categoría de referencia (que generalmente se codifica como 0 o \"No\"). Si el coeficiente es positivo, implica que la categoría en comparación tiene una mayor probabilidad de que el evento ocurra en comparación con la categoría de referencia. Si el coeficiente es negativo, implica que la categoría en comparación tiene una menor probabilidad de que el evento ocurra en comparación con la categoría de referencia."
   ]
  },
  {
   "cell_type": "code",
   "execution_count": 62,
   "id": "51251c55-2a5f-4915-8248-1041c8c16359",
   "metadata": {},
   "outputs": [
    {
     "name": "stdout",
     "output_type": "stream",
     "text": [
      "0.16917865368889545\n"
     ]
    }
   ],
   "source": [
    "print(e**(-1.7768))"
   ]
  },
  {
   "cell_type": "code",
   "execution_count": 63,
   "id": "156d9b3b-c770-4359-8204-68bf6fd69871",
   "metadata": {},
   "outputs": [
    {
     "name": "stdout",
     "output_type": "stream",
     "text": [
      "0.1832873754889834\n"
     ]
    }
   ],
   "source": [
    "print(e**(-1.6967))"
   ]
  },
  {
   "cell_type": "code",
   "execution_count": 64,
   "id": "47de154c-1e28-4a22-8213-8662b3c92a52",
   "metadata": {},
   "outputs": [],
   "source": [
    "coefientes= Modelo_Logit_Final.params\n",
    "coefientes_exp=np.exp(coefientes)"
   ]
  },
  {
   "cell_type": "code",
   "execution_count": 65,
   "id": "f482dcc9-32d4-4b18-a7ce-8a5f1c26e840",
   "metadata": {},
   "outputs": [
    {
     "data": {
      "text/html": [
       "<div>\n",
       "<style scoped>\n",
       "    .dataframe tbody tr th:only-of-type {\n",
       "        vertical-align: middle;\n",
       "    }\n",
       "\n",
       "    .dataframe tbody tr th {\n",
       "        vertical-align: top;\n",
       "    }\n",
       "\n",
       "    .dataframe thead th {\n",
       "        text-align: right;\n",
       "    }\n",
       "</style>\n",
       "<table border=\"1\" class=\"dataframe\">\n",
       "  <thead>\n",
       "    <tr style=\"text-align: right;\">\n",
       "      <th></th>\n",
       "      <th>variable</th>\n",
       "      <th>coef</th>\n",
       "    </tr>\n",
       "  </thead>\n",
       "  <tbody>\n",
       "    <tr>\n",
       "      <th>10</th>\n",
       "      <td>Educacion_Superior</td>\n",
       "      <td>1.003833</td>\n",
       "    </tr>\n",
       "    <tr>\n",
       "      <th>8</th>\n",
       "      <td>Gasto_Vehiculos</td>\n",
       "      <td>1.000135</td>\n",
       "    </tr>\n",
       "    <tr>\n",
       "      <th>9</th>\n",
       "      <td>Gasto_Otros</td>\n",
       "      <td>0.998994</td>\n",
       "    </tr>\n",
       "    <tr>\n",
       "      <th>3</th>\n",
       "      <td>Productos_Vida_3</td>\n",
       "      <td>0.998950</td>\n",
       "    </tr>\n",
       "    <tr>\n",
       "      <th>6</th>\n",
       "      <td>Productos_Otros_5</td>\n",
       "      <td>0.983912</td>\n",
       "    </tr>\n",
       "    <tr>\n",
       "      <th>12</th>\n",
       "      <td>Ingresos_De_20000_Hasta_40000</td>\n",
       "      <td>0.959371</td>\n",
       "    </tr>\n",
       "    <tr>\n",
       "      <th>11</th>\n",
       "      <td>Poblacion_Empresario</td>\n",
       "      <td>0.950283</td>\n",
       "    </tr>\n",
       "    <tr>\n",
       "      <th>0</th>\n",
       "      <td>Productos_Vehiculos_4</td>\n",
       "      <td>0.821237</td>\n",
       "    </tr>\n",
       "    <tr>\n",
       "      <th>1</th>\n",
       "      <td>Productos_Otros_2</td>\n",
       "      <td>0.306420</td>\n",
       "    </tr>\n",
       "    <tr>\n",
       "      <th>7</th>\n",
       "      <td>Mes Alta_Octubre</td>\n",
       "      <td>0.202419</td>\n",
       "    </tr>\n",
       "    <tr>\n",
       "      <th>5</th>\n",
       "      <td>Mes Alta_Agosto</td>\n",
       "      <td>0.192197</td>\n",
       "    </tr>\n",
       "    <tr>\n",
       "      <th>2</th>\n",
       "      <td>Mes Alta_Mayo</td>\n",
       "      <td>0.183286</td>\n",
       "    </tr>\n",
       "    <tr>\n",
       "      <th>4</th>\n",
       "      <td>Mes Alta_Febrero</td>\n",
       "      <td>0.169182</td>\n",
       "    </tr>\n",
       "  </tbody>\n",
       "</table>\n",
       "</div>"
      ],
      "text/plain": [
       "                         variable      coef\n",
       "10             Educacion_Superior  1.003833\n",
       "8                 Gasto_Vehiculos  1.000135\n",
       "9                     Gasto_Otros  0.998994\n",
       "3                Productos_Vida_3  0.998950\n",
       "6               Productos_Otros_5  0.983912\n",
       "12  Ingresos_De_20000_Hasta_40000  0.959371\n",
       "11           Poblacion_Empresario  0.950283\n",
       "0           Productos_Vehiculos_4  0.821237\n",
       "1               Productos_Otros_2  0.306420\n",
       "7                Mes Alta_Octubre  0.202419\n",
       "5                 Mes Alta_Agosto  0.192197\n",
       "2                   Mes Alta_Mayo  0.183286\n",
       "4                Mes Alta_Febrero  0.169182"
      ]
     },
     "execution_count": 65,
     "metadata": {},
     "output_type": "execute_result"
    }
   ],
   "source": [
    "td_coeficiente=pd.DataFrame({\"variable\":coefientes_exp.index.tolist(),\"coef\":coefientes_exp.tolist()})\n",
    "td_coeficiente.sort_values(\"coef\",ascending=False)"
   ]
  },
  {
   "cell_type": "markdown",
   "id": "e49f1dcd-8d41-4941-83d5-08e438149a10",
   "metadata": {},
   "source": [
    "## **Train Error**"
   ]
  },
  {
   "cell_type": "code",
   "execution_count": 66,
   "id": "3b9970fa-da71-45e8-83ec-c41cb5a59cb2",
   "metadata": {},
   "outputs": [],
   "source": [
    "Probabilidad_Trian_RL_stastmodels=Modelo_Logit_Final.predict(exog=x_train_2)\n",
    "Prediciones_Trian_RL_stastmodels=np.where(Probabilidad_Trian_RL_stastmodels <0.5,0,1)"
   ]
  },
  {
   "cell_type": "code",
   "execution_count": 67,
   "id": "1edf082a-07e7-4817-b264-85b03fd74614",
   "metadata": {},
   "outputs": [
    {
     "data": {
      "image/png": "[encoded data removed]",
      "text/plain": [
       "<Figure size 432x288 with 1 Axes>"
      ]
     },
     "metadata": {
      "needs_background": "light"
     },
     "output_type": "display_data"
    }
   ],
   "source": [
    "plt.hist(Probabilidad_Trian_RL_stastmodels);"
   ]
  },
  {
   "cell_type": "code",
   "execution_count": 68,
   "id": "9ed6cad3-939a-410d-8a7e-363d0e569ab1",
   "metadata": {},
   "outputs": [
    {
     "name": "stdout",
     "output_type": "stream",
     "text": [
      "Accuracy: 0.8832777513101477\n",
      "              precision    recall  f1-score   support\n",
      "\n",
      "           0       0.94      0.93      0.94      1981\n",
      "           1       0.07      0.08      0.08       118\n",
      "\n",
      "    accuracy                           0.88      2099\n",
      "   macro avg       0.51      0.51      0.51      2099\n",
      "weighted avg       0.90      0.88      0.89      2099\n",
      "\n"
     ]
    },
    {
     "data": {
      "image/png": "[encoded data removed]",
      "text/plain": [
       "<Figure size 432x288 with 2 Axes>"
      ]
     },
     "metadata": {
      "needs_background": "light"
     },
     "output_type": "display_data"
    },
    {
     "name": "stdout",
     "output_type": "stream",
     "text": [
      "Predicion     0    1   All\n",
      "Realidad                  \n",
      "0          1844  137  1981\n",
      "1           108   10   118\n",
      "All        1952  147  2099\n"
     ]
    }
   ],
   "source": [
    "MetricasMatrixConfusion(y_train,Modelo_Logit_Final,x_train_2,tipo=\"estadistico\")"
   ]
  },
  {
   "cell_type": "code",
   "execution_count": 69,
   "id": "cc20dc0b-be8e-48dc-ba09-6ef50d4b7e81",
   "metadata": {},
   "outputs": [
    {
     "name": "stdout",
     "output_type": "stream",
     "text": [
      "Modelo AUC: 0.4801033547514952\n"
     ]
    },
    {
     "data": {
      "image/png": "[encoded data removed]",
      "text/plain": [
       "<Figure size 432x288 with 1 Axes>"
      ]
     },
     "metadata": {
      "needs_background": "light"
     },
     "output_type": "display_data"
    }
   ],
   "source": [
    "curva_roc(y_train,Modelo_Logit_Final,x_train_2,tipo=\"estadistico\")"
   ]
  },
  {
   "cell_type": "code",
   "execution_count": 70,
   "id": "33ca0ffa-3e4c-4e8a-b735-586f6ec5677e",
   "metadata": {},
   "outputs": [
    {
     "data": {
      "text/plain": [
       "0.4801"
      ]
     },
     "execution_count": 70,
     "metadata": {},
     "output_type": "execute_result"
    }
   ],
   "source": [
    "Accuracy_Train_lg2=metrics.accuracy_score(y_train,Prediciones_Trian_RL_stastmodels)\n",
    "fscore_0_train_lg2= f1_score(y_train,Prediciones_Trian_RL_stastmodels,pos_label=0)\n",
    "fscore_1_train_lg2=f1_score(y_train,Prediciones_Trian_RL_stastmodels,pos_label=1)\n",
    "\n",
    "AUC_Train_RL2=round(roc_auc_score(y_train, Probabilidad_Trian_RL_stastmodels),4)\n",
    "AUC_Train_RL2"
   ]
  },
  {
   "cell_type": "code",
   "execution_count": null,
   "id": "f3a267fa-b939-440d-9b1b-4c39191e7625",
   "metadata": {},
   "outputs": [],
   "source": []
  },
  {
   "cell_type": "markdown",
   "id": "cd6c0b28-bf0b-4810-b361-1f96efbf718a",
   "metadata": {},
   "source": [
    "## **Test Error**"
   ]
  },
  {
   "cell_type": "code",
   "execution_count": 71,
   "id": "b88c8495-2322-4a8c-982a-0416ca117594",
   "metadata": {},
   "outputs": [],
   "source": [
    "x_test_2=x_test[seleccion_variables]"
   ]
  },
  {
   "cell_type": "code",
   "execution_count": 72,
   "id": "e7d90cf0-ce0f-4075-91ab-ea46ad637dba",
   "metadata": {},
   "outputs": [],
   "source": [
    "Probabilidad_Test_RL_stastmodels=Modelo_Logit_Final.predict(exog=x_test_2)\n",
    "Prediciones_Test_RL_stastmodels=np.where(Probabilidad_Test_RL_stastmodels <0.5,0,1)"
   ]
  },
  {
   "cell_type": "code",
   "execution_count": 73,
   "id": "d970ef2e-e084-4640-b1ce-290831e2aa42",
   "metadata": {},
   "outputs": [
    {
     "name": "stdout",
     "output_type": "stream",
     "text": [
      "Accuracy: 0.8755555555555555\n",
      "              precision    recall  f1-score   support\n",
      "\n",
      "           0       0.94      0.93      0.93       849\n",
      "           1       0.03      0.04      0.03        51\n",
      "\n",
      "    accuracy                           0.88       900\n",
      "   macro avg       0.49      0.48      0.48       900\n",
      "weighted avg       0.89      0.88      0.88       900\n",
      "\n"
     ]
    },
    {
     "data": {
      "image/png": "[encoded data removed]",
      "text/plain": [
       "<Figure size 432x288 with 2 Axes>"
      ]
     },
     "metadata": {
      "needs_background": "light"
     },
     "output_type": "display_data"
    },
    {
     "name": "stdout",
     "output_type": "stream",
     "text": [
      "Predicion    0   1  All\n",
      "Realidad               \n",
      "0          786  63  849\n",
      "1           49   2   51\n",
      "All        835  65  900\n"
     ]
    }
   ],
   "source": [
    "MetricasMatrixConfusion(y_test,Modelo_Logit_Final,x_test_2,tipo=\"estadistico\")"
   ]
  },
  {
   "cell_type": "code",
   "execution_count": 74,
   "id": "2aa3799d-7f7e-4337-b9b6-10d53b67ea62",
   "metadata": {},
   "outputs": [
    {
     "name": "stdout",
     "output_type": "stream",
     "text": [
      "Modelo AUC: 0.39825400124714194\n"
     ]
    },
    {
     "data": {
      "image/png": "[encoded data removed]",
      "text/plain": [
       "<Figure size 432x288 with 1 Axes>"
      ]
     },
     "metadata": {
      "needs_background": "light"
     },
     "output_type": "display_data"
    }
   ],
   "source": [
    "curva_roc(y_test,Modelo_Logit_Final,x_test_2,tipo=\"estadistico\")"
   ]
  },
  {
   "cell_type": "code",
   "execution_count": 75,
   "id": "3282af0c-66b6-4eb6-bc91-367ca4ed3e47",
   "metadata": {},
   "outputs": [],
   "source": [
    "Accuracy_Test_lg2=metrics.accuracy_score(y_test,Prediciones_Test_RL_stastmodels)\n",
    "fscore_0_Test_lg2= f1_score(y_test,Prediciones_Test_RL_stastmodels,pos_label=0)\n",
    "fscore_1_Test_lg2=f1_score(y_test,Prediciones_Test_RL_stastmodels,pos_label=1)"
   ]
  },
  {
   "cell_type": "code",
   "execution_count": 76,
   "id": "df93142c-5964-4456-9cf9-4fa9aeecb979",
   "metadata": {},
   "outputs": [
    {
     "data": {
      "text/plain": [
       "0.3983"
      ]
     },
     "execution_count": 76,
     "metadata": {},
     "output_type": "execute_result"
    }
   ],
   "source": [
    "AUC_Test_RL2=round(roc_auc_score(y_test, Probabilidad_Test_RL_stastmodels),4)\n",
    "AUC_Test_RL2"
   ]
  },
  {
   "cell_type": "markdown",
   "id": "6d313f84-c932-41fe-a745-3a671e3660cf",
   "metadata": {},
   "source": [
    "# **2) Arbol de Clasificación**\n",
    "* El enfoque classification and regression tree (CART) fue desarrollado por Breiman et al. (1984).\n",
    "* Son un tipo de algoritmos de aprendizaje supervisado (i.e., existe una variable objetivo predefinida).\n",
    "* Principalmente usados en problemas de clasificación.\n",
    "* Las variables de entrada y salida pueden ser categóricas o continuas.\n",
    "* Divide el espacio de predictores (variables independientes) en regiones distintas y no sobrepuestas.\n",
    "\n",
    "\n",
    "<img src=\"https://bookdown.org/content/2031/images/decision_tree_explanation.png\" width=500>\n",
    "\n",
    "Se divide la población o muestra en conjuntos homegéneos basados en la variable de entrada más significativa.\n",
    "La construcción del árbol sigue un enfoque de división binaria recursiva (top-down greddy approach). Greedy -> analiza la mejor variable para ramificación sólo en el proceso de división actual\n",
    "\n",
    "**Ventajas**\n",
    "\n",
    "* Fácil de entender\n",
    "* Util en exploración de datos:identificar importancia de variables a partir de cientos de variables.\n",
    "* Menos limpieza de datos: outliers y valores faltantes no influencian el modelo (A un cierto grado)\n",
    "* El tipo de datos no es una restricción\n",
    "* Es un método no paramétrico (i.e., no hay suposición acerca del espacio de distribución y la estructura del clasificador)\n",
    "\n",
    "**Desventajas**\n",
    "* Sobreajuste\n",
    "* Pérdida de información al categorizar variables continuas\n",
    "* Precisión: métodos como SVM y clasificadores tipo ensamblador a menudo tienen tasas de error 30% más bajas que CART (Classification and Regression Trees)\n",
    "* Inestabilidad: un pequeño cambio en los datos puede modificar ampliamente la estructura del árbol. Por lo tanto la interpretación no es tan directa como parece.\n",
    "\n",
    "**¿Cómo decide un árbol donde ramificarse?**\n",
    "\n",
    "* La decisión de hacer divisiones estratégicas afecta altamente la precisión del árbol.\n",
    "* Los criterios de decisión son diferentes para árboles de clasificación y regresión.\n",
    "* Existen varios algortmos para decidir la ramificación.\n",
    "* La creación de subnodos incrementa la homogeneidad de los subnodos resultantes. Es decir, la pureza del nodo se incrementa respecto a la variable objetivo.\n",
    "* Se prueba la división con todas las variables y se escoge la que produce subnodos más homogéneos.\n",
    "* Algunos algoritmos más comunes para la selección: Indice Gini, Chi Cuadrado, Ganancia de la información y Reducción en la varianza\n",
    "\n",
    "**Indice Gini**\n",
    "\n",
    "“Si seleccionamos aletoriamente dos items de una población, entonces estos deben ser de la misma clase y la probabilidad de esto es 1 si la población es pura”.\n",
    "\n",
    "Variable objetivo categórica: “Success” o “Failure”\n",
    "Solo divisiones binarias\n",
    "A mayor valor de índice Gini, mayor la homogeneidad\n",
    "CART (Classification and Regression Tree) usa el método de Gini para la división binaria\n",
    "\n",
    "**Cálculo de índice Gini**\n",
    "\n",
    "* Calcular Gini para los subnodos usando la fórmula de la suma de los cuadrados de probabilidad para success y failure (p^2 + q^2).\n",
    "* Calcular Gini para la división usando score Gini ponderado para cada nodo de la división\n",
    "\n",
    "<img src=\"https://bookdown.org/content/2031/images/example_tree.png\" width=500>\n",
    "\n",
    "\n",
    "* Mujer\t(0.2)^2 + (0.8)^2 = 0.68  , IX\t(0.43)^2 +(0.57)^2 = 0.51\n",
    "* Hombre\t(0.65)^2 + (0.35)^2 = 0.55, \tX\t(0.56)^2 +(0.44)^2 = 0.51\n",
    "* Pond.\t(10/30)0.68 + (20/30)0.55 = 0.59, \tPond.\t(14/30)0.51 + (16/30)0.51 = 0.51"
   ]
  },
  {
   "cell_type": "markdown",
   "id": "342da5a7-cd90-4918-a7bf-21423ce23061",
   "metadata": {},
   "source": [
    "### **Entrenar un Arbol**"
   ]
  },
  {
   "cell_type": "code",
   "execution_count": 77,
   "id": "680b2780-a36d-49e1-a70d-4719b551948d",
   "metadata": {},
   "outputs": [],
   "source": [
    "from sklearn.tree import DecisionTreeClassifier\n",
    "from sklearn.tree import plot_tree\n",
    "from sklearn.tree import export_graphviz\n",
    "from sklearn.tree import export_text\n",
    "from sklearn import tree"
   ]
  },
  {
   "cell_type": "code",
   "execution_count": 78,
   "id": "e2d38cd1-5a0a-4508-8e5f-7e966bb3057c",
   "metadata": {},
   "outputs": [
    {
     "data": {
      "text/plain": [
       "(2099, 27)"
      ]
     },
     "execution_count": 78,
     "metadata": {},
     "output_type": "execute_result"
    }
   ],
   "source": [
    "x_train.shape"
   ]
  },
  {
   "cell_type": "code",
   "execution_count": 79,
   "id": "f9a3a3d6-a793-4c1c-8146-12ce1bf5e58c",
   "metadata": {},
   "outputs": [
    {
     "data": {
      "text/html": [
       "<style>#sk-container-id-3 {color: black;background-color: white;}#sk-container-id-3 pre{padding: 0;}#sk-container-id-3 div.sk-toggleable {background-color: white;}#sk-container-id-3 label.sk-toggleable__label {cursor: pointer;display: block;width: 100%;margin-bottom: 0;padding: 0.3em;box-sizing: border-box;text-align: center;}#sk-container-id-3 label.sk-toggleable__label-arrow:before {content: \"▸\";float: left;margin-right: 0.25em;color: #696969;}#sk-container-id-3 label.sk-toggleable__label-arrow:hover:before {color: black;}#sk-container-id-3 div.sk-estimator:hover label.sk-toggleable__label-arrow:before {color: black;}#sk-container-id-3 div.sk-toggleable__content {max-height: 0;max-width: 0;overflow: hidden;text-align: left;background-color: #f0f8ff;}#sk-container-id-3 div.sk-toggleable__content pre {margin: 0.2em;color: black;border-radius: 0.25em;background-color: #f0f8ff;}#sk-container-id-3 input.sk-toggleable__control:checked~div.sk-toggleable__content {max-height: 200px;max-width: 100%;overflow: auto;}#sk-container-id-3 input.sk-toggleable__control:checked~label.sk-toggleable__label-arrow:before {content: \"▾\";}#sk-container-id-3 div.sk-estimator input.sk-toggleable__control:checked~label.sk-toggleable__label {background-color: #d4ebff;}#sk-container-id-3 div.sk-label input.sk-toggleable__control:checked~label.sk-toggleable__label {background-color: #d4ebff;}#sk-container-id-3 input.sk-hidden--visually {border: 0;clip: rect(1px 1px 1px 1px);clip: rect(1px, 1px, 1px, 1px);height: 1px;margin: -1px;overflow: hidden;padding: 0;position: absolute;width: 1px;}#sk-container-id-3 div.sk-estimator {font-family: monospace;background-color: #f0f8ff;border: 1px dotted black;border-radius: 0.25em;box-sizing: border-box;margin-bottom: 0.5em;}#sk-container-id-3 div.sk-estimator:hover {background-color: #d4ebff;}#sk-container-id-3 div.sk-parallel-item::after {content: \"\";width: 100%;border-bottom: 1px solid gray;flex-grow: 1;}#sk-container-id-3 div.sk-label:hover label.sk-toggleable__label {background-color: #d4ebff;}#sk-container-id-3 div.sk-serial::before {content: \"\";position: absolute;border-left: 1px solid gray;box-sizing: border-box;top: 0;bottom: 0;left: 50%;z-index: 0;}#sk-container-id-3 div.sk-serial {display: flex;flex-direction: column;align-items: center;background-color: white;padding-right: 0.2em;padding-left: 0.2em;position: relative;}#sk-container-id-3 div.sk-item {position: relative;z-index: 1;}#sk-container-id-3 div.sk-parallel {display: flex;align-items: stretch;justify-content: center;background-color: white;position: relative;}#sk-container-id-3 div.sk-item::before, #sk-container-id-3 div.sk-parallel-item::before {content: \"\";position: absolute;border-left: 1px solid gray;box-sizing: border-box;top: 0;bottom: 0;left: 50%;z-index: -1;}#sk-container-id-3 div.sk-parallel-item {display: flex;flex-direction: column;z-index: 1;position: relative;background-color: white;}#sk-container-id-3 div.sk-parallel-item:first-child::after {align-self: flex-end;width: 50%;}#sk-container-id-3 div.sk-parallel-item:last-child::after {align-self: flex-start;width: 50%;}#sk-container-id-3 div.sk-parallel-item:only-child::after {width: 0;}#sk-container-id-3 div.sk-dashed-wrapped {border: 1px dashed gray;margin: 0 0.4em 0.5em 0.4em;box-sizing: border-box;padding-bottom: 0.4em;background-color: white;}#sk-container-id-3 div.sk-label label {font-family: monospace;font-weight: bold;display: inline-block;line-height: 1.2em;}#sk-container-id-3 div.sk-label-container {text-align: center;}#sk-container-id-3 div.sk-container {/* jupyter's `normalize.less` sets `[hidden] { display: none; }` but bootstrap.min.css set `[hidden] { display: none !important; }` so we also need the `!important` here to be able to override the default hidden behavior on the sphinx rendered scikit-learn.org. See: https://github.com/scikit-learn/scikit-learn/issues/21755 */display: inline-block !important;position: relative;}#sk-container-id-3 div.sk-text-repr-fallback {display: none;}</style><div id=\"sk-container-id-3\" class=\"sk-top-container\"><div class=\"sk-text-repr-fallback\"><pre>DecisionTreeClassifier(random_state=1)</pre><b>In a Jupyter environment, please rerun this cell to show the HTML representation or trust the notebook. <br />On GitHub, the HTML representation is unable to render, please try loading this page with nbviewer.org.</b></div><div class=\"sk-container\" hidden><div class=\"sk-item\"><div class=\"sk-estimator sk-toggleable\"><input class=\"sk-toggleable__control sk-hidden--visually\" id=\"sk-estimator-id-5\" type=\"checkbox\" checked><label for=\"sk-estimator-id-5\" class=\"sk-toggleable__label sk-toggleable__label-arrow\">DecisionTreeClassifier</label><div class=\"sk-toggleable__content\"><pre>DecisionTreeClassifier(random_state=1)</pre></div></div></div></div></div>"
      ],
      "text/plain": [
       "DecisionTreeClassifier(random_state=1)"
      ]
     },
     "execution_count": 79,
     "metadata": {},
     "output_type": "execute_result"
    }
   ],
   "source": [
    "Arbol_Simple= DecisionTreeClassifier(random_state=1)\n",
    "Arbol_Simple.fit(x_train,y_train)"
   ]
  },
  {
   "cell_type": "code",
   "execution_count": 80,
   "id": "ecd72b29-97a9-4c9f-bb50-4d98613a07fd",
   "metadata": {},
   "outputs": [
    {
     "data": {
      "image/png": "[encoded data removed]",
      "text/plain": [
       "<Figure size 2160x1080 with 1 Axes>"
      ]
     },
     "metadata": {
      "needs_background": "light"
     },
     "output_type": "display_data"
    }
   ],
   "source": [
    "fig , ax=plt.subplots(figsize=(30,15))\n",
    "plot=plot_tree(decision_tree=Arbol_Simple,\n",
    "              feature_names=x_train.columns,\n",
    "              ax=ax)\n"
   ]
  },
  {
   "cell_type": "markdown",
   "id": "6e083f8f-a8bc-4309-9ed3-45ed1700ba75",
   "metadata": {},
   "source": [
    "**Importancia de Variables**"
   ]
  },
  {
   "cell_type": "code",
   "execution_count": 81,
   "id": "3784caa7-f536-42d4-a31a-edaa30c4a29d",
   "metadata": {},
   "outputs": [
    {
     "data": {
      "text/html": [
       "<div>\n",
       "<style scoped>\n",
       "    .dataframe tbody tr th:only-of-type {\n",
       "        vertical-align: middle;\n",
       "    }\n",
       "\n",
       "    .dataframe tbody tr th {\n",
       "        vertical-align: top;\n",
       "    }\n",
       "\n",
       "    .dataframe thead th {\n",
       "        text-align: right;\n",
       "    }\n",
       "</style>\n",
       "<table border=\"1\" class=\"dataframe\">\n",
       "  <thead>\n",
       "    <tr style=\"text-align: right;\">\n",
       "      <th></th>\n",
       "      <th>Predictor</th>\n",
       "      <th>Importancia</th>\n",
       "    </tr>\n",
       "  </thead>\n",
       "  <tbody>\n",
       "    <tr>\n",
       "      <th>17</th>\n",
       "      <td>Gasto_Vehiculos</td>\n",
       "      <td>0.431596</td>\n",
       "    </tr>\n",
       "    <tr>\n",
       "      <th>25</th>\n",
       "      <td>Poblacion_Empresario</td>\n",
       "      <td>0.082662</td>\n",
       "    </tr>\n",
       "    <tr>\n",
       "      <th>19</th>\n",
       "      <td>Gasto_Otros</td>\n",
       "      <td>0.077445</td>\n",
       "    </tr>\n",
       "    <tr>\n",
       "      <th>23</th>\n",
       "      <td>Educacion_Superior</td>\n",
       "      <td>0.066652</td>\n",
       "    </tr>\n",
       "    <tr>\n",
       "      <th>20</th>\n",
       "      <td>Educacion_Media</td>\n",
       "      <td>0.065822</td>\n",
       "    </tr>\n",
       "    <tr>\n",
       "      <th>21</th>\n",
       "      <td>Poblacion_Trabajador_Cualificado</td>\n",
       "      <td>0.059585</td>\n",
       "    </tr>\n",
       "    <tr>\n",
       "      <th>26</th>\n",
       "      <td>Ingresos_De_20000_Hasta_40000</td>\n",
       "      <td>0.057445</td>\n",
       "    </tr>\n",
       "    <tr>\n",
       "      <th>24</th>\n",
       "      <td>Tipo_Soltero</td>\n",
       "      <td>0.045520</td>\n",
       "    </tr>\n",
       "    <tr>\n",
       "      <th>22</th>\n",
       "      <td>Medico_Seguro_Privado</td>\n",
       "      <td>0.045065</td>\n",
       "    </tr>\n",
       "    <tr>\n",
       "      <th>18</th>\n",
       "      <td>Vivienda_Propiedad</td>\n",
       "      <td>0.027195</td>\n",
       "    </tr>\n",
       "    <tr>\n",
       "      <th>15</th>\n",
       "      <td>Dia Semana_Martes</td>\n",
       "      <td>0.009469</td>\n",
       "    </tr>\n",
       "    <tr>\n",
       "      <th>2</th>\n",
       "      <td>Mes Alta_Mayo</td>\n",
       "      <td>0.008337</td>\n",
       "    </tr>\n",
       "    <tr>\n",
       "      <th>14</th>\n",
       "      <td>Productos_Vehiculos_3</td>\n",
       "      <td>0.008289</td>\n",
       "    </tr>\n",
       "    <tr>\n",
       "      <th>11</th>\n",
       "      <td>Mes Alta_Octubre</td>\n",
       "      <td>0.007483</td>\n",
       "    </tr>\n",
       "    <tr>\n",
       "      <th>7</th>\n",
       "      <td>Mes Alta_Julio</td>\n",
       "      <td>0.004490</td>\n",
       "    </tr>\n",
       "    <tr>\n",
       "      <th>9</th>\n",
       "      <td>Mes Alta_Septiembre</td>\n",
       "      <td>0.001497</td>\n",
       "    </tr>\n",
       "    <tr>\n",
       "      <th>5</th>\n",
       "      <td>Mes Alta_Agosto</td>\n",
       "      <td>0.001451</td>\n",
       "    </tr>\n",
       "    <tr>\n",
       "      <th>0</th>\n",
       "      <td>Productos_Vehiculos_4</td>\n",
       "      <td>0.000000</td>\n",
       "    </tr>\n",
       "    <tr>\n",
       "      <th>16</th>\n",
       "      <td>Dia Semana_Jueves</td>\n",
       "      <td>0.000000</td>\n",
       "    </tr>\n",
       "    <tr>\n",
       "      <th>1</th>\n",
       "      <td>Productos_Otros_2</td>\n",
       "      <td>0.000000</td>\n",
       "    </tr>\n",
       "    <tr>\n",
       "      <th>12</th>\n",
       "      <td>Productos_Otros_6</td>\n",
       "      <td>0.000000</td>\n",
       "    </tr>\n",
       "    <tr>\n",
       "      <th>10</th>\n",
       "      <td>Productos_Vehiculos_6</td>\n",
       "      <td>0.000000</td>\n",
       "    </tr>\n",
       "    <tr>\n",
       "      <th>8</th>\n",
       "      <td>Productos_Otros_5</td>\n",
       "      <td>0.000000</td>\n",
       "    </tr>\n",
       "    <tr>\n",
       "      <th>6</th>\n",
       "      <td>Productos_Otros_3</td>\n",
       "      <td>0.000000</td>\n",
       "    </tr>\n",
       "    <tr>\n",
       "      <th>4</th>\n",
       "      <td>Mes Alta_Febrero</td>\n",
       "      <td>0.000000</td>\n",
       "    </tr>\n",
       "    <tr>\n",
       "      <th>3</th>\n",
       "      <td>Productos_Vida_3</td>\n",
       "      <td>0.000000</td>\n",
       "    </tr>\n",
       "    <tr>\n",
       "      <th>13</th>\n",
       "      <td>Productos_Vida_8</td>\n",
       "      <td>0.000000</td>\n",
       "    </tr>\n",
       "  </tbody>\n",
       "</table>\n",
       "</div>"
      ],
      "text/plain": [
       "                           Predictor  Importancia\n",
       "17                   Gasto_Vehiculos     0.431596\n",
       "25              Poblacion_Empresario     0.082662\n",
       "19                       Gasto_Otros     0.077445\n",
       "23                Educacion_Superior     0.066652\n",
       "20                   Educacion_Media     0.065822\n",
       "21  Poblacion_Trabajador_Cualificado     0.059585\n",
       "26     Ingresos_De_20000_Hasta_40000     0.057445\n",
       "24                      Tipo_Soltero     0.045520\n",
       "22             Medico_Seguro_Privado     0.045065\n",
       "18                Vivienda_Propiedad     0.027195\n",
       "15                 Dia Semana_Martes     0.009469\n",
       "2                      Mes Alta_Mayo     0.008337\n",
       "14             Productos_Vehiculos_3     0.008289\n",
       "11                  Mes Alta_Octubre     0.007483\n",
       "7                     Mes Alta_Julio     0.004490\n",
       "9                Mes Alta_Septiembre     0.001497\n",
       "5                    Mes Alta_Agosto     0.001451\n",
       "0              Productos_Vehiculos_4     0.000000\n",
       "16                 Dia Semana_Jueves     0.000000\n",
       "1                  Productos_Otros_2     0.000000\n",
       "12                 Productos_Otros_6     0.000000\n",
       "10             Productos_Vehiculos_6     0.000000\n",
       "8                  Productos_Otros_5     0.000000\n",
       "6                  Productos_Otros_3     0.000000\n",
       "4                   Mes Alta_Febrero     0.000000\n",
       "3                   Productos_Vida_3     0.000000\n",
       "13                  Productos_Vida_8     0.000000"
      ]
     },
     "execution_count": 81,
     "metadata": {},
     "output_type": "execute_result"
    }
   ],
   "source": [
    "Importancia_Predictores= pd.DataFrame({\n",
    "\"Predictor\": x_train.columns,\n",
    "    \"Importancia\": Arbol_Simple.feature_importances_\n",
    "    \n",
    "})\n",
    "\n",
    "Importancia_Predictores.sort_values(\"Importancia\",ascending=False)"
   ]
  },
  {
   "cell_type": "markdown",
   "id": "c452bd33-b5c4-432a-bc52-fef66995ce97",
   "metadata": {},
   "source": [
    "**Error Train**"
   ]
  },
  {
   "cell_type": "code",
   "execution_count": 82,
   "id": "9d1dc0a9-3458-422a-9d8f-b1a9c6d0f75d",
   "metadata": {},
   "outputs": [
    {
     "name": "stdout",
     "output_type": "stream",
     "text": [
      "Accuracy: 1.0\n",
      "              precision    recall  f1-score   support\n",
      "\n",
      "           0       1.00      1.00      1.00      1981\n",
      "           1       1.00      1.00      1.00       118\n",
      "\n",
      "    accuracy                           1.00      2099\n",
      "   macro avg       1.00      1.00      1.00      2099\n",
      "weighted avg       1.00      1.00      1.00      2099\n",
      "\n"
     ]
    },
    {
     "data": {
      "image/png": "[encoded data removed]",
      "text/plain": [
       "<Figure size 432x288 with 2 Axes>"
      ]
     },
     "metadata": {
      "needs_background": "light"
     },
     "output_type": "display_data"
    },
    {
     "name": "stdout",
     "output_type": "stream",
     "text": [
      "Predicion     0    1   All\n",
      "Realidad                  \n",
      "0          1981    0  1981\n",
      "1             0  118   118\n",
      "All        1981  118  2099\n"
     ]
    }
   ],
   "source": [
    "MetricasMatrixConfusion(y_train,Arbol_Simple,x_train)"
   ]
  },
  {
   "cell_type": "code",
   "execution_count": 83,
   "id": "9aa5eb13-bd32-4fdf-aa20-79d0eea04273",
   "metadata": {},
   "outputs": [
    {
     "name": "stdout",
     "output_type": "stream",
     "text": [
      "Modelo AUC: 1.0\n"
     ]
    },
    {
     "data": {
      "image/png": "[encoded data removed]",
      "text/plain": [
       "<Figure size 432x288 with 1 Axes>"
      ]
     },
     "metadata": {
      "needs_background": "light"
     },
     "output_type": "display_data"
    }
   ],
   "source": [
    "curva_roc(y_train,Arbol_Simple,x_train)"
   ]
  },
  {
   "cell_type": "code",
   "execution_count": 84,
   "id": "cbae764b-c4a2-419f-8f9a-f42a7d26b991",
   "metadata": {},
   "outputs": [
    {
     "data": {
      "text/plain": [
       "1.0"
      ]
     },
     "execution_count": 84,
     "metadata": {},
     "output_type": "execute_result"
    }
   ],
   "source": [
    "Prediccion_Train_AD=Arbol_Simple.predict(x_train)\n",
    "Probabilidades_Train_AD=Arbol_Simple.predict_proba(x_train)\n",
    "\n",
    "Accuracy_Train_AD=metrics.accuracy_score(y_train,Prediccion_Train_AD)\n",
    "fscore_0_train_AD= f1_score(y_train,Prediccion_Train_AD,pos_label=0)\n",
    "fscore_1_train_AD=f1_score(y_train,Prediccion_Train_AD,pos_label=1)\n",
    "\n",
    "AUC_Train_AD=round(roc_auc_score(y_train,Probabilidades_Train_AD[:,1]),4)\n",
    "AUC_Train_AD"
   ]
  },
  {
   "cell_type": "code",
   "execution_count": null,
   "id": "25ddd747-cffa-4b0e-8159-228830f9e63b",
   "metadata": {},
   "outputs": [],
   "source": []
  },
  {
   "cell_type": "markdown",
   "id": "b164568f-e87f-4187-b88a-7ae63a60245d",
   "metadata": {},
   "source": [
    "**Error Test**"
   ]
  },
  {
   "cell_type": "code",
   "execution_count": 85,
   "id": "9992f7e8-a9e1-4619-bb02-f1e0ea8bfc55",
   "metadata": {},
   "outputs": [
    {
     "name": "stdout",
     "output_type": "stream",
     "text": [
      "Accuracy: 0.9133333333333333\n",
      "              precision    recall  f1-score   support\n",
      "\n",
      "           0       0.96      0.94      0.95       849\n",
      "           1       0.30      0.39      0.34        51\n",
      "\n",
      "    accuracy                           0.91       900\n",
      "   macro avg       0.63      0.67      0.65       900\n",
      "weighted avg       0.93      0.91      0.92       900\n",
      "\n"
     ]
    },
    {
     "data": {
      "image/png": "[encoded data removed]",
      "text/plain": [
       "<Figure size 432x288 with 2 Axes>"
      ]
     },
     "metadata": {
      "needs_background": "light"
     },
     "output_type": "display_data"
    },
    {
     "name": "stdout",
     "output_type": "stream",
     "text": [
      "Predicion    0   1  All\n",
      "Realidad               \n",
      "0          802  47  849\n",
      "1           31  20   51\n",
      "All        833  67  900\n"
     ]
    }
   ],
   "source": [
    "MetricasMatrixConfusion(y_test,Arbol_Simple,x_test)"
   ]
  },
  {
   "cell_type": "code",
   "execution_count": 86,
   "id": "47ff1816-e611-42d1-bd36-cd559a5645fd",
   "metadata": {},
   "outputs": [
    {
     "name": "stdout",
     "output_type": "stream",
     "text": [
      "Modelo AUC: 0.6683988082865655\n"
     ]
    },
    {
     "data": {
      "image/png": "[encoded data removed]",
      "text/plain": [
       "<Figure size 432x288 with 1 Axes>"
      ]
     },
     "metadata": {
      "needs_background": "light"
     },
     "output_type": "display_data"
    }
   ],
   "source": [
    "curva_roc(y_test,Arbol_Simple,x_test)"
   ]
  },
  {
   "cell_type": "code",
   "execution_count": 87,
   "id": "8cba68aa-c8e4-4c2e-a309-8ce72e9070ca",
   "metadata": {},
   "outputs": [
    {
     "data": {
      "text/plain": [
       "0.6684"
      ]
     },
     "execution_count": 87,
     "metadata": {},
     "output_type": "execute_result"
    }
   ],
   "source": [
    "Prediccion_test_AD=Arbol_Simple.predict(x_test)\n",
    "Probabilidades_test_AD=Arbol_Simple.predict_proba(x_test)\n",
    "\n",
    "Accuracy_test_AD=metrics.accuracy_score(y_test,Prediccion_test_AD)\n",
    "fscore_0_test_AD= f1_score(y_test,Prediccion_test_AD,pos_label=0)\n",
    "fscore_1_test_AD=f1_score(y_test,Prediccion_test_AD,pos_label=1)\n",
    "\n",
    "AUC_test_AD=round(roc_auc_score(y_test,Probabilidades_test_AD[:,1]),4)\n",
    "AUC_test_AD"
   ]
  },
  {
   "cell_type": "markdown",
   "id": "a0d65228-6706-4b4d-9487-4bd2c7a166f4",
   "metadata": {},
   "source": [
    "## **Arbol Pruned**\n",
    "\n",
    "**Criterio de costo de complejidad - Cost complexity criterion**\n",
    "\n",
    "Para encontrar el balance entre la profundidad y complejidad del árbol con respecto a la capacidad predictiva del modelo en datos de test, normalmente se hace crecer el árbol de decisión hasta su mayor extensión y luego se ejecuta el proceso de poda para identificar el subárbol óptimo.\n",
    "\n",
    "Se encuentra el subárbol óptimo usando el parámetro de costo de complejidad ( \n",
    "α\n",
    " ) que penaliza la función objetivo abajo para el número de nodos hoja en el árbol (T)\n",
    " \n",
    " $$\n",
    "\\mathrm{Err}_\\alpha(f) = \\sum_{t=1}^{T}\\mathrm{Err}_t(f)  + \\alpha|f|,\\quad \\alpha\\geq 0,\n",
    "$$\n",
    "\n",
    "* Para un valor dado de  α se encuentra el árbol podado más pequeño (número de nodos hoja) que tiene el error más bajo de penalización. \n",
    "* Se evalúan múltiples moodelos a través de un espectro de   α y se usa validación cruzada para identificar el   α óptimo, y por lo tanto el subárbol óptimo\n",
    "\n",
    "\t* $\\alpha\\to0\\ \\: \\Rightarrow$ a large tree (i.e. $\\alpha=0\\Rightarrow f_0$).\n",
    "\t* $\\alpha\\to\\infty\\Rightarrow$ a very small tree."
   ]
  },
  {
   "cell_type": "code",
   "execution_count": 88,
   "id": "38b5b3e4-855f-4f01-ad62-0e87ebc2344f",
   "metadata": {},
   "outputs": [],
   "source": [
    "f=Arbol_Simple\n",
    "\n",
    "f.get_n_leaves()\n",
    "f.get_depth()\n",
    "\n",
    "f_alpha = f.cost_complexity_pruning_path(x_train, y_train)\n",
    "alphas = f_alpha['ccp_alphas']\n",
    "impurs = f_alpha['impurities']\n",
    "\n",
    "fs = []\n",
    "fs = []\n",
    "for j in alphas:\n",
    "    f = DecisionTreeClassifier(ccp_alpha=j, random_state=77)\n",
    "    f.fit(x_train, y_train)\n",
    "    fs.append(f)\n",
    "fs\n",
    "nodes = []\n",
    "depth = []\n",
    "for j in range(0, alphas.shape[0]):\n",
    "    nodes.append(fs[j].tree_.node_count)\n",
    "    depth.append(fs[j].tree_.max_depth)\n",
    "train_scores = [f.score(x_train, y_train) for f in fs]\n",
    "test_scores  = [f.score(x_test, y_test)   for f in fs]"
   ]
  },
  {
   "cell_type": "code",
   "execution_count": 89,
   "id": "c41b7d17-df47-44bd-be74-dac2ebc6d241",
   "metadata": {},
   "outputs": [
    {
     "data": {
      "image/png": "[encoded data removed]",
      "text/plain": [
       "<Figure size 432x288 with 1 Axes>"
      ]
     },
     "metadata": {
      "needs_background": "light"
     },
     "output_type": "display_data"
    }
   ],
   "source": [
    "import matplotlib.pyplot as plt\n",
    "fig, ax = plt.subplots()\n",
    "ax.set_xlabel(r'$\\alpha$')\n",
    "ax.set_ylabel('Accuracy')\n",
    "#ax.set_title(r'Accuracy vs $\\alpha$')\n",
    "ax.plot(alphas, train_scores, marker='o', label='train', drawstyle='steps-post')\n",
    "ax.plot(alphas, test_scores,  marker='o', label='test',  drawstyle='steps-post')\n",
    "ax.invert_xaxis()\n",
    "ax.legend()\n",
    "plt.show()"
   ]
  },
  {
   "cell_type": "markdown",
   "id": "7f3e9499-3390-420b-9a83-dda3c8ab3a6d",
   "metadata": {},
   "source": [
    "## **Optimización de Hiperparámetros**\n",
    "\n",
    "La optimización de hiperparámetros se refiere al proceso de encontrar la combinación óptima de hiperparámetros para un modelo de aprendizaje automático. Los hiperparámetros son variables que no se aprenden automáticamente durante el entrenamiento del modelo, sino que deben ser configuradas por el usuario antes de iniciar el proceso de entrenamiento.\n",
    "\n",
    "* min_samples_split es un hiperparámetro en los árboles de decisión que indica el número mínimo de muestras requeridas para dividir un nodo interno en subnodos\n",
    "* min_samples_leaf es otro hiperparámetro utilizado en los árboles de decisión. Indica el número mínimo de muestras requeridas en una hoja del árbol."
   ]
  },
  {
   "cell_type": "code",
   "execution_count": 90,
   "id": "bf745213-f8af-4121-8411-4be4ed5296c7",
   "metadata": {},
   "outputs": [
    {
     "name": "stdout",
     "output_type": "stream",
     "text": [
      "<class 'pandas.core.frame.DataFrame'>\n",
      "Int64Index: 2099 entries, 2449 to 2083\n",
      "Data columns (total 1 columns):\n",
      " #   Column  Non-Null Count  Dtype   \n",
      "---  ------  --------------  -----   \n",
      " 0   target  2099 non-null   category\n",
      "dtypes: category(1)\n",
      "memory usage: 18.6 KB\n"
     ]
    }
   ],
   "source": [
    "y_train.info()"
   ]
  },
  {
   "cell_type": "code",
   "execution_count": 91,
   "id": "49ca794d-0c47-4533-83a8-bcae1b4fc650",
   "metadata": {},
   "outputs": [],
   "source": [
    "from sklearn.model_selection import GridSearchCV"
   ]
  },
  {
   "cell_type": "code",
   "execution_count": 92,
   "id": "8cf74420-0e93-4a86-bee5-84dc9fd302df",
   "metadata": {},
   "outputs": [
    {
     "data": {
      "text/html": [
       "<style>#sk-container-id-4 {color: black;background-color: white;}#sk-container-id-4 pre{padding: 0;}#sk-container-id-4 div.sk-toggleable {background-color: white;}#sk-container-id-4 label.sk-toggleable__label {cursor: pointer;display: block;width: 100%;margin-bottom: 0;padding: 0.3em;box-sizing: border-box;text-align: center;}#sk-container-id-4 label.sk-toggleable__label-arrow:before {content: \"▸\";float: left;margin-right: 0.25em;color: #696969;}#sk-container-id-4 label.sk-toggleable__label-arrow:hover:before {color: black;}#sk-container-id-4 div.sk-estimator:hover label.sk-toggleable__label-arrow:before {color: black;}#sk-container-id-4 div.sk-toggleable__content {max-height: 0;max-width: 0;overflow: hidden;text-align: left;background-color: #f0f8ff;}#sk-container-id-4 div.sk-toggleable__content pre {margin: 0.2em;color: black;border-radius: 0.25em;background-color: #f0f8ff;}#sk-container-id-4 input.sk-toggleable__control:checked~div.sk-toggleable__content {max-height: 200px;max-width: 100%;overflow: auto;}#sk-container-id-4 input.sk-toggleable__control:checked~label.sk-toggleable__label-arrow:before {content: \"▾\";}#sk-container-id-4 div.sk-estimator input.sk-toggleable__control:checked~label.sk-toggleable__label {background-color: #d4ebff;}#sk-container-id-4 div.sk-label input.sk-toggleable__control:checked~label.sk-toggleable__label {background-color: #d4ebff;}#sk-container-id-4 input.sk-hidden--visually {border: 0;clip: rect(1px 1px 1px 1px);clip: rect(1px, 1px, 1px, 1px);height: 1px;margin: -1px;overflow: hidden;padding: 0;position: absolute;width: 1px;}#sk-container-id-4 div.sk-estimator {font-family: monospace;background-color: #f0f8ff;border: 1px dotted black;border-radius: 0.25em;box-sizing: border-box;margin-bottom: 0.5em;}#sk-container-id-4 div.sk-estimator:hover {background-color: #d4ebff;}#sk-container-id-4 div.sk-parallel-item::after {content: \"\";width: 100%;border-bottom: 1px solid gray;flex-grow: 1;}#sk-container-id-4 div.sk-label:hover label.sk-toggleable__label {background-color: #d4ebff;}#sk-container-id-4 div.sk-serial::before {content: \"\";position: absolute;border-left: 1px solid gray;box-sizing: border-box;top: 0;bottom: 0;left: 50%;z-index: 0;}#sk-container-id-4 div.sk-serial {display: flex;flex-direction: column;align-items: center;background-color: white;padding-right: 0.2em;padding-left: 0.2em;position: relative;}#sk-container-id-4 div.sk-item {position: relative;z-index: 1;}#sk-container-id-4 div.sk-parallel {display: flex;align-items: stretch;justify-content: center;background-color: white;position: relative;}#sk-container-id-4 div.sk-item::before, #sk-container-id-4 div.sk-parallel-item::before {content: \"\";position: absolute;border-left: 1px solid gray;box-sizing: border-box;top: 0;bottom: 0;left: 50%;z-index: -1;}#sk-container-id-4 div.sk-parallel-item {display: flex;flex-direction: column;z-index: 1;position: relative;background-color: white;}#sk-container-id-4 div.sk-parallel-item:first-child::after {align-self: flex-end;width: 50%;}#sk-container-id-4 div.sk-parallel-item:last-child::after {align-self: flex-start;width: 50%;}#sk-container-id-4 div.sk-parallel-item:only-child::after {width: 0;}#sk-container-id-4 div.sk-dashed-wrapped {border: 1px dashed gray;margin: 0 0.4em 0.5em 0.4em;box-sizing: border-box;padding-bottom: 0.4em;background-color: white;}#sk-container-id-4 div.sk-label label {font-family: monospace;font-weight: bold;display: inline-block;line-height: 1.2em;}#sk-container-id-4 div.sk-label-container {text-align: center;}#sk-container-id-4 div.sk-container {/* jupyter's `normalize.less` sets `[hidden] { display: none; }` but bootstrap.min.css set `[hidden] { display: none !important; }` so we also need the `!important` here to be able to override the default hidden behavior on the sphinx rendered scikit-learn.org. See: https://github.com/scikit-learn/scikit-learn/issues/21755 */display: inline-block !important;position: relative;}#sk-container-id-4 div.sk-text-repr-fallback {display: none;}</style><div id=\"sk-container-id-4\" class=\"sk-top-container\"><div class=\"sk-text-repr-fallback\"><pre>GridSearchCV(cv=5, estimator=DecisionTreeClassifier(random_state=1),\n",
       "             param_grid={&#x27;max_depth&#x27;: [2, 4, 5, 7],\n",
       "                         &#x27;min_samples_leaf&#x27;: [2, 4, 5, 7, 9],\n",
       "                         &#x27;min_samples_split&#x27;: [2, 4, 5, 7, 9]})</pre><b>In a Jupyter environment, please rerun this cell to show the HTML representation or trust the notebook. <br />On GitHub, the HTML representation is unable to render, please try loading this page with nbviewer.org.</b></div><div class=\"sk-container\" hidden><div class=\"sk-item sk-dashed-wrapped\"><div class=\"sk-label-container\"><div class=\"sk-label sk-toggleable\"><input class=\"sk-toggleable__control sk-hidden--visually\" id=\"sk-estimator-id-6\" type=\"checkbox\" ><label for=\"sk-estimator-id-6\" class=\"sk-toggleable__label sk-toggleable__label-arrow\">GridSearchCV</label><div class=\"sk-toggleable__content\"><pre>GridSearchCV(cv=5, estimator=DecisionTreeClassifier(random_state=1),\n",
       "             param_grid={&#x27;max_depth&#x27;: [2, 4, 5, 7],\n",
       "                         &#x27;min_samples_leaf&#x27;: [2, 4, 5, 7, 9],\n",
       "                         &#x27;min_samples_split&#x27;: [2, 4, 5, 7, 9]})</pre></div></div></div><div class=\"sk-parallel\"><div class=\"sk-parallel-item\"><div class=\"sk-item\"><div class=\"sk-label-container\"><div class=\"sk-label sk-toggleable\"><input class=\"sk-toggleable__control sk-hidden--visually\" id=\"sk-estimator-id-7\" type=\"checkbox\" ><label for=\"sk-estimator-id-7\" class=\"sk-toggleable__label sk-toggleable__label-arrow\">estimator: DecisionTreeClassifier</label><div class=\"sk-toggleable__content\"><pre>DecisionTreeClassifier(random_state=1)</pre></div></div></div><div class=\"sk-serial\"><div class=\"sk-item\"><div class=\"sk-estimator sk-toggleable\"><input class=\"sk-toggleable__control sk-hidden--visually\" id=\"sk-estimator-id-8\" type=\"checkbox\" ><label for=\"sk-estimator-id-8\" class=\"sk-toggleable__label sk-toggleable__label-arrow\">DecisionTreeClassifier</label><div class=\"sk-toggleable__content\"><pre>DecisionTreeClassifier(random_state=1)</pre></div></div></div></div></div></div></div></div></div></div>"
      ],
      "text/plain": [
       "GridSearchCV(cv=5, estimator=DecisionTreeClassifier(random_state=1),\n",
       "             param_grid={'max_depth': [2, 4, 5, 7],\n",
       "                         'min_samples_leaf': [2, 4, 5, 7, 9],\n",
       "                         'min_samples_split': [2, 4, 5, 7, 9]})"
      ]
     },
     "execution_count": 92,
     "metadata": {},
     "output_type": "execute_result"
    }
   ],
   "source": [
    "param_grid={\n",
    "    \n",
    "    \"max_depth\":[2,4,5,7],\n",
    "    \"min_samples_split\":[2,4,5,7,9],\n",
    "     \"min_samples_leaf\":[2,4,5,7,9],\n",
    "    \n",
    "}\n",
    "\n",
    "grid_search=GridSearchCV(Arbol_Simple,param_grid,cv=5)\n",
    "grid_search.fit(x_train,y_train)"
   ]
  },
  {
   "cell_type": "code",
   "execution_count": 93,
   "id": "141e7248-6970-452d-a6f5-8d7e17557270",
   "metadata": {},
   "outputs": [
    {
     "name": "stdout",
     "output_type": "stream",
     "text": [
      "Mejores hiperparámetros: {'max_depth': 5, 'min_samples_leaf': 7, 'min_samples_split': 2}\n"
     ]
    }
   ],
   "source": [
    "# Obtener los mejores hiperparámetros encontrados\n",
    "best_params= grid_search.best_params_\n",
    "print(\"Mejores hiperparámetros:\", best_params)"
   ]
  },
  {
   "cell_type": "code",
   "execution_count": 94,
   "id": "17a948a4-8666-4958-91d8-85ba4ac27b36",
   "metadata": {},
   "outputs": [
    {
     "name": "stdout",
     "output_type": "stream",
     "text": [
      "<class 'pandas.core.frame.DataFrame'>\n",
      "Int64Index: 2099 entries, 2449 to 2083\n",
      "Data columns (total 1 columns):\n",
      " #   Column  Non-Null Count  Dtype   \n",
      "---  ------  --------------  -----   \n",
      " 0   target  2099 non-null   category\n",
      "dtypes: category(1)\n",
      "memory usage: 18.6 KB\n"
     ]
    }
   ],
   "source": [
    "y_train.info()"
   ]
  },
  {
   "cell_type": "markdown",
   "id": "1a4f720d-e5e8-4ca5-bf0d-f8f467bdcd02",
   "metadata": {},
   "source": [
    "**Entrenamos el Modelo con los mejores Hiperparámetros**"
   ]
  },
  {
   "cell_type": "code",
   "execution_count": 95,
   "id": "eedb33bd-09aa-422e-8918-7eea73db1590",
   "metadata": {},
   "outputs": [
    {
     "data": {
      "text/html": [
       "<style>#sk-container-id-5 {color: black;background-color: white;}#sk-container-id-5 pre{padding: 0;}#sk-container-id-5 div.sk-toggleable {background-color: white;}#sk-container-id-5 label.sk-toggleable__label {cursor: pointer;display: block;width: 100%;margin-bottom: 0;padding: 0.3em;box-sizing: border-box;text-align: center;}#sk-container-id-5 label.sk-toggleable__label-arrow:before {content: \"▸\";float: left;margin-right: 0.25em;color: #696969;}#sk-container-id-5 label.sk-toggleable__label-arrow:hover:before {color: black;}#sk-container-id-5 div.sk-estimator:hover label.sk-toggleable__label-arrow:before {color: black;}#sk-container-id-5 div.sk-toggleable__content {max-height: 0;max-width: 0;overflow: hidden;text-align: left;background-color: #f0f8ff;}#sk-container-id-5 div.sk-toggleable__content pre {margin: 0.2em;color: black;border-radius: 0.25em;background-color: #f0f8ff;}#sk-container-id-5 input.sk-toggleable__control:checked~div.sk-toggleable__content {max-height: 200px;max-width: 100%;overflow: auto;}#sk-container-id-5 input.sk-toggleable__control:checked~label.sk-toggleable__label-arrow:before {content: \"▾\";}#sk-container-id-5 div.sk-estimator input.sk-toggleable__control:checked~label.sk-toggleable__label {background-color: #d4ebff;}#sk-container-id-5 div.sk-label input.sk-toggleable__control:checked~label.sk-toggleable__label {background-color: #d4ebff;}#sk-container-id-5 input.sk-hidden--visually {border: 0;clip: rect(1px 1px 1px 1px);clip: rect(1px, 1px, 1px, 1px);height: 1px;margin: -1px;overflow: hidden;padding: 0;position: absolute;width: 1px;}#sk-container-id-5 div.sk-estimator {font-family: monospace;background-color: #f0f8ff;border: 1px dotted black;border-radius: 0.25em;box-sizing: border-box;margin-bottom: 0.5em;}#sk-container-id-5 div.sk-estimator:hover {background-color: #d4ebff;}#sk-container-id-5 div.sk-parallel-item::after {content: \"\";width: 100%;border-bottom: 1px solid gray;flex-grow: 1;}#sk-container-id-5 div.sk-label:hover label.sk-toggleable__label {background-color: #d4ebff;}#sk-container-id-5 div.sk-serial::before {content: \"\";position: absolute;border-left: 1px solid gray;box-sizing: border-box;top: 0;bottom: 0;left: 50%;z-index: 0;}#sk-container-id-5 div.sk-serial {display: flex;flex-direction: column;align-items: center;background-color: white;padding-right: 0.2em;padding-left: 0.2em;position: relative;}#sk-container-id-5 div.sk-item {position: relative;z-index: 1;}#sk-container-id-5 div.sk-parallel {display: flex;align-items: stretch;justify-content: center;background-color: white;position: relative;}#sk-container-id-5 div.sk-item::before, #sk-container-id-5 div.sk-parallel-item::before {content: \"\";position: absolute;border-left: 1px solid gray;box-sizing: border-box;top: 0;bottom: 0;left: 50%;z-index: -1;}#sk-container-id-5 div.sk-parallel-item {display: flex;flex-direction: column;z-index: 1;position: relative;background-color: white;}#sk-container-id-5 div.sk-parallel-item:first-child::after {align-self: flex-end;width: 50%;}#sk-container-id-5 div.sk-parallel-item:last-child::after {align-self: flex-start;width: 50%;}#sk-container-id-5 div.sk-parallel-item:only-child::after {width: 0;}#sk-container-id-5 div.sk-dashed-wrapped {border: 1px dashed gray;margin: 0 0.4em 0.5em 0.4em;box-sizing: border-box;padding-bottom: 0.4em;background-color: white;}#sk-container-id-5 div.sk-label label {font-family: monospace;font-weight: bold;display: inline-block;line-height: 1.2em;}#sk-container-id-5 div.sk-label-container {text-align: center;}#sk-container-id-5 div.sk-container {/* jupyter's `normalize.less` sets `[hidden] { display: none; }` but bootstrap.min.css set `[hidden] { display: none !important; }` so we also need the `!important` here to be able to override the default hidden behavior on the sphinx rendered scikit-learn.org. See: https://github.com/scikit-learn/scikit-learn/issues/21755 */display: inline-block !important;position: relative;}#sk-container-id-5 div.sk-text-repr-fallback {display: none;}</style><div id=\"sk-container-id-5\" class=\"sk-top-container\"><div class=\"sk-text-repr-fallback\"><pre>DecisionTreeClassifier(max_depth=5, min_samples_leaf=7)</pre><b>In a Jupyter environment, please rerun this cell to show the HTML representation or trust the notebook. <br />On GitHub, the HTML representation is unable to render, please try loading this page with nbviewer.org.</b></div><div class=\"sk-container\" hidden><div class=\"sk-item\"><div class=\"sk-estimator sk-toggleable\"><input class=\"sk-toggleable__control sk-hidden--visually\" id=\"sk-estimator-id-9\" type=\"checkbox\" checked><label for=\"sk-estimator-id-9\" class=\"sk-toggleable__label sk-toggleable__label-arrow\">DecisionTreeClassifier</label><div class=\"sk-toggleable__content\"><pre>DecisionTreeClassifier(max_depth=5, min_samples_leaf=7)</pre></div></div></div></div></div>"
      ],
      "text/plain": [
       "DecisionTreeClassifier(max_depth=5, min_samples_leaf=7)"
      ]
     },
     "execution_count": 95,
     "metadata": {},
     "output_type": "execute_result"
    }
   ],
   "source": [
    "best_tree= DecisionTreeClassifier(max_depth=5, min_samples_leaf=7,min_samples_split=2)\n",
    "best_tree.fit(x_train, y_train)"
   ]
  },
  {
   "cell_type": "code",
   "execution_count": 96,
   "id": "4dd5a2b4-6ff5-4af3-b1f0-446a0ef678fb",
   "metadata": {},
   "outputs": [
    {
     "data": {
      "text/html": [
       "<div>\n",
       "<style scoped>\n",
       "    .dataframe tbody tr th:only-of-type {\n",
       "        vertical-align: middle;\n",
       "    }\n",
       "\n",
       "    .dataframe tbody tr th {\n",
       "        vertical-align: top;\n",
       "    }\n",
       "\n",
       "    .dataframe thead th {\n",
       "        text-align: right;\n",
       "    }\n",
       "</style>\n",
       "<table border=\"1\" class=\"dataframe\">\n",
       "  <thead>\n",
       "    <tr style=\"text-align: right;\">\n",
       "      <th></th>\n",
       "      <th>target</th>\n",
       "    </tr>\n",
       "  </thead>\n",
       "  <tbody>\n",
       "    <tr>\n",
       "      <th>2449</th>\n",
       "      <td>0</td>\n",
       "    </tr>\n",
       "    <tr>\n",
       "      <th>480</th>\n",
       "      <td>0</td>\n",
       "    </tr>\n",
       "    <tr>\n",
       "      <th>1212</th>\n",
       "      <td>0</td>\n",
       "    </tr>\n",
       "    <tr>\n",
       "      <th>1068</th>\n",
       "      <td>0</td>\n",
       "    </tr>\n",
       "    <tr>\n",
       "      <th>2674</th>\n",
       "      <td>0</td>\n",
       "    </tr>\n",
       "    <tr>\n",
       "      <th>...</th>\n",
       "      <td>...</td>\n",
       "    </tr>\n",
       "    <tr>\n",
       "      <th>240</th>\n",
       "      <td>0</td>\n",
       "    </tr>\n",
       "    <tr>\n",
       "      <th>1740</th>\n",
       "      <td>0</td>\n",
       "    </tr>\n",
       "    <tr>\n",
       "      <th>1072</th>\n",
       "      <td>0</td>\n",
       "    </tr>\n",
       "    <tr>\n",
       "      <th>2947</th>\n",
       "      <td>0</td>\n",
       "    </tr>\n",
       "    <tr>\n",
       "      <th>2083</th>\n",
       "      <td>0</td>\n",
       "    </tr>\n",
       "  </tbody>\n",
       "</table>\n",
       "<p>2099 rows × 1 columns</p>\n",
       "</div>"
      ],
      "text/plain": [
       "     target\n",
       "2449      0\n",
       "480       0\n",
       "1212      0\n",
       "1068      0\n",
       "2674      0\n",
       "...     ...\n",
       "240       0\n",
       "1740      0\n",
       "1072      0\n",
       "2947      0\n",
       "2083      0\n",
       "\n",
       "[2099 rows x 1 columns]"
      ]
     },
     "execution_count": 96,
     "metadata": {},
     "output_type": "execute_result"
    }
   ],
   "source": [
    "y_train"
   ]
  },
  {
   "cell_type": "code",
   "execution_count": 100,
   "id": "a1a22bd1-bbaf-4b8b-bfae-e67577d9a690",
   "metadata": {},
   "outputs": [
    {
     "name": "stdout",
     "output_type": "stream",
     "text": [
      "Profundidad del árbol: 5\n",
      "Número de nodos terminales: 16\n"
     ]
    },
    {
     "data": {
      "image/png": "[encoded data removed]",
      "text/plain": [
       "<Figure size 2160x1080 with 1 Axes>"
      ]
     },
     "metadata": {
      "needs_background": "light"
     },
     "output_type": "display_data"
    }
   ],
   "source": [
    "fig, ax = plt.subplots(figsize=(30, 15))\n",
    "print(f\"Profundidad del árbol: {best_tree.get_depth()}\")\n",
    "print(f\"Número de nodos terminales: {best_tree.get_n_leaves()}\")\n",
    "plot=plot_tree(decision_tree=best_tree,\n",
    "              feature_names=x_train.columns,\n",
    "                filled        = True,\n",
    "               fontsize      = 7,\n",
    "                ax            = ax\n",
    "              )"
   ]
  },
  {
   "cell_type": "code",
   "execution_count": 101,
   "id": "e19d50a3-b6f8-426d-9f97-a29218cbcae2",
   "metadata": {},
   "outputs": [
    {
     "data": {
      "text/html": [
       "<div>\n",
       "<style scoped>\n",
       "    .dataframe tbody tr th:only-of-type {\n",
       "        vertical-align: middle;\n",
       "    }\n",
       "\n",
       "    .dataframe tbody tr th {\n",
       "        vertical-align: top;\n",
       "    }\n",
       "\n",
       "    .dataframe thead th {\n",
       "        text-align: right;\n",
       "    }\n",
       "</style>\n",
       "<table border=\"1\" class=\"dataframe\">\n",
       "  <thead>\n",
       "    <tr style=\"text-align: right;\">\n",
       "      <th></th>\n",
       "      <th>Predictor</th>\n",
       "      <th>Importancia</th>\n",
       "    </tr>\n",
       "  </thead>\n",
       "  <tbody>\n",
       "    <tr>\n",
       "      <th>17</th>\n",
       "      <td>Gasto_Vehiculos</td>\n",
       "      <td>0.725521</td>\n",
       "    </tr>\n",
       "    <tr>\n",
       "      <th>23</th>\n",
       "      <td>Educacion_Superior</td>\n",
       "      <td>0.089330</td>\n",
       "    </tr>\n",
       "    <tr>\n",
       "      <th>19</th>\n",
       "      <td>Gasto_Otros</td>\n",
       "      <td>0.061878</td>\n",
       "    </tr>\n",
       "    <tr>\n",
       "      <th>25</th>\n",
       "      <td>Poblacion_Empresario</td>\n",
       "      <td>0.045415</td>\n",
       "    </tr>\n",
       "    <tr>\n",
       "      <th>22</th>\n",
       "      <td>Medico_Seguro_Privado</td>\n",
       "      <td>0.028506</td>\n",
       "    </tr>\n",
       "    <tr>\n",
       "      <th>26</th>\n",
       "      <td>Ingresos_De_20000_Hasta_40000</td>\n",
       "      <td>0.026704</td>\n",
       "    </tr>\n",
       "    <tr>\n",
       "      <th>20</th>\n",
       "      <td>Educacion_Media</td>\n",
       "      <td>0.022647</td>\n",
       "    </tr>\n",
       "    <tr>\n",
       "      <th>14</th>\n",
       "      <td>Productos_Vehiculos_3</td>\n",
       "      <td>0.000000</td>\n",
       "    </tr>\n",
       "    <tr>\n",
       "      <th>24</th>\n",
       "      <td>Tipo_Soltero</td>\n",
       "      <td>0.000000</td>\n",
       "    </tr>\n",
       "    <tr>\n",
       "      <th>21</th>\n",
       "      <td>Poblacion_Trabajador_Cualificado</td>\n",
       "      <td>0.000000</td>\n",
       "    </tr>\n",
       "    <tr>\n",
       "      <th>18</th>\n",
       "      <td>Vivienda_Propiedad</td>\n",
       "      <td>0.000000</td>\n",
       "    </tr>\n",
       "    <tr>\n",
       "      <th>16</th>\n",
       "      <td>Dia Semana_Jueves</td>\n",
       "      <td>0.000000</td>\n",
       "    </tr>\n",
       "    <tr>\n",
       "      <th>15</th>\n",
       "      <td>Dia Semana_Martes</td>\n",
       "      <td>0.000000</td>\n",
       "    </tr>\n",
       "    <tr>\n",
       "      <th>0</th>\n",
       "      <td>Productos_Vehiculos_4</td>\n",
       "      <td>0.000000</td>\n",
       "    </tr>\n",
       "    <tr>\n",
       "      <th>1</th>\n",
       "      <td>Productos_Otros_2</td>\n",
       "      <td>0.000000</td>\n",
       "    </tr>\n",
       "    <tr>\n",
       "      <th>12</th>\n",
       "      <td>Productos_Otros_6</td>\n",
       "      <td>0.000000</td>\n",
       "    </tr>\n",
       "    <tr>\n",
       "      <th>11</th>\n",
       "      <td>Mes Alta_Octubre</td>\n",
       "      <td>0.000000</td>\n",
       "    </tr>\n",
       "    <tr>\n",
       "      <th>10</th>\n",
       "      <td>Productos_Vehiculos_6</td>\n",
       "      <td>0.000000</td>\n",
       "    </tr>\n",
       "    <tr>\n",
       "      <th>9</th>\n",
       "      <td>Mes Alta_Septiembre</td>\n",
       "      <td>0.000000</td>\n",
       "    </tr>\n",
       "    <tr>\n",
       "      <th>8</th>\n",
       "      <td>Productos_Otros_5</td>\n",
       "      <td>0.000000</td>\n",
       "    </tr>\n",
       "    <tr>\n",
       "      <th>7</th>\n",
       "      <td>Mes Alta_Julio</td>\n",
       "      <td>0.000000</td>\n",
       "    </tr>\n",
       "    <tr>\n",
       "      <th>6</th>\n",
       "      <td>Productos_Otros_3</td>\n",
       "      <td>0.000000</td>\n",
       "    </tr>\n",
       "    <tr>\n",
       "      <th>5</th>\n",
       "      <td>Mes Alta_Agosto</td>\n",
       "      <td>0.000000</td>\n",
       "    </tr>\n",
       "    <tr>\n",
       "      <th>4</th>\n",
       "      <td>Mes Alta_Febrero</td>\n",
       "      <td>0.000000</td>\n",
       "    </tr>\n",
       "    <tr>\n",
       "      <th>3</th>\n",
       "      <td>Productos_Vida_3</td>\n",
       "      <td>0.000000</td>\n",
       "    </tr>\n",
       "    <tr>\n",
       "      <th>2</th>\n",
       "      <td>Mes Alta_Mayo</td>\n",
       "      <td>0.000000</td>\n",
       "    </tr>\n",
       "    <tr>\n",
       "      <th>13</th>\n",
       "      <td>Productos_Vida_8</td>\n",
       "      <td>0.000000</td>\n",
       "    </tr>\n",
       "  </tbody>\n",
       "</table>\n",
       "</div>"
      ],
      "text/plain": [
       "                           Predictor  Importancia\n",
       "17                   Gasto_Vehiculos     0.725521\n",
       "23                Educacion_Superior     0.089330\n",
       "19                       Gasto_Otros     0.061878\n",
       "25              Poblacion_Empresario     0.045415\n",
       "22             Medico_Seguro_Privado     0.028506\n",
       "26     Ingresos_De_20000_Hasta_40000     0.026704\n",
       "20                   Educacion_Media     0.022647\n",
       "14             Productos_Vehiculos_3     0.000000\n",
       "24                      Tipo_Soltero     0.000000\n",
       "21  Poblacion_Trabajador_Cualificado     0.000000\n",
       "18                Vivienda_Propiedad     0.000000\n",
       "16                 Dia Semana_Jueves     0.000000\n",
       "15                 Dia Semana_Martes     0.000000\n",
       "0              Productos_Vehiculos_4     0.000000\n",
       "1                  Productos_Otros_2     0.000000\n",
       "12                 Productos_Otros_6     0.000000\n",
       "11                  Mes Alta_Octubre     0.000000\n",
       "10             Productos_Vehiculos_6     0.000000\n",
       "9                Mes Alta_Septiembre     0.000000\n",
       "8                  Productos_Otros_5     0.000000\n",
       "7                     Mes Alta_Julio     0.000000\n",
       "6                  Productos_Otros_3     0.000000\n",
       "5                    Mes Alta_Agosto     0.000000\n",
       "4                   Mes Alta_Febrero     0.000000\n",
       "3                   Productos_Vida_3     0.000000\n",
       "2                      Mes Alta_Mayo     0.000000\n",
       "13                  Productos_Vida_8     0.000000"
      ]
     },
     "execution_count": 101,
     "metadata": {},
     "output_type": "execute_result"
    }
   ],
   "source": [
    "Importancia_Predictores= pd.DataFrame({\n",
    "\"Predictor\": x_train.columns,\n",
    "    \"Importancia\": best_tree.feature_importances_\n",
    "    \n",
    "})\n",
    "\n",
    "Importancia_Predictores.sort_values(\"Importancia\",ascending=False)"
   ]
  },
  {
   "cell_type": "markdown",
   "id": "8f2a77d2-8fc9-48b4-8b91-15cd1a0f1443",
   "metadata": {},
   "source": [
    "**Error Train**"
   ]
  },
  {
   "cell_type": "code",
   "execution_count": 102,
   "id": "921fc7e6-ad7f-45f6-9a16-68ce3695fd91",
   "metadata": {},
   "outputs": [
    {
     "name": "stdout",
     "output_type": "stream",
     "text": [
      "Accuracy: 0.9652215340638399\n",
      "              precision    recall  f1-score   support\n",
      "\n",
      "           0       0.97      0.99      0.98      1981\n",
      "           1       0.79      0.52      0.63       118\n",
      "\n",
      "    accuracy                           0.97      2099\n",
      "   macro avg       0.88      0.75      0.80      2099\n",
      "weighted avg       0.96      0.97      0.96      2099\n",
      "\n"
     ]
    },
    {
     "data": {
      "image/png": "[encoded data removed]",
      "text/plain": [
       "<Figure size 432x288 with 2 Axes>"
      ]
     },
     "metadata": {
      "needs_background": "light"
     },
     "output_type": "display_data"
    },
    {
     "name": "stdout",
     "output_type": "stream",
     "text": [
      "Predicion     0   1   All\n",
      "Realidad                 \n",
      "0          1965  16  1981\n",
      "1            57  61   118\n",
      "All        2022  77  2099\n"
     ]
    }
   ],
   "source": [
    "MetricasMatrixConfusion(y_train,best_tree,x_train)"
   ]
  },
  {
   "cell_type": "code",
   "execution_count": 125,
   "id": "99f9a584-347b-42d5-a378-435747cd09b1",
   "metadata": {},
   "outputs": [
    {
     "name": "stdout",
     "output_type": "stream",
     "text": [
      "Modelo AUC: 0.9503161389128927\n"
     ]
    },
    {
     "data": {
      "image/png": "[encoded data removed]",
      "text/plain": [
       "<Figure size 432x288 with 1 Axes>"
      ]
     },
     "metadata": {
      "needs_background": "light"
     },
     "output_type": "display_data"
    }
   ],
   "source": [
    "curva_roc(y_train,best_tree,x_train)"
   ]
  },
  {
   "cell_type": "code",
   "execution_count": 126,
   "id": "36581721-9e4f-40aa-9397-a7cd5d5ca636",
   "metadata": {},
   "outputs": [
    {
     "data": {
      "text/plain": [
       "0.9503"
      ]
     },
     "execution_count": 126,
     "metadata": {},
     "output_type": "execute_result"
    }
   ],
   "source": [
    "Prediccion_train_AD1=best_tree.predict(x_train)\n",
    "Probabilidades_train_AD1=best_tree.predict_proba(x_train)\n",
    "\n",
    "Accuracy_train_AD1=metrics.accuracy_score(y_train,Prediccion_train_AD1)\n",
    "fscore_0_train_AD1= f1_score(y_train,Prediccion_train_AD1,pos_label=0)\n",
    "fscore_1_train_AD1=f1_score(y_train,Prediccion_train_AD1,pos_label=1)\n",
    "\n",
    "AUC_train_AD1=round(roc_auc_score(y_train,Probabilidades_train_AD1[:,1]),4)\n",
    "AUC_train_AD1"
   ]
  },
  {
   "cell_type": "markdown",
   "id": "e8deafc9-c640-4d05-893f-aa05746b66ff",
   "metadata": {},
   "source": [
    "**Error Test**"
   ]
  },
  {
   "cell_type": "code",
   "execution_count": 127,
   "id": "53a0faf6-7f9f-4820-8ee8-ffdbbedf6d26",
   "metadata": {},
   "outputs": [
    {
     "name": "stdout",
     "output_type": "stream",
     "text": [
      "Accuracy: 0.9533333333333334\n",
      "              precision    recall  f1-score   support\n",
      "\n",
      "           0       0.96      0.99      0.98       849\n",
      "           1       0.65      0.39      0.49        51\n",
      "\n",
      "    accuracy                           0.95       900\n",
      "   macro avg       0.80      0.69      0.73       900\n",
      "weighted avg       0.95      0.95      0.95       900\n",
      "\n"
     ]
    },
    {
     "data": {
      "image/png": "[encoded data removed]",
      "text/plain": [
       "<Figure size 432x288 with 2 Axes>"
      ]
     },
     "metadata": {
      "needs_background": "light"
     },
     "output_type": "display_data"
    },
    {
     "name": "stdout",
     "output_type": "stream",
     "text": [
      "Predicion    0   1  All\n",
      "Realidad               \n",
      "0          838  11  849\n",
      "1           31  20   51\n",
      "All        869  31  900\n"
     ]
    }
   ],
   "source": [
    "MetricasMatrixConfusion(y_test,best_tree,x_test)"
   ]
  },
  {
   "cell_type": "code",
   "execution_count": 128,
   "id": "9434c1f2-7361-4c9f-a8b5-756180ffb28d",
   "metadata": {},
   "outputs": [
    {
     "name": "stdout",
     "output_type": "stream",
     "text": [
      "Modelo AUC: 0.7950876463659668\n"
     ]
    },
    {
     "data": {
      "image/png": "[encoded data removed]",
      "text/plain": [
       "<Figure size 432x288 with 1 Axes>"
      ]
     },
     "metadata": {
      "needs_background": "light"
     },
     "output_type": "display_data"
    }
   ],
   "source": [
    "curva_roc(y_test,best_tree,x_test)"
   ]
  },
  {
   "cell_type": "code",
   "execution_count": 129,
   "id": "6f8a1269-4301-4c7b-8074-310ecd87612f",
   "metadata": {},
   "outputs": [
    {
     "data": {
      "text/plain": [
       "0.7951"
      ]
     },
     "execution_count": 129,
     "metadata": {},
     "output_type": "execute_result"
    }
   ],
   "source": [
    "Prediccion_test_AD1=best_tree.predict(x_test)\n",
    "Probabilidades_test_AD1=best_tree.predict_proba(x_test)\n",
    "\n",
    "Accuracy_test_AD1=metrics.accuracy_score(y_test,Prediccion_test_AD1)\n",
    "fscore_0_test_AD1= f1_score(y_test,Prediccion_test_AD1,pos_label=0)\n",
    "fscore_1_test_AD1=f1_score(y_test,Prediccion_test_AD1,pos_label=1)\n",
    "\n",
    "AUC_test_AD1=round(roc_auc_score(y_test,Probabilidades_test_AD1[:,1]),4)\n",
    "AUC_test_AD1"
   ]
  },
  {
   "cell_type": "markdown",
   "id": "3f0c1564-0fd4-45ac-ae71-275856b1760e",
   "metadata": {},
   "source": [
    "## **Random Forest con Python:clasificación**\n",
    "\n",
    "El término ensamblador significa grupo. Los métodos tipo ensamblador están formados de un grupo de modelos predictivos que permiten alcanzar una mejor precisión y estabilidad del modelo. Estos proveen una mejora significativa a los modelos de árboles de decisión.\n",
    "\n",
    "¿Por qué surgen los ensambladores de árboles?\n",
    "\n",
    "* Así como todos los modelos, un árbol de decisión también sufre de los problemas de sesgo y varianza. Es decir, ‘cuánto en promedio son los valores predecidos diferentes de los valores reales’ (sesgo) y ‘cuan diferentes serán las predicciones de un modelo en un mismo punto si muestras diferentes se tomaran de la misma población’ (varianza).\n",
    "\n",
    "* Al construir un árbol pequeño se obtendrá un modelo con baja varianza y alto sesgo. Normalmente, al incrementar la complejidad del modelo, se verá una reducción en el error de predicción debido a un sesgo más bajo en el modelo. En un punto el modelo será muy complejo y se producirá un sobre-ajuste del modelo el cual empezará a sufrir de varianza alta.\n",
    "\n",
    "* El modelo óptimo debería mantener un balance entre estos dos tipos de errores. A esto se le conoce como “trade-off” (equilibrio) entre errores de sesgo y varianza. El uso de ensambladores es una forma de aplicar este “trade-off\n",
    "\n",
    "**Ventajas de Random Forest**\n",
    "\n",
    "* Existen muy pocas suposiciones y por lo tanto la preparación de los datos es mínima.\n",
    "* Puede manejar hasta miles de variables de entrada e identificar las más significativas. Método de reducción de dimensionalidad.\n",
    "* Una de las salidas del modelo es la importancia de variables.\n",
    "* Incorpora métodos efectivos para estimar valores faltantes.\n",
    "* Es posible usarlo como método no supervisado (clustering) y detección de outliers.\n",
    "\n",
    "**Desventajas de Random Forest**\n",
    "\n",
    "* Pérdida de interpretación\n",
    "* Bueno para clasificación, no tanto para regresión. Las predicciones no son de naturaleza continua.\n",
    "* En regresión, no puede predecir más allá del rango de valores del conjunto de entrenamiento.\n",
    "* Poco control en lo que hace el modelo (modelo caja negra para modeladores estadísticos)"
   ]
  },
  {
   "cell_type": "code",
   "execution_count": 130,
   "id": "430de305-cef3-4f73-9776-3a62c7576053",
   "metadata": {},
   "outputs": [],
   "source": [
    "from sklearn.ensemble import RandomForestClassifier"
   ]
  },
  {
   "cell_type": "code",
   "execution_count": 131,
   "id": "83eefaac-eb93-4d6d-af7e-ecd145dd60c8",
   "metadata": {},
   "outputs": [],
   "source": [
    "Modelo_RF=RandomForestClassifier()\n",
    "Modelo_RF=Modelo_RF.fit(x_train,y_train)"
   ]
  },
  {
   "cell_type": "code",
   "execution_count": 132,
   "id": "71a1c35e-9ff8-40e1-bd8a-22e9427d5282",
   "metadata": {},
   "outputs": [
    {
     "data": {
      "text/html": [
       "<div>\n",
       "<style scoped>\n",
       "    .dataframe tbody tr th:only-of-type {\n",
       "        vertical-align: middle;\n",
       "    }\n",
       "\n",
       "    .dataframe tbody tr th {\n",
       "        vertical-align: top;\n",
       "    }\n",
       "\n",
       "    .dataframe thead th {\n",
       "        text-align: right;\n",
       "    }\n",
       "</style>\n",
       "<table border=\"1\" class=\"dataframe\">\n",
       "  <thead>\n",
       "    <tr style=\"text-align: right;\">\n",
       "      <th></th>\n",
       "      <th>Predictor</th>\n",
       "      <th>Importancia</th>\n",
       "    </tr>\n",
       "  </thead>\n",
       "  <tbody>\n",
       "    <tr>\n",
       "      <th>17</th>\n",
       "      <td>Gasto_Vehiculos</td>\n",
       "      <td>0.389522</td>\n",
       "    </tr>\n",
       "    <tr>\n",
       "      <th>19</th>\n",
       "      <td>Gasto_Otros</td>\n",
       "      <td>0.082127</td>\n",
       "    </tr>\n",
       "    <tr>\n",
       "      <th>23</th>\n",
       "      <td>Educacion_Superior</td>\n",
       "      <td>0.069047</td>\n",
       "    </tr>\n",
       "    <tr>\n",
       "      <th>20</th>\n",
       "      <td>Educacion_Media</td>\n",
       "      <td>0.063182</td>\n",
       "    </tr>\n",
       "    <tr>\n",
       "      <th>25</th>\n",
       "      <td>Poblacion_Empresario</td>\n",
       "      <td>0.059769</td>\n",
       "    </tr>\n",
       "    <tr>\n",
       "      <th>22</th>\n",
       "      <td>Medico_Seguro_Privado</td>\n",
       "      <td>0.058894</td>\n",
       "    </tr>\n",
       "    <tr>\n",
       "      <th>21</th>\n",
       "      <td>Poblacion_Trabajador_Cualificado</td>\n",
       "      <td>0.049939</td>\n",
       "    </tr>\n",
       "    <tr>\n",
       "      <th>24</th>\n",
       "      <td>Tipo_Soltero</td>\n",
       "      <td>0.048342</td>\n",
       "    </tr>\n",
       "    <tr>\n",
       "      <th>18</th>\n",
       "      <td>Vivienda_Propiedad</td>\n",
       "      <td>0.047931</td>\n",
       "    </tr>\n",
       "    <tr>\n",
       "      <th>26</th>\n",
       "      <td>Ingresos_De_20000_Hasta_40000</td>\n",
       "      <td>0.036814</td>\n",
       "    </tr>\n",
       "    <tr>\n",
       "      <th>1</th>\n",
       "      <td>Productos_Otros_2</td>\n",
       "      <td>0.013439</td>\n",
       "    </tr>\n",
       "    <tr>\n",
       "      <th>16</th>\n",
       "      <td>Dia Semana_Jueves</td>\n",
       "      <td>0.011711</td>\n",
       "    </tr>\n",
       "    <tr>\n",
       "      <th>5</th>\n",
       "      <td>Mes Alta_Agosto</td>\n",
       "      <td>0.011325</td>\n",
       "    </tr>\n",
       "    <tr>\n",
       "      <th>11</th>\n",
       "      <td>Mes Alta_Octubre</td>\n",
       "      <td>0.010824</td>\n",
       "    </tr>\n",
       "    <tr>\n",
       "      <th>15</th>\n",
       "      <td>Dia Semana_Martes</td>\n",
       "      <td>0.009941</td>\n",
       "    </tr>\n",
       "    <tr>\n",
       "      <th>2</th>\n",
       "      <td>Mes Alta_Mayo</td>\n",
       "      <td>0.009389</td>\n",
       "    </tr>\n",
       "    <tr>\n",
       "      <th>4</th>\n",
       "      <td>Mes Alta_Febrero</td>\n",
       "      <td>0.007632</td>\n",
       "    </tr>\n",
       "    <tr>\n",
       "      <th>6</th>\n",
       "      <td>Productos_Otros_3</td>\n",
       "      <td>0.005142</td>\n",
       "    </tr>\n",
       "    <tr>\n",
       "      <th>7</th>\n",
       "      <td>Mes Alta_Julio</td>\n",
       "      <td>0.004888</td>\n",
       "    </tr>\n",
       "    <tr>\n",
       "      <th>14</th>\n",
       "      <td>Productos_Vehiculos_3</td>\n",
       "      <td>0.004520</td>\n",
       "    </tr>\n",
       "    <tr>\n",
       "      <th>0</th>\n",
       "      <td>Productos_Vehiculos_4</td>\n",
       "      <td>0.002899</td>\n",
       "    </tr>\n",
       "    <tr>\n",
       "      <th>9</th>\n",
       "      <td>Mes Alta_Septiembre</td>\n",
       "      <td>0.002672</td>\n",
       "    </tr>\n",
       "    <tr>\n",
       "      <th>8</th>\n",
       "      <td>Productos_Otros_5</td>\n",
       "      <td>0.000049</td>\n",
       "    </tr>\n",
       "    <tr>\n",
       "      <th>10</th>\n",
       "      <td>Productos_Vehiculos_6</td>\n",
       "      <td>0.000003</td>\n",
       "    </tr>\n",
       "    <tr>\n",
       "      <th>12</th>\n",
       "      <td>Productos_Otros_6</td>\n",
       "      <td>0.000000</td>\n",
       "    </tr>\n",
       "    <tr>\n",
       "      <th>3</th>\n",
       "      <td>Productos_Vida_3</td>\n",
       "      <td>0.000000</td>\n",
       "    </tr>\n",
       "    <tr>\n",
       "      <th>13</th>\n",
       "      <td>Productos_Vida_8</td>\n",
       "      <td>0.000000</td>\n",
       "    </tr>\n",
       "  </tbody>\n",
       "</table>\n",
       "</div>"
      ],
      "text/plain": [
       "                           Predictor  Importancia\n",
       "17                   Gasto_Vehiculos     0.389522\n",
       "19                       Gasto_Otros     0.082127\n",
       "23                Educacion_Superior     0.069047\n",
       "20                   Educacion_Media     0.063182\n",
       "25              Poblacion_Empresario     0.059769\n",
       "22             Medico_Seguro_Privado     0.058894\n",
       "21  Poblacion_Trabajador_Cualificado     0.049939\n",
       "24                      Tipo_Soltero     0.048342\n",
       "18                Vivienda_Propiedad     0.047931\n",
       "26     Ingresos_De_20000_Hasta_40000     0.036814\n",
       "1                  Productos_Otros_2     0.013439\n",
       "16                 Dia Semana_Jueves     0.011711\n",
       "5                    Mes Alta_Agosto     0.011325\n",
       "11                  Mes Alta_Octubre     0.010824\n",
       "15                 Dia Semana_Martes     0.009941\n",
       "2                      Mes Alta_Mayo     0.009389\n",
       "4                   Mes Alta_Febrero     0.007632\n",
       "6                  Productos_Otros_3     0.005142\n",
       "7                     Mes Alta_Julio     0.004888\n",
       "14             Productos_Vehiculos_3     0.004520\n",
       "0              Productos_Vehiculos_4     0.002899\n",
       "9                Mes Alta_Septiembre     0.002672\n",
       "8                  Productos_Otros_5     0.000049\n",
       "10             Productos_Vehiculos_6     0.000003\n",
       "12                 Productos_Otros_6     0.000000\n",
       "3                   Productos_Vida_3     0.000000\n",
       "13                  Productos_Vida_8     0.000000"
      ]
     },
     "execution_count": 132,
     "metadata": {},
     "output_type": "execute_result"
    }
   ],
   "source": [
    "Importancia_Predictores= pd.DataFrame({\n",
    "\"Predictor\":x_train.columns,\n",
    "    \"Importancia\": Modelo_RF.feature_importances_\n",
    "    \n",
    "})\n",
    "\n",
    "Importancia_Predictores.sort_values(\"Importancia\",ascending=False)"
   ]
  },
  {
   "cell_type": "markdown",
   "id": "a205a72f-d126-4298-8df8-baf54d378b28",
   "metadata": {},
   "source": [
    "**Error Train**"
   ]
  },
  {
   "cell_type": "code",
   "execution_count": 133,
   "id": "d3b2b3dc-b852-4742-b612-c15a7dd7f413",
   "metadata": {},
   "outputs": [
    {
     "name": "stdout",
     "output_type": "stream",
     "text": [
      "Accuracy: 0.9995235826584088\n",
      "              precision    recall  f1-score   support\n",
      "\n",
      "           0       1.00      1.00      1.00      1981\n",
      "           1       1.00      0.99      1.00       118\n",
      "\n",
      "    accuracy                           1.00      2099\n",
      "   macro avg       1.00      1.00      1.00      2099\n",
      "weighted avg       1.00      1.00      1.00      2099\n",
      "\n"
     ]
    },
    {
     "data": {
      "image/png": "[encoded data removed]",
      "text/plain": [
       "<Figure size 432x288 with 2 Axes>"
      ]
     },
     "metadata": {
      "needs_background": "light"
     },
     "output_type": "display_data"
    },
    {
     "name": "stdout",
     "output_type": "stream",
     "text": [
      "Predicion     0    1   All\n",
      "Realidad                  \n",
      "0          1981    0  1981\n",
      "1             1  117   118\n",
      "All        1982  117  2099\n"
     ]
    }
   ],
   "source": [
    "MetricasMatrixConfusion(y_train,Modelo_RF,x_train)"
   ]
  },
  {
   "cell_type": "code",
   "execution_count": 134,
   "id": "d929bf46-0a5e-435d-afa7-244ec66bf1f6",
   "metadata": {},
   "outputs": [
    {
     "name": "stdout",
     "output_type": "stream",
     "text": [
      "Modelo AUC: 1.0\n"
     ]
    },
    {
     "data": {
      "image/png": "[encoded data removed]",
      "text/plain": [
       "<Figure size 432x288 with 1 Axes>"
      ]
     },
     "metadata": {
      "needs_background": "light"
     },
     "output_type": "display_data"
    }
   ],
   "source": [
    "curva_roc(y_train,Modelo_RF,x_train)"
   ]
  },
  {
   "cell_type": "code",
   "execution_count": 135,
   "id": "e143ff3d-75d4-469d-8a5a-c9f68fcbeedf",
   "metadata": {},
   "outputs": [
    {
     "data": {
      "text/plain": [
       "1.0"
      ]
     },
     "execution_count": 135,
     "metadata": {},
     "output_type": "execute_result"
    }
   ],
   "source": [
    "Prediccion_train_RF=Modelo_RF.predict(x_train)\n",
    "Probabilidades_train_RF=Modelo_RF.predict_proba(x_train)\n",
    "\n",
    "Accuracy_train_RF=metrics.accuracy_score(y_train,Prediccion_train_RF)\n",
    "fscore_0_train_RF= f1_score(y_train,Prediccion_train_RF,pos_label=0)\n",
    "fscore_1_train_RF=f1_score(y_train,Prediccion_train_RF,pos_label=1)\n",
    "\n",
    "AUC_train_RF=round(roc_auc_score(y_train,Probabilidades_train_RF[:,1]),4)\n",
    "AUC_train_RF"
   ]
  },
  {
   "cell_type": "markdown",
   "id": "b00ed93c-18b7-4535-a71d-1d8f61668210",
   "metadata": {},
   "source": [
    "**Error Test**"
   ]
  },
  {
   "cell_type": "code",
   "execution_count": 136,
   "id": "163fbe87-e986-4503-b09a-4a20915d22a3",
   "metadata": {},
   "outputs": [
    {
     "name": "stdout",
     "output_type": "stream",
     "text": [
      "Accuracy: 0.9566666666666667\n",
      "              precision    recall  f1-score   support\n",
      "\n",
      "           0       0.96      0.99      0.98       849\n",
      "           1       0.75      0.35      0.48        51\n",
      "\n",
      "    accuracy                           0.96       900\n",
      "   macro avg       0.86      0.67      0.73       900\n",
      "weighted avg       0.95      0.96      0.95       900\n",
      "\n"
     ]
    },
    {
     "data": {
      "image/png": "[encoded data removed]",
      "text/plain": [
       "<Figure size 432x288 with 2 Axes>"
      ]
     },
     "metadata": {
      "needs_background": "light"
     },
     "output_type": "display_data"
    },
    {
     "name": "stdout",
     "output_type": "stream",
     "text": [
      "Predicion    0   1  All\n",
      "Realidad               \n",
      "0          843   6  849\n",
      "1           33  18   51\n",
      "All        876  24  900\n"
     ]
    }
   ],
   "source": [
    "MetricasMatrixConfusion(y_test,Modelo_RF,x_test)"
   ]
  },
  {
   "cell_type": "code",
   "execution_count": 137,
   "id": "c17c3a32-4cf7-497f-9ad7-ee89a35fe9fe",
   "metadata": {},
   "outputs": [
    {
     "name": "stdout",
     "output_type": "stream",
     "text": [
      "Modelo AUC: 0.8647543823182984\n"
     ]
    },
    {
     "data": {
      "image/png": "[encoded data removed]",
      "text/plain": [
       "<Figure size 432x288 with 1 Axes>"
      ]
     },
     "metadata": {
      "needs_background": "light"
     },
     "output_type": "display_data"
    }
   ],
   "source": [
    "curva_roc(y_test,Modelo_RF,x_test)"
   ]
  },
  {
   "cell_type": "code",
   "execution_count": 138,
   "id": "90b2cfbd-dcce-4e3e-a8e1-fde8a1d65bdb",
   "metadata": {},
   "outputs": [
    {
     "data": {
      "text/plain": [
       "0.8648"
      ]
     },
     "execution_count": 138,
     "metadata": {},
     "output_type": "execute_result"
    }
   ],
   "source": [
    "Prediccion_test_RF=Modelo_RF.predict(x_test)\n",
    "Probabilidades_test_RF=Modelo_RF.predict_proba(x_test)\n",
    "\n",
    "Accuracy_test_RF=metrics.accuracy_score(y_test,Prediccion_test_RF)\n",
    "fscore_0_test_RF= f1_score(y_test,Prediccion_test_RF,pos_label=0)\n",
    "fscore_1_test_RF=f1_score(y_test,Prediccion_test_RF,pos_label=1)\n",
    "\n",
    "AUC_test_RF=round(roc_auc_score(y_test,Probabilidades_test_RF[:,1]),4)\n",
    "AUC_test_RF"
   ]
  },
  {
   "cell_type": "markdown",
   "id": "82f9da1d-ec58-4b9b-899f-6b6d084a91ad",
   "metadata": {},
   "source": [
    "## **Optimzación Random Forest**"
   ]
  },
  {
   "cell_type": "code",
   "execution_count": null,
   "id": "76de56e2-1a57-4bc4-ab56-a5fd57c71913",
   "metadata": {},
   "outputs": [],
   "source": []
  },
  {
   "cell_type": "markdown",
   "id": "acf23e2c-4db3-43ed-8008-601deb41484a",
   "metadata": {},
   "source": [
    "## **Evaluación de Modelos**"
   ]
  },
  {
   "cell_type": "code",
   "execution_count": 141,
   "id": "41ed5bba-0841-40f3-bf93-7f66f681d9d8",
   "metadata": {},
   "outputs": [],
   "source": [
    "df_comparacion_modelos=pd.DataFrame({\n",
    "    \"Modelo\":[\"Logit_Sklearn\",\"LogitStast\",\"Arbol\",\"Arbol Optimo\",\"RF\"],\n",
    "    \"AccuracyTrain\":[Accuracy_Train_RL,Accuracy_Train_lg2,Accuracy_Train_AD,Accuracy_Train_AD1,Accuracy_train_RF],\n",
    "    \"AccuracyTest\":[Accuracy_TestRL,Accuracy_Test_lg2,Accuracy_test_AD,Accuracy_test_AD1,Accuracy_test_RF],\n",
    "    \"F1-Score_0_Train\":[fscore_0_train_lg1,fscore_0_train_lg2,fscore_0_train_AD,fscore_0_train_AD1,fscore_0_train_RF],\n",
    "    \"F1-Score_0_Test\":[fscore_0_test_lg1,fscore_0_Test_lg2,fscore_0_test_AD,fscore_0_test_AD1,fscore_0_test_RF],\n",
    "    \"F1-Score_1_Train\":[fscore_1_train_lg1,fscore_1_train_lg2,fscore_1_train_AD,fscore_1_train_AD1,fscore_1_train_RF],\n",
    "    \"F1-Score_1_Test\":[fscore_1_test_lg1,fscore_1_Test_lg2,fscore_1_test_AD,fscore_1_test_AD1,fscore_1_test_RF],\n",
    "    \"AUC_Train\":[AUC_Train_RL_Sklearn,AUC_Train_RL2,AUC_Train_AD,AUC_Train_AD1,Accuracy_train_RF],\n",
    "    \"AUC_Test\":[AUC_Test_RL_Sklearn,AUC_Test_RL2,AUC_test_AD,AUC_test_AD1,AUC_test_RF]\n",
    "    \n",
    "\n",
    "})"
   ]
  },
  {
   "cell_type": "code",
   "execution_count": 143,
   "id": "df31fc61-48db-4c52-b05e-96b28605b4a6",
   "metadata": {},
   "outputs": [
    {
     "data": {
      "text/html": [
       "<div>\n",
       "<style scoped>\n",
       "    .dataframe tbody tr th:only-of-type {\n",
       "        vertical-align: middle;\n",
       "    }\n",
       "\n",
       "    .dataframe tbody tr th {\n",
       "        vertical-align: top;\n",
       "    }\n",
       "\n",
       "    .dataframe thead th {\n",
       "        text-align: right;\n",
       "    }\n",
       "</style>\n",
       "<table border=\"1\" class=\"dataframe\">\n",
       "  <thead>\n",
       "    <tr style=\"text-align: right;\">\n",
       "      <th></th>\n",
       "      <th>Modelo</th>\n",
       "      <th>AccuracyTrain</th>\n",
       "      <th>AccuracyTest</th>\n",
       "      <th>F1-Score_0_Train</th>\n",
       "      <th>F1-Score_0_Test</th>\n",
       "      <th>F1-Score_1_Train</th>\n",
       "      <th>F1-Score_1_Test</th>\n",
       "      <th>AUC_Train</th>\n",
       "      <th>AUC_Test</th>\n",
       "    </tr>\n",
       "  </thead>\n",
       "  <tbody>\n",
       "    <tr>\n",
       "      <th>4</th>\n",
       "      <td>RF</td>\n",
       "      <td>0.999524</td>\n",
       "      <td>0.956667</td>\n",
       "      <td>0.999748</td>\n",
       "      <td>0.977391</td>\n",
       "      <td>0.995745</td>\n",
       "      <td>0.480000</td>\n",
       "      <td>0.999524</td>\n",
       "      <td>0.8648</td>\n",
       "    </tr>\n",
       "    <tr>\n",
       "      <th>0</th>\n",
       "      <td>Logit_Sklearn</td>\n",
       "      <td>0.936160</td>\n",
       "      <td>0.936667</td>\n",
       "      <td>0.966633</td>\n",
       "      <td>0.966880</td>\n",
       "      <td>0.263736</td>\n",
       "      <td>0.278481</td>\n",
       "      <td>0.835100</td>\n",
       "      <td>0.8003</td>\n",
       "    </tr>\n",
       "    <tr>\n",
       "      <th>3</th>\n",
       "      <td>Arbol Optimo</td>\n",
       "      <td>0.965222</td>\n",
       "      <td>0.953333</td>\n",
       "      <td>0.981764</td>\n",
       "      <td>0.975553</td>\n",
       "      <td>0.625641</td>\n",
       "      <td>0.487805</td>\n",
       "      <td>0.950300</td>\n",
       "      <td>0.7951</td>\n",
       "    </tr>\n",
       "    <tr>\n",
       "      <th>2</th>\n",
       "      <td>Arbol</td>\n",
       "      <td>1.000000</td>\n",
       "      <td>0.913333</td>\n",
       "      <td>1.000000</td>\n",
       "      <td>0.953627</td>\n",
       "      <td>1.000000</td>\n",
       "      <td>0.338983</td>\n",
       "      <td>1.000000</td>\n",
       "      <td>0.6684</td>\n",
       "    </tr>\n",
       "    <tr>\n",
       "      <th>1</th>\n",
       "      <td>LogitStast</td>\n",
       "      <td>0.883278</td>\n",
       "      <td>0.875556</td>\n",
       "      <td>0.937707</td>\n",
       "      <td>0.933492</td>\n",
       "      <td>0.075472</td>\n",
       "      <td>0.034483</td>\n",
       "      <td>0.480100</td>\n",
       "      <td>0.3983</td>\n",
       "    </tr>\n",
       "  </tbody>\n",
       "</table>\n",
       "</div>"
      ],
      "text/plain": [
       "          Modelo  AccuracyTrain  AccuracyTest  F1-Score_0_Train  \\\n",
       "4             RF       0.999524      0.956667          0.999748   \n",
       "0  Logit_Sklearn       0.936160      0.936667          0.966633   \n",
       "3   Arbol Optimo       0.965222      0.953333          0.981764   \n",
       "2          Arbol       1.000000      0.913333          1.000000   \n",
       "1     LogitStast       0.883278      0.875556          0.937707   \n",
       "\n",
       "   F1-Score_0_Test  F1-Score_1_Train  F1-Score_1_Test  AUC_Train  AUC_Test  \n",
       "4         0.977391          0.995745         0.480000   0.999524    0.8648  \n",
       "0         0.966880          0.263736         0.278481   0.835100    0.8003  \n",
       "3         0.975553          0.625641         0.487805   0.950300    0.7951  \n",
       "2         0.953627          1.000000         0.338983   1.000000    0.6684  \n",
       "1         0.933492          0.075472         0.034483   0.480100    0.3983  "
      ]
     },
     "execution_count": 143,
     "metadata": {},
     "output_type": "execute_result"
    }
   ],
   "source": [
    "df_comparacion_modelos.sort_values(\"AUC_Test\",ascending=False)"
   ]
  },
  {
   "cell_type": "code",
   "execution_count": null,
   "id": "b584f386-769f-48aa-ba92-a405d6969a44",
   "metadata": {},
   "outputs": [],
   "source": []
  },
  {
   "cell_type": "code",
   "execution_count": null,
   "id": "2cd2d6ab-470c-4bc5-906a-b76622c3b093",
   "metadata": {},
   "outputs": [],
   "source": []
  }
 ],
 "metadata": {
  "kernelspec": {
   "display_name": "Python 3 (ipykernel)",
   "language": "python",
   "name": "python3"
  },
  "language_info": {
   "codemirror_mode": {
    "name": "ipython",
    "version": 3
   },
   "file_extension": ".py",
   "mimetype": "text/x-python",
   "name": "python",
   "nbconvert_exporter": "python",
   "pygments_lexer": "ipython3",
   "version": "3.9.16"
  }
 },
 "nbformat": 4,
 "nbformat_minor": 5
}
