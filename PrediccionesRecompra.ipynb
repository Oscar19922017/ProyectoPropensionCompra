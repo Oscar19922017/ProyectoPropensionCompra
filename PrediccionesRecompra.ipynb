{
 "cells": [
  {
   "cell_type": "markdown",
   "id": "8f78a21d-97fe-42ab-a2b0-5a65935f9131",
   "metadata": {},
   "source": [
    "## **Predicciones Compra Seguro**"
   ]
  },
  {
   "cell_type": "markdown",
   "id": "c9e6d083-375f-48f2-8a2b-6e5df7d32296",
   "metadata": {},
   "source": [
    "**Importar Modelo**"
   ]
  },
  {
   "cell_type": "code",
   "execution_count": 19,
   "id": "6c5d119e-6429-47d2-a713-193b9ef1ecd7",
   "metadata": {},
   "outputs": [],
   "source": [
    "import pickle\n",
    "import numpy as np\n",
    "import pandas as pd\n",
    "import matplotlib.pyplot as plt"
   ]
  },
  {
   "cell_type": "code",
   "execution_count": 2,
   "id": "b6848ac5-ba65-44b7-8614-1d30313a8c59",
   "metadata": {},
   "outputs": [],
   "source": [
    "filaname=\"model_recompra.pkl\""
   ]
  },
  {
   "cell_type": "code",
   "execution_count": 3,
   "id": "739388ee-bc3d-47a1-b452-6350f6186831",
   "metadata": {},
   "outputs": [],
   "source": [
    "with open(filaname, 'rb') as file:\n",
    "    loaded_model = pickle.load(file)"
   ]
  },
  {
   "cell_type": "code",
   "execution_count": 4,
   "id": "114119b2-5df5-4a26-b3fe-cc7028a84fc0",
   "metadata": {},
   "outputs": [
    {
     "data": {
      "text/html": [
       "<style>#sk-container-id-1 {color: black;background-color: white;}#sk-container-id-1 pre{padding: 0;}#sk-container-id-1 div.sk-toggleable {background-color: white;}#sk-container-id-1 label.sk-toggleable__label {cursor: pointer;display: block;width: 100%;margin-bottom: 0;padding: 0.3em;box-sizing: border-box;text-align: center;}#sk-container-id-1 label.sk-toggleable__label-arrow:before {content: \"▸\";float: left;margin-right: 0.25em;color: #696969;}#sk-container-id-1 label.sk-toggleable__label-arrow:hover:before {color: black;}#sk-container-id-1 div.sk-estimator:hover label.sk-toggleable__label-arrow:before {color: black;}#sk-container-id-1 div.sk-toggleable__content {max-height: 0;max-width: 0;overflow: hidden;text-align: left;background-color: #f0f8ff;}#sk-container-id-1 div.sk-toggleable__content pre {margin: 0.2em;color: black;border-radius: 0.25em;background-color: #f0f8ff;}#sk-container-id-1 input.sk-toggleable__control:checked~div.sk-toggleable__content {max-height: 200px;max-width: 100%;overflow: auto;}#sk-container-id-1 input.sk-toggleable__control:checked~label.sk-toggleable__label-arrow:before {content: \"▾\";}#sk-container-id-1 div.sk-estimator input.sk-toggleable__control:checked~label.sk-toggleable__label {background-color: #d4ebff;}#sk-container-id-1 div.sk-label input.sk-toggleable__control:checked~label.sk-toggleable__label {background-color: #d4ebff;}#sk-container-id-1 input.sk-hidden--visually {border: 0;clip: rect(1px 1px 1px 1px);clip: rect(1px, 1px, 1px, 1px);height: 1px;margin: -1px;overflow: hidden;padding: 0;position: absolute;width: 1px;}#sk-container-id-1 div.sk-estimator {font-family: monospace;background-color: #f0f8ff;border: 1px dotted black;border-radius: 0.25em;box-sizing: border-box;margin-bottom: 0.5em;}#sk-container-id-1 div.sk-estimator:hover {background-color: #d4ebff;}#sk-container-id-1 div.sk-parallel-item::after {content: \"\";width: 100%;border-bottom: 1px solid gray;flex-grow: 1;}#sk-container-id-1 div.sk-label:hover label.sk-toggleable__label {background-color: #d4ebff;}#sk-container-id-1 div.sk-serial::before {content: \"\";position: absolute;border-left: 1px solid gray;box-sizing: border-box;top: 0;bottom: 0;left: 50%;z-index: 0;}#sk-container-id-1 div.sk-serial {display: flex;flex-direction: column;align-items: center;background-color: white;padding-right: 0.2em;padding-left: 0.2em;position: relative;}#sk-container-id-1 div.sk-item {position: relative;z-index: 1;}#sk-container-id-1 div.sk-parallel {display: flex;align-items: stretch;justify-content: center;background-color: white;position: relative;}#sk-container-id-1 div.sk-item::before, #sk-container-id-1 div.sk-parallel-item::before {content: \"\";position: absolute;border-left: 1px solid gray;box-sizing: border-box;top: 0;bottom: 0;left: 50%;z-index: -1;}#sk-container-id-1 div.sk-parallel-item {display: flex;flex-direction: column;z-index: 1;position: relative;background-color: white;}#sk-container-id-1 div.sk-parallel-item:first-child::after {align-self: flex-end;width: 50%;}#sk-container-id-1 div.sk-parallel-item:last-child::after {align-self: flex-start;width: 50%;}#sk-container-id-1 div.sk-parallel-item:only-child::after {width: 0;}#sk-container-id-1 div.sk-dashed-wrapped {border: 1px dashed gray;margin: 0 0.4em 0.5em 0.4em;box-sizing: border-box;padding-bottom: 0.4em;background-color: white;}#sk-container-id-1 div.sk-label label {font-family: monospace;font-weight: bold;display: inline-block;line-height: 1.2em;}#sk-container-id-1 div.sk-label-container {text-align: center;}#sk-container-id-1 div.sk-container {/* jupyter's `normalize.less` sets `[hidden] { display: none; }` but bootstrap.min.css set `[hidden] { display: none !important; }` so we also need the `!important` here to be able to override the default hidden behavior on the sphinx rendered scikit-learn.org. See: https://github.com/scikit-learn/scikit-learn/issues/21755 */display: inline-block !important;position: relative;}#sk-container-id-1 div.sk-text-repr-fallback {display: none;}</style><div id=\"sk-container-id-1\" class=\"sk-top-container\"><div class=\"sk-text-repr-fallback\"><pre>LGBMClassifier(random_state=123)</pre><b>In a Jupyter environment, please rerun this cell to show the HTML representation or trust the notebook. <br />On GitHub, the HTML representation is unable to render, please try loading this page with nbviewer.org.</b></div><div class=\"sk-container\" hidden><div class=\"sk-item\"><div class=\"sk-estimator sk-toggleable\"><input class=\"sk-toggleable__control sk-hidden--visually\" id=\"sk-estimator-id-1\" type=\"checkbox\" checked><label for=\"sk-estimator-id-1\" class=\"sk-toggleable__label sk-toggleable__label-arrow\">LGBMClassifier</label><div class=\"sk-toggleable__content\"><pre>LGBMClassifier(random_state=123)</pre></div></div></div></div></div>"
      ],
      "text/plain": [
       "LGBMClassifier(random_state=123)"
      ]
     },
     "execution_count": 4,
     "metadata": {},
     "output_type": "execute_result"
    }
   ],
   "source": [
    "loaded_model"
   ]
  },
  {
   "cell_type": "markdown",
   "id": "78238095-635a-4c6b-93d0-b8146c79905c",
   "metadata": {},
   "source": [
    "**Predicciones**"
   ]
  },
  {
   "cell_type": "code",
   "execution_count": 5,
   "id": "3f4fe640-50d2-466d-90a0-f265b6a84a0a",
   "metadata": {},
   "outputs": [
    {
     "data": {
      "text/plain": [
       "(10, 2)"
      ]
     },
     "execution_count": 5,
     "metadata": {},
     "output_type": "execute_result"
    }
   ],
   "source": [
    "df=pd.read_csv(\"BaseModelos.csv\",index_col=False)\n",
    "df.rename(columns={\"CompraSeguro\":\"target\"},inplace=True)\n",
    "\n",
    "Cat_chi2=pd.read_csv(\"CategoricasChi2.csv\")\n",
    "Cat_chi2.shape\n",
    "\n",
    "Cat_Mutual=pd.read_csv(\"CategoricasMutualInfo.csv\")\n",
    "Cat_Mutual.shape\n",
    "\n",
    "Num_corr=pd.read_csv(\"Num_Sig_Correlacion_Parametrica.csv\")\n",
    "Num_corr.shape\n",
    "\n",
    "Num_Mutual=pd.read_csv(\"Num_MutualInfo.csv\")\n",
    "Num_Mutual.shape"
   ]
  },
  {
   "cell_type": "code",
   "execution_count": 6,
   "id": "0ce3ea0d-89d2-4139-bd1e-dff19d1a7502",
   "metadata": {},
   "outputs": [],
   "source": [
    "Variables=Cat_Mutual.Variables.tolist()+Num_Mutual.Variables.tolist()"
   ]
  },
  {
   "cell_type": "code",
   "execution_count": 7,
   "id": "4ec9faac-0b90-4206-b080-50599d347f89",
   "metadata": {},
   "outputs": [],
   "source": [
    "Nueva=df[df[\"Tipo Archivo\"]==\"Prueba\"].reset_index(drop=True)"
   ]
  },
  {
   "cell_type": "code",
   "execution_count": 8,
   "id": "09520f37-0654-4dc5-8d8b-80e6bb9b56a6",
   "metadata": {},
   "outputs": [],
   "source": [
    "X_Nueva= Nueva[Variables]"
   ]
  },
  {
   "cell_type": "code",
   "execution_count": 9,
   "id": "8d808c9f-29a2-4482-b97d-c772278ae05c",
   "metadata": {},
   "outputs": [
    {
     "data": {
      "text/html": [
       "<div>\n",
       "<style scoped>\n",
       "    .dataframe tbody tr th:only-of-type {\n",
       "        vertical-align: middle;\n",
       "    }\n",
       "\n",
       "    .dataframe tbody tr th {\n",
       "        vertical-align: top;\n",
       "    }\n",
       "\n",
       "    .dataframe thead th {\n",
       "        text-align: right;\n",
       "    }\n",
       "</style>\n",
       "<table border=\"1\" class=\"dataframe\">\n",
       "  <thead>\n",
       "    <tr style=\"text-align: right;\">\n",
       "      <th></th>\n",
       "      <th>Productos_Vehiculos_4</th>\n",
       "      <th>Productos_Otros_2</th>\n",
       "      <th>Mes Alta_Mayo</th>\n",
       "      <th>Productos_Vida_3</th>\n",
       "      <th>Mes Alta_Febrero</th>\n",
       "      <th>Mes Alta_Agosto</th>\n",
       "      <th>Productos_Otros_3</th>\n",
       "      <th>Mes Alta_Julio</th>\n",
       "      <th>Productos_Otros_5</th>\n",
       "      <th>Mes Alta_Septiembre</th>\n",
       "      <th>...</th>\n",
       "      <th>Gasto_Vehiculos</th>\n",
       "      <th>Vivienda_Propiedad</th>\n",
       "      <th>Gasto_Otros</th>\n",
       "      <th>Educacion_Media</th>\n",
       "      <th>Poblacion_Trabajador_Cualificado</th>\n",
       "      <th>Medico_Seguro_Privado</th>\n",
       "      <th>Educacion_Superior</th>\n",
       "      <th>Tipo_Soltero</th>\n",
       "      <th>Poblacion_Empresario</th>\n",
       "      <th>Ingresos_De_20000_Hasta_40000</th>\n",
       "    </tr>\n",
       "  </thead>\n",
       "  <tbody>\n",
       "    <tr>\n",
       "      <th>0</th>\n",
       "      <td>0</td>\n",
       "      <td>1</td>\n",
       "      <td>0</td>\n",
       "      <td>0</td>\n",
       "      <td>1</td>\n",
       "      <td>0</td>\n",
       "      <td>0</td>\n",
       "      <td>0</td>\n",
       "      <td>0</td>\n",
       "      <td>0</td>\n",
       "      <td>...</td>\n",
       "      <td>2535.49</td>\n",
       "      <td>33.04</td>\n",
       "      <td>337.77</td>\n",
       "      <td>53.16</td>\n",
       "      <td>0.00</td>\n",
       "      <td>78.78</td>\n",
       "      <td>28.35</td>\n",
       "      <td>22.31</td>\n",
       "      <td>58.58</td>\n",
       "      <td>0.00</td>\n",
       "    </tr>\n",
       "    <tr>\n",
       "      <th>1</th>\n",
       "      <td>0</td>\n",
       "      <td>0</td>\n",
       "      <td>0</td>\n",
       "      <td>0</td>\n",
       "      <td>0</td>\n",
       "      <td>0</td>\n",
       "      <td>0</td>\n",
       "      <td>0</td>\n",
       "      <td>0</td>\n",
       "      <td>0</td>\n",
       "      <td>...</td>\n",
       "      <td>3195.94</td>\n",
       "      <td>0.00</td>\n",
       "      <td>87.96</td>\n",
       "      <td>38.12</td>\n",
       "      <td>16.59</td>\n",
       "      <td>31.24</td>\n",
       "      <td>19.93</td>\n",
       "      <td>0.00</td>\n",
       "      <td>35.77</td>\n",
       "      <td>0.00</td>\n",
       "    </tr>\n",
       "    <tr>\n",
       "      <th>2</th>\n",
       "      <td>0</td>\n",
       "      <td>0</td>\n",
       "      <td>0</td>\n",
       "      <td>0</td>\n",
       "      <td>0</td>\n",
       "      <td>0</td>\n",
       "      <td>0</td>\n",
       "      <td>0</td>\n",
       "      <td>0</td>\n",
       "      <td>0</td>\n",
       "      <td>...</td>\n",
       "      <td>0.00</td>\n",
       "      <td>17.29</td>\n",
       "      <td>0.00</td>\n",
       "      <td>46.03</td>\n",
       "      <td>19.46</td>\n",
       "      <td>17.86</td>\n",
       "      <td>3.21</td>\n",
       "      <td>63.35</td>\n",
       "      <td>17.76</td>\n",
       "      <td>8.90</td>\n",
       "    </tr>\n",
       "    <tr>\n",
       "      <th>3</th>\n",
       "      <td>0</td>\n",
       "      <td>0</td>\n",
       "      <td>0</td>\n",
       "      <td>0</td>\n",
       "      <td>0</td>\n",
       "      <td>0</td>\n",
       "      <td>0</td>\n",
       "      <td>0</td>\n",
       "      <td>0</td>\n",
       "      <td>0</td>\n",
       "      <td>...</td>\n",
       "      <td>3183.59</td>\n",
       "      <td>42.51</td>\n",
       "      <td>0.00</td>\n",
       "      <td>14.29</td>\n",
       "      <td>13.66</td>\n",
       "      <td>33.80</td>\n",
       "      <td>4.63</td>\n",
       "      <td>1.88</td>\n",
       "      <td>7.33</td>\n",
       "      <td>5.74</td>\n",
       "    </tr>\n",
       "    <tr>\n",
       "      <th>4</th>\n",
       "      <td>0</td>\n",
       "      <td>1</td>\n",
       "      <td>0</td>\n",
       "      <td>0</td>\n",
       "      <td>0</td>\n",
       "      <td>0</td>\n",
       "      <td>0</td>\n",
       "      <td>0</td>\n",
       "      <td>0</td>\n",
       "      <td>1</td>\n",
       "      <td>...</td>\n",
       "      <td>3613.07</td>\n",
       "      <td>13.52</td>\n",
       "      <td>238.26</td>\n",
       "      <td>25.45</td>\n",
       "      <td>31.55</td>\n",
       "      <td>1.64</td>\n",
       "      <td>7.67</td>\n",
       "      <td>50.21</td>\n",
       "      <td>4.07</td>\n",
       "      <td>0.00</td>\n",
       "    </tr>\n",
       "    <tr>\n",
       "      <th>...</th>\n",
       "      <td>...</td>\n",
       "      <td>...</td>\n",
       "      <td>...</td>\n",
       "      <td>...</td>\n",
       "      <td>...</td>\n",
       "      <td>...</td>\n",
       "      <td>...</td>\n",
       "      <td>...</td>\n",
       "      <td>...</td>\n",
       "      <td>...</td>\n",
       "      <td>...</td>\n",
       "      <td>...</td>\n",
       "      <td>...</td>\n",
       "      <td>...</td>\n",
       "      <td>...</td>\n",
       "      <td>...</td>\n",
       "      <td>...</td>\n",
       "      <td>...</td>\n",
       "      <td>...</td>\n",
       "      <td>...</td>\n",
       "      <td>...</td>\n",
       "    </tr>\n",
       "    <tr>\n",
       "      <th>888</th>\n",
       "      <td>0</td>\n",
       "      <td>0</td>\n",
       "      <td>0</td>\n",
       "      <td>0</td>\n",
       "      <td>1</td>\n",
       "      <td>0</td>\n",
       "      <td>0</td>\n",
       "      <td>0</td>\n",
       "      <td>0</td>\n",
       "      <td>0</td>\n",
       "      <td>...</td>\n",
       "      <td>4264.50</td>\n",
       "      <td>68.87</td>\n",
       "      <td>0.00</td>\n",
       "      <td>41.69</td>\n",
       "      <td>22.70</td>\n",
       "      <td>46.58</td>\n",
       "      <td>0.00</td>\n",
       "      <td>0.00</td>\n",
       "      <td>38.26</td>\n",
       "      <td>12.40</td>\n",
       "    </tr>\n",
       "    <tr>\n",
       "      <th>889</th>\n",
       "      <td>0</td>\n",
       "      <td>1</td>\n",
       "      <td>0</td>\n",
       "      <td>0</td>\n",
       "      <td>0</td>\n",
       "      <td>0</td>\n",
       "      <td>0</td>\n",
       "      <td>0</td>\n",
       "      <td>0</td>\n",
       "      <td>0</td>\n",
       "      <td>...</td>\n",
       "      <td>0.00</td>\n",
       "      <td>35.65</td>\n",
       "      <td>559.94</td>\n",
       "      <td>57.92</td>\n",
       "      <td>8.50</td>\n",
       "      <td>30.33</td>\n",
       "      <td>20.28</td>\n",
       "      <td>5.68</td>\n",
       "      <td>31.80</td>\n",
       "      <td>0.00</td>\n",
       "    </tr>\n",
       "    <tr>\n",
       "      <th>890</th>\n",
       "      <td>0</td>\n",
       "      <td>0</td>\n",
       "      <td>0</td>\n",
       "      <td>0</td>\n",
       "      <td>0</td>\n",
       "      <td>0</td>\n",
       "      <td>0</td>\n",
       "      <td>0</td>\n",
       "      <td>0</td>\n",
       "      <td>0</td>\n",
       "      <td>...</td>\n",
       "      <td>0.00</td>\n",
       "      <td>52.24</td>\n",
       "      <td>0.00</td>\n",
       "      <td>43.06</td>\n",
       "      <td>61.46</td>\n",
       "      <td>0.00</td>\n",
       "      <td>0.00</td>\n",
       "      <td>0.00</td>\n",
       "      <td>0.00</td>\n",
       "      <td>8.05</td>\n",
       "    </tr>\n",
       "    <tr>\n",
       "      <th>891</th>\n",
       "      <td>0</td>\n",
       "      <td>0</td>\n",
       "      <td>0</td>\n",
       "      <td>0</td>\n",
       "      <td>0</td>\n",
       "      <td>0</td>\n",
       "      <td>0</td>\n",
       "      <td>0</td>\n",
       "      <td>0</td>\n",
       "      <td>0</td>\n",
       "      <td>...</td>\n",
       "      <td>2036.26</td>\n",
       "      <td>41.38</td>\n",
       "      <td>0.00</td>\n",
       "      <td>53.90</td>\n",
       "      <td>0.00</td>\n",
       "      <td>46.61</td>\n",
       "      <td>13.95</td>\n",
       "      <td>58.57</td>\n",
       "      <td>15.70</td>\n",
       "      <td>55.48</td>\n",
       "    </tr>\n",
       "    <tr>\n",
       "      <th>892</th>\n",
       "      <td>0</td>\n",
       "      <td>1</td>\n",
       "      <td>0</td>\n",
       "      <td>0</td>\n",
       "      <td>0</td>\n",
       "      <td>0</td>\n",
       "      <td>0</td>\n",
       "      <td>0</td>\n",
       "      <td>0</td>\n",
       "      <td>0</td>\n",
       "      <td>...</td>\n",
       "      <td>0.00</td>\n",
       "      <td>61.89</td>\n",
       "      <td>293.19</td>\n",
       "      <td>73.78</td>\n",
       "      <td>0.00</td>\n",
       "      <td>37.09</td>\n",
       "      <td>0.00</td>\n",
       "      <td>0.00</td>\n",
       "      <td>38.88</td>\n",
       "      <td>0.00</td>\n",
       "    </tr>\n",
       "  </tbody>\n",
       "</table>\n",
       "<p>893 rows × 27 columns</p>\n",
       "</div>"
      ],
      "text/plain": [
       "     Productos_Vehiculos_4  Productos_Otros_2  Mes Alta_Mayo  \\\n",
       "0                        0                  1              0   \n",
       "1                        0                  0              0   \n",
       "2                        0                  0              0   \n",
       "3                        0                  0              0   \n",
       "4                        0                  1              0   \n",
       "..                     ...                ...            ...   \n",
       "888                      0                  0              0   \n",
       "889                      0                  1              0   \n",
       "890                      0                  0              0   \n",
       "891                      0                  0              0   \n",
       "892                      0                  1              0   \n",
       "\n",
       "     Productos_Vida_3  Mes Alta_Febrero  Mes Alta_Agosto  Productos_Otros_3  \\\n",
       "0                   0                 1                0                  0   \n",
       "1                   0                 0                0                  0   \n",
       "2                   0                 0                0                  0   \n",
       "3                   0                 0                0                  0   \n",
       "4                   0                 0                0                  0   \n",
       "..                ...               ...              ...                ...   \n",
       "888                 0                 1                0                  0   \n",
       "889                 0                 0                0                  0   \n",
       "890                 0                 0                0                  0   \n",
       "891                 0                 0                0                  0   \n",
       "892                 0                 0                0                  0   \n",
       "\n",
       "     Mes Alta_Julio  Productos_Otros_5  Mes Alta_Septiembre  ...  \\\n",
       "0                 0                  0                    0  ...   \n",
       "1                 0                  0                    0  ...   \n",
       "2                 0                  0                    0  ...   \n",
       "3                 0                  0                    0  ...   \n",
       "4                 0                  0                    1  ...   \n",
       "..              ...                ...                  ...  ...   \n",
       "888               0                  0                    0  ...   \n",
       "889               0                  0                    0  ...   \n",
       "890               0                  0                    0  ...   \n",
       "891               0                  0                    0  ...   \n",
       "892               0                  0                    0  ...   \n",
       "\n",
       "     Gasto_Vehiculos  Vivienda_Propiedad  Gasto_Otros  Educacion_Media  \\\n",
       "0            2535.49               33.04       337.77            53.16   \n",
       "1            3195.94                0.00        87.96            38.12   \n",
       "2               0.00               17.29         0.00            46.03   \n",
       "3            3183.59               42.51         0.00            14.29   \n",
       "4            3613.07               13.52       238.26            25.45   \n",
       "..               ...                 ...          ...              ...   \n",
       "888          4264.50               68.87         0.00            41.69   \n",
       "889             0.00               35.65       559.94            57.92   \n",
       "890             0.00               52.24         0.00            43.06   \n",
       "891          2036.26               41.38         0.00            53.90   \n",
       "892             0.00               61.89       293.19            73.78   \n",
       "\n",
       "     Poblacion_Trabajador_Cualificado  Medico_Seguro_Privado  \\\n",
       "0                                0.00                  78.78   \n",
       "1                               16.59                  31.24   \n",
       "2                               19.46                  17.86   \n",
       "3                               13.66                  33.80   \n",
       "4                               31.55                   1.64   \n",
       "..                                ...                    ...   \n",
       "888                             22.70                  46.58   \n",
       "889                              8.50                  30.33   \n",
       "890                             61.46                   0.00   \n",
       "891                              0.00                  46.61   \n",
       "892                              0.00                  37.09   \n",
       "\n",
       "     Educacion_Superior  Tipo_Soltero  Poblacion_Empresario  \\\n",
       "0                 28.35         22.31                 58.58   \n",
       "1                 19.93          0.00                 35.77   \n",
       "2                  3.21         63.35                 17.76   \n",
       "3                  4.63          1.88                  7.33   \n",
       "4                  7.67         50.21                  4.07   \n",
       "..                  ...           ...                   ...   \n",
       "888                0.00          0.00                 38.26   \n",
       "889               20.28          5.68                 31.80   \n",
       "890                0.00          0.00                  0.00   \n",
       "891               13.95         58.57                 15.70   \n",
       "892                0.00          0.00                 38.88   \n",
       "\n",
       "     Ingresos_De_20000_Hasta_40000  \n",
       "0                             0.00  \n",
       "1                             0.00  \n",
       "2                             8.90  \n",
       "3                             5.74  \n",
       "4                             0.00  \n",
       "..                             ...  \n",
       "888                          12.40  \n",
       "889                           0.00  \n",
       "890                           8.05  \n",
       "891                          55.48  \n",
       "892                           0.00  \n",
       "\n",
       "[893 rows x 27 columns]"
      ]
     },
     "execution_count": 9,
     "metadata": {},
     "output_type": "execute_result"
    }
   ],
   "source": [
    "X_Nueva"
   ]
  },
  {
   "cell_type": "code",
   "execution_count": 10,
   "id": "b5516fe0-a7f7-4949-9c96-f0716ee8c925",
   "metadata": {},
   "outputs": [
    {
     "data": {
      "text/plain": [
       "array([[9.97411940e-01, 2.58805999e-03],\n",
       "       [8.40926249e-01, 1.59073751e-01],\n",
       "       [9.99989502e-01, 1.04979070e-05],\n",
       "       ...,\n",
       "       [9.99968552e-01, 3.14483789e-05],\n",
       "       [9.99490351e-01, 5.09648740e-04],\n",
       "       [9.99984362e-01, 1.56382462e-05]])"
      ]
     },
     "execution_count": 10,
     "metadata": {},
     "output_type": "execute_result"
    }
   ],
   "source": [
    "ProbabilidadUsuarios=loaded_model.predict_proba(X_Nueva)\n",
    "ProbabilidadUsuarios"
   ]
  },
  {
   "cell_type": "code",
   "execution_count": 11,
   "id": "6d319ac6-4fd9-4c40-8060-d2d82bcc79bf",
   "metadata": {},
   "outputs": [],
   "source": [
    "PrediccionUsuarios=loaded_model.predict(X_Nueva)"
   ]
  },
  {
   "cell_type": "code",
   "execution_count": 12,
   "id": "a876ee90-1282-431e-b821-37cdebf3ef2a",
   "metadata": {},
   "outputs": [
    {
     "data": {
      "text/plain": [
       "array([0, 0, 0, 0, 0, 0, 0, 0, 0, 0, 0, 0, 0, 0, 0, 0, 0, 0, 0, 0, 0, 0,\n",
       "       0, 0, 0, 0, 1, 0, 0, 0, 0, 0, 0, 0, 0, 0, 1, 0, 0, 0, 0, 0, 0, 1,\n",
       "       0, 0, 0, 0, 0, 0, 0, 0, 0, 0, 0, 0, 0, 0, 0, 0, 0, 0, 0, 0, 0, 0,\n",
       "       0, 0, 0, 0, 0, 0, 0, 0, 0, 0, 0, 0, 0, 0, 0, 0, 0, 0, 0, 0, 0, 0,\n",
       "       0, 0, 0, 0, 0, 0, 0, 0, 0, 0, 0, 0, 0, 0, 0, 0, 0, 0, 0, 1, 0, 0,\n",
       "       0, 0, 1, 0, 0, 0, 0, 0, 0, 0, 0, 0, 0, 0, 1, 0, 0, 0, 0, 0, 0, 0,\n",
       "       0, 0, 0, 0, 0, 0, 0, 0, 0, 0, 0, 0, 0, 0, 0, 0, 0, 0, 0, 0, 1, 0,\n",
       "       0, 1, 0, 0, 0, 0, 0, 0, 0, 0, 0, 0, 0, 0, 0, 0, 0, 0, 0, 0, 0, 0,\n",
       "       0, 1, 0, 0, 0, 0, 0, 0, 1, 0, 0, 0, 0, 0, 0, 0, 0, 0, 0, 0, 0, 0,\n",
       "       0, 0, 0, 0, 0, 0, 0, 0, 0, 0, 0, 0, 0, 0, 0, 0, 0, 1, 0, 0, 0, 0,\n",
       "       0, 0, 0, 0, 0, 0, 0, 0, 0, 0, 0, 0, 0, 0, 0, 0, 0, 0, 0, 0, 0, 0,\n",
       "       0, 0, 0, 1, 0, 0, 0, 0, 0, 0, 0, 0, 0, 0, 0, 0, 0, 0, 0, 0, 0, 0,\n",
       "       0, 0, 0, 0, 0, 0, 0, 0, 0, 0, 0, 0, 0, 0, 0, 0, 0, 0, 0, 0, 0, 0,\n",
       "       0, 0, 0, 0, 0, 0, 0, 0, 0, 0, 0, 0, 0, 0, 0, 0, 0, 0, 0, 0, 0, 0,\n",
       "       0, 0, 0, 0, 0, 0, 0, 0, 0, 0, 0, 0, 0, 0, 0, 0, 0, 0, 0, 0, 0, 0,\n",
       "       0, 0, 0, 0, 0, 0, 0, 0, 0, 0, 0, 0, 0, 0, 0, 0, 0, 0, 0, 0, 0, 0,\n",
       "       0, 0, 0, 0, 0, 0, 0, 0, 0, 0, 0, 0, 0, 0, 1, 0, 0, 0, 0, 0, 0, 0,\n",
       "       0, 0, 0, 0, 0, 0, 0, 0, 0, 0, 0, 0, 0, 0, 1, 0, 1, 0, 0, 0, 0, 0,\n",
       "       0, 0, 0, 0, 0, 0, 0, 0, 0, 0, 0, 0, 0, 0, 0, 0, 0, 0, 0, 0, 0, 0,\n",
       "       0, 0, 0, 0, 0, 0, 0, 0, 0, 0, 0, 0, 0, 0, 0, 0, 0, 0, 0, 0, 0, 0,\n",
       "       0, 0, 0, 0, 0, 0, 0, 0, 0, 0, 0, 0, 0, 0, 0, 0, 1, 0, 0, 0, 0, 0,\n",
       "       0, 0, 0, 0, 0, 0, 0, 0, 1, 0, 0, 0, 0, 0, 0, 0, 0, 0, 0, 0, 0, 0,\n",
       "       0, 0, 0, 0, 0, 0, 0, 1, 0, 0, 0, 0, 0, 0, 0, 0, 0, 0, 0, 0, 0, 0,\n",
       "       0, 0, 0, 0, 0, 0, 0, 0, 0, 0, 0, 0, 0, 0, 0, 0, 0, 0, 0, 0, 0, 1,\n",
       "       0, 0, 0, 0, 0, 0, 0, 0, 0, 0, 0, 0, 0, 0, 0, 0, 0, 0, 0, 0, 0, 0,\n",
       "       0, 0, 0, 0, 0, 0, 0, 0, 0, 0, 0, 0, 0, 0, 0, 0, 0, 0, 0, 1, 0, 0,\n",
       "       0, 0, 0, 0, 0, 0, 0, 0, 0, 0, 0, 0, 0, 0, 0, 0, 0, 0, 0, 0, 0, 0,\n",
       "       0, 0, 0, 0, 0, 0, 0, 0, 0, 0, 0, 0, 0, 0, 0, 0, 0, 0, 0, 0, 0, 0,\n",
       "       0, 0, 0, 0, 0, 0, 0, 0, 0, 0, 0, 0, 0, 0, 0, 0, 0, 0, 0, 0, 0, 0,\n",
       "       0, 0, 0, 0, 0, 0, 0, 0, 0, 0, 0, 0, 1, 0, 0, 0, 0, 0, 0, 0, 0, 0,\n",
       "       0, 0, 0, 0, 0, 0, 1, 0, 0, 0, 0, 0, 1, 1, 0, 0, 0, 0, 0, 0, 0, 0,\n",
       "       0, 0, 0, 0, 0, 0, 0, 0, 0, 0, 0, 0, 0, 0, 0, 0, 0, 0, 1, 0, 0, 0,\n",
       "       0, 0, 0, 0, 0, 0, 0, 0, 0, 0, 0, 0, 0, 0, 0, 0, 0, 0, 0, 0, 0, 0,\n",
       "       0, 0, 0, 0, 0, 0, 0, 0, 0, 0, 0, 1, 0, 0, 0, 0, 0, 0, 0, 0, 0, 0,\n",
       "       0, 0, 0, 0, 0, 0, 0, 0, 0, 0, 0, 0, 0, 0, 0, 0, 0, 0, 0, 0, 0, 0,\n",
       "       0, 0, 0, 0, 0, 0, 0, 0, 0, 0, 0, 0, 0, 0, 0, 0, 0, 0, 0, 0, 0, 0,\n",
       "       0, 0, 0, 0, 0, 0, 0, 0, 0, 0, 0, 0, 0, 0, 0, 0, 0, 0, 0, 0, 0, 0,\n",
       "       0, 0, 0, 0, 0, 0, 0, 0, 0, 0, 0, 0, 0, 0, 0, 0, 0, 0, 0, 0, 0, 0,\n",
       "       0, 0, 0, 0, 0, 0, 0, 0, 0, 0, 0, 0, 0, 0, 0, 0, 0, 0, 0, 0, 0, 0,\n",
       "       0, 0, 0, 0, 0, 0, 0, 0, 0, 0, 0, 0, 0, 0, 0, 0, 0, 0, 0, 0, 0, 0,\n",
       "       0, 0, 0, 0, 0, 0, 0, 0, 0, 0, 0, 0, 0])"
      ]
     },
     "execution_count": 12,
     "metadata": {},
     "output_type": "execute_result"
    }
   ],
   "source": [
    "PrediccionUsuarios"
   ]
  },
  {
   "cell_type": "code",
   "execution_count": 13,
   "id": "4f18b187-46a4-46ea-86c8-45eff92723f2",
   "metadata": {},
   "outputs": [
    {
     "name": "stderr",
     "output_type": "stream",
     "text": [
      "/var/folders/vt/2t0v0kt92gj1_bvmhn234x6ng8b83c/T/ipykernel_89650/4064189387.py:1: SettingWithCopyWarning: \n",
      "A value is trying to be set on a copy of a slice from a DataFrame.\n",
      "Try using .loc[row_indexer,col_indexer] = value instead\n",
      "\n",
      "See the caveats in the documentation: https://pandas.pydata.org/pandas-docs/stable/user_guide/indexing.html#returning-a-view-versus-a-copy\n",
      "  X_Nueva[\"Score\"]=ProbabilidadUsuarios[::,1]\n",
      "/var/folders/vt/2t0v0kt92gj1_bvmhn234x6ng8b83c/T/ipykernel_89650/4064189387.py:2: SettingWithCopyWarning: \n",
      "A value is trying to be set on a copy of a slice from a DataFrame.\n",
      "Try using .loc[row_indexer,col_indexer] = value instead\n",
      "\n",
      "See the caveats in the documentation: https://pandas.pydata.org/pandas-docs/stable/user_guide/indexing.html#returning-a-view-versus-a-copy\n",
      "  X_Nueva[\"PrediccionCompraSeguro\"]=PrediccionUsuarios\n"
     ]
    }
   ],
   "source": [
    "X_Nueva[\"Score\"]=ProbabilidadUsuarios[::,1]\n",
    "X_Nueva[\"PrediccionCompraSeguro\"]=PrediccionUsuarios"
   ]
  },
  {
   "cell_type": "code",
   "execution_count": 15,
   "id": "e019ff96-43ad-41e8-98f8-28b2317fb99b",
   "metadata": {},
   "outputs": [
    {
     "data": {
      "text/plain": [
       "(893, 29)"
      ]
     },
     "execution_count": 15,
     "metadata": {},
     "output_type": "execute_result"
    }
   ],
   "source": [
    "X_Nueva.shape"
   ]
  },
  {
   "cell_type": "code",
   "execution_count": 18,
   "id": "5c9c1b47-0987-441c-ab03-442d02b1d531",
   "metadata": {},
   "outputs": [
    {
     "data": {
      "text/plain": [
       "0    0.970885\n",
       "1    0.029115\n",
       "Name: PrediccionCompraSeguro, dtype: float64"
      ]
     },
     "execution_count": 18,
     "metadata": {},
     "output_type": "execute_result"
    }
   ],
   "source": [
    "X_Nueva[\"PrediccionCompraSeguro\"].value_counts(normalize=True)"
   ]
  },
  {
   "cell_type": "code",
   "execution_count": 22,
   "id": "361d7490-f98c-4e43-b192-1afbd736a25a",
   "metadata": {},
   "outputs": [
    {
     "data": {
      "image/png": "[encoded data removed]",
      "text/plain": [
       "<Figure size 432x288 with 1 Axes>"
      ]
     },
     "metadata": {
      "needs_background": "light"
     },
     "output_type": "display_data"
    }
   ],
   "source": [
    "plt.hist(ProbabilidadUsuarios[::,1]);"
   ]
  },
  {
   "cell_type": "code",
   "execution_count": 23,
   "id": "6d128f62-6eb4-4d95-9dd8-9b28ea89e71c",
   "metadata": {},
   "outputs": [
    {
     "name": "stderr",
     "output_type": "stream",
     "text": [
      "/var/folders/vt/2t0v0kt92gj1_bvmhn234x6ng8b83c/T/ipykernel_89650/1906432311.py:1: SettingWithCopyWarning: \n",
      "A value is trying to be set on a copy of a slice from a DataFrame.\n",
      "Try using .loc[row_indexer,col_indexer] = value instead\n",
      "\n",
      "See the caveats in the documentation: https://pandas.pydata.org/pandas-docs/stable/user_guide/indexing.html#returning-a-view-versus-a-copy\n",
      "  X_Nueva[\"usuarios\"]=X_Nueva.index\n"
     ]
    }
   ],
   "source": [
    "X_Nueva[\"usuarios\"]=X_Nueva.index"
   ]
  },
  {
   "cell_type": "code",
   "execution_count": 40,
   "id": "24dff312-ea36-4d3e-9186-8a3db37f2204",
   "metadata": {},
   "outputs": [
    {
     "data": {
      "text/plain": [
       "count    893.000000\n",
       "mean       0.038463\n",
       "std        0.153221\n",
       "min        0.000006\n",
       "25%        0.000022\n",
       "50%        0.000054\n",
       "75%        0.003986\n",
       "max        0.995375\n",
       "Name: Score, dtype: float64"
      ]
     },
     "execution_count": 40,
     "metadata": {},
     "output_type": "execute_result"
    }
   ],
   "source": [
    "X_Nueva[\"Score\"].describe()"
   ]
  },
  {
   "cell_type": "code",
   "execution_count": 48,
   "id": "068172b5-3c00-4cad-82a9-45c629789541",
   "metadata": {},
   "outputs": [],
   "source": [
    "data_sorted = data.sort_values(by='Score', ascending=True)\n",
    "\n",
    "# Calcular el número de usuarios por decil\n",
    "num_users_per_decile = len(data_sorted) // 10\n",
    "\n",
    "# Crear una nueva columna 'decil' para indicar el decil al que pertenece cada usuario\n",
    "data_sorted['decil'] = (data_sorted.reset_index().index // num_users_per_decile) + 1\n",
    "\n",
    "# Mostrar el "
   ]
  },
  {
   "cell_type": "code",
   "execution_count": 51,
   "id": "9919bb4a-1f87-45f6-96a7-2c4a49f2cb33",
   "metadata": {},
   "outputs": [
    {
     "data": {
      "text/plain": [
       "1     89\n",
       "2     89\n",
       "3     89\n",
       "4     89\n",
       "5     89\n",
       "6     89\n",
       "7     89\n",
       "8     89\n",
       "9     89\n",
       "10    89\n",
       "11     3\n",
       "Name: decil, dtype: int64"
      ]
     },
     "execution_count": 51,
     "metadata": {},
     "output_type": "execute_result"
    }
   ],
   "source": [
    "data_sorted['decil'].value_counts(normalize=False)"
   ]
  },
  {
   "cell_type": "code",
   "execution_count": 50,
   "id": "f2c76a30-93ab-4b02-8247-6b699b0ca87e",
   "metadata": {},
   "outputs": [
    {
     "data": {
      "text/html": [
       "<div>\n",
       "<style scoped>\n",
       "    .dataframe tbody tr th:only-of-type {\n",
       "        vertical-align: middle;\n",
       "    }\n",
       "\n",
       "    .dataframe tbody tr th {\n",
       "        vertical-align: top;\n",
       "    }\n",
       "\n",
       "    .dataframe thead th {\n",
       "        text-align: right;\n",
       "    }\n",
       "</style>\n",
       "<table border=\"1\" class=\"dataframe\">\n",
       "  <thead>\n",
       "    <tr style=\"text-align: right;\">\n",
       "      <th></th>\n",
       "      <th>usuarios</th>\n",
       "      <th>Score</th>\n",
       "      <th>decil</th>\n",
       "    </tr>\n",
       "  </thead>\n",
       "  <tbody>\n",
       "    <tr>\n",
       "      <th>649</th>\n",
       "      <td>649</td>\n",
       "      <td>0.000006</td>\n",
       "      <td>1</td>\n",
       "    </tr>\n",
       "    <tr>\n",
       "      <th>127</th>\n",
       "      <td>127</td>\n",
       "      <td>0.000006</td>\n",
       "      <td>1</td>\n",
       "    </tr>\n",
       "    <tr>\n",
       "      <th>508</th>\n",
       "      <td>508</td>\n",
       "      <td>0.000006</td>\n",
       "      <td>1</td>\n",
       "    </tr>\n",
       "    <tr>\n",
       "      <th>593</th>\n",
       "      <td>593</td>\n",
       "      <td>0.000006</td>\n",
       "      <td>1</td>\n",
       "    </tr>\n",
       "    <tr>\n",
       "      <th>463</th>\n",
       "      <td>463</td>\n",
       "      <td>0.000007</td>\n",
       "      <td>1</td>\n",
       "    </tr>\n",
       "    <tr>\n",
       "      <th>...</th>\n",
       "      <td>...</td>\n",
       "      <td>...</td>\n",
       "      <td>...</td>\n",
       "    </tr>\n",
       "    <tr>\n",
       "      <th>390</th>\n",
       "      <td>390</td>\n",
       "      <td>0.982126</td>\n",
       "      <td>10</td>\n",
       "    </tr>\n",
       "    <tr>\n",
       "      <th>152</th>\n",
       "      <td>152</td>\n",
       "      <td>0.986747</td>\n",
       "      <td>10</td>\n",
       "    </tr>\n",
       "    <tr>\n",
       "      <th>36</th>\n",
       "      <td>36</td>\n",
       "      <td>0.993513</td>\n",
       "      <td>11</td>\n",
       "    </tr>\n",
       "    <tr>\n",
       "      <th>569</th>\n",
       "      <td>569</td>\n",
       "      <td>0.994437</td>\n",
       "      <td>11</td>\n",
       "    </tr>\n",
       "    <tr>\n",
       "      <th>673</th>\n",
       "      <td>673</td>\n",
       "      <td>0.995375</td>\n",
       "      <td>11</td>\n",
       "    </tr>\n",
       "  </tbody>\n",
       "</table>\n",
       "<p>893 rows × 3 columns</p>\n",
       "</div>"
      ],
      "text/plain": [
       "     usuarios     Score  decil\n",
       "649       649  0.000006      1\n",
       "127       127  0.000006      1\n",
       "508       508  0.000006      1\n",
       "593       593  0.000006      1\n",
       "463       463  0.000007      1\n",
       "..        ...       ...    ...\n",
       "390       390  0.982126     10\n",
       "152       152  0.986747     10\n",
       "36         36  0.993513     11\n",
       "569       569  0.994437     11\n",
       "673       673  0.995375     11\n",
       "\n",
       "[893 rows x 3 columns]"
      ]
     },
     "execution_count": 50,
     "metadata": {},
     "output_type": "execute_result"
    }
   ],
   "source": [
    "data_sorted"
   ]
  },
  {
   "cell_type": "code",
   "execution_count": 53,
   "id": "db60f408-07dd-43a3-812c-0184d4ee86ee",
   "metadata": {},
   "outputs": [
    {
     "data": {
      "image/png": "[encoded data removed]",
      "text/plain": [
       "<Figure size 576x432 with 1 Axes>"
      ]
     },
     "metadata": {
      "needs_background": "light"
     },
     "output_type": "display_data"
    }
   ],
   "source": [
    "plt.figure(figsize=(8, 6))\n",
    "plt.bar(data_sorted['decil'], data_sorted['Score'], color='skyblue')\n",
    "plt.xlabel('Decil')\n",
    "plt.ylabel('Score')\n",
    "plt.title('Scores de usuarios por decil')\n",
    "plt.xticks(range(1, 11))\n",
    "plt.grid(axis='y', linestyle='--', alpha=0.7)\n",
    "plt.show()"
   ]
  },
  {
   "cell_type": "code",
   "execution_count": 55,
   "id": "d03a7a6f-af53-405e-9293-d18317a1eda1",
   "metadata": {},
   "outputs": [],
   "source": [
    "data_sorted.to_excel(\"UsuariosScoreados.xlsx\")"
   ]
  },
  {
   "cell_type": "code",
   "execution_count": 56,
   "id": "bf8d8b4c-dbd2-4f93-bfb9-0498d2183995",
   "metadata": {},
   "outputs": [],
   "source": [
    "data_sorted.to_csv(\"UsuariosScoreados.csv\")"
   ]
  },
  {
   "cell_type": "code",
   "execution_count": null,
   "id": "723047c6-abc0-44a5-868b-2961f4c900c3",
   "metadata": {},
   "outputs": [],
   "source": []
  }
 ],
 "metadata": {
  "kernelspec": {
   "display_name": "Python 3 (ipykernel)",
   "language": "python",
   "name": "python3"
  },
  "language_info": {
   "codemirror_mode": {
    "name": "ipython",
    "version": 3
   },
   "file_extension": ".py",
   "mimetype": "text/x-python",
   "name": "python",
   "nbconvert_exporter": "python",
   "pygments_lexer": "ipython3",
   "version": "3.9.16"
  }
 },
 "nbformat": 4,
 "nbformat_minor": 5
}
