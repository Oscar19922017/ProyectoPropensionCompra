{
 "cells": [
  {
   "cell_type": "markdown",
   "id": "0c3a6d87-0d56-47c1-94f1-5f89fac633c7",
   "metadata": {},
   "source": [
    "# **PyCaret**\n",
    "\n",
    "\n",
    "PyCaret es una biblioteca de código abierto de aprendizaje automático (machine learning) para Python que facilita y agiliza el proceso de desarrollo y experimentación con modelos de aprendizaje automático. Fue desarrollado para simplificar tareas comunes en el flujo de trabajo de aprendizaje automático, como la preparación de datos, la selección de características, la creación de modelos, la evaluación y comparación de modelos, y la interpretación de resultados.\n",
    "\n",
    "Las características principales de PyCaret son:\n",
    "\n",
    "Interfaz sencilla: PyCaret proporciona una interfaz de línea de comandos simple e intuitiva, lo que lo hace accesible incluso para usuarios nuevos en aprendizaje automático.\n",
    "\n",
    "Automatización del flujo de trabajo: PyCaret automatiza muchas de las tareas repetitivas y tediosas que generalmente se realizan en el proceso de desarrollo de modelos, lo que permite a los usuarios centrarse más en la experimentación y la iteración rápida.\n",
    "\n",
    "Soporte para múltiples bibliotecas de aprendizaje automático: PyCaret es compatible con varias bibliotecas populares de aprendizaje automático, como scikit-learn, XGBoost, LightGBM, CatBoost, etc. Esto permite a los usuarios comparar fácilmente diferentes algoritmos sin necesidad de escribir mucho código.\n",
    "\n",
    "Funciones de preprocesamiento de datos: PyCaret ofrece funcionalidades para la preparación y limpieza de datos, incluyendo manejo de valores faltantes, codificación de variables categóricas, y más.\n",
    "\n",
    "Comparación de modelos: PyCaret permite comparar rápidamente el rendimiento de varios modelos utilizando diferentes métricas, lo que ayuda a seleccionar el mejor modelo para un problema en particular.\n",
    "\n",
    "Sintonización automática de hiperparámetros: PyCaret puede realizar automáticamente la búsqueda de hiperparámetros para optimizar los modelos, lo que reduce la necesidad de ajustar manualmente los hiperparámetros.\n",
    "\n",
    "Interpretación de modelos: PyCaret ofrece funciones para interpretar y visualizar los modelos entrenados, lo que facilita la comprensión de cómo funcionan y qué características son más importantes para la predicción.\n",
    "\n",
    "En general, PyCaret es una excelente herramienta para acelerar y simplificar el proceso de desarrollo de modelos de aprendizaje automático, lo que lo hace especialmente útil para usuarios que deseen experimentar con diferentes algoritmos y técnicas de manera eficiente. Sin embargo, es importante tener en cuenta que, como en cualquier biblioteca de alto nivel, la flexibilidad y control sobre el flujo de trabajo pueden ser más limitados que al utilizar bibliotecas de nivel más bajo como scikit-learn."
   ]
  },
  {
   "cell_type": "code",
   "execution_count": 1,
   "id": "959d07ea-0887-4f75-bc0d-f83dd3ee3db0",
   "metadata": {},
   "outputs": [],
   "source": [
    "import numpy as np\n",
    "import pandas as pd\n",
    "from sklearn.model_selection import train_test_split # Dividir la data en entraniemo y prueba\n",
    "\n",
    "import pycaret\n",
    "from pycaret.classification import *\n",
    "\n",
    "from skopt import BayesSearchCV\n",
    "import xgboost as xgb\n",
    "\n",
    "\n",
    "import pandas as pd\n",
    "import numpy as np\n",
    "import matplotlib.pyplot as plt\n",
    "import seaborn as sns\n",
    "import statsmodels.api as sms\n",
    "from sklearn.linear_model import LogisticRegression\n",
    "from sklearn.model_selection import train_test_split\n",
    "from sklearn.model_selection import  train_test_split\n",
    "from sklearn.metrics import confusion_matrix\n",
    "from sklearn.metrics import precision_score,recall_score,f1_score,accuracy_score\n",
    "from sklearn import metrics\n",
    "\n",
    "from sklearn.metrics import roc_curve\n",
    "from sklearn.metrics import roc_auc_score\n",
    "import statsmodels.api as sms\n",
    "from statsmodels.stats.outliers_influence import variance_inflation_factor\n",
    "from sklearn.feature_selection import SelectFromModel\n",
    "from sklearn.feature_selection import SequentialFeatureSelector\n",
    "\n",
    "import xgboost as xgb\n",
    "\n",
    "import warnings\n",
    "\n",
    "warnings.filterwarnings(\"ignore\")\n",
    "\n",
    "def MetricasMatrixConfusion(y,modelo,X,tipo=\"ml\"):\n",
    "    \n",
    "    if (tipo==\"ml\"):\n",
    "        Predicciones=modelo.predict(X)\n",
    "    else:\n",
    "        Probabilidad=modelo.predict(exog=X)\n",
    "        Predicciones=np.where(Probabilidad <0.5,0,1)\n",
    "    \n",
    "    Accuracy_RF_test=metrics.accuracy_score(y,Predicciones)\n",
    "    print(f'Accuracy: {Accuracy_RF_test}')\n",
    "    Reporte_RF_test=metrics.classification_report(y,Predicciones)\n",
    "    print(Reporte_RF_test)\n",
    "\n",
    "    td1=pd.DataFrame(Predicciones,columns=[\"Predicciones\"])\n",
    "    td2=pd.concat([y.reset_index(drop=True),td1],axis=1)\n",
    "    td2.columns=[\"Realidad\",\"Predicion\"]\n",
    "    Matrix=pd.crosstab(td2[\"Realidad\"],td2[\"Predicion\"],margins=True)\n",
    "    Matrix_Normalizada=pd.crosstab(td2[\"Realidad\"],td2[\"Predicion\"],normalize=0)\n",
    "    \n",
    "    sns.heatmap(Matrix_Normalizada, annot=True,linewidths = 0.01, cmap = \"Blues\")\n",
    "    \n",
    "    plt.show()\n",
    "    print(Matrix)\n",
    "    \n",
    "def curva_roc(y,modelo,X,tipo=\"ml\"):\n",
    "    if (tipo==\"ml\"):\n",
    "        y_pprob = modelo.predict_proba(X)[::,1] ## Sklearn\n",
    "        Probabilidad=modelo.predict_proba(X=X)[:,1]\n",
    "    else:\n",
    "        y_pprob=modelo.predict(exog=X)\n",
    "        Probabilidad=modelo.predict(exog=X)\n",
    "    \n",
    "    false_positive, true_positive, _ = roc_curve(y,  y_pprob)\n",
    "    print('Modelo AUC:',roc_auc_score(y,  y_pprob))\n",
    "    \n",
    "    fpr, tpr, thresholds = roc_curve(y, Probabilidad )\n",
    "    AUC_AD=round(roc_auc_score(y, Probabilidad),4)\n",
    "   \n",
    "    random_probs = [0 for i in range(len(y))]\n",
    "    p_fpr, p_tpr, _ = roc_curve(y, random_probs, pos_label=1)\n",
    "    plt.plot(fpr,tpr,linestyle=\"--\",color=\"green\",label=\"Decision Tree, AUC=\"+str(AUC_AD))\n",
    "    plt.plot(p_fpr, p_tpr, linestyle='--', color='blue')\n",
    "    plt.title(\"CURVA ROC\")\n",
    "    plt.xlabel(\"Tasa Falsos Positivos\")\n",
    "    plt.ylabel(\"Tasa Verdaderos Positivos\")\n",
    "    plt.legend()\n",
    "    plt.show()"
   ]
  },
  {
   "cell_type": "code",
   "execution_count": 2,
   "id": "16178359-407e-4a60-8c1c-cb561b575f59",
   "metadata": {},
   "outputs": [],
   "source": [
    "df=pd.read_csv(\"BaseModelos.csv\",index_col=False)\n",
    "df.rename(columns={\"CompraSeguro\":\"target\"},inplace=True)"
   ]
  },
  {
   "cell_type": "code",
   "execution_count": 3,
   "id": "3c46c4bb-776e-45d9-869a-6e49bc789b62",
   "metadata": {},
   "outputs": [
    {
     "data": {
      "text/plain": [
       "(17, 1)"
      ]
     },
     "execution_count": 3,
     "metadata": {},
     "output_type": "execute_result"
    }
   ],
   "source": [
    "Cat_chi2=pd.read_csv(\"CategoricasChi2.csv\")\n",
    "Cat_chi2.shape\n",
    "\n",
    "Cat_Mutual=pd.read_csv(\"CategoricasMutualInfo.csv\")\n",
    "Cat_Mutual.shape"
   ]
  },
  {
   "cell_type": "code",
   "execution_count": 4,
   "id": "e016384e-d09b-41b3-8e5f-d01c66632665",
   "metadata": {},
   "outputs": [
    {
     "data": {
      "text/plain": [
       "(10, 2)"
      ]
     },
     "execution_count": 4,
     "metadata": {},
     "output_type": "execute_result"
    }
   ],
   "source": [
    "Num_corr=pd.read_csv(\"Num_Sig_Correlacion_Parametrica.csv\")\n",
    "Num_corr.shape\n",
    "\n",
    "Num_Mutual=pd.read_csv(\"Num_MutualInfo.csv\")\n",
    "Num_Mutual.shape"
   ]
  },
  {
   "cell_type": "code",
   "execution_count": 5,
   "id": "43dbd24c-02bd-4b31-a6e0-5d4c54ce70da",
   "metadata": {},
   "outputs": [],
   "source": [
    "Variables=Cat_Mutual.Variables.tolist()+Num_Mutual.Variables.tolist()"
   ]
  },
  {
   "cell_type": "code",
   "execution_count": 6,
   "id": "a318f58e-dff9-4730-84b7-a1d19b4adf6f",
   "metadata": {},
   "outputs": [],
   "source": [
    "Historia=df[df[\"Tipo Archivo\"]==\"Entrenamiento\"].reset_index(drop=True)"
   ]
  },
  {
   "cell_type": "code",
   "execution_count": 7,
   "id": "4fed5838-3eed-40de-b0ed-ad191067f736",
   "metadata": {},
   "outputs": [],
   "source": [
    "X= Historia[Variables]"
   ]
  },
  {
   "cell_type": "code",
   "execution_count": 8,
   "id": "197a6db7-43c3-4d41-8f76-7fbda710b377",
   "metadata": {},
   "outputs": [],
   "source": [
    "y=Historia[[\"target\"]].astype(int).astype(\"category\")"
   ]
  },
  {
   "cell_type": "code",
   "execution_count": 9,
   "id": "61e7d9dc-57bb-4d66-b422-4c42cde8fc57",
   "metadata": {},
   "outputs": [],
   "source": [
    "x_train, x_test, y_train, y_test = train_test_split(X, y, test_size=0.3, random_state=123,stratify=y)"
   ]
  },
  {
   "cell_type": "markdown",
   "id": "8c56b6da-b79d-4ff0-bbd4-1d1a1d22af57",
   "metadata": {},
   "source": [
    "# **Configuración**"
   ]
  },
  {
   "cell_type": "code",
   "execution_count": 10,
   "id": "90f39549-1165-406e-88c5-296553c7ccff",
   "metadata": {},
   "outputs": [],
   "source": [
    "pycaret_train=pd.concat([x_train,y_train],axis=1)\n",
    "pycaret_test=pd.concat([x_test,y_test],axis=1)"
   ]
  },
  {
   "cell_type": "code",
   "execution_count": 11,
   "id": "70561195-c386-43ca-ad33-72a4d27df960",
   "metadata": {},
   "outputs": [
    {
     "data": {
      "text/html": [
       "<style type=\"text/css\">\n",
       "#T_332ec_row8_col1, #T_332ec_row13_col1 {\n",
       "  background-color: lightgreen;\n",
       "}\n",
       "</style>\n",
       "<table id=\"T_332ec\">\n",
       "  <thead>\n",
       "    <tr>\n",
       "      <th class=\"blank level0\" >&nbsp;</th>\n",
       "      <th id=\"T_332ec_level0_col0\" class=\"col_heading level0 col0\" >Description</th>\n",
       "      <th id=\"T_332ec_level0_col1\" class=\"col_heading level0 col1\" >Value</th>\n",
       "    </tr>\n",
       "  </thead>\n",
       "  <tbody>\n",
       "    <tr>\n",
       "      <th id=\"T_332ec_level0_row0\" class=\"row_heading level0 row0\" >0</th>\n",
       "      <td id=\"T_332ec_row0_col0\" class=\"data row0 col0\" >Session id</td>\n",
       "      <td id=\"T_332ec_row0_col1\" class=\"data row0 col1\" >123</td>\n",
       "    </tr>\n",
       "    <tr>\n",
       "      <th id=\"T_332ec_level0_row1\" class=\"row_heading level0 row1\" >1</th>\n",
       "      <td id=\"T_332ec_row1_col0\" class=\"data row1 col0\" >Target</td>\n",
       "      <td id=\"T_332ec_row1_col1\" class=\"data row1 col1\" >target</td>\n",
       "    </tr>\n",
       "    <tr>\n",
       "      <th id=\"T_332ec_level0_row2\" class=\"row_heading level0 row2\" >2</th>\n",
       "      <td id=\"T_332ec_row2_col0\" class=\"data row2 col0\" >Target type</td>\n",
       "      <td id=\"T_332ec_row2_col1\" class=\"data row2 col1\" >Binary</td>\n",
       "    </tr>\n",
       "    <tr>\n",
       "      <th id=\"T_332ec_level0_row3\" class=\"row_heading level0 row3\" >3</th>\n",
       "      <td id=\"T_332ec_row3_col0\" class=\"data row3 col0\" >Original data shape</td>\n",
       "      <td id=\"T_332ec_row3_col1\" class=\"data row3 col1\" >(2999, 28)</td>\n",
       "    </tr>\n",
       "    <tr>\n",
       "      <th id=\"T_332ec_level0_row4\" class=\"row_heading level0 row4\" >4</th>\n",
       "      <td id=\"T_332ec_row4_col0\" class=\"data row4 col0\" >Transformed data shape</td>\n",
       "      <td id=\"T_332ec_row4_col1\" class=\"data row4 col1\" >(4862, 27)</td>\n",
       "    </tr>\n",
       "    <tr>\n",
       "      <th id=\"T_332ec_level0_row5\" class=\"row_heading level0 row5\" >5</th>\n",
       "      <td id=\"T_332ec_row5_col0\" class=\"data row5 col0\" >Transformed train set shape</td>\n",
       "      <td id=\"T_332ec_row5_col1\" class=\"data row5 col1\" >(3962, 27)</td>\n",
       "    </tr>\n",
       "    <tr>\n",
       "      <th id=\"T_332ec_level0_row6\" class=\"row_heading level0 row6\" >6</th>\n",
       "      <td id=\"T_332ec_row6_col0\" class=\"data row6 col0\" >Transformed test set shape</td>\n",
       "      <td id=\"T_332ec_row6_col1\" class=\"data row6 col1\" >(900, 27)</td>\n",
       "    </tr>\n",
       "    <tr>\n",
       "      <th id=\"T_332ec_level0_row7\" class=\"row_heading level0 row7\" >7</th>\n",
       "      <td id=\"T_332ec_row7_col0\" class=\"data row7 col0\" >Numeric features</td>\n",
       "      <td id=\"T_332ec_row7_col1\" class=\"data row7 col1\" >27</td>\n",
       "    </tr>\n",
       "    <tr>\n",
       "      <th id=\"T_332ec_level0_row8\" class=\"row_heading level0 row8\" >8</th>\n",
       "      <td id=\"T_332ec_row8_col0\" class=\"data row8 col0\" >Preprocess</td>\n",
       "      <td id=\"T_332ec_row8_col1\" class=\"data row8 col1\" >True</td>\n",
       "    </tr>\n",
       "    <tr>\n",
       "      <th id=\"T_332ec_level0_row9\" class=\"row_heading level0 row9\" >9</th>\n",
       "      <td id=\"T_332ec_row9_col0\" class=\"data row9 col0\" >Imputation type</td>\n",
       "      <td id=\"T_332ec_row9_col1\" class=\"data row9 col1\" >simple</td>\n",
       "    </tr>\n",
       "    <tr>\n",
       "      <th id=\"T_332ec_level0_row10\" class=\"row_heading level0 row10\" >10</th>\n",
       "      <td id=\"T_332ec_row10_col0\" class=\"data row10 col0\" >Numeric imputation</td>\n",
       "      <td id=\"T_332ec_row10_col1\" class=\"data row10 col1\" >mean</td>\n",
       "    </tr>\n",
       "    <tr>\n",
       "      <th id=\"T_332ec_level0_row11\" class=\"row_heading level0 row11\" >11</th>\n",
       "      <td id=\"T_332ec_row11_col0\" class=\"data row11 col0\" >Categorical imputation</td>\n",
       "      <td id=\"T_332ec_row11_col1\" class=\"data row11 col1\" >constant</td>\n",
       "    </tr>\n",
       "    <tr>\n",
       "      <th id=\"T_332ec_level0_row12\" class=\"row_heading level0 row12\" >12</th>\n",
       "      <td id=\"T_332ec_row12_col0\" class=\"data row12 col0\" >Low variance threshold</td>\n",
       "      <td id=\"T_332ec_row12_col1\" class=\"data row12 col1\" >0</td>\n",
       "    </tr>\n",
       "    <tr>\n",
       "      <th id=\"T_332ec_level0_row13\" class=\"row_heading level0 row13\" >13</th>\n",
       "      <td id=\"T_332ec_row13_col0\" class=\"data row13 col0\" >Fix imbalance</td>\n",
       "      <td id=\"T_332ec_row13_col1\" class=\"data row13 col1\" >True</td>\n",
       "    </tr>\n",
       "    <tr>\n",
       "      <th id=\"T_332ec_level0_row14\" class=\"row_heading level0 row14\" >14</th>\n",
       "      <td id=\"T_332ec_row14_col0\" class=\"data row14 col0\" >Fix imbalance method</td>\n",
       "      <td id=\"T_332ec_row14_col1\" class=\"data row14 col1\" >SMOTE</td>\n",
       "    </tr>\n",
       "    <tr>\n",
       "      <th id=\"T_332ec_level0_row15\" class=\"row_heading level0 row15\" >15</th>\n",
       "      <td id=\"T_332ec_row15_col0\" class=\"data row15 col0\" >Fold Generator</td>\n",
       "      <td id=\"T_332ec_row15_col1\" class=\"data row15 col1\" >StratifiedKFold</td>\n",
       "    </tr>\n",
       "    <tr>\n",
       "      <th id=\"T_332ec_level0_row16\" class=\"row_heading level0 row16\" >16</th>\n",
       "      <td id=\"T_332ec_row16_col0\" class=\"data row16 col0\" >Fold Number</td>\n",
       "      <td id=\"T_332ec_row16_col1\" class=\"data row16 col1\" >10</td>\n",
       "    </tr>\n",
       "    <tr>\n",
       "      <th id=\"T_332ec_level0_row17\" class=\"row_heading level0 row17\" >17</th>\n",
       "      <td id=\"T_332ec_row17_col0\" class=\"data row17 col0\" >CPU Jobs</td>\n",
       "      <td id=\"T_332ec_row17_col1\" class=\"data row17 col1\" >-1</td>\n",
       "    </tr>\n",
       "    <tr>\n",
       "      <th id=\"T_332ec_level0_row18\" class=\"row_heading level0 row18\" >18</th>\n",
       "      <td id=\"T_332ec_row18_col0\" class=\"data row18 col0\" >Use GPU</td>\n",
       "      <td id=\"T_332ec_row18_col1\" class=\"data row18 col1\" >False</td>\n",
       "    </tr>\n",
       "    <tr>\n",
       "      <th id=\"T_332ec_level0_row19\" class=\"row_heading level0 row19\" >19</th>\n",
       "      <td id=\"T_332ec_row19_col0\" class=\"data row19 col0\" >Log Experiment</td>\n",
       "      <td id=\"T_332ec_row19_col1\" class=\"data row19 col1\" >False</td>\n",
       "    </tr>\n",
       "    <tr>\n",
       "      <th id=\"T_332ec_level0_row20\" class=\"row_heading level0 row20\" >20</th>\n",
       "      <td id=\"T_332ec_row20_col0\" class=\"data row20 col0\" >Experiment Name</td>\n",
       "      <td id=\"T_332ec_row20_col1\" class=\"data row20 col1\" >clf-default-name</td>\n",
       "    </tr>\n",
       "    <tr>\n",
       "      <th id=\"T_332ec_level0_row21\" class=\"row_heading level0 row21\" >21</th>\n",
       "      <td id=\"T_332ec_row21_col0\" class=\"data row21 col0\" >USI</td>\n",
       "      <td id=\"T_332ec_row21_col1\" class=\"data row21 col1\" >6237</td>\n",
       "    </tr>\n",
       "  </tbody>\n",
       "</table>\n"
      ],
      "text/plain": [
       "<pandas.io.formats.style.Styler at 0x7fad9a701550>"
      ]
     },
     "metadata": {},
     "output_type": "display_data"
    }
   ],
   "source": [
    "Model = setup(data=pycaret_train, test_data=pycaret_test, target='target', session_id=123,fix_imbalance=True)"
   ]
  },
  {
   "cell_type": "code",
   "execution_count": 12,
   "id": "e12521e7-4869-4f6a-9436-ef37f87a3848",
   "metadata": {},
   "outputs": [
    {
     "data": {
      "text/html": [],
      "text/plain": [
       "<IPython.core.display.HTML object>"
      ]
     },
     "metadata": {},
     "output_type": "display_data"
    },
    {
     "data": {
      "text/html": [
       "<style type=\"text/css\">\n",
       "#T_0e7a1 th {\n",
       "  text-align: left;\n",
       "}\n",
       "#T_0e7a1_row0_col0, #T_0e7a1_row0_col1, #T_0e7a1_row0_col3, #T_0e7a1_row0_col4, #T_0e7a1_row0_col5, #T_0e7a1_row0_col6, #T_0e7a1_row0_col7, #T_0e7a1_row1_col0, #T_0e7a1_row1_col1, #T_0e7a1_row1_col2, #T_0e7a1_row1_col4, #T_0e7a1_row1_col5, #T_0e7a1_row1_col6, #T_0e7a1_row1_col7, #T_0e7a1_row2_col0, #T_0e7a1_row2_col1, #T_0e7a1_row2_col2, #T_0e7a1_row2_col3, #T_0e7a1_row2_col4, #T_0e7a1_row2_col5, #T_0e7a1_row2_col6, #T_0e7a1_row2_col7, #T_0e7a1_row3_col0, #T_0e7a1_row3_col2, #T_0e7a1_row3_col3, #T_0e7a1_row4_col0, #T_0e7a1_row4_col1, #T_0e7a1_row4_col2, #T_0e7a1_row4_col3, #T_0e7a1_row4_col4, #T_0e7a1_row4_col5, #T_0e7a1_row4_col6, #T_0e7a1_row4_col7, #T_0e7a1_row5_col0, #T_0e7a1_row5_col1, #T_0e7a1_row5_col2, #T_0e7a1_row5_col3, #T_0e7a1_row5_col4, #T_0e7a1_row5_col5, #T_0e7a1_row5_col6, #T_0e7a1_row5_col7 {\n",
       "  text-align: left;\n",
       "}\n",
       "#T_0e7a1_row0_col2, #T_0e7a1_row1_col3, #T_0e7a1_row3_col1, #T_0e7a1_row3_col4, #T_0e7a1_row3_col5, #T_0e7a1_row3_col6, #T_0e7a1_row3_col7 {\n",
       "  text-align: left;\n",
       "  background-color: yellow;\n",
       "}\n",
       "#T_0e7a1_row0_col8, #T_0e7a1_row2_col8, #T_0e7a1_row3_col8, #T_0e7a1_row4_col8, #T_0e7a1_row5_col8 {\n",
       "  text-align: left;\n",
       "  background-color: lightgrey;\n",
       "}\n",
       "#T_0e7a1_row1_col8 {\n",
       "  text-align: left;\n",
       "  background-color: yellow;\n",
       "  background-color: lightgrey;\n",
       "}\n",
       "</style>\n",
       "<table id=\"T_0e7a1\">\n",
       "  <thead>\n",
       "    <tr>\n",
       "      <th class=\"blank level0\" >&nbsp;</th>\n",
       "      <th id=\"T_0e7a1_level0_col0\" class=\"col_heading level0 col0\" >Model</th>\n",
       "      <th id=\"T_0e7a1_level0_col1\" class=\"col_heading level0 col1\" >Accuracy</th>\n",
       "      <th id=\"T_0e7a1_level0_col2\" class=\"col_heading level0 col2\" >AUC</th>\n",
       "      <th id=\"T_0e7a1_level0_col3\" class=\"col_heading level0 col3\" >Recall</th>\n",
       "      <th id=\"T_0e7a1_level0_col4\" class=\"col_heading level0 col4\" >Prec.</th>\n",
       "      <th id=\"T_0e7a1_level0_col5\" class=\"col_heading level0 col5\" >F1</th>\n",
       "      <th id=\"T_0e7a1_level0_col6\" class=\"col_heading level0 col6\" >Kappa</th>\n",
       "      <th id=\"T_0e7a1_level0_col7\" class=\"col_heading level0 col7\" >MCC</th>\n",
       "      <th id=\"T_0e7a1_level0_col8\" class=\"col_heading level0 col8\" >TT (Sec)</th>\n",
       "    </tr>\n",
       "  </thead>\n",
       "  <tbody>\n",
       "    <tr>\n",
       "      <th id=\"T_0e7a1_level0_row0\" class=\"row_heading level0 row0\" >lightgbm</th>\n",
       "      <td id=\"T_0e7a1_row0_col0\" class=\"data row0 col0\" >Light Gradient Boosting Machine</td>\n",
       "      <td id=\"T_0e7a1_row0_col1\" class=\"data row0 col1\" >0.9500</td>\n",
       "      <td id=\"T_0e7a1_row0_col2\" class=\"data row0 col2\" >0.9100</td>\n",
       "      <td id=\"T_0e7a1_row0_col3\" class=\"data row0 col3\" >0.4580</td>\n",
       "      <td id=\"T_0e7a1_row0_col4\" class=\"data row0 col4\" >0.5687</td>\n",
       "      <td id=\"T_0e7a1_row0_col5\" class=\"data row0 col5\" >0.5070</td>\n",
       "      <td id=\"T_0e7a1_row0_col6\" class=\"data row0 col6\" >0.4810</td>\n",
       "      <td id=\"T_0e7a1_row0_col7\" class=\"data row0 col7\" >0.4843</td>\n",
       "      <td id=\"T_0e7a1_row0_col8\" class=\"data row0 col8\" >0.4060</td>\n",
       "    </tr>\n",
       "    <tr>\n",
       "      <th id=\"T_0e7a1_level0_row1\" class=\"row_heading level0 row1\" >lr</th>\n",
       "      <td id=\"T_0e7a1_row1_col0\" class=\"data row1 col0\" >Logistic Regression</td>\n",
       "      <td id=\"T_0e7a1_row1_col1\" class=\"data row1 col1\" >0.8437</td>\n",
       "      <td id=\"T_0e7a1_row1_col2\" class=\"data row1 col2\" >0.9091</td>\n",
       "      <td id=\"T_0e7a1_row1_col3\" class=\"data row1 col3\" >0.8054</td>\n",
       "      <td id=\"T_0e7a1_row1_col4\" class=\"data row1 col4\" >0.2374</td>\n",
       "      <td id=\"T_0e7a1_row1_col5\" class=\"data row1 col5\" >0.3661</td>\n",
       "      <td id=\"T_0e7a1_row1_col6\" class=\"data row1 col6\" >0.3060</td>\n",
       "      <td id=\"T_0e7a1_row1_col7\" class=\"data row1 col7\" >0.3817</td>\n",
       "      <td id=\"T_0e7a1_row1_col8\" class=\"data row1 col8\" >0.1040</td>\n",
       "    </tr>\n",
       "    <tr>\n",
       "      <th id=\"T_0e7a1_level0_row2\" class=\"row_heading level0 row2\" >gbc</th>\n",
       "      <td id=\"T_0e7a1_row2_col0\" class=\"data row2 col0\" >Gradient Boosting Classifier</td>\n",
       "      <td id=\"T_0e7a1_row2_col1\" class=\"data row2 col1\" >0.9404</td>\n",
       "      <td id=\"T_0e7a1_row2_col2\" class=\"data row2 col2\" >0.9079</td>\n",
       "      <td id=\"T_0e7a1_row2_col3\" class=\"data row2 col3\" >0.5174</td>\n",
       "      <td id=\"T_0e7a1_row2_col4\" class=\"data row2 col4\" >0.4782</td>\n",
       "      <td id=\"T_0e7a1_row2_col5\" class=\"data row2 col5\" >0.4945</td>\n",
       "      <td id=\"T_0e7a1_row2_col6\" class=\"data row2 col6\" >0.4631</td>\n",
       "      <td id=\"T_0e7a1_row2_col7\" class=\"data row2 col7\" >0.4648</td>\n",
       "      <td id=\"T_0e7a1_row2_col8\" class=\"data row2 col8\" >0.1940</td>\n",
       "    </tr>\n",
       "    <tr>\n",
       "      <th id=\"T_0e7a1_level0_row3\" class=\"row_heading level0 row3\" >catboost</th>\n",
       "      <td id=\"T_0e7a1_row3_col0\" class=\"data row3 col0\" >CatBoost Classifier</td>\n",
       "      <td id=\"T_0e7a1_row3_col1\" class=\"data row3 col1\" >0.9528</td>\n",
       "      <td id=\"T_0e7a1_row3_col2\" class=\"data row3 col2\" >0.9075</td>\n",
       "      <td id=\"T_0e7a1_row3_col3\" class=\"data row3 col3\" >0.4572</td>\n",
       "      <td id=\"T_0e7a1_row3_col4\" class=\"data row3 col4\" >0.6086</td>\n",
       "      <td id=\"T_0e7a1_row3_col5\" class=\"data row3 col5\" >0.5198</td>\n",
       "      <td id=\"T_0e7a1_row3_col6\" class=\"data row3 col6\" >0.4957</td>\n",
       "      <td id=\"T_0e7a1_row3_col7\" class=\"data row3 col7\" >0.5024</td>\n",
       "      <td id=\"T_0e7a1_row3_col8\" class=\"data row3 col8\" >1.6360</td>\n",
       "    </tr>\n",
       "    <tr>\n",
       "      <th id=\"T_0e7a1_level0_row4\" class=\"row_heading level0 row4\" >xgboost</th>\n",
       "      <td id=\"T_0e7a1_row4_col0\" class=\"data row4 col0\" >Extreme Gradient Boosting</td>\n",
       "      <td id=\"T_0e7a1_row4_col1\" class=\"data row4 col1\" >0.9462</td>\n",
       "      <td id=\"T_0e7a1_row4_col2\" class=\"data row4 col2\" >0.8883</td>\n",
       "      <td id=\"T_0e7a1_row4_col3\" class=\"data row4 col3\" >0.4580</td>\n",
       "      <td id=\"T_0e7a1_row4_col4\" class=\"data row4 col4\" >0.5321</td>\n",
       "      <td id=\"T_0e7a1_row4_col5\" class=\"data row4 col5\" >0.4890</td>\n",
       "      <td id=\"T_0e7a1_row4_col6\" class=\"data row4 col6\" >0.4609</td>\n",
       "      <td id=\"T_0e7a1_row4_col7\" class=\"data row4 col7\" >0.4640</td>\n",
       "      <td id=\"T_0e7a1_row4_col8\" class=\"data row4 col8\" >0.5300</td>\n",
       "    </tr>\n",
       "    <tr>\n",
       "      <th id=\"T_0e7a1_level0_row5\" class=\"row_heading level0 row5\" >rf</th>\n",
       "      <td id=\"T_0e7a1_row5_col0\" class=\"data row5 col0\" >Random Forest Classifier</td>\n",
       "      <td id=\"T_0e7a1_row5_col1\" class=\"data row5 col1\" >0.9433</td>\n",
       "      <td id=\"T_0e7a1_row5_col2\" class=\"data row5 col2\" >0.8858</td>\n",
       "      <td id=\"T_0e7a1_row5_col3\" class=\"data row5 col3\" >0.3062</td>\n",
       "      <td id=\"T_0e7a1_row5_col4\" class=\"data row5 col4\" >0.4961</td>\n",
       "      <td id=\"T_0e7a1_row5_col5\" class=\"data row5 col5\" >0.3728</td>\n",
       "      <td id=\"T_0e7a1_row5_col6\" class=\"data row5 col6\" >0.3454</td>\n",
       "      <td id=\"T_0e7a1_row5_col7\" class=\"data row5 col7\" >0.3591</td>\n",
       "      <td id=\"T_0e7a1_row5_col8\" class=\"data row5 col8\" >1.2180</td>\n",
       "    </tr>\n",
       "  </tbody>\n",
       "</table>\n"
      ],
      "text/plain": [
       "<pandas.io.formats.style.Styler at 0x7fad9aaeecd0>"
      ]
     },
     "metadata": {},
     "output_type": "display_data"
    },
    {
     "data": {
      "application/vnd.jupyter.widget-view+json": {
       "model_id": "",
       "version_major": 2,
       "version_minor": 0
      },
      "text/plain": [
       "Processing:   0%|          | 0/29 [00:00<?, ?it/s]"
      ]
     },
     "metadata": {},
     "output_type": "display_data"
    },
    {
     "data": {
      "text/html": [
       "<style>#sk-container-id-1 {color: black;background-color: white;}#sk-container-id-1 pre{padding: 0;}#sk-container-id-1 div.sk-toggleable {background-color: white;}#sk-container-id-1 label.sk-toggleable__label {cursor: pointer;display: block;width: 100%;margin-bottom: 0;padding: 0.3em;box-sizing: border-box;text-align: center;}#sk-container-id-1 label.sk-toggleable__label-arrow:before {content: \"▸\";float: left;margin-right: 0.25em;color: #696969;}#sk-container-id-1 label.sk-toggleable__label-arrow:hover:before {color: black;}#sk-container-id-1 div.sk-estimator:hover label.sk-toggleable__label-arrow:before {color: black;}#sk-container-id-1 div.sk-toggleable__content {max-height: 0;max-width: 0;overflow: hidden;text-align: left;background-color: #f0f8ff;}#sk-container-id-1 div.sk-toggleable__content pre {margin: 0.2em;color: black;border-radius: 0.25em;background-color: #f0f8ff;}#sk-container-id-1 input.sk-toggleable__control:checked~div.sk-toggleable__content {max-height: 200px;max-width: 100%;overflow: auto;}#sk-container-id-1 input.sk-toggleable__control:checked~label.sk-toggleable__label-arrow:before {content: \"▾\";}#sk-container-id-1 div.sk-estimator input.sk-toggleable__control:checked~label.sk-toggleable__label {background-color: #d4ebff;}#sk-container-id-1 div.sk-label input.sk-toggleable__control:checked~label.sk-toggleable__label {background-color: #d4ebff;}#sk-container-id-1 input.sk-hidden--visually {border: 0;clip: rect(1px 1px 1px 1px);clip: rect(1px, 1px, 1px, 1px);height: 1px;margin: -1px;overflow: hidden;padding: 0;position: absolute;width: 1px;}#sk-container-id-1 div.sk-estimator {font-family: monospace;background-color: #f0f8ff;border: 1px dotted black;border-radius: 0.25em;box-sizing: border-box;margin-bottom: 0.5em;}#sk-container-id-1 div.sk-estimator:hover {background-color: #d4ebff;}#sk-container-id-1 div.sk-parallel-item::after {content: \"\";width: 100%;border-bottom: 1px solid gray;flex-grow: 1;}#sk-container-id-1 div.sk-label:hover label.sk-toggleable__label {background-color: #d4ebff;}#sk-container-id-1 div.sk-serial::before {content: \"\";position: absolute;border-left: 1px solid gray;box-sizing: border-box;top: 0;bottom: 0;left: 50%;z-index: 0;}#sk-container-id-1 div.sk-serial {display: flex;flex-direction: column;align-items: center;background-color: white;padding-right: 0.2em;padding-left: 0.2em;position: relative;}#sk-container-id-1 div.sk-item {position: relative;z-index: 1;}#sk-container-id-1 div.sk-parallel {display: flex;align-items: stretch;justify-content: center;background-color: white;position: relative;}#sk-container-id-1 div.sk-item::before, #sk-container-id-1 div.sk-parallel-item::before {content: \"\";position: absolute;border-left: 1px solid gray;box-sizing: border-box;top: 0;bottom: 0;left: 50%;z-index: -1;}#sk-container-id-1 div.sk-parallel-item {display: flex;flex-direction: column;z-index: 1;position: relative;background-color: white;}#sk-container-id-1 div.sk-parallel-item:first-child::after {align-self: flex-end;width: 50%;}#sk-container-id-1 div.sk-parallel-item:last-child::after {align-self: flex-start;width: 50%;}#sk-container-id-1 div.sk-parallel-item:only-child::after {width: 0;}#sk-container-id-1 div.sk-dashed-wrapped {border: 1px dashed gray;margin: 0 0.4em 0.5em 0.4em;box-sizing: border-box;padding-bottom: 0.4em;background-color: white;}#sk-container-id-1 div.sk-label label {font-family: monospace;font-weight: bold;display: inline-block;line-height: 1.2em;}#sk-container-id-1 div.sk-label-container {text-align: center;}#sk-container-id-1 div.sk-container {/* jupyter's `normalize.less` sets `[hidden] { display: none; }` but bootstrap.min.css set `[hidden] { display: none !important; }` so we also need the `!important` here to be able to override the default hidden behavior on the sphinx rendered scikit-learn.org. See: https://github.com/scikit-learn/scikit-learn/issues/21755 */display: inline-block !important;position: relative;}#sk-container-id-1 div.sk-text-repr-fallback {display: none;}</style><div id=\"sk-container-id-1\" class=\"sk-top-container\"><div class=\"sk-text-repr-fallback\"><pre>LGBMClassifier(boosting_type=&#x27;gbdt&#x27;, class_weight=None, colsample_bytree=1.0,\n",
       "               importance_type=&#x27;split&#x27;, learning_rate=0.1, max_depth=-1,\n",
       "               min_child_samples=20, min_child_weight=0.001, min_split_gain=0.0,\n",
       "               n_estimators=100, n_jobs=-1, num_leaves=31, objective=None,\n",
       "               random_state=123, reg_alpha=0.0, reg_lambda=0.0, silent=True,\n",
       "               subsample=1.0, subsample_for_bin=200000, subsample_freq=0)</pre><b>In a Jupyter environment, please rerun this cell to show the HTML representation or trust the notebook. <br />On GitHub, the HTML representation is unable to render, please try loading this page with nbviewer.org.</b></div><div class=\"sk-container\" hidden><div class=\"sk-item\"><div class=\"sk-estimator sk-toggleable\"><input class=\"sk-toggleable__control sk-hidden--visually\" id=\"sk-estimator-id-1\" type=\"checkbox\" checked><label for=\"sk-estimator-id-1\" class=\"sk-toggleable__label sk-toggleable__label-arrow\">LGBMClassifier</label><div class=\"sk-toggleable__content\"><pre>LGBMClassifier(boosting_type=&#x27;gbdt&#x27;, class_weight=None, colsample_bytree=1.0,\n",
       "               importance_type=&#x27;split&#x27;, learning_rate=0.1, max_depth=-1,\n",
       "               min_child_samples=20, min_child_weight=0.001, min_split_gain=0.0,\n",
       "               n_estimators=100, n_jobs=-1, num_leaves=31, objective=None,\n",
       "               random_state=123, reg_alpha=0.0, reg_lambda=0.0, silent=True,\n",
       "               subsample=1.0, subsample_for_bin=200000, subsample_freq=0)</pre></div></div></div></div></div>"
      ],
      "text/plain": [
       "LGBMClassifier(boosting_type='gbdt', class_weight=None, colsample_bytree=1.0,\n",
       "               importance_type='split', learning_rate=0.1, max_depth=-1,\n",
       "               min_child_samples=20, min_child_weight=0.001, min_split_gain=0.0,\n",
       "               n_estimators=100, n_jobs=-1, num_leaves=31, objective=None,\n",
       "               random_state=123, reg_alpha=0.0, reg_lambda=0.0, silent=True,\n",
       "               subsample=1.0, subsample_for_bin=200000, subsample_freq=0)"
      ]
     },
     "execution_count": 12,
     "metadata": {},
     "output_type": "execute_result"
    }
   ],
   "source": [
    "models_to_compare = ['rf', 'xgboost', 'lightgbm', 'catboost', 'gbc', 'lr']\n",
    "best_model = compare_models(include=models_to_compare, fold=5, sort='AUC')\n",
    "best_model"
   ]
  },
  {
   "cell_type": "markdown",
   "id": "b8ab2456-bd9d-4954-a322-d82d95a8df91",
   "metadata": {},
   "source": [
    "* CatBoost es una biblioteca de aprendizaje automático desarrollada por Yandex que se utiliza para resolver problemas de clasificación, regresión y ranking. Se basa en el algoritmo de Gradient Boosting, pero se destaca por su capacidad de trabajar con datos categóricos sin necesidad de preprocesarlos mediante técnicas de codificación."
   ]
  },
  {
   "cell_type": "code",
   "execution_count": 13,
   "id": "4fd06b33-d147-4d7b-abb0-0d9d7e09bf37",
   "metadata": {},
   "outputs": [
    {
     "data": {
      "text/html": [],
      "text/plain": [
       "<IPython.core.display.HTML object>"
      ]
     },
     "metadata": {},
     "output_type": "display_data"
    },
    {
     "data": {
      "text/html": [
       "<style type=\"text/css\">\n",
       "#T_305b0_row10_col0, #T_305b0_row10_col1, #T_305b0_row10_col2, #T_305b0_row10_col3, #T_305b0_row10_col4, #T_305b0_row10_col5, #T_305b0_row10_col6 {\n",
       "  background: yellow;\n",
       "}\n",
       "</style>\n",
       "<table id=\"T_305b0\">\n",
       "  <thead>\n",
       "    <tr>\n",
       "      <th class=\"blank level0\" >&nbsp;</th>\n",
       "      <th id=\"T_305b0_level0_col0\" class=\"col_heading level0 col0\" >Accuracy</th>\n",
       "      <th id=\"T_305b0_level0_col1\" class=\"col_heading level0 col1\" >AUC</th>\n",
       "      <th id=\"T_305b0_level0_col2\" class=\"col_heading level0 col2\" >Recall</th>\n",
       "      <th id=\"T_305b0_level0_col3\" class=\"col_heading level0 col3\" >Prec.</th>\n",
       "      <th id=\"T_305b0_level0_col4\" class=\"col_heading level0 col4\" >F1</th>\n",
       "      <th id=\"T_305b0_level0_col5\" class=\"col_heading level0 col5\" >Kappa</th>\n",
       "      <th id=\"T_305b0_level0_col6\" class=\"col_heading level0 col6\" >MCC</th>\n",
       "    </tr>\n",
       "    <tr>\n",
       "      <th class=\"index_name level0\" >Fold</th>\n",
       "      <th class=\"blank col0\" >&nbsp;</th>\n",
       "      <th class=\"blank col1\" >&nbsp;</th>\n",
       "      <th class=\"blank col2\" >&nbsp;</th>\n",
       "      <th class=\"blank col3\" >&nbsp;</th>\n",
       "      <th class=\"blank col4\" >&nbsp;</th>\n",
       "      <th class=\"blank col5\" >&nbsp;</th>\n",
       "      <th class=\"blank col6\" >&nbsp;</th>\n",
       "    </tr>\n",
       "  </thead>\n",
       "  <tbody>\n",
       "    <tr>\n",
       "      <th id=\"T_305b0_level0_row0\" class=\"row_heading level0 row0\" >0</th>\n",
       "      <td id=\"T_305b0_row0_col0\" class=\"data row0 col0\" >0.9476</td>\n",
       "      <td id=\"T_305b0_row0_col1\" class=\"data row0 col1\" >0.9141</td>\n",
       "      <td id=\"T_305b0_row0_col2\" class=\"data row0 col2\" >0.3636</td>\n",
       "      <td id=\"T_305b0_row0_col3\" class=\"data row0 col3\" >0.5000</td>\n",
       "      <td id=\"T_305b0_row0_col4\" class=\"data row0 col4\" >0.4211</td>\n",
       "      <td id=\"T_305b0_row0_col5\" class=\"data row0 col5\" >0.3943</td>\n",
       "      <td id=\"T_305b0_row0_col6\" class=\"data row0 col6\" >0.3998</td>\n",
       "    </tr>\n",
       "    <tr>\n",
       "      <th id=\"T_305b0_level0_row1\" class=\"row_heading level0 row1\" >1</th>\n",
       "      <td id=\"T_305b0_row1_col0\" class=\"data row1 col0\" >0.9524</td>\n",
       "      <td id=\"T_305b0_row1_col1\" class=\"data row1 col1\" >0.9280</td>\n",
       "      <td id=\"T_305b0_row1_col2\" class=\"data row1 col2\" >0.5000</td>\n",
       "      <td id=\"T_305b0_row1_col3\" class=\"data row1 col3\" >0.6000</td>\n",
       "      <td id=\"T_305b0_row1_col4\" class=\"data row1 col4\" >0.5455</td>\n",
       "      <td id=\"T_305b0_row1_col5\" class=\"data row1 col5\" >0.5205</td>\n",
       "      <td id=\"T_305b0_row1_col6\" class=\"data row1 col6\" >0.5230</td>\n",
       "    </tr>\n",
       "    <tr>\n",
       "      <th id=\"T_305b0_level0_row2\" class=\"row_heading level0 row2\" >2</th>\n",
       "      <td id=\"T_305b0_row2_col0\" class=\"data row2 col0\" >0.9619</td>\n",
       "      <td id=\"T_305b0_row2_col1\" class=\"data row2 col1\" >0.9301</td>\n",
       "      <td id=\"T_305b0_row2_col2\" class=\"data row2 col2\" >0.6667</td>\n",
       "      <td id=\"T_305b0_row2_col3\" class=\"data row2 col3\" >0.6667</td>\n",
       "      <td id=\"T_305b0_row2_col4\" class=\"data row2 col4\" >0.6667</td>\n",
       "      <td id=\"T_305b0_row2_col5\" class=\"data row2 col5\" >0.6465</td>\n",
       "      <td id=\"T_305b0_row2_col6\" class=\"data row2 col6\" >0.6465</td>\n",
       "    </tr>\n",
       "    <tr>\n",
       "      <th id=\"T_305b0_level0_row3\" class=\"row_heading level0 row3\" >3</th>\n",
       "      <td id=\"T_305b0_row3_col0\" class=\"data row3 col0\" >0.9619</td>\n",
       "      <td id=\"T_305b0_row3_col1\" class=\"data row3 col1\" >0.9524</td>\n",
       "      <td id=\"T_305b0_row3_col2\" class=\"data row3 col2\" >0.5000</td>\n",
       "      <td id=\"T_305b0_row3_col3\" class=\"data row3 col3\" >0.7500</td>\n",
       "      <td id=\"T_305b0_row3_col4\" class=\"data row3 col4\" >0.6000</td>\n",
       "      <td id=\"T_305b0_row3_col5\" class=\"data row3 col5\" >0.5808</td>\n",
       "      <td id=\"T_305b0_row3_col6\" class=\"data row3 col6\" >0.5940</td>\n",
       "    </tr>\n",
       "    <tr>\n",
       "      <th id=\"T_305b0_level0_row4\" class=\"row_heading level0 row4\" >4</th>\n",
       "      <td id=\"T_305b0_row4_col0\" class=\"data row4 col0\" >0.9571</td>\n",
       "      <td id=\"T_305b0_row4_col1\" class=\"data row4 col1\" >0.8144</td>\n",
       "      <td id=\"T_305b0_row4_col2\" class=\"data row4 col2\" >0.3333</td>\n",
       "      <td id=\"T_305b0_row4_col3\" class=\"data row4 col3\" >0.8000</td>\n",
       "      <td id=\"T_305b0_row4_col4\" class=\"data row4 col4\" >0.4706</td>\n",
       "      <td id=\"T_305b0_row4_col5\" class=\"data row4 col5\" >0.4522</td>\n",
       "      <td id=\"T_305b0_row4_col6\" class=\"data row4 col6\" >0.4998</td>\n",
       "    </tr>\n",
       "    <tr>\n",
       "      <th id=\"T_305b0_level0_row5\" class=\"row_heading level0 row5\" >5</th>\n",
       "      <td id=\"T_305b0_row5_col0\" class=\"data row5 col0\" >0.9524</td>\n",
       "      <td id=\"T_305b0_row5_col1\" class=\"data row5 col1\" >0.9301</td>\n",
       "      <td id=\"T_305b0_row5_col2\" class=\"data row5 col2\" >0.5833</td>\n",
       "      <td id=\"T_305b0_row5_col3\" class=\"data row5 col3\" >0.5833</td>\n",
       "      <td id=\"T_305b0_row5_col4\" class=\"data row5 col4\" >0.5833</td>\n",
       "      <td id=\"T_305b0_row5_col5\" class=\"data row5 col5\" >0.5581</td>\n",
       "      <td id=\"T_305b0_row5_col6\" class=\"data row5 col6\" >0.5581</td>\n",
       "    </tr>\n",
       "    <tr>\n",
       "      <th id=\"T_305b0_level0_row6\" class=\"row_heading level0 row6\" >6</th>\n",
       "      <td id=\"T_305b0_row6_col0\" class=\"data row6 col0\" >0.9429</td>\n",
       "      <td id=\"T_305b0_row6_col1\" class=\"data row6 col1\" >0.8548</td>\n",
       "      <td id=\"T_305b0_row6_col2\" class=\"data row6 col2\" >0.2500</td>\n",
       "      <td id=\"T_305b0_row6_col3\" class=\"data row6 col3\" >0.5000</td>\n",
       "      <td id=\"T_305b0_row6_col4\" class=\"data row6 col4\" >0.3333</td>\n",
       "      <td id=\"T_305b0_row6_col5\" class=\"data row6 col5\" >0.3069</td>\n",
       "      <td id=\"T_305b0_row6_col6\" class=\"data row6 col6\" >0.3272</td>\n",
       "    </tr>\n",
       "    <tr>\n",
       "      <th id=\"T_305b0_level0_row7\" class=\"row_heading level0 row7\" >7</th>\n",
       "      <td id=\"T_305b0_row7_col0\" class=\"data row7 col0\" >0.9667</td>\n",
       "      <td id=\"T_305b0_row7_col1\" class=\"data row7 col1\" >0.9596</td>\n",
       "      <td id=\"T_305b0_row7_col2\" class=\"data row7 col2\" >0.6667</td>\n",
       "      <td id=\"T_305b0_row7_col3\" class=\"data row7 col3\" >0.7273</td>\n",
       "      <td id=\"T_305b0_row7_col4\" class=\"data row7 col4\" >0.6957</td>\n",
       "      <td id=\"T_305b0_row7_col5\" class=\"data row7 col5\" >0.6781</td>\n",
       "      <td id=\"T_305b0_row7_col6\" class=\"data row7 col6\" >0.6788</td>\n",
       "    </tr>\n",
       "    <tr>\n",
       "      <th id=\"T_305b0_level0_row8\" class=\"row_heading level0 row8\" >8</th>\n",
       "      <td id=\"T_305b0_row8_col0\" class=\"data row8 col0\" >0.9429</td>\n",
       "      <td id=\"T_305b0_row8_col1\" class=\"data row8 col1\" >0.8443</td>\n",
       "      <td id=\"T_305b0_row8_col2\" class=\"data row8 col2\" >0.3333</td>\n",
       "      <td id=\"T_305b0_row8_col3\" class=\"data row8 col3\" >0.5000</td>\n",
       "      <td id=\"T_305b0_row8_col4\" class=\"data row8 col4\" >0.4000</td>\n",
       "      <td id=\"T_305b0_row8_col5\" class=\"data row8 col5\" >0.3713</td>\n",
       "      <td id=\"T_305b0_row8_col6\" class=\"data row8 col6\" >0.3797</td>\n",
       "    </tr>\n",
       "    <tr>\n",
       "      <th id=\"T_305b0_level0_row9\" class=\"row_heading level0 row9\" >9</th>\n",
       "      <td id=\"T_305b0_row9_col0\" class=\"data row9 col0\" >0.9665</td>\n",
       "      <td id=\"T_305b0_row9_col1\" class=\"data row9 col1\" >0.9082</td>\n",
       "      <td id=\"T_305b0_row9_col2\" class=\"data row9 col2\" >0.5455</td>\n",
       "      <td id=\"T_305b0_row9_col3\" class=\"data row9 col3\" >0.7500</td>\n",
       "      <td id=\"T_305b0_row9_col4\" class=\"data row9 col4\" >0.6316</td>\n",
       "      <td id=\"T_305b0_row9_col5\" class=\"data row9 col5\" >0.6145</td>\n",
       "      <td id=\"T_305b0_row9_col6\" class=\"data row9 col6\" >0.6231</td>\n",
       "    </tr>\n",
       "    <tr>\n",
       "      <th id=\"T_305b0_level0_row10\" class=\"row_heading level0 row10\" >Mean</th>\n",
       "      <td id=\"T_305b0_row10_col0\" class=\"data row10 col0\" >0.9552</td>\n",
       "      <td id=\"T_305b0_row10_col1\" class=\"data row10 col1\" >0.9036</td>\n",
       "      <td id=\"T_305b0_row10_col2\" class=\"data row10 col2\" >0.4742</td>\n",
       "      <td id=\"T_305b0_row10_col3\" class=\"data row10 col3\" >0.6377</td>\n",
       "      <td id=\"T_305b0_row10_col4\" class=\"data row10 col4\" >0.5348</td>\n",
       "      <td id=\"T_305b0_row10_col5\" class=\"data row10 col5\" >0.5123</td>\n",
       "      <td id=\"T_305b0_row10_col6\" class=\"data row10 col6\" >0.5230</td>\n",
       "    </tr>\n",
       "    <tr>\n",
       "      <th id=\"T_305b0_level0_row11\" class=\"row_heading level0 row11\" >Std</th>\n",
       "      <td id=\"T_305b0_row11_col0\" class=\"data row11 col0\" >0.0086</td>\n",
       "      <td id=\"T_305b0_row11_col1\" class=\"data row11 col1\" >0.0464</td>\n",
       "      <td id=\"T_305b0_row11_col2\" class=\"data row11 col2\" >0.1395</td>\n",
       "      <td id=\"T_305b0_row11_col3\" class=\"data row11 col3\" >0.1103</td>\n",
       "      <td id=\"T_305b0_row11_col4\" class=\"data row11 col4\" >0.1163</td>\n",
       "      <td id=\"T_305b0_row11_col5\" class=\"data row11 col5\" >0.1193</td>\n",
       "      <td id=\"T_305b0_row11_col6\" class=\"data row11 col6\" >0.1142</td>\n",
       "    </tr>\n",
       "  </tbody>\n",
       "</table>\n"
      ],
      "text/plain": [
       "<pandas.io.formats.style.Styler at 0x7fadb0c80670>"
      ]
     },
     "metadata": {},
     "output_type": "display_data"
    },
    {
     "data": {
      "application/vnd.jupyter.widget-view+json": {
       "model_id": "",
       "version_major": 2,
       "version_minor": 0
      },
      "text/plain": [
       "Processing:   0%|          | 0/4 [00:00<?, ?it/s]"
      ]
     },
     "metadata": {},
     "output_type": "display_data"
    }
   ],
   "source": [
    "best_model = create_model('lightgbm')"
   ]
  },
  {
   "cell_type": "code",
   "execution_count": 14,
   "id": "b95b8f58-0c95-4d9e-bc23-e89390265c73",
   "metadata": {},
   "outputs": [
    {
     "data": {
      "text/html": [],
      "text/plain": [
       "<IPython.core.display.HTML object>"
      ]
     },
     "metadata": {},
     "output_type": "display_data"
    },
    {
     "data": {
      "image/png": "[encoded data removed]",
      "text/plain": [
       "<Figure size 432x288 with 1 Axes>"
      ]
     },
     "metadata": {
      "needs_background": "light"
     },
     "output_type": "display_data"
    },
    {
     "name": "stdout",
     "output_type": "stream",
     "text": [
      "Finished loading model, total used 100 iterations\n"
     ]
    }
   ],
   "source": [
    "plot_model(best_model, plot='confusion_matrix')"
   ]
  },
  {
   "cell_type": "code",
   "execution_count": 15,
   "id": "9bc5184e-888d-4a0b-b2ea-05d084674626",
   "metadata": {},
   "outputs": [
    {
     "data": {
      "text/html": [],
      "text/plain": [
       "<IPython.core.display.HTML object>"
      ]
     },
     "metadata": {},
     "output_type": "display_data"
    },
    {
     "data": {
      "image/png": "[encoded data removed]",
      "text/plain": [
       "<Figure size 800x500 with 1 Axes>"
      ]
     },
     "metadata": {
      "needs_background": "light"
     },
     "output_type": "display_data"
    },
    {
     "name": "stdout",
     "output_type": "stream",
     "text": [
      "Finished loading model, total used 100 iterations\n"
     ]
    }
   ],
   "source": [
    "plot_model(best_model, plot='feature')"
   ]
  },
  {
   "cell_type": "code",
   "execution_count": 16,
   "id": "a22776d9-3388-4287-805b-73e13b6d32d7",
   "metadata": {},
   "outputs": [
    {
     "data": {
      "text/html": [],
      "text/plain": [
       "<IPython.core.display.HTML object>"
      ]
     },
     "metadata": {},
     "output_type": "display_data"
    },
    {
     "name": "stdout",
     "output_type": "stream",
     "text": [
      "Finished loading model, total used 100 iterations\n"
     ]
    },
    {
     "data": {
      "image/png": "[encoded data removed]",
      "text/plain": [
       "<Figure size 432x288 with 1 Axes>"
      ]
     },
     "metadata": {
      "needs_background": "light"
     },
     "output_type": "display_data"
    }
   ],
   "source": [
    "plot_model(best_model, plot='learning')"
   ]
  },
  {
   "cell_type": "code",
   "execution_count": 17,
   "id": "7fb84a6b-8c28-4839-854f-ba5f78cd0f2f",
   "metadata": {},
   "outputs": [
    {
     "data": {
      "text/html": [],
      "text/plain": [
       "<IPython.core.display.HTML object>"
      ]
     },
     "metadata": {},
     "output_type": "display_data"
    },
    {
     "data": {
      "text/html": [
       "<style type=\"text/css\">\n",
       "#T_6a596_row6_col0, #T_6a596_row6_col1, #T_6a596_row6_col2, #T_6a596_row6_col3, #T_6a596_row6_col4, #T_6a596_row6_col5, #T_6a596_row6_col6, #T_6a596_row8_col0, #T_6a596_row8_col1, #T_6a596_row8_col2, #T_6a596_row8_col3, #T_6a596_row8_col4, #T_6a596_row8_col5, #T_6a596_row8_col6 {\n",
       "  background: yellow;\n",
       "}\n",
       "</style>\n",
       "<table id=\"T_6a596\">\n",
       "  <thead>\n",
       "    <tr>\n",
       "      <th class=\"blank\" >&nbsp;</th>\n",
       "      <th class=\"blank level0\" >&nbsp;</th>\n",
       "      <th id=\"T_6a596_level0_col0\" class=\"col_heading level0 col0\" >Accuracy</th>\n",
       "      <th id=\"T_6a596_level0_col1\" class=\"col_heading level0 col1\" >AUC</th>\n",
       "      <th id=\"T_6a596_level0_col2\" class=\"col_heading level0 col2\" >Recall</th>\n",
       "      <th id=\"T_6a596_level0_col3\" class=\"col_heading level0 col3\" >Prec.</th>\n",
       "      <th id=\"T_6a596_level0_col4\" class=\"col_heading level0 col4\" >F1</th>\n",
       "      <th id=\"T_6a596_level0_col5\" class=\"col_heading level0 col5\" >Kappa</th>\n",
       "      <th id=\"T_6a596_level0_col6\" class=\"col_heading level0 col6\" >MCC</th>\n",
       "    </tr>\n",
       "    <tr>\n",
       "      <th class=\"index_name level0\" >Split</th>\n",
       "      <th class=\"index_name level1\" >Fold</th>\n",
       "      <th class=\"blank col0\" >&nbsp;</th>\n",
       "      <th class=\"blank col1\" >&nbsp;</th>\n",
       "      <th class=\"blank col2\" >&nbsp;</th>\n",
       "      <th class=\"blank col3\" >&nbsp;</th>\n",
       "      <th class=\"blank col4\" >&nbsp;</th>\n",
       "      <th class=\"blank col5\" >&nbsp;</th>\n",
       "      <th class=\"blank col6\" >&nbsp;</th>\n",
       "    </tr>\n",
       "  </thead>\n",
       "  <tbody>\n",
       "    <tr>\n",
       "      <th id=\"T_6a596_level0_row0\" class=\"row_heading level0 row0\" rowspan=\"3\">CV-Train</th>\n",
       "      <th id=\"T_6a596_level1_row0\" class=\"row_heading level1 row0\" >0</th>\n",
       "      <td id=\"T_6a596_row0_col0\" class=\"data row0 col0\" >0.9893</td>\n",
       "      <td id=\"T_6a596_row0_col1\" class=\"data row0 col1\" >0.9981</td>\n",
       "      <td id=\"T_6a596_row0_col2\" class=\"data row0 col2\" >0.8608</td>\n",
       "      <td id=\"T_6a596_row0_col3\" class=\"data row0 col3\" >0.9444</td>\n",
       "      <td id=\"T_6a596_row0_col4\" class=\"data row0 col4\" >0.9007</td>\n",
       "      <td id=\"T_6a596_row0_col5\" class=\"data row0 col5\" >0.8950</td>\n",
       "      <td id=\"T_6a596_row0_col6\" class=\"data row0 col6\" >0.8961</td>\n",
       "    </tr>\n",
       "    <tr>\n",
       "      <th id=\"T_6a596_level1_row1\" class=\"row_heading level1 row1\" >1</th>\n",
       "      <td id=\"T_6a596_row1_col0\" class=\"data row1 col0\" >0.9929</td>\n",
       "      <td id=\"T_6a596_row1_col1\" class=\"data row1 col1\" >0.9985</td>\n",
       "      <td id=\"T_6a596_row1_col2\" class=\"data row1 col2\" >0.8974</td>\n",
       "      <td id=\"T_6a596_row1_col3\" class=\"data row1 col3\" >0.9722</td>\n",
       "      <td id=\"T_6a596_row1_col4\" class=\"data row1 col4\" >0.9333</td>\n",
       "      <td id=\"T_6a596_row1_col5\" class=\"data row1 col5\" >0.9296</td>\n",
       "      <td id=\"T_6a596_row1_col6\" class=\"data row1 col6\" >0.9304</td>\n",
       "    </tr>\n",
       "    <tr>\n",
       "      <th id=\"T_6a596_level1_row2\" class=\"row_heading level1 row2\" >2</th>\n",
       "      <td id=\"T_6a596_row2_col0\" class=\"data row2 col0\" >0.9929</td>\n",
       "      <td id=\"T_6a596_row2_col1\" class=\"data row2 col1\" >0.9989</td>\n",
       "      <td id=\"T_6a596_row2_col2\" class=\"data row2 col2\" >0.9241</td>\n",
       "      <td id=\"T_6a596_row2_col3\" class=\"data row2 col3\" >0.9481</td>\n",
       "      <td id=\"T_6a596_row2_col4\" class=\"data row2 col4\" >0.9359</td>\n",
       "      <td id=\"T_6a596_row2_col5\" class=\"data row2 col5\" >0.9321</td>\n",
       "      <td id=\"T_6a596_row2_col6\" class=\"data row2 col6\" >0.9322</td>\n",
       "    </tr>\n",
       "    <tr>\n",
       "      <th id=\"T_6a596_level0_row3\" class=\"row_heading level0 row3\" rowspan=\"3\">CV-Val</th>\n",
       "      <th id=\"T_6a596_level1_row3\" class=\"row_heading level1 row3\" >0</th>\n",
       "      <td id=\"T_6a596_row3_col0\" class=\"data row3 col0\" >0.9543</td>\n",
       "      <td id=\"T_6a596_row3_col1\" class=\"data row3 col1\" >0.9427</td>\n",
       "      <td id=\"T_6a596_row3_col2\" class=\"data row3 col2\" >0.5128</td>\n",
       "      <td id=\"T_6a596_row3_col3\" class=\"data row3 col3\" >0.6061</td>\n",
       "      <td id=\"T_6a596_row3_col4\" class=\"data row3 col4\" >0.5556</td>\n",
       "      <td id=\"T_6a596_row3_col5\" class=\"data row3 col5\" >0.5316</td>\n",
       "      <td id=\"T_6a596_row3_col6\" class=\"data row3 col6\" >0.5337</td>\n",
       "    </tr>\n",
       "    <tr>\n",
       "      <th id=\"T_6a596_level1_row4\" class=\"row_heading level1 row4\" >1</th>\n",
       "      <td id=\"T_6a596_row4_col0\" class=\"data row4 col0\" >0.9471</td>\n",
       "      <td id=\"T_6a596_row4_col1\" class=\"data row4 col1\" >0.8875</td>\n",
       "      <td id=\"T_6a596_row4_col2\" class=\"data row4 col2\" >0.4000</td>\n",
       "      <td id=\"T_6a596_row4_col3\" class=\"data row4 col3\" >0.5517</td>\n",
       "      <td id=\"T_6a596_row4_col4\" class=\"data row4 col4\" >0.4638</td>\n",
       "      <td id=\"T_6a596_row4_col5\" class=\"data row4 col5\" >0.4367</td>\n",
       "      <td id=\"T_6a596_row4_col6\" class=\"data row4 col6\" >0.4430</td>\n",
       "    </tr>\n",
       "    <tr>\n",
       "      <th id=\"T_6a596_level1_row5\" class=\"row_heading level1 row5\" >2</th>\n",
       "      <td id=\"T_6a596_row5_col0\" class=\"data row5 col0\" >0.9471</td>\n",
       "      <td id=\"T_6a596_row5_col1\" class=\"data row5 col1\" >0.9064</td>\n",
       "      <td id=\"T_6a596_row5_col2\" class=\"data row5 col2\" >0.5385</td>\n",
       "      <td id=\"T_6a596_row5_col3\" class=\"data row5 col3\" >0.5250</td>\n",
       "      <td id=\"T_6a596_row5_col4\" class=\"data row5 col4\" >0.5316</td>\n",
       "      <td id=\"T_6a596_row5_col5\" class=\"data row5 col5\" >0.5036</td>\n",
       "      <td id=\"T_6a596_row5_col6\" class=\"data row5 col6\" >0.5036</td>\n",
       "    </tr>\n",
       "    <tr>\n",
       "      <th id=\"T_6a596_level0_row6\" class=\"row_heading level0 row6\" rowspan=\"2\">CV-Train</th>\n",
       "      <th id=\"T_6a596_level1_row6\" class=\"row_heading level1 row6\" >Mean</th>\n",
       "      <td id=\"T_6a596_row6_col0\" class=\"data row6 col0\" >0.9917</td>\n",
       "      <td id=\"T_6a596_row6_col1\" class=\"data row6 col1\" >0.9985</td>\n",
       "      <td id=\"T_6a596_row6_col2\" class=\"data row6 col2\" >0.8941</td>\n",
       "      <td id=\"T_6a596_row6_col3\" class=\"data row6 col3\" >0.9549</td>\n",
       "      <td id=\"T_6a596_row6_col4\" class=\"data row6 col4\" >0.9233</td>\n",
       "      <td id=\"T_6a596_row6_col5\" class=\"data row6 col5\" >0.9189</td>\n",
       "      <td id=\"T_6a596_row6_col6\" class=\"data row6 col6\" >0.9196</td>\n",
       "    </tr>\n",
       "    <tr>\n",
       "      <th id=\"T_6a596_level1_row7\" class=\"row_heading level1 row7\" >Std</th>\n",
       "      <td id=\"T_6a596_row7_col0\" class=\"data row7 col0\" >0.0017</td>\n",
       "      <td id=\"T_6a596_row7_col1\" class=\"data row7 col1\" >0.0003</td>\n",
       "      <td id=\"T_6a596_row7_col2\" class=\"data row7 col2\" >0.0259</td>\n",
       "      <td id=\"T_6a596_row7_col3\" class=\"data row7 col3\" >0.0123</td>\n",
       "      <td id=\"T_6a596_row7_col4\" class=\"data row7 col4\" >0.0160</td>\n",
       "      <td id=\"T_6a596_row7_col5\" class=\"data row7 col5\" >0.0169</td>\n",
       "      <td id=\"T_6a596_row7_col6\" class=\"data row7 col6\" >0.0166</td>\n",
       "    </tr>\n",
       "    <tr>\n",
       "      <th id=\"T_6a596_level0_row8\" class=\"row_heading level0 row8\" rowspan=\"2\">CV-Val</th>\n",
       "      <th id=\"T_6a596_level1_row8\" class=\"row_heading level1 row8\" >Mean</th>\n",
       "      <td id=\"T_6a596_row8_col0\" class=\"data row8 col0\" >0.9495</td>\n",
       "      <td id=\"T_6a596_row8_col1\" class=\"data row8 col1\" >0.9122</td>\n",
       "      <td id=\"T_6a596_row8_col2\" class=\"data row8 col2\" >0.4838</td>\n",
       "      <td id=\"T_6a596_row8_col3\" class=\"data row8 col3\" >0.5609</td>\n",
       "      <td id=\"T_6a596_row8_col4\" class=\"data row8 col4\" >0.5170</td>\n",
       "      <td id=\"T_6a596_row8_col5\" class=\"data row8 col5\" >0.4906</td>\n",
       "      <td id=\"T_6a596_row8_col6\" class=\"data row8 col6\" >0.4934</td>\n",
       "    </tr>\n",
       "    <tr>\n",
       "      <th id=\"T_6a596_level1_row9\" class=\"row_heading level1 row9\" >Std</th>\n",
       "      <td id=\"T_6a596_row9_col0\" class=\"data row9 col0\" >0.0034</td>\n",
       "      <td id=\"T_6a596_row9_col1\" class=\"data row9 col1\" >0.0229</td>\n",
       "      <td id=\"T_6a596_row9_col2\" class=\"data row9 col2\" >0.0601</td>\n",
       "      <td id=\"T_6a596_row9_col3\" class=\"data row9 col3\" >0.0337</td>\n",
       "      <td id=\"T_6a596_row9_col4\" class=\"data row9 col4\" >0.0389</td>\n",
       "      <td id=\"T_6a596_row9_col5\" class=\"data row9 col5\" >0.0398</td>\n",
       "      <td id=\"T_6a596_row9_col6\" class=\"data row9 col6\" >0.0377</td>\n",
       "    </tr>\n",
       "    <tr>\n",
       "      <th id=\"T_6a596_level0_row10\" class=\"row_heading level0 row10\" >Train</th>\n",
       "      <th id=\"T_6a596_level1_row10\" class=\"row_heading level1 row10\" >nan</th>\n",
       "      <td id=\"T_6a596_row10_col0\" class=\"data row10 col0\" >0.9895</td>\n",
       "      <td id=\"T_6a596_row10_col1\" class=\"data row10 col1\" >0.9988</td>\n",
       "      <td id=\"T_6a596_row10_col2\" class=\"data row10 col2\" >0.8559</td>\n",
       "      <td id=\"T_6a596_row10_col3\" class=\"data row10 col3\" >0.9528</td>\n",
       "      <td id=\"T_6a596_row10_col4\" class=\"data row10 col4\" >0.9018</td>\n",
       "      <td id=\"T_6a596_row10_col5\" class=\"data row10 col5\" >0.8963</td>\n",
       "      <td id=\"T_6a596_row10_col6\" class=\"data row10 col6\" >0.8977</td>\n",
       "    </tr>\n",
       "  </tbody>\n",
       "</table>\n"
      ],
      "text/plain": [
       "<pandas.io.formats.style.Styler at 0x7fad9aae6ee0>"
      ]
     },
     "metadata": {},
     "output_type": "display_data"
    },
    {
     "data": {
      "application/vnd.jupyter.widget-view+json": {
       "model_id": "",
       "version_major": 2,
       "version_minor": 0
      },
      "text/plain": [
       "Processing:   0%|          | 0/7 [00:00<?, ?it/s]"
      ]
     },
     "metadata": {},
     "output_type": "display_data"
    },
    {
     "name": "stdout",
     "output_type": "stream",
     "text": [
      "Fitting 3 folds for each of 1 candidates, totalling 3 fits\n",
      "Fitting 3 folds for each of 1 candidates, totalling 3 fits\n",
      "Fitting 3 folds for each of 1 candidates, totalling 3 fits\n",
      "Fitting 3 folds for each of 1 candidates, totalling 3 fits\n",
      "Fitting 3 folds for each of 1 candidates, totalling 3 fits\n",
      "Fitting 3 folds for each of 1 candidates, totalling 3 fits\n",
      "Fitting 3 folds for each of 1 candidates, totalling 3 fits\n",
      "Fitting 3 folds for each of 1 candidates, totalling 3 fits\n",
      "Fitting 3 folds for each of 1 candidates, totalling 3 fits\n",
      "Fitting 3 folds for each of 1 candidates, totalling 3 fits\n",
      "Fitting 3 folds for each of 1 candidates, totalling 3 fits\n",
      "Fitting 3 folds for each of 1 candidates, totalling 3 fits\n",
      "Fitting 3 folds for each of 1 candidates, totalling 3 fits\n",
      "Fitting 3 folds for each of 1 candidates, totalling 3 fits\n",
      "Fitting 3 folds for each of 1 candidates, totalling 3 fits\n",
      "Fitting 3 folds for each of 1 candidates, totalling 3 fits\n",
      "Fitting 3 folds for each of 1 candidates, totalling 3 fits\n",
      "Fitting 3 folds for each of 1 candidates, totalling 3 fits\n",
      "Fitting 3 folds for each of 1 candidates, totalling 3 fits\n",
      "Fitting 3 folds for each of 1 candidates, totalling 3 fits\n",
      "Fitting 3 folds for each of 1 candidates, totalling 3 fits\n",
      "Fitting 3 folds for each of 1 candidates, totalling 3 fits\n",
      "Fitting 3 folds for each of 1 candidates, totalling 3 fits\n",
      "Fitting 3 folds for each of 1 candidates, totalling 3 fits\n",
      "Fitting 3 folds for each of 1 candidates, totalling 3 fits\n",
      "Fitting 3 folds for each of 1 candidates, totalling 3 fits\n",
      "Fitting 3 folds for each of 1 candidates, totalling 3 fits\n",
      "Fitting 3 folds for each of 1 candidates, totalling 3 fits\n",
      "Fitting 3 folds for each of 1 candidates, totalling 3 fits\n",
      "Fitting 3 folds for each of 1 candidates, totalling 3 fits\n",
      "Fitting 3 folds for each of 1 candidates, totalling 3 fits\n",
      "Fitting 3 folds for each of 1 candidates, totalling 3 fits\n",
      "Fitting 3 folds for each of 1 candidates, totalling 3 fits\n",
      "Fitting 3 folds for each of 1 candidates, totalling 3 fits\n",
      "Fitting 3 folds for each of 1 candidates, totalling 3 fits\n",
      "Fitting 3 folds for each of 1 candidates, totalling 3 fits\n",
      "Fitting 3 folds for each of 1 candidates, totalling 3 fits\n",
      "Fitting 3 folds for each of 1 candidates, totalling 3 fits\n",
      "Fitting 3 folds for each of 1 candidates, totalling 3 fits\n",
      "Fitting 3 folds for each of 1 candidates, totalling 3 fits\n",
      "Fitting 3 folds for each of 1 candidates, totalling 3 fits\n",
      "Fitting 3 folds for each of 1 candidates, totalling 3 fits\n",
      "Fitting 3 folds for each of 1 candidates, totalling 3 fits\n",
      "Fitting 3 folds for each of 1 candidates, totalling 3 fits\n",
      "Fitting 3 folds for each of 1 candidates, totalling 3 fits\n",
      "Fitting 3 folds for each of 1 candidates, totalling 3 fits\n",
      "Fitting 3 folds for each of 1 candidates, totalling 3 fits\n",
      "Fitting 3 folds for each of 1 candidates, totalling 3 fits\n",
      "Fitting 3 folds for each of 1 candidates, totalling 3 fits\n",
      "Fitting 3 folds for each of 1 candidates, totalling 3 fits\n",
      "Fitting 3 folds for each of 1 candidates, totalling 3 fits\n",
      "Fitting 3 folds for each of 1 candidates, totalling 3 fits\n",
      "Fitting 3 folds for each of 1 candidates, totalling 3 fits\n",
      "Fitting 3 folds for each of 1 candidates, totalling 3 fits\n",
      "Fitting 3 folds for each of 1 candidates, totalling 3 fits\n",
      "Fitting 3 folds for each of 1 candidates, totalling 3 fits\n",
      "Fitting 3 folds for each of 1 candidates, totalling 3 fits\n",
      "Fitting 3 folds for each of 1 candidates, totalling 3 fits\n",
      "Fitting 3 folds for each of 1 candidates, totalling 3 fits\n",
      "Fitting 3 folds for each of 1 candidates, totalling 3 fits\n",
      "Fitting 3 folds for each of 1 candidates, totalling 3 fits\n",
      "Fitting 3 folds for each of 1 candidates, totalling 3 fits\n",
      "Fitting 3 folds for each of 1 candidates, totalling 3 fits\n",
      "Fitting 3 folds for each of 1 candidates, totalling 3 fits\n",
      "Fitting 3 folds for each of 1 candidates, totalling 3 fits\n",
      "Fitting 3 folds for each of 1 candidates, totalling 3 fits\n",
      "Fitting 3 folds for each of 1 candidates, totalling 3 fits\n",
      "Fitting 3 folds for each of 1 candidates, totalling 3 fits\n",
      "Fitting 3 folds for each of 1 candidates, totalling 3 fits\n",
      "Fitting 3 folds for each of 1 candidates, totalling 3 fits\n",
      "Fitting 3 folds for each of 1 candidates, totalling 3 fits\n",
      "Fitting 3 folds for each of 1 candidates, totalling 3 fits\n",
      "Fitting 3 folds for each of 1 candidates, totalling 3 fits\n",
      "Fitting 3 folds for each of 1 candidates, totalling 3 fits\n",
      "Fitting 3 folds for each of 1 candidates, totalling 3 fits\n",
      "Fitting 3 folds for each of 1 candidates, totalling 3 fits\n",
      "Fitting 3 folds for each of 1 candidates, totalling 3 fits\n",
      "Fitting 3 folds for each of 1 candidates, totalling 3 fits\n",
      "Fitting 3 folds for each of 1 candidates, totalling 3 fits\n",
      "Fitting 3 folds for each of 1 candidates, totalling 3 fits\n",
      "Fitting 3 folds for each of 1 candidates, totalling 3 fits\n",
      "Fitting 3 folds for each of 1 candidates, totalling 3 fits\n",
      "Fitting 3 folds for each of 1 candidates, totalling 3 fits\n",
      "Fitting 3 folds for each of 1 candidates, totalling 3 fits\n",
      "Fitting 3 folds for each of 1 candidates, totalling 3 fits\n",
      "Fitting 3 folds for each of 1 candidates, totalling 3 fits\n",
      "Fitting 3 folds for each of 1 candidates, totalling 3 fits\n",
      "Fitting 3 folds for each of 1 candidates, totalling 3 fits\n",
      "Fitting 3 folds for each of 1 candidates, totalling 3 fits\n",
      "Fitting 3 folds for each of 1 candidates, totalling 3 fits\n",
      "Fitting 3 folds for each of 1 candidates, totalling 3 fits\n",
      "Fitting 3 folds for each of 1 candidates, totalling 3 fits\n",
      "Fitting 3 folds for each of 1 candidates, totalling 3 fits\n",
      "Fitting 3 folds for each of 1 candidates, totalling 3 fits\n",
      "Fitting 3 folds for each of 1 candidates, totalling 3 fits\n",
      "Fitting 3 folds for each of 1 candidates, totalling 3 fits\n",
      "Fitting 3 folds for each of 1 candidates, totalling 3 fits\n",
      "Fitting 3 folds for each of 1 candidates, totalling 3 fits\n",
      "Fitting 3 folds for each of 1 candidates, totalling 3 fits\n",
      "Fitting 3 folds for each of 1 candidates, totalling 3 fits\n"
     ]
    }
   ],
   "source": [
    "tuned_best_model = tune_model(best_model,search_library='scikit-optimize',return_train_score=True,\n",
    "                       fold=3,choose_better=True,optimize='AUC',n_iter=100)"
   ]
  },
  {
   "cell_type": "code",
   "execution_count": 18,
   "id": "3bd63834-a052-4299-b91c-73ee7e16a8a0",
   "metadata": {},
   "outputs": [
    {
     "data": {
      "text/html": [],
      "text/plain": [
       "<IPython.core.display.HTML object>"
      ]
     },
     "metadata": {},
     "output_type": "display_data"
    },
    {
     "name": "stdout",
     "output_type": "stream",
     "text": [
      "Finished loading model, total used 125 iterations\n"
     ]
    },
    {
     "data": {
      "image/png": "[encoded data removed]",
      "text/plain": [
       "<Figure size 432x288 with 1 Axes>"
      ]
     },
     "metadata": {
      "needs_background": "light"
     },
     "output_type": "display_data"
    }
   ],
   "source": [
    "plot_model(tuned_best_model, plot='learning')"
   ]
  },
  {
   "cell_type": "code",
   "execution_count": 19,
   "id": "e8ce3f3a-9ab8-42d3-9fdc-2f2d16c2321e",
   "metadata": {},
   "outputs": [
    {
     "data": {
      "text/html": [],
      "text/plain": [
       "<IPython.core.display.HTML object>"
      ]
     },
     "metadata": {},
     "output_type": "display_data"
    },
    {
     "data": {
      "image/png": "[encoded data removed]",
      "text/plain": [
       "<Figure size 432x288 with 1 Axes>"
      ]
     },
     "metadata": {
      "needs_background": "light"
     },
     "output_type": "display_data"
    },
    {
     "name": "stdout",
     "output_type": "stream",
     "text": [
      "Finished loading model, total used 125 iterations\n"
     ]
    }
   ],
   "source": [
    "plot_model(tuned_best_model, plot='confusion_matrix')"
   ]
  },
  {
   "cell_type": "code",
   "execution_count": 20,
   "id": "4541b3b4-5c4a-4a0f-860f-6f4959ce52f0",
   "metadata": {},
   "outputs": [],
   "source": [
    "y_train=y_train.astype(int)"
   ]
  },
  {
   "cell_type": "code",
   "execution_count": 21,
   "id": "6836cd41-7809-4361-8362-07563e5af920",
   "metadata": {},
   "outputs": [
    {
     "name": "stdout",
     "output_type": "stream",
     "text": [
      "[LightGBM] [Warning] bagging_freq is set=2, subsample_freq=0 will be ignored. Current value: bagging_freq=2\n",
      "[LightGBM] [Warning] feature_fraction is set=0.7433856906830993, colsample_bytree=1.0 will be ignored. Current value: feature_fraction=0.7433856906830993\n",
      "[LightGBM] [Warning] bagging_fraction is set=0.9785130099616469, subsample=1.0 will be ignored. Current value: bagging_fraction=0.9785130099616469\n"
     ]
    },
    {
     "data": {
      "text/html": [
       "<style>#sk-container-id-2 {color: black;background-color: white;}#sk-container-id-2 pre{padding: 0;}#sk-container-id-2 div.sk-toggleable {background-color: white;}#sk-container-id-2 label.sk-toggleable__label {cursor: pointer;display: block;width: 100%;margin-bottom: 0;padding: 0.3em;box-sizing: border-box;text-align: center;}#sk-container-id-2 label.sk-toggleable__label-arrow:before {content: \"▸\";float: left;margin-right: 0.25em;color: #696969;}#sk-container-id-2 label.sk-toggleable__label-arrow:hover:before {color: black;}#sk-container-id-2 div.sk-estimator:hover label.sk-toggleable__label-arrow:before {color: black;}#sk-container-id-2 div.sk-toggleable__content {max-height: 0;max-width: 0;overflow: hidden;text-align: left;background-color: #f0f8ff;}#sk-container-id-2 div.sk-toggleable__content pre {margin: 0.2em;color: black;border-radius: 0.25em;background-color: #f0f8ff;}#sk-container-id-2 input.sk-toggleable__control:checked~div.sk-toggleable__content {max-height: 200px;max-width: 100%;overflow: auto;}#sk-container-id-2 input.sk-toggleable__control:checked~label.sk-toggleable__label-arrow:before {content: \"▾\";}#sk-container-id-2 div.sk-estimator input.sk-toggleable__control:checked~label.sk-toggleable__label {background-color: #d4ebff;}#sk-container-id-2 div.sk-label input.sk-toggleable__control:checked~label.sk-toggleable__label {background-color: #d4ebff;}#sk-container-id-2 input.sk-hidden--visually {border: 0;clip: rect(1px 1px 1px 1px);clip: rect(1px, 1px, 1px, 1px);height: 1px;margin: -1px;overflow: hidden;padding: 0;position: absolute;width: 1px;}#sk-container-id-2 div.sk-estimator {font-family: monospace;background-color: #f0f8ff;border: 1px dotted black;border-radius: 0.25em;box-sizing: border-box;margin-bottom: 0.5em;}#sk-container-id-2 div.sk-estimator:hover {background-color: #d4ebff;}#sk-container-id-2 div.sk-parallel-item::after {content: \"\";width: 100%;border-bottom: 1px solid gray;flex-grow: 1;}#sk-container-id-2 div.sk-label:hover label.sk-toggleable__label {background-color: #d4ebff;}#sk-container-id-2 div.sk-serial::before {content: \"\";position: absolute;border-left: 1px solid gray;box-sizing: border-box;top: 0;bottom: 0;left: 50%;z-index: 0;}#sk-container-id-2 div.sk-serial {display: flex;flex-direction: column;align-items: center;background-color: white;padding-right: 0.2em;padding-left: 0.2em;position: relative;}#sk-container-id-2 div.sk-item {position: relative;z-index: 1;}#sk-container-id-2 div.sk-parallel {display: flex;align-items: stretch;justify-content: center;background-color: white;position: relative;}#sk-container-id-2 div.sk-item::before, #sk-container-id-2 div.sk-parallel-item::before {content: \"\";position: absolute;border-left: 1px solid gray;box-sizing: border-box;top: 0;bottom: 0;left: 50%;z-index: -1;}#sk-container-id-2 div.sk-parallel-item {display: flex;flex-direction: column;z-index: 1;position: relative;background-color: white;}#sk-container-id-2 div.sk-parallel-item:first-child::after {align-self: flex-end;width: 50%;}#sk-container-id-2 div.sk-parallel-item:last-child::after {align-self: flex-start;width: 50%;}#sk-container-id-2 div.sk-parallel-item:only-child::after {width: 0;}#sk-container-id-2 div.sk-dashed-wrapped {border: 1px dashed gray;margin: 0 0.4em 0.5em 0.4em;box-sizing: border-box;padding-bottom: 0.4em;background-color: white;}#sk-container-id-2 div.sk-label label {font-family: monospace;font-weight: bold;display: inline-block;line-height: 1.2em;}#sk-container-id-2 div.sk-label-container {text-align: center;}#sk-container-id-2 div.sk-container {/* jupyter's `normalize.less` sets `[hidden] { display: none; }` but bootstrap.min.css set `[hidden] { display: none !important; }` so we also need the `!important` here to be able to override the default hidden behavior on the sphinx rendered scikit-learn.org. See: https://github.com/scikit-learn/scikit-learn/issues/21755 */display: inline-block !important;position: relative;}#sk-container-id-2 div.sk-text-repr-fallback {display: none;}</style><div id=\"sk-container-id-2\" class=\"sk-top-container\"><div class=\"sk-text-repr-fallback\"><pre>LGBMClassifier(bagging_fraction=0.9785130099616469, bagging_freq=2,\n",
       "               boosting_type=&#x27;gbdt&#x27;, class_weight=None, colsample_bytree=1.0,\n",
       "               feature_fraction=0.7433856906830993, importance_type=&#x27;split&#x27;,\n",
       "               learning_rate=0.06457894957229718, max_depth=-1,\n",
       "               min_child_samples=48, min_child_weight=0.001,\n",
       "               min_split_gain=0.6656989787918607, n_estimators=181, n_jobs=-1,\n",
       "               num_leaves=199, objective=None, random_state=123,\n",
       "               reg_alpha=2.468768356558021e-06, reg_lambda=0.010261457501931776,\n",
       "               silent=True, subsample=1.0, subsample_for_bin=200000,\n",
       "               subsample_freq=0)</pre><b>In a Jupyter environment, please rerun this cell to show the HTML representation or trust the notebook. <br />On GitHub, the HTML representation is unable to render, please try loading this page with nbviewer.org.</b></div><div class=\"sk-container\" hidden><div class=\"sk-item\"><div class=\"sk-estimator sk-toggleable\"><input class=\"sk-toggleable__control sk-hidden--visually\" id=\"sk-estimator-id-2\" type=\"checkbox\" checked><label for=\"sk-estimator-id-2\" class=\"sk-toggleable__label sk-toggleable__label-arrow\">LGBMClassifier</label><div class=\"sk-toggleable__content\"><pre>LGBMClassifier(bagging_fraction=0.9785130099616469, bagging_freq=2,\n",
       "               boosting_type=&#x27;gbdt&#x27;, class_weight=None, colsample_bytree=1.0,\n",
       "               feature_fraction=0.7433856906830993, importance_type=&#x27;split&#x27;,\n",
       "               learning_rate=0.06457894957229718, max_depth=-1,\n",
       "               min_child_samples=48, min_child_weight=0.001,\n",
       "               min_split_gain=0.6656989787918607, n_estimators=181, n_jobs=-1,\n",
       "               num_leaves=199, objective=None, random_state=123,\n",
       "               reg_alpha=2.468768356558021e-06, reg_lambda=0.010261457501931776,\n",
       "               silent=True, subsample=1.0, subsample_for_bin=200000,\n",
       "               subsample_freq=0)</pre></div></div></div></div></div>"
      ],
      "text/plain": [
       "LGBMClassifier(bagging_fraction=0.9785130099616469, bagging_freq=2,\n",
       "               boosting_type='gbdt', class_weight=None, colsample_bytree=1.0,\n",
       "               feature_fraction=0.7433856906830993, importance_type='split',\n",
       "               learning_rate=0.06457894957229718, max_depth=-1,\n",
       "               min_child_samples=48, min_child_weight=0.001,\n",
       "               min_split_gain=0.6656989787918607, n_estimators=181, n_jobs=-1,\n",
       "               num_leaves=199, objective=None, random_state=123,\n",
       "               reg_alpha=2.468768356558021e-06, reg_lambda=0.010261457501931776,\n",
       "               silent=True, subsample=1.0, subsample_for_bin=200000,\n",
       "               subsample_freq=0)"
      ]
     },
     "execution_count": 21,
     "metadata": {},
     "output_type": "execute_result"
    }
   ],
   "source": [
    "Modelo= tuned_best_model\n",
    "Modelo.fit(x_train, y_train)"
   ]
  },
  {
   "cell_type": "code",
   "execution_count": 22,
   "id": "73d7c3e2-446f-4637-a360-68aa9684c25f",
   "metadata": {},
   "outputs": [
    {
     "data": {
      "text/plain": [
       "array([0, 0, 0, ..., 0, 0, 0])"
      ]
     },
     "execution_count": 22,
     "metadata": {},
     "output_type": "execute_result"
    }
   ],
   "source": [
    "Modelo.predict(x_train)"
   ]
  },
  {
   "cell_type": "code",
   "execution_count": 23,
   "id": "2b52298a-9d11-4f0f-918b-f51ef03bfc54",
   "metadata": {},
   "outputs": [
    {
     "name": "stdout",
     "output_type": "stream",
     "text": [
      "Accuracy: 0.9780848022868033\n",
      "              precision    recall  f1-score   support\n",
      "\n",
      "           0       0.98      1.00      0.99      1981\n",
      "           1       0.97      0.63      0.76       118\n",
      "\n",
      "    accuracy                           0.98      2099\n",
      "   macro avg       0.98      0.81      0.88      2099\n",
      "weighted avg       0.98      0.98      0.98      2099\n",
      "\n"
     ]
    },
    {
     "data": {
      "image/png": "[encoded data removed]",
      "text/plain": [
       "<Figure size 432x288 with 2 Axes>"
      ]
     },
     "metadata": {
      "needs_background": "light"
     },
     "output_type": "display_data"
    },
    {
     "name": "stdout",
     "output_type": "stream",
     "text": [
      "Predicion     0   1   All\n",
      "Realidad                 \n",
      "0          1979   2  1981\n",
      "1            44  74   118\n",
      "All        2023  76  2099\n"
     ]
    }
   ],
   "source": [
    "MetricasMatrixConfusion(y_train,Modelo,x_train)"
   ]
  },
  {
   "cell_type": "code",
   "execution_count": 24,
   "id": "7bb64f7a-a950-46d7-ba72-42ae281d9e6e",
   "metadata": {},
   "outputs": [
    {
     "name": "stdout",
     "output_type": "stream",
     "text": [
      "Modelo AUC: 0.9966418261620993\n"
     ]
    },
    {
     "data": {
      "image/png": "[encoded data removed]",
      "text/plain": [
       "<Figure size 432x288 with 1 Axes>"
      ]
     },
     "metadata": {
      "needs_background": "light"
     },
     "output_type": "display_data"
    }
   ],
   "source": [
    "curva_roc(y_train,Modelo,x_train)"
   ]
  },
  {
   "cell_type": "markdown",
   "id": "49fcea51-c377-43fb-b901-d95d76717002",
   "metadata": {},
   "source": [
    "**Test**"
   ]
  },
  {
   "cell_type": "code",
   "execution_count": 25,
   "id": "e3374366-5b2f-4da1-a383-407e9c9505e6",
   "metadata": {},
   "outputs": [
    {
     "name": "stdout",
     "output_type": "stream",
     "text": [
      "Accuracy: 0.9544444444444444\n",
      "              precision    recall  f1-score   support\n",
      "\n",
      "           0       0.96      0.99      0.98       849\n",
      "           1       0.67      0.39      0.49        51\n",
      "\n",
      "    accuracy                           0.95       900\n",
      "   macro avg       0.82      0.69      0.73       900\n",
      "weighted avg       0.95      0.95      0.95       900\n",
      "\n"
     ]
    },
    {
     "data": {
      "image/png": "[encoded data removed]",
      "text/plain": [
       "<Figure size 432x288 with 2 Axes>"
      ]
     },
     "metadata": {
      "needs_background": "light"
     },
     "output_type": "display_data"
    },
    {
     "name": "stdout",
     "output_type": "stream",
     "text": [
      "Predicion    0   1  All\n",
      "Realidad               \n",
      "0          839  10  849\n",
      "1           31  20   51\n",
      "All        870  30  900\n"
     ]
    }
   ],
   "source": [
    "MetricasMatrixConfusion(y_test,Modelo,x_test)"
   ]
  },
  {
   "cell_type": "code",
   "execution_count": 26,
   "id": "996c67d6-c4c1-4ffc-9b86-9449ccdbd6e1",
   "metadata": {},
   "outputs": [
    {
     "name": "stdout",
     "output_type": "stream",
     "text": [
      "Modelo AUC: 0.9189357721887342\n"
     ]
    },
    {
     "data": {
      "image/png": "[encoded data removed]",
      "text/plain": [
       "<Figure size 432x288 with 1 Axes>"
      ]
     },
     "metadata": {
      "needs_background": "light"
     },
     "output_type": "display_data"
    }
   ],
   "source": [
    "curva_roc(y_test,Modelo,x_test)"
   ]
  },
  {
   "cell_type": "code",
   "execution_count": 28,
   "id": "75d24792-0bdd-43c6-ae13-20b444497a28",
   "metadata": {},
   "outputs": [
    {
     "name": "stdout",
     "output_type": "stream",
     "text": [
      "Transformation Pipeline and Model Successfully Saved\n"
     ]
    },
    {
     "data": {
      "text/plain": [
       "(Pipeline(memory=Memory(location=/var/folders/vt/2t0v0kt92gj1_bvmhn234x6ng8b83c/T/joblib),\n",
       "          steps=[('numerical_imputer',\n",
       "                  TransformerWrapper(exclude=None,\n",
       "                                     include=['Productos_Vehiculos_4',\n",
       "                                              'Productos_Otros_2',\n",
       "                                              'Mes Alta_Mayo',\n",
       "                                              'Productos_Vida_3',\n",
       "                                              'Mes Alta_Febrero',\n",
       "                                              'Mes Alta_Agosto',\n",
       "                                              'Productos_Otros_3',\n",
       "                                              'Mes Alta_Julio',\n",
       "                                              'Productos_Otros_5',\n",
       "                                              'Mes Alta_Septiembre',\n",
       "                                              'P...\n",
       "                                 importance_type='split',\n",
       "                                 learning_rate=0.06457894957229718, max_depth=-1,\n",
       "                                 min_child_samples=48, min_child_weight=0.001,\n",
       "                                 min_split_gain=0.6656989787918607,\n",
       "                                 n_estimators=181, n_jobs=-1, num_leaves=199,\n",
       "                                 objective=None, random_state=123,\n",
       "                                 reg_alpha=2.468768356558021e-06,\n",
       "                                 reg_lambda=0.010261457501931776, silent=True,\n",
       "                                 subsample=1.0, subsample_for_bin=200000,\n",
       "                                 subsample_freq=0))],\n",
       "          verbose=False),\n",
       " 'lightgbm.pkl')"
      ]
     },
     "execution_count": 28,
     "metadata": {},
     "output_type": "execute_result"
    }
   ],
   "source": [
    "save_model(Modelo,\"lightgbm\")"
   ]
  },
  {
   "cell_type": "code",
   "execution_count": 32,
   "id": "cfd9e4b3-68e6-49f8-b609-1e2248624bad",
   "metadata": {},
   "outputs": [
    {
     "data": {
      "text/plain": [
       "(900, 27)"
      ]
     },
     "execution_count": 32,
     "metadata": {},
     "output_type": "execute_result"
    }
   ],
   "source": [
    "x_test.shape"
   ]
  },
  {
   "cell_type": "code",
   "execution_count": null,
   "id": "6e06e680-be2b-4010-a487-4c8aef70c0fd",
   "metadata": {},
   "outputs": [],
   "source": []
  },
  {
   "cell_type": "code",
   "execution_count": null,
   "id": "9c160d0f-77e8-4549-b971-653a938a9af9",
   "metadata": {},
   "outputs": [],
   "source": []
  },
  {
   "cell_type": "code",
   "execution_count": null,
   "id": "0dd934fd-cefc-49cb-a696-b2bd4f10d3d4",
   "metadata": {},
   "outputs": [],
   "source": []
  },
  {
   "cell_type": "code",
   "execution_count": null,
   "id": "de4cfcd6-78e2-4a91-8d08-e2e1d6619c05",
   "metadata": {},
   "outputs": [],
   "source": []
  },
  {
   "cell_type": "code",
   "execution_count": null,
   "id": "2bea8ffa-48ea-4a22-9f57-044d66aad9ec",
   "metadata": {},
   "outputs": [],
   "source": []
  },
  {
   "cell_type": "code",
   "execution_count": null,
   "id": "b07d11aa-6d7a-4eca-95e2-3e256c5a312a",
   "metadata": {},
   "outputs": [],
   "source": []
  }
 ],
 "metadata": {
  "kernelspec": {
   "display_name": "Python 3 (ipykernel)",
   "language": "python",
   "name": "python3"
  },
  "language_info": {
   "codemirror_mode": {
    "name": "ipython",
    "version": 3
   },
   "file_extension": ".py",
   "mimetype": "text/x-python",
   "name": "python",
   "nbconvert_exporter": "python",
   "pygments_lexer": "ipython3",
   "version": "3.9.16"
  }
 },
 "nbformat": 4,
 "nbformat_minor": 5
}
